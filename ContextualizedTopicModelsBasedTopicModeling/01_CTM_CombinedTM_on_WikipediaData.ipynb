{
  "nbformat": 4,
  "nbformat_minor": 0,
  "metadata": {
    "accelerator": "GPU",
    "colab": {
      "provenance": []
    },
    "kernelspec": {
      "display_name": "Python 3",
      "name": "python3"
    },
    "widgets": {
      "application/vnd.jupyter.widget-state+json": {
        "206fb04f95284722a514facafd44e56d": {
          "model_module": "@jupyter-widgets/controls",
          "model_name": "HBoxModel",
          "model_module_version": "1.5.0",
          "state": {
            "_dom_classes": [],
            "_model_module": "@jupyter-widgets/controls",
            "_model_module_version": "1.5.0",
            "_model_name": "HBoxModel",
            "_view_count": null,
            "_view_module": "@jupyter-widgets/controls",
            "_view_module_version": "1.5.0",
            "_view_name": "HBoxView",
            "box_style": "",
            "children": [
              "IPY_MODEL_7af9e1358c29413a991b840a4202beb3",
              "IPY_MODEL_3e32efc8a6924232851eaf2cbc8a9081",
              "IPY_MODEL_2f4c5e3cf63741b29ebf29981627e360"
            ],
            "layout": "IPY_MODEL_1f5d7ec85e854eeda7914c19b3afa7cd"
          }
        },
        "7af9e1358c29413a991b840a4202beb3": {
          "model_module": "@jupyter-widgets/controls",
          "model_name": "HTMLModel",
          "model_module_version": "1.5.0",
          "state": {
            "_dom_classes": [],
            "_model_module": "@jupyter-widgets/controls",
            "_model_module_version": "1.5.0",
            "_model_name": "HTMLModel",
            "_view_count": null,
            "_view_module": "@jupyter-widgets/controls",
            "_view_module_version": "1.5.0",
            "_view_name": "HTMLView",
            "description": "",
            "description_tooltip": null,
            "layout": "IPY_MODEL_9779052638ee46138c6a3a27e5973324",
            "placeholder": "​",
            "style": "IPY_MODEL_2243d0b9c407492aa21e6266f9388d06",
            "value": "Downloading: 100%"
          }
        },
        "3e32efc8a6924232851eaf2cbc8a9081": {
          "model_module": "@jupyter-widgets/controls",
          "model_name": "FloatProgressModel",
          "model_module_version": "1.5.0",
          "state": {
            "_dom_classes": [],
            "_model_module": "@jupyter-widgets/controls",
            "_model_module_version": "1.5.0",
            "_model_name": "FloatProgressModel",
            "_view_count": null,
            "_view_module": "@jupyter-widgets/controls",
            "_view_module_version": "1.5.0",
            "_view_name": "ProgressView",
            "bar_style": "success",
            "description": "",
            "description_tooltip": null,
            "layout": "IPY_MODEL_335354c5aa934c7fab9194387e87af82",
            "max": 1175,
            "min": 0,
            "orientation": "horizontal",
            "style": "IPY_MODEL_aba1fcaa403c4cbda4ff19485e245af1",
            "value": 1175
          }
        },
        "2f4c5e3cf63741b29ebf29981627e360": {
          "model_module": "@jupyter-widgets/controls",
          "model_name": "HTMLModel",
          "model_module_version": "1.5.0",
          "state": {
            "_dom_classes": [],
            "_model_module": "@jupyter-widgets/controls",
            "_model_module_version": "1.5.0",
            "_model_name": "HTMLModel",
            "_view_count": null,
            "_view_module": "@jupyter-widgets/controls",
            "_view_module_version": "1.5.0",
            "_view_name": "HTMLView",
            "description": "",
            "description_tooltip": null,
            "layout": "IPY_MODEL_5c6eb9dd7d034fedaba32f7c3c319d39",
            "placeholder": "​",
            "style": "IPY_MODEL_462aacd94da44538861a6f1aa469f221",
            "value": " 1.18k/1.18k [00:00&lt;00:00, 60.7kB/s]"
          }
        },
        "1f5d7ec85e854eeda7914c19b3afa7cd": {
          "model_module": "@jupyter-widgets/base",
          "model_name": "LayoutModel",
          "model_module_version": "1.2.0",
          "state": {
            "_model_module": "@jupyter-widgets/base",
            "_model_module_version": "1.2.0",
            "_model_name": "LayoutModel",
            "_view_count": null,
            "_view_module": "@jupyter-widgets/base",
            "_view_module_version": "1.2.0",
            "_view_name": "LayoutView",
            "align_content": null,
            "align_items": null,
            "align_self": null,
            "border": null,
            "bottom": null,
            "display": null,
            "flex": null,
            "flex_flow": null,
            "grid_area": null,
            "grid_auto_columns": null,
            "grid_auto_flow": null,
            "grid_auto_rows": null,
            "grid_column": null,
            "grid_gap": null,
            "grid_row": null,
            "grid_template_areas": null,
            "grid_template_columns": null,
            "grid_template_rows": null,
            "height": null,
            "justify_content": null,
            "justify_items": null,
            "left": null,
            "margin": null,
            "max_height": null,
            "max_width": null,
            "min_height": null,
            "min_width": null,
            "object_fit": null,
            "object_position": null,
            "order": null,
            "overflow": null,
            "overflow_x": null,
            "overflow_y": null,
            "padding": null,
            "right": null,
            "top": null,
            "visibility": null,
            "width": null
          }
        },
        "9779052638ee46138c6a3a27e5973324": {
          "model_module": "@jupyter-widgets/base",
          "model_name": "LayoutModel",
          "model_module_version": "1.2.0",
          "state": {
            "_model_module": "@jupyter-widgets/base",
            "_model_module_version": "1.2.0",
            "_model_name": "LayoutModel",
            "_view_count": null,
            "_view_module": "@jupyter-widgets/base",
            "_view_module_version": "1.2.0",
            "_view_name": "LayoutView",
            "align_content": null,
            "align_items": null,
            "align_self": null,
            "border": null,
            "bottom": null,
            "display": null,
            "flex": null,
            "flex_flow": null,
            "grid_area": null,
            "grid_auto_columns": null,
            "grid_auto_flow": null,
            "grid_auto_rows": null,
            "grid_column": null,
            "grid_gap": null,
            "grid_row": null,
            "grid_template_areas": null,
            "grid_template_columns": null,
            "grid_template_rows": null,
            "height": null,
            "justify_content": null,
            "justify_items": null,
            "left": null,
            "margin": null,
            "max_height": null,
            "max_width": null,
            "min_height": null,
            "min_width": null,
            "object_fit": null,
            "object_position": null,
            "order": null,
            "overflow": null,
            "overflow_x": null,
            "overflow_y": null,
            "padding": null,
            "right": null,
            "top": null,
            "visibility": null,
            "width": null
          }
        },
        "2243d0b9c407492aa21e6266f9388d06": {
          "model_module": "@jupyter-widgets/controls",
          "model_name": "DescriptionStyleModel",
          "model_module_version": "1.5.0",
          "state": {
            "_model_module": "@jupyter-widgets/controls",
            "_model_module_version": "1.5.0",
            "_model_name": "DescriptionStyleModel",
            "_view_count": null,
            "_view_module": "@jupyter-widgets/base",
            "_view_module_version": "1.2.0",
            "_view_name": "StyleView",
            "description_width": ""
          }
        },
        "335354c5aa934c7fab9194387e87af82": {
          "model_module": "@jupyter-widgets/base",
          "model_name": "LayoutModel",
          "model_module_version": "1.2.0",
          "state": {
            "_model_module": "@jupyter-widgets/base",
            "_model_module_version": "1.2.0",
            "_model_name": "LayoutModel",
            "_view_count": null,
            "_view_module": "@jupyter-widgets/base",
            "_view_module_version": "1.2.0",
            "_view_name": "LayoutView",
            "align_content": null,
            "align_items": null,
            "align_self": null,
            "border": null,
            "bottom": null,
            "display": null,
            "flex": null,
            "flex_flow": null,
            "grid_area": null,
            "grid_auto_columns": null,
            "grid_auto_flow": null,
            "grid_auto_rows": null,
            "grid_column": null,
            "grid_gap": null,
            "grid_row": null,
            "grid_template_areas": null,
            "grid_template_columns": null,
            "grid_template_rows": null,
            "height": null,
            "justify_content": null,
            "justify_items": null,
            "left": null,
            "margin": null,
            "max_height": null,
            "max_width": null,
            "min_height": null,
            "min_width": null,
            "object_fit": null,
            "object_position": null,
            "order": null,
            "overflow": null,
            "overflow_x": null,
            "overflow_y": null,
            "padding": null,
            "right": null,
            "top": null,
            "visibility": null,
            "width": null
          }
        },
        "aba1fcaa403c4cbda4ff19485e245af1": {
          "model_module": "@jupyter-widgets/controls",
          "model_name": "ProgressStyleModel",
          "model_module_version": "1.5.0",
          "state": {
            "_model_module": "@jupyter-widgets/controls",
            "_model_module_version": "1.5.0",
            "_model_name": "ProgressStyleModel",
            "_view_count": null,
            "_view_module": "@jupyter-widgets/base",
            "_view_module_version": "1.2.0",
            "_view_name": "StyleView",
            "bar_color": null,
            "description_width": ""
          }
        },
        "5c6eb9dd7d034fedaba32f7c3c319d39": {
          "model_module": "@jupyter-widgets/base",
          "model_name": "LayoutModel",
          "model_module_version": "1.2.0",
          "state": {
            "_model_module": "@jupyter-widgets/base",
            "_model_module_version": "1.2.0",
            "_model_name": "LayoutModel",
            "_view_count": null,
            "_view_module": "@jupyter-widgets/base",
            "_view_module_version": "1.2.0",
            "_view_name": "LayoutView",
            "align_content": null,
            "align_items": null,
            "align_self": null,
            "border": null,
            "bottom": null,
            "display": null,
            "flex": null,
            "flex_flow": null,
            "grid_area": null,
            "grid_auto_columns": null,
            "grid_auto_flow": null,
            "grid_auto_rows": null,
            "grid_column": null,
            "grid_gap": null,
            "grid_row": null,
            "grid_template_areas": null,
            "grid_template_columns": null,
            "grid_template_rows": null,
            "height": null,
            "justify_content": null,
            "justify_items": null,
            "left": null,
            "margin": null,
            "max_height": null,
            "max_width": null,
            "min_height": null,
            "min_width": null,
            "object_fit": null,
            "object_position": null,
            "order": null,
            "overflow": null,
            "overflow_x": null,
            "overflow_y": null,
            "padding": null,
            "right": null,
            "top": null,
            "visibility": null,
            "width": null
          }
        },
        "462aacd94da44538861a6f1aa469f221": {
          "model_module": "@jupyter-widgets/controls",
          "model_name": "DescriptionStyleModel",
          "model_module_version": "1.5.0",
          "state": {
            "_model_module": "@jupyter-widgets/controls",
            "_model_module_version": "1.5.0",
            "_model_name": "DescriptionStyleModel",
            "_view_count": null,
            "_view_module": "@jupyter-widgets/base",
            "_view_module_version": "1.2.0",
            "_view_name": "StyleView",
            "description_width": ""
          }
        },
        "bac00809e4a24ce58c153863395b71a2": {
          "model_module": "@jupyter-widgets/controls",
          "model_name": "HBoxModel",
          "model_module_version": "1.5.0",
          "state": {
            "_dom_classes": [],
            "_model_module": "@jupyter-widgets/controls",
            "_model_module_version": "1.5.0",
            "_model_name": "HBoxModel",
            "_view_count": null,
            "_view_module": "@jupyter-widgets/controls",
            "_view_module_version": "1.5.0",
            "_view_name": "HBoxView",
            "box_style": "",
            "children": [
              "IPY_MODEL_86bdff8250dc47a797f8e4cf1ddf5fc2",
              "IPY_MODEL_aee88ed686f74a218830042aec35cce6",
              "IPY_MODEL_c7f66a68a5754a74a54c3d7065ef06ad"
            ],
            "layout": "IPY_MODEL_4089f7770dc94bcea0817601e4be9e5c"
          }
        },
        "86bdff8250dc47a797f8e4cf1ddf5fc2": {
          "model_module": "@jupyter-widgets/controls",
          "model_name": "HTMLModel",
          "model_module_version": "1.5.0",
          "state": {
            "_dom_classes": [],
            "_model_module": "@jupyter-widgets/controls",
            "_model_module_version": "1.5.0",
            "_model_name": "HTMLModel",
            "_view_count": null,
            "_view_module": "@jupyter-widgets/controls",
            "_view_module_version": "1.5.0",
            "_view_name": "HTMLView",
            "description": "",
            "description_tooltip": null,
            "layout": "IPY_MODEL_a9e0536bf4134c90b5165c341615adcd",
            "placeholder": "​",
            "style": "IPY_MODEL_8b57e192ae994edfb20e0539ece571a1",
            "value": "Downloading: 100%"
          }
        },
        "aee88ed686f74a218830042aec35cce6": {
          "model_module": "@jupyter-widgets/controls",
          "model_name": "FloatProgressModel",
          "model_module_version": "1.5.0",
          "state": {
            "_dom_classes": [],
            "_model_module": "@jupyter-widgets/controls",
            "_model_module_version": "1.5.0",
            "_model_name": "FloatProgressModel",
            "_view_count": null,
            "_view_module": "@jupyter-widgets/controls",
            "_view_module_version": "1.5.0",
            "_view_name": "ProgressView",
            "bar_style": "success",
            "description": "",
            "description_tooltip": null,
            "layout": "IPY_MODEL_c0286d9db1a54f8b8a6219c62c36427a",
            "max": 190,
            "min": 0,
            "orientation": "horizontal",
            "style": "IPY_MODEL_e9ede0fae49f4344a7d6af84076f4e12",
            "value": 190
          }
        },
        "c7f66a68a5754a74a54c3d7065ef06ad": {
          "model_module": "@jupyter-widgets/controls",
          "model_name": "HTMLModel",
          "model_module_version": "1.5.0",
          "state": {
            "_dom_classes": [],
            "_model_module": "@jupyter-widgets/controls",
            "_model_module_version": "1.5.0",
            "_model_name": "HTMLModel",
            "_view_count": null,
            "_view_module": "@jupyter-widgets/controls",
            "_view_module_version": "1.5.0",
            "_view_name": "HTMLView",
            "description": "",
            "description_tooltip": null,
            "layout": "IPY_MODEL_7ede90995fe0470c82f2eb6abd3f60e1",
            "placeholder": "​",
            "style": "IPY_MODEL_d2f918e60f6c4e87818ffa06462fe79a",
            "value": " 190/190 [00:00&lt;00:00, 7.95kB/s]"
          }
        },
        "4089f7770dc94bcea0817601e4be9e5c": {
          "model_module": "@jupyter-widgets/base",
          "model_name": "LayoutModel",
          "model_module_version": "1.2.0",
          "state": {
            "_model_module": "@jupyter-widgets/base",
            "_model_module_version": "1.2.0",
            "_model_name": "LayoutModel",
            "_view_count": null,
            "_view_module": "@jupyter-widgets/base",
            "_view_module_version": "1.2.0",
            "_view_name": "LayoutView",
            "align_content": null,
            "align_items": null,
            "align_self": null,
            "border": null,
            "bottom": null,
            "display": null,
            "flex": null,
            "flex_flow": null,
            "grid_area": null,
            "grid_auto_columns": null,
            "grid_auto_flow": null,
            "grid_auto_rows": null,
            "grid_column": null,
            "grid_gap": null,
            "grid_row": null,
            "grid_template_areas": null,
            "grid_template_columns": null,
            "grid_template_rows": null,
            "height": null,
            "justify_content": null,
            "justify_items": null,
            "left": null,
            "margin": null,
            "max_height": null,
            "max_width": null,
            "min_height": null,
            "min_width": null,
            "object_fit": null,
            "object_position": null,
            "order": null,
            "overflow": null,
            "overflow_x": null,
            "overflow_y": null,
            "padding": null,
            "right": null,
            "top": null,
            "visibility": null,
            "width": null
          }
        },
        "a9e0536bf4134c90b5165c341615adcd": {
          "model_module": "@jupyter-widgets/base",
          "model_name": "LayoutModel",
          "model_module_version": "1.2.0",
          "state": {
            "_model_module": "@jupyter-widgets/base",
            "_model_module_version": "1.2.0",
            "_model_name": "LayoutModel",
            "_view_count": null,
            "_view_module": "@jupyter-widgets/base",
            "_view_module_version": "1.2.0",
            "_view_name": "LayoutView",
            "align_content": null,
            "align_items": null,
            "align_self": null,
            "border": null,
            "bottom": null,
            "display": null,
            "flex": null,
            "flex_flow": null,
            "grid_area": null,
            "grid_auto_columns": null,
            "grid_auto_flow": null,
            "grid_auto_rows": null,
            "grid_column": null,
            "grid_gap": null,
            "grid_row": null,
            "grid_template_areas": null,
            "grid_template_columns": null,
            "grid_template_rows": null,
            "height": null,
            "justify_content": null,
            "justify_items": null,
            "left": null,
            "margin": null,
            "max_height": null,
            "max_width": null,
            "min_height": null,
            "min_width": null,
            "object_fit": null,
            "object_position": null,
            "order": null,
            "overflow": null,
            "overflow_x": null,
            "overflow_y": null,
            "padding": null,
            "right": null,
            "top": null,
            "visibility": null,
            "width": null
          }
        },
        "8b57e192ae994edfb20e0539ece571a1": {
          "model_module": "@jupyter-widgets/controls",
          "model_name": "DescriptionStyleModel",
          "model_module_version": "1.5.0",
          "state": {
            "_model_module": "@jupyter-widgets/controls",
            "_model_module_version": "1.5.0",
            "_model_name": "DescriptionStyleModel",
            "_view_count": null,
            "_view_module": "@jupyter-widgets/base",
            "_view_module_version": "1.2.0",
            "_view_name": "StyleView",
            "description_width": ""
          }
        },
        "c0286d9db1a54f8b8a6219c62c36427a": {
          "model_module": "@jupyter-widgets/base",
          "model_name": "LayoutModel",
          "model_module_version": "1.2.0",
          "state": {
            "_model_module": "@jupyter-widgets/base",
            "_model_module_version": "1.2.0",
            "_model_name": "LayoutModel",
            "_view_count": null,
            "_view_module": "@jupyter-widgets/base",
            "_view_module_version": "1.2.0",
            "_view_name": "LayoutView",
            "align_content": null,
            "align_items": null,
            "align_self": null,
            "border": null,
            "bottom": null,
            "display": null,
            "flex": null,
            "flex_flow": null,
            "grid_area": null,
            "grid_auto_columns": null,
            "grid_auto_flow": null,
            "grid_auto_rows": null,
            "grid_column": null,
            "grid_gap": null,
            "grid_row": null,
            "grid_template_areas": null,
            "grid_template_columns": null,
            "grid_template_rows": null,
            "height": null,
            "justify_content": null,
            "justify_items": null,
            "left": null,
            "margin": null,
            "max_height": null,
            "max_width": null,
            "min_height": null,
            "min_width": null,
            "object_fit": null,
            "object_position": null,
            "order": null,
            "overflow": null,
            "overflow_x": null,
            "overflow_y": null,
            "padding": null,
            "right": null,
            "top": null,
            "visibility": null,
            "width": null
          }
        },
        "e9ede0fae49f4344a7d6af84076f4e12": {
          "model_module": "@jupyter-widgets/controls",
          "model_name": "ProgressStyleModel",
          "model_module_version": "1.5.0",
          "state": {
            "_model_module": "@jupyter-widgets/controls",
            "_model_module_version": "1.5.0",
            "_model_name": "ProgressStyleModel",
            "_view_count": null,
            "_view_module": "@jupyter-widgets/base",
            "_view_module_version": "1.2.0",
            "_view_name": "StyleView",
            "bar_color": null,
            "description_width": ""
          }
        },
        "7ede90995fe0470c82f2eb6abd3f60e1": {
          "model_module": "@jupyter-widgets/base",
          "model_name": "LayoutModel",
          "model_module_version": "1.2.0",
          "state": {
            "_model_module": "@jupyter-widgets/base",
            "_model_module_version": "1.2.0",
            "_model_name": "LayoutModel",
            "_view_count": null,
            "_view_module": "@jupyter-widgets/base",
            "_view_module_version": "1.2.0",
            "_view_name": "LayoutView",
            "align_content": null,
            "align_items": null,
            "align_self": null,
            "border": null,
            "bottom": null,
            "display": null,
            "flex": null,
            "flex_flow": null,
            "grid_area": null,
            "grid_auto_columns": null,
            "grid_auto_flow": null,
            "grid_auto_rows": null,
            "grid_column": null,
            "grid_gap": null,
            "grid_row": null,
            "grid_template_areas": null,
            "grid_template_columns": null,
            "grid_template_rows": null,
            "height": null,
            "justify_content": null,
            "justify_items": null,
            "left": null,
            "margin": null,
            "max_height": null,
            "max_width": null,
            "min_height": null,
            "min_width": null,
            "object_fit": null,
            "object_position": null,
            "order": null,
            "overflow": null,
            "overflow_x": null,
            "overflow_y": null,
            "padding": null,
            "right": null,
            "top": null,
            "visibility": null,
            "width": null
          }
        },
        "d2f918e60f6c4e87818ffa06462fe79a": {
          "model_module": "@jupyter-widgets/controls",
          "model_name": "DescriptionStyleModel",
          "model_module_version": "1.5.0",
          "state": {
            "_model_module": "@jupyter-widgets/controls",
            "_model_module_version": "1.5.0",
            "_model_name": "DescriptionStyleModel",
            "_view_count": null,
            "_view_module": "@jupyter-widgets/base",
            "_view_module_version": "1.2.0",
            "_view_name": "StyleView",
            "description_width": ""
          }
        },
        "29fa01ab859145648cdf52b923e5cd3d": {
          "model_module": "@jupyter-widgets/controls",
          "model_name": "HBoxModel",
          "model_module_version": "1.5.0",
          "state": {
            "_dom_classes": [],
            "_model_module": "@jupyter-widgets/controls",
            "_model_module_version": "1.5.0",
            "_model_name": "HBoxModel",
            "_view_count": null,
            "_view_module": "@jupyter-widgets/controls",
            "_view_module_version": "1.5.0",
            "_view_name": "HBoxView",
            "box_style": "",
            "children": [
              "IPY_MODEL_ff3431d750c64488a26fa92068fa0e7e",
              "IPY_MODEL_7e9ac9d6e66440128a45c28daa2648b9",
              "IPY_MODEL_6c55f89e26c54d2689bacd2665675467"
            ],
            "layout": "IPY_MODEL_70cecaeaf39b43098261a9b6e93e1b79"
          }
        },
        "ff3431d750c64488a26fa92068fa0e7e": {
          "model_module": "@jupyter-widgets/controls",
          "model_name": "HTMLModel",
          "model_module_version": "1.5.0",
          "state": {
            "_dom_classes": [],
            "_model_module": "@jupyter-widgets/controls",
            "_model_module_version": "1.5.0",
            "_model_name": "HTMLModel",
            "_view_count": null,
            "_view_module": "@jupyter-widgets/controls",
            "_view_module_version": "1.5.0",
            "_view_name": "HTMLView",
            "description": "",
            "description_tooltip": null,
            "layout": "IPY_MODEL_2f81e18653c5413e8b2cc1b052285063",
            "placeholder": "​",
            "style": "IPY_MODEL_0722836fb84b4a3c97e7b937d09d1e7d",
            "value": "Downloading: 100%"
          }
        },
        "7e9ac9d6e66440128a45c28daa2648b9": {
          "model_module": "@jupyter-widgets/controls",
          "model_name": "FloatProgressModel",
          "model_module_version": "1.5.0",
          "state": {
            "_dom_classes": [],
            "_model_module": "@jupyter-widgets/controls",
            "_model_module_version": "1.5.0",
            "_model_name": "FloatProgressModel",
            "_view_count": null,
            "_view_module": "@jupyter-widgets/controls",
            "_view_module_version": "1.5.0",
            "_view_name": "ProgressView",
            "bar_style": "success",
            "description": "",
            "description_tooltip": null,
            "layout": "IPY_MODEL_0143669e2f4244788cf37253bcb90fb6",
            "max": 10571,
            "min": 0,
            "orientation": "horizontal",
            "style": "IPY_MODEL_a952cf9e5db7445fa31fd3985bf48957",
            "value": 10571
          }
        },
        "6c55f89e26c54d2689bacd2665675467": {
          "model_module": "@jupyter-widgets/controls",
          "model_name": "HTMLModel",
          "model_module_version": "1.5.0",
          "state": {
            "_dom_classes": [],
            "_model_module": "@jupyter-widgets/controls",
            "_model_module_version": "1.5.0",
            "_model_name": "HTMLModel",
            "_view_count": null,
            "_view_module": "@jupyter-widgets/controls",
            "_view_module_version": "1.5.0",
            "_view_name": "HTMLView",
            "description": "",
            "description_tooltip": null,
            "layout": "IPY_MODEL_0b4b0bca3e4c4ee6a912694f5754a62d",
            "placeholder": "​",
            "style": "IPY_MODEL_756248a1edc849449c3dec9b0647b204",
            "value": " 10.6k/10.6k [00:00&lt;00:00, 322kB/s]"
          }
        },
        "70cecaeaf39b43098261a9b6e93e1b79": {
          "model_module": "@jupyter-widgets/base",
          "model_name": "LayoutModel",
          "model_module_version": "1.2.0",
          "state": {
            "_model_module": "@jupyter-widgets/base",
            "_model_module_version": "1.2.0",
            "_model_name": "LayoutModel",
            "_view_count": null,
            "_view_module": "@jupyter-widgets/base",
            "_view_module_version": "1.2.0",
            "_view_name": "LayoutView",
            "align_content": null,
            "align_items": null,
            "align_self": null,
            "border": null,
            "bottom": null,
            "display": null,
            "flex": null,
            "flex_flow": null,
            "grid_area": null,
            "grid_auto_columns": null,
            "grid_auto_flow": null,
            "grid_auto_rows": null,
            "grid_column": null,
            "grid_gap": null,
            "grid_row": null,
            "grid_template_areas": null,
            "grid_template_columns": null,
            "grid_template_rows": null,
            "height": null,
            "justify_content": null,
            "justify_items": null,
            "left": null,
            "margin": null,
            "max_height": null,
            "max_width": null,
            "min_height": null,
            "min_width": null,
            "object_fit": null,
            "object_position": null,
            "order": null,
            "overflow": null,
            "overflow_x": null,
            "overflow_y": null,
            "padding": null,
            "right": null,
            "top": null,
            "visibility": null,
            "width": null
          }
        },
        "2f81e18653c5413e8b2cc1b052285063": {
          "model_module": "@jupyter-widgets/base",
          "model_name": "LayoutModel",
          "model_module_version": "1.2.0",
          "state": {
            "_model_module": "@jupyter-widgets/base",
            "_model_module_version": "1.2.0",
            "_model_name": "LayoutModel",
            "_view_count": null,
            "_view_module": "@jupyter-widgets/base",
            "_view_module_version": "1.2.0",
            "_view_name": "LayoutView",
            "align_content": null,
            "align_items": null,
            "align_self": null,
            "border": null,
            "bottom": null,
            "display": null,
            "flex": null,
            "flex_flow": null,
            "grid_area": null,
            "grid_auto_columns": null,
            "grid_auto_flow": null,
            "grid_auto_rows": null,
            "grid_column": null,
            "grid_gap": null,
            "grid_row": null,
            "grid_template_areas": null,
            "grid_template_columns": null,
            "grid_template_rows": null,
            "height": null,
            "justify_content": null,
            "justify_items": null,
            "left": null,
            "margin": null,
            "max_height": null,
            "max_width": null,
            "min_height": null,
            "min_width": null,
            "object_fit": null,
            "object_position": null,
            "order": null,
            "overflow": null,
            "overflow_x": null,
            "overflow_y": null,
            "padding": null,
            "right": null,
            "top": null,
            "visibility": null,
            "width": null
          }
        },
        "0722836fb84b4a3c97e7b937d09d1e7d": {
          "model_module": "@jupyter-widgets/controls",
          "model_name": "DescriptionStyleModel",
          "model_module_version": "1.5.0",
          "state": {
            "_model_module": "@jupyter-widgets/controls",
            "_model_module_version": "1.5.0",
            "_model_name": "DescriptionStyleModel",
            "_view_count": null,
            "_view_module": "@jupyter-widgets/base",
            "_view_module_version": "1.2.0",
            "_view_name": "StyleView",
            "description_width": ""
          }
        },
        "0143669e2f4244788cf37253bcb90fb6": {
          "model_module": "@jupyter-widgets/base",
          "model_name": "LayoutModel",
          "model_module_version": "1.2.0",
          "state": {
            "_model_module": "@jupyter-widgets/base",
            "_model_module_version": "1.2.0",
            "_model_name": "LayoutModel",
            "_view_count": null,
            "_view_module": "@jupyter-widgets/base",
            "_view_module_version": "1.2.0",
            "_view_name": "LayoutView",
            "align_content": null,
            "align_items": null,
            "align_self": null,
            "border": null,
            "bottom": null,
            "display": null,
            "flex": null,
            "flex_flow": null,
            "grid_area": null,
            "grid_auto_columns": null,
            "grid_auto_flow": null,
            "grid_auto_rows": null,
            "grid_column": null,
            "grid_gap": null,
            "grid_row": null,
            "grid_template_areas": null,
            "grid_template_columns": null,
            "grid_template_rows": null,
            "height": null,
            "justify_content": null,
            "justify_items": null,
            "left": null,
            "margin": null,
            "max_height": null,
            "max_width": null,
            "min_height": null,
            "min_width": null,
            "object_fit": null,
            "object_position": null,
            "order": null,
            "overflow": null,
            "overflow_x": null,
            "overflow_y": null,
            "padding": null,
            "right": null,
            "top": null,
            "visibility": null,
            "width": null
          }
        },
        "a952cf9e5db7445fa31fd3985bf48957": {
          "model_module": "@jupyter-widgets/controls",
          "model_name": "ProgressStyleModel",
          "model_module_version": "1.5.0",
          "state": {
            "_model_module": "@jupyter-widgets/controls",
            "_model_module_version": "1.5.0",
            "_model_name": "ProgressStyleModel",
            "_view_count": null,
            "_view_module": "@jupyter-widgets/base",
            "_view_module_version": "1.2.0",
            "_view_name": "StyleView",
            "bar_color": null,
            "description_width": ""
          }
        },
        "0b4b0bca3e4c4ee6a912694f5754a62d": {
          "model_module": "@jupyter-widgets/base",
          "model_name": "LayoutModel",
          "model_module_version": "1.2.0",
          "state": {
            "_model_module": "@jupyter-widgets/base",
            "_model_module_version": "1.2.0",
            "_model_name": "LayoutModel",
            "_view_count": null,
            "_view_module": "@jupyter-widgets/base",
            "_view_module_version": "1.2.0",
            "_view_name": "LayoutView",
            "align_content": null,
            "align_items": null,
            "align_self": null,
            "border": null,
            "bottom": null,
            "display": null,
            "flex": null,
            "flex_flow": null,
            "grid_area": null,
            "grid_auto_columns": null,
            "grid_auto_flow": null,
            "grid_auto_rows": null,
            "grid_column": null,
            "grid_gap": null,
            "grid_row": null,
            "grid_template_areas": null,
            "grid_template_columns": null,
            "grid_template_rows": null,
            "height": null,
            "justify_content": null,
            "justify_items": null,
            "left": null,
            "margin": null,
            "max_height": null,
            "max_width": null,
            "min_height": null,
            "min_width": null,
            "object_fit": null,
            "object_position": null,
            "order": null,
            "overflow": null,
            "overflow_x": null,
            "overflow_y": null,
            "padding": null,
            "right": null,
            "top": null,
            "visibility": null,
            "width": null
          }
        },
        "756248a1edc849449c3dec9b0647b204": {
          "model_module": "@jupyter-widgets/controls",
          "model_name": "DescriptionStyleModel",
          "model_module_version": "1.5.0",
          "state": {
            "_model_module": "@jupyter-widgets/controls",
            "_model_module_version": "1.5.0",
            "_model_name": "DescriptionStyleModel",
            "_view_count": null,
            "_view_module": "@jupyter-widgets/base",
            "_view_module_version": "1.2.0",
            "_view_name": "StyleView",
            "description_width": ""
          }
        },
        "9b2c1bdd6782487f8b19fbab799a9ce1": {
          "model_module": "@jupyter-widgets/controls",
          "model_name": "HBoxModel",
          "model_module_version": "1.5.0",
          "state": {
            "_dom_classes": [],
            "_model_module": "@jupyter-widgets/controls",
            "_model_module_version": "1.5.0",
            "_model_name": "HBoxModel",
            "_view_count": null,
            "_view_module": "@jupyter-widgets/controls",
            "_view_module_version": "1.5.0",
            "_view_name": "HBoxView",
            "box_style": "",
            "children": [
              "IPY_MODEL_5d50d459a88a4a5cbec13d827eeb9150",
              "IPY_MODEL_acf8b2ea9f1047ed9566371290f45924",
              "IPY_MODEL_c21df3674d314063886a161126371c5f"
            ],
            "layout": "IPY_MODEL_cd94e6b60a1f42acb1430c0b8967e2cf"
          }
        },
        "5d50d459a88a4a5cbec13d827eeb9150": {
          "model_module": "@jupyter-widgets/controls",
          "model_name": "HTMLModel",
          "model_module_version": "1.5.0",
          "state": {
            "_dom_classes": [],
            "_model_module": "@jupyter-widgets/controls",
            "_model_module_version": "1.5.0",
            "_model_name": "HTMLModel",
            "_view_count": null,
            "_view_module": "@jupyter-widgets/controls",
            "_view_module_version": "1.5.0",
            "_view_name": "HTMLView",
            "description": "",
            "description_tooltip": null,
            "layout": "IPY_MODEL_6e5fd45eba8b43beb9d7da257f21b0b3",
            "placeholder": "​",
            "style": "IPY_MODEL_87a454d96eda4c93ab7ef35bd9e6a0e0",
            "value": "Downloading: 100%"
          }
        },
        "acf8b2ea9f1047ed9566371290f45924": {
          "model_module": "@jupyter-widgets/controls",
          "model_name": "FloatProgressModel",
          "model_module_version": "1.5.0",
          "state": {
            "_dom_classes": [],
            "_model_module": "@jupyter-widgets/controls",
            "_model_module_version": "1.5.0",
            "_model_name": "FloatProgressModel",
            "_view_count": null,
            "_view_module": "@jupyter-widgets/controls",
            "_view_module_version": "1.5.0",
            "_view_name": "ProgressView",
            "bar_style": "success",
            "description": "",
            "description_tooltip": null,
            "layout": "IPY_MODEL_58d3c547b93b4ad19305b1601c5c0bff",
            "max": 571,
            "min": 0,
            "orientation": "horizontal",
            "style": "IPY_MODEL_c00d1c539736466f921bf22909f05d0c",
            "value": 571
          }
        },
        "c21df3674d314063886a161126371c5f": {
          "model_module": "@jupyter-widgets/controls",
          "model_name": "HTMLModel",
          "model_module_version": "1.5.0",
          "state": {
            "_dom_classes": [],
            "_model_module": "@jupyter-widgets/controls",
            "_model_module_version": "1.5.0",
            "_model_name": "HTMLModel",
            "_view_count": null,
            "_view_module": "@jupyter-widgets/controls",
            "_view_module_version": "1.5.0",
            "_view_name": "HTMLView",
            "description": "",
            "description_tooltip": null,
            "layout": "IPY_MODEL_ede1b84d1a134f2399c60cc117694251",
            "placeholder": "​",
            "style": "IPY_MODEL_b38251231a1243f2a9cdc07ede59024e",
            "value": " 571/571 [00:00&lt;00:00, 31.8kB/s]"
          }
        },
        "cd94e6b60a1f42acb1430c0b8967e2cf": {
          "model_module": "@jupyter-widgets/base",
          "model_name": "LayoutModel",
          "model_module_version": "1.2.0",
          "state": {
            "_model_module": "@jupyter-widgets/base",
            "_model_module_version": "1.2.0",
            "_model_name": "LayoutModel",
            "_view_count": null,
            "_view_module": "@jupyter-widgets/base",
            "_view_module_version": "1.2.0",
            "_view_name": "LayoutView",
            "align_content": null,
            "align_items": null,
            "align_self": null,
            "border": null,
            "bottom": null,
            "display": null,
            "flex": null,
            "flex_flow": null,
            "grid_area": null,
            "grid_auto_columns": null,
            "grid_auto_flow": null,
            "grid_auto_rows": null,
            "grid_column": null,
            "grid_gap": null,
            "grid_row": null,
            "grid_template_areas": null,
            "grid_template_columns": null,
            "grid_template_rows": null,
            "height": null,
            "justify_content": null,
            "justify_items": null,
            "left": null,
            "margin": null,
            "max_height": null,
            "max_width": null,
            "min_height": null,
            "min_width": null,
            "object_fit": null,
            "object_position": null,
            "order": null,
            "overflow": null,
            "overflow_x": null,
            "overflow_y": null,
            "padding": null,
            "right": null,
            "top": null,
            "visibility": null,
            "width": null
          }
        },
        "6e5fd45eba8b43beb9d7da257f21b0b3": {
          "model_module": "@jupyter-widgets/base",
          "model_name": "LayoutModel",
          "model_module_version": "1.2.0",
          "state": {
            "_model_module": "@jupyter-widgets/base",
            "_model_module_version": "1.2.0",
            "_model_name": "LayoutModel",
            "_view_count": null,
            "_view_module": "@jupyter-widgets/base",
            "_view_module_version": "1.2.0",
            "_view_name": "LayoutView",
            "align_content": null,
            "align_items": null,
            "align_self": null,
            "border": null,
            "bottom": null,
            "display": null,
            "flex": null,
            "flex_flow": null,
            "grid_area": null,
            "grid_auto_columns": null,
            "grid_auto_flow": null,
            "grid_auto_rows": null,
            "grid_column": null,
            "grid_gap": null,
            "grid_row": null,
            "grid_template_areas": null,
            "grid_template_columns": null,
            "grid_template_rows": null,
            "height": null,
            "justify_content": null,
            "justify_items": null,
            "left": null,
            "margin": null,
            "max_height": null,
            "max_width": null,
            "min_height": null,
            "min_width": null,
            "object_fit": null,
            "object_position": null,
            "order": null,
            "overflow": null,
            "overflow_x": null,
            "overflow_y": null,
            "padding": null,
            "right": null,
            "top": null,
            "visibility": null,
            "width": null
          }
        },
        "87a454d96eda4c93ab7ef35bd9e6a0e0": {
          "model_module": "@jupyter-widgets/controls",
          "model_name": "DescriptionStyleModel",
          "model_module_version": "1.5.0",
          "state": {
            "_model_module": "@jupyter-widgets/controls",
            "_model_module_version": "1.5.0",
            "_model_name": "DescriptionStyleModel",
            "_view_count": null,
            "_view_module": "@jupyter-widgets/base",
            "_view_module_version": "1.2.0",
            "_view_name": "StyleView",
            "description_width": ""
          }
        },
        "58d3c547b93b4ad19305b1601c5c0bff": {
          "model_module": "@jupyter-widgets/base",
          "model_name": "LayoutModel",
          "model_module_version": "1.2.0",
          "state": {
            "_model_module": "@jupyter-widgets/base",
            "_model_module_version": "1.2.0",
            "_model_name": "LayoutModel",
            "_view_count": null,
            "_view_module": "@jupyter-widgets/base",
            "_view_module_version": "1.2.0",
            "_view_name": "LayoutView",
            "align_content": null,
            "align_items": null,
            "align_self": null,
            "border": null,
            "bottom": null,
            "display": null,
            "flex": null,
            "flex_flow": null,
            "grid_area": null,
            "grid_auto_columns": null,
            "grid_auto_flow": null,
            "grid_auto_rows": null,
            "grid_column": null,
            "grid_gap": null,
            "grid_row": null,
            "grid_template_areas": null,
            "grid_template_columns": null,
            "grid_template_rows": null,
            "height": null,
            "justify_content": null,
            "justify_items": null,
            "left": null,
            "margin": null,
            "max_height": null,
            "max_width": null,
            "min_height": null,
            "min_width": null,
            "object_fit": null,
            "object_position": null,
            "order": null,
            "overflow": null,
            "overflow_x": null,
            "overflow_y": null,
            "padding": null,
            "right": null,
            "top": null,
            "visibility": null,
            "width": null
          }
        },
        "c00d1c539736466f921bf22909f05d0c": {
          "model_module": "@jupyter-widgets/controls",
          "model_name": "ProgressStyleModel",
          "model_module_version": "1.5.0",
          "state": {
            "_model_module": "@jupyter-widgets/controls",
            "_model_module_version": "1.5.0",
            "_model_name": "ProgressStyleModel",
            "_view_count": null,
            "_view_module": "@jupyter-widgets/base",
            "_view_module_version": "1.2.0",
            "_view_name": "StyleView",
            "bar_color": null,
            "description_width": ""
          }
        },
        "ede1b84d1a134f2399c60cc117694251": {
          "model_module": "@jupyter-widgets/base",
          "model_name": "LayoutModel",
          "model_module_version": "1.2.0",
          "state": {
            "_model_module": "@jupyter-widgets/base",
            "_model_module_version": "1.2.0",
            "_model_name": "LayoutModel",
            "_view_count": null,
            "_view_module": "@jupyter-widgets/base",
            "_view_module_version": "1.2.0",
            "_view_name": "LayoutView",
            "align_content": null,
            "align_items": null,
            "align_self": null,
            "border": null,
            "bottom": null,
            "display": null,
            "flex": null,
            "flex_flow": null,
            "grid_area": null,
            "grid_auto_columns": null,
            "grid_auto_flow": null,
            "grid_auto_rows": null,
            "grid_column": null,
            "grid_gap": null,
            "grid_row": null,
            "grid_template_areas": null,
            "grid_template_columns": null,
            "grid_template_rows": null,
            "height": null,
            "justify_content": null,
            "justify_items": null,
            "left": null,
            "margin": null,
            "max_height": null,
            "max_width": null,
            "min_height": null,
            "min_width": null,
            "object_fit": null,
            "object_position": null,
            "order": null,
            "overflow": null,
            "overflow_x": null,
            "overflow_y": null,
            "padding": null,
            "right": null,
            "top": null,
            "visibility": null,
            "width": null
          }
        },
        "b38251231a1243f2a9cdc07ede59024e": {
          "model_module": "@jupyter-widgets/controls",
          "model_name": "DescriptionStyleModel",
          "model_module_version": "1.5.0",
          "state": {
            "_model_module": "@jupyter-widgets/controls",
            "_model_module_version": "1.5.0",
            "_model_name": "DescriptionStyleModel",
            "_view_count": null,
            "_view_module": "@jupyter-widgets/base",
            "_view_module_version": "1.2.0",
            "_view_name": "StyleView",
            "description_width": ""
          }
        },
        "a2dacff1ddbb4df597511d93e4bb06eb": {
          "model_module": "@jupyter-widgets/controls",
          "model_name": "HBoxModel",
          "model_module_version": "1.5.0",
          "state": {
            "_dom_classes": [],
            "_model_module": "@jupyter-widgets/controls",
            "_model_module_version": "1.5.0",
            "_model_name": "HBoxModel",
            "_view_count": null,
            "_view_module": "@jupyter-widgets/controls",
            "_view_module_version": "1.5.0",
            "_view_name": "HBoxView",
            "box_style": "",
            "children": [
              "IPY_MODEL_28350af357aa4a98a8cb0e79a189dc9e",
              "IPY_MODEL_d3cc95ff43b84ba7ad15e8ac8feffd10",
              "IPY_MODEL_99ccdbae3c8748babd9902a7b6d66e9d"
            ],
            "layout": "IPY_MODEL_b7e7ed86bc074db7bd9ade9859dbf67b"
          }
        },
        "28350af357aa4a98a8cb0e79a189dc9e": {
          "model_module": "@jupyter-widgets/controls",
          "model_name": "HTMLModel",
          "model_module_version": "1.5.0",
          "state": {
            "_dom_classes": [],
            "_model_module": "@jupyter-widgets/controls",
            "_model_module_version": "1.5.0",
            "_model_name": "HTMLModel",
            "_view_count": null,
            "_view_module": "@jupyter-widgets/controls",
            "_view_module_version": "1.5.0",
            "_view_name": "HTMLView",
            "description": "",
            "description_tooltip": null,
            "layout": "IPY_MODEL_35211ce1ef0140669267c55abc5f12e2",
            "placeholder": "​",
            "style": "IPY_MODEL_e54d067d23a9459990043967b3954324",
            "value": "Downloading: 100%"
          }
        },
        "d3cc95ff43b84ba7ad15e8ac8feffd10": {
          "model_module": "@jupyter-widgets/controls",
          "model_name": "FloatProgressModel",
          "model_module_version": "1.5.0",
          "state": {
            "_dom_classes": [],
            "_model_module": "@jupyter-widgets/controls",
            "_model_module_version": "1.5.0",
            "_model_name": "FloatProgressModel",
            "_view_count": null,
            "_view_module": "@jupyter-widgets/controls",
            "_view_module_version": "1.5.0",
            "_view_name": "ProgressView",
            "bar_style": "success",
            "description": "",
            "description_tooltip": null,
            "layout": "IPY_MODEL_c0255e9f9a6946d0856c4399a9286670",
            "max": 116,
            "min": 0,
            "orientation": "horizontal",
            "style": "IPY_MODEL_212efacba52b469dbbed9748daf2c85b",
            "value": 116
          }
        },
        "99ccdbae3c8748babd9902a7b6d66e9d": {
          "model_module": "@jupyter-widgets/controls",
          "model_name": "HTMLModel",
          "model_module_version": "1.5.0",
          "state": {
            "_dom_classes": [],
            "_model_module": "@jupyter-widgets/controls",
            "_model_module_version": "1.5.0",
            "_model_name": "HTMLModel",
            "_view_count": null,
            "_view_module": "@jupyter-widgets/controls",
            "_view_module_version": "1.5.0",
            "_view_name": "HTMLView",
            "description": "",
            "description_tooltip": null,
            "layout": "IPY_MODEL_c2fccb5872bc4e0abc3e5149ec6fb5fc",
            "placeholder": "​",
            "style": "IPY_MODEL_e276a7d5cb664008a6e65135dc9808bd",
            "value": " 116/116 [00:00&lt;00:00, 6.77kB/s]"
          }
        },
        "b7e7ed86bc074db7bd9ade9859dbf67b": {
          "model_module": "@jupyter-widgets/base",
          "model_name": "LayoutModel",
          "model_module_version": "1.2.0",
          "state": {
            "_model_module": "@jupyter-widgets/base",
            "_model_module_version": "1.2.0",
            "_model_name": "LayoutModel",
            "_view_count": null,
            "_view_module": "@jupyter-widgets/base",
            "_view_module_version": "1.2.0",
            "_view_name": "LayoutView",
            "align_content": null,
            "align_items": null,
            "align_self": null,
            "border": null,
            "bottom": null,
            "display": null,
            "flex": null,
            "flex_flow": null,
            "grid_area": null,
            "grid_auto_columns": null,
            "grid_auto_flow": null,
            "grid_auto_rows": null,
            "grid_column": null,
            "grid_gap": null,
            "grid_row": null,
            "grid_template_areas": null,
            "grid_template_columns": null,
            "grid_template_rows": null,
            "height": null,
            "justify_content": null,
            "justify_items": null,
            "left": null,
            "margin": null,
            "max_height": null,
            "max_width": null,
            "min_height": null,
            "min_width": null,
            "object_fit": null,
            "object_position": null,
            "order": null,
            "overflow": null,
            "overflow_x": null,
            "overflow_y": null,
            "padding": null,
            "right": null,
            "top": null,
            "visibility": null,
            "width": null
          }
        },
        "35211ce1ef0140669267c55abc5f12e2": {
          "model_module": "@jupyter-widgets/base",
          "model_name": "LayoutModel",
          "model_module_version": "1.2.0",
          "state": {
            "_model_module": "@jupyter-widgets/base",
            "_model_module_version": "1.2.0",
            "_model_name": "LayoutModel",
            "_view_count": null,
            "_view_module": "@jupyter-widgets/base",
            "_view_module_version": "1.2.0",
            "_view_name": "LayoutView",
            "align_content": null,
            "align_items": null,
            "align_self": null,
            "border": null,
            "bottom": null,
            "display": null,
            "flex": null,
            "flex_flow": null,
            "grid_area": null,
            "grid_auto_columns": null,
            "grid_auto_flow": null,
            "grid_auto_rows": null,
            "grid_column": null,
            "grid_gap": null,
            "grid_row": null,
            "grid_template_areas": null,
            "grid_template_columns": null,
            "grid_template_rows": null,
            "height": null,
            "justify_content": null,
            "justify_items": null,
            "left": null,
            "margin": null,
            "max_height": null,
            "max_width": null,
            "min_height": null,
            "min_width": null,
            "object_fit": null,
            "object_position": null,
            "order": null,
            "overflow": null,
            "overflow_x": null,
            "overflow_y": null,
            "padding": null,
            "right": null,
            "top": null,
            "visibility": null,
            "width": null
          }
        },
        "e54d067d23a9459990043967b3954324": {
          "model_module": "@jupyter-widgets/controls",
          "model_name": "DescriptionStyleModel",
          "model_module_version": "1.5.0",
          "state": {
            "_model_module": "@jupyter-widgets/controls",
            "_model_module_version": "1.5.0",
            "_model_name": "DescriptionStyleModel",
            "_view_count": null,
            "_view_module": "@jupyter-widgets/base",
            "_view_module_version": "1.2.0",
            "_view_name": "StyleView",
            "description_width": ""
          }
        },
        "c0255e9f9a6946d0856c4399a9286670": {
          "model_module": "@jupyter-widgets/base",
          "model_name": "LayoutModel",
          "model_module_version": "1.2.0",
          "state": {
            "_model_module": "@jupyter-widgets/base",
            "_model_module_version": "1.2.0",
            "_model_name": "LayoutModel",
            "_view_count": null,
            "_view_module": "@jupyter-widgets/base",
            "_view_module_version": "1.2.0",
            "_view_name": "LayoutView",
            "align_content": null,
            "align_items": null,
            "align_self": null,
            "border": null,
            "bottom": null,
            "display": null,
            "flex": null,
            "flex_flow": null,
            "grid_area": null,
            "grid_auto_columns": null,
            "grid_auto_flow": null,
            "grid_auto_rows": null,
            "grid_column": null,
            "grid_gap": null,
            "grid_row": null,
            "grid_template_areas": null,
            "grid_template_columns": null,
            "grid_template_rows": null,
            "height": null,
            "justify_content": null,
            "justify_items": null,
            "left": null,
            "margin": null,
            "max_height": null,
            "max_width": null,
            "min_height": null,
            "min_width": null,
            "object_fit": null,
            "object_position": null,
            "order": null,
            "overflow": null,
            "overflow_x": null,
            "overflow_y": null,
            "padding": null,
            "right": null,
            "top": null,
            "visibility": null,
            "width": null
          }
        },
        "212efacba52b469dbbed9748daf2c85b": {
          "model_module": "@jupyter-widgets/controls",
          "model_name": "ProgressStyleModel",
          "model_module_version": "1.5.0",
          "state": {
            "_model_module": "@jupyter-widgets/controls",
            "_model_module_version": "1.5.0",
            "_model_name": "ProgressStyleModel",
            "_view_count": null,
            "_view_module": "@jupyter-widgets/base",
            "_view_module_version": "1.2.0",
            "_view_name": "StyleView",
            "bar_color": null,
            "description_width": ""
          }
        },
        "c2fccb5872bc4e0abc3e5149ec6fb5fc": {
          "model_module": "@jupyter-widgets/base",
          "model_name": "LayoutModel",
          "model_module_version": "1.2.0",
          "state": {
            "_model_module": "@jupyter-widgets/base",
            "_model_module_version": "1.2.0",
            "_model_name": "LayoutModel",
            "_view_count": null,
            "_view_module": "@jupyter-widgets/base",
            "_view_module_version": "1.2.0",
            "_view_name": "LayoutView",
            "align_content": null,
            "align_items": null,
            "align_self": null,
            "border": null,
            "bottom": null,
            "display": null,
            "flex": null,
            "flex_flow": null,
            "grid_area": null,
            "grid_auto_columns": null,
            "grid_auto_flow": null,
            "grid_auto_rows": null,
            "grid_column": null,
            "grid_gap": null,
            "grid_row": null,
            "grid_template_areas": null,
            "grid_template_columns": null,
            "grid_template_rows": null,
            "height": null,
            "justify_content": null,
            "justify_items": null,
            "left": null,
            "margin": null,
            "max_height": null,
            "max_width": null,
            "min_height": null,
            "min_width": null,
            "object_fit": null,
            "object_position": null,
            "order": null,
            "overflow": null,
            "overflow_x": null,
            "overflow_y": null,
            "padding": null,
            "right": null,
            "top": null,
            "visibility": null,
            "width": null
          }
        },
        "e276a7d5cb664008a6e65135dc9808bd": {
          "model_module": "@jupyter-widgets/controls",
          "model_name": "DescriptionStyleModel",
          "model_module_version": "1.5.0",
          "state": {
            "_model_module": "@jupyter-widgets/controls",
            "_model_module_version": "1.5.0",
            "_model_name": "DescriptionStyleModel",
            "_view_count": null,
            "_view_module": "@jupyter-widgets/base",
            "_view_module_version": "1.2.0",
            "_view_name": "StyleView",
            "description_width": ""
          }
        },
        "d58f2a6b648445099ebb88b3159a2b23": {
          "model_module": "@jupyter-widgets/controls",
          "model_name": "HBoxModel",
          "model_module_version": "1.5.0",
          "state": {
            "_dom_classes": [],
            "_model_module": "@jupyter-widgets/controls",
            "_model_module_version": "1.5.0",
            "_model_name": "HBoxModel",
            "_view_count": null,
            "_view_module": "@jupyter-widgets/controls",
            "_view_module_version": "1.5.0",
            "_view_name": "HBoxView",
            "box_style": "",
            "children": [
              "IPY_MODEL_ef06b539e19e42b6831616dd622a0c50",
              "IPY_MODEL_61d2d2d74e5e47e0a32934200aa7ef26",
              "IPY_MODEL_6645c7c44ce5480dad7e67c9127772e8"
            ],
            "layout": "IPY_MODEL_7e765011d1da4de2900cfc90acdb792a"
          }
        },
        "ef06b539e19e42b6831616dd622a0c50": {
          "model_module": "@jupyter-widgets/controls",
          "model_name": "HTMLModel",
          "model_module_version": "1.5.0",
          "state": {
            "_dom_classes": [],
            "_model_module": "@jupyter-widgets/controls",
            "_model_module_version": "1.5.0",
            "_model_name": "HTMLModel",
            "_view_count": null,
            "_view_module": "@jupyter-widgets/controls",
            "_view_module_version": "1.5.0",
            "_view_name": "HTMLView",
            "description": "",
            "description_tooltip": null,
            "layout": "IPY_MODEL_f8be4bc48b394325ae96192aeb40bfd4",
            "placeholder": "​",
            "style": "IPY_MODEL_34972a4551994591acfc66e3d480aac3",
            "value": "Downloading: 100%"
          }
        },
        "61d2d2d74e5e47e0a32934200aa7ef26": {
          "model_module": "@jupyter-widgets/controls",
          "model_name": "FloatProgressModel",
          "model_module_version": "1.5.0",
          "state": {
            "_dom_classes": [],
            "_model_module": "@jupyter-widgets/controls",
            "_model_module_version": "1.5.0",
            "_model_name": "FloatProgressModel",
            "_view_count": null,
            "_view_module": "@jupyter-widgets/controls",
            "_view_module_version": "1.5.0",
            "_view_name": "ProgressView",
            "bar_style": "success",
            "description": "",
            "description_tooltip": null,
            "layout": "IPY_MODEL_1cdcd9e49ae3483196ea8249f97a0bdb",
            "max": 39265,
            "min": 0,
            "orientation": "horizontal",
            "style": "IPY_MODEL_5c2ade8f3a4641b89685a4954b098e11",
            "value": 39265
          }
        },
        "6645c7c44ce5480dad7e67c9127772e8": {
          "model_module": "@jupyter-widgets/controls",
          "model_name": "HTMLModel",
          "model_module_version": "1.5.0",
          "state": {
            "_dom_classes": [],
            "_model_module": "@jupyter-widgets/controls",
            "_model_module_version": "1.5.0",
            "_model_name": "HTMLModel",
            "_view_count": null,
            "_view_module": "@jupyter-widgets/controls",
            "_view_module_version": "1.5.0",
            "_view_name": "HTMLView",
            "description": "",
            "description_tooltip": null,
            "layout": "IPY_MODEL_e9170402c850481d8a864e7b0d27992c",
            "placeholder": "​",
            "style": "IPY_MODEL_fe2a4d9003d845ffaa1a0b515cf354f6",
            "value": " 39.3k/39.3k [00:00&lt;00:00, 18.7kB/s]"
          }
        },
        "7e765011d1da4de2900cfc90acdb792a": {
          "model_module": "@jupyter-widgets/base",
          "model_name": "LayoutModel",
          "model_module_version": "1.2.0",
          "state": {
            "_model_module": "@jupyter-widgets/base",
            "_model_module_version": "1.2.0",
            "_model_name": "LayoutModel",
            "_view_count": null,
            "_view_module": "@jupyter-widgets/base",
            "_view_module_version": "1.2.0",
            "_view_name": "LayoutView",
            "align_content": null,
            "align_items": null,
            "align_self": null,
            "border": null,
            "bottom": null,
            "display": null,
            "flex": null,
            "flex_flow": null,
            "grid_area": null,
            "grid_auto_columns": null,
            "grid_auto_flow": null,
            "grid_auto_rows": null,
            "grid_column": null,
            "grid_gap": null,
            "grid_row": null,
            "grid_template_areas": null,
            "grid_template_columns": null,
            "grid_template_rows": null,
            "height": null,
            "justify_content": null,
            "justify_items": null,
            "left": null,
            "margin": null,
            "max_height": null,
            "max_width": null,
            "min_height": null,
            "min_width": null,
            "object_fit": null,
            "object_position": null,
            "order": null,
            "overflow": null,
            "overflow_x": null,
            "overflow_y": null,
            "padding": null,
            "right": null,
            "top": null,
            "visibility": null,
            "width": null
          }
        },
        "f8be4bc48b394325ae96192aeb40bfd4": {
          "model_module": "@jupyter-widgets/base",
          "model_name": "LayoutModel",
          "model_module_version": "1.2.0",
          "state": {
            "_model_module": "@jupyter-widgets/base",
            "_model_module_version": "1.2.0",
            "_model_name": "LayoutModel",
            "_view_count": null,
            "_view_module": "@jupyter-widgets/base",
            "_view_module_version": "1.2.0",
            "_view_name": "LayoutView",
            "align_content": null,
            "align_items": null,
            "align_self": null,
            "border": null,
            "bottom": null,
            "display": null,
            "flex": null,
            "flex_flow": null,
            "grid_area": null,
            "grid_auto_columns": null,
            "grid_auto_flow": null,
            "grid_auto_rows": null,
            "grid_column": null,
            "grid_gap": null,
            "grid_row": null,
            "grid_template_areas": null,
            "grid_template_columns": null,
            "grid_template_rows": null,
            "height": null,
            "justify_content": null,
            "justify_items": null,
            "left": null,
            "margin": null,
            "max_height": null,
            "max_width": null,
            "min_height": null,
            "min_width": null,
            "object_fit": null,
            "object_position": null,
            "order": null,
            "overflow": null,
            "overflow_x": null,
            "overflow_y": null,
            "padding": null,
            "right": null,
            "top": null,
            "visibility": null,
            "width": null
          }
        },
        "34972a4551994591acfc66e3d480aac3": {
          "model_module": "@jupyter-widgets/controls",
          "model_name": "DescriptionStyleModel",
          "model_module_version": "1.5.0",
          "state": {
            "_model_module": "@jupyter-widgets/controls",
            "_model_module_version": "1.5.0",
            "_model_name": "DescriptionStyleModel",
            "_view_count": null,
            "_view_module": "@jupyter-widgets/base",
            "_view_module_version": "1.2.0",
            "_view_name": "StyleView",
            "description_width": ""
          }
        },
        "1cdcd9e49ae3483196ea8249f97a0bdb": {
          "model_module": "@jupyter-widgets/base",
          "model_name": "LayoutModel",
          "model_module_version": "1.2.0",
          "state": {
            "_model_module": "@jupyter-widgets/base",
            "_model_module_version": "1.2.0",
            "_model_name": "LayoutModel",
            "_view_count": null,
            "_view_module": "@jupyter-widgets/base",
            "_view_module_version": "1.2.0",
            "_view_name": "LayoutView",
            "align_content": null,
            "align_items": null,
            "align_self": null,
            "border": null,
            "bottom": null,
            "display": null,
            "flex": null,
            "flex_flow": null,
            "grid_area": null,
            "grid_auto_columns": null,
            "grid_auto_flow": null,
            "grid_auto_rows": null,
            "grid_column": null,
            "grid_gap": null,
            "grid_row": null,
            "grid_template_areas": null,
            "grid_template_columns": null,
            "grid_template_rows": null,
            "height": null,
            "justify_content": null,
            "justify_items": null,
            "left": null,
            "margin": null,
            "max_height": null,
            "max_width": null,
            "min_height": null,
            "min_width": null,
            "object_fit": null,
            "object_position": null,
            "order": null,
            "overflow": null,
            "overflow_x": null,
            "overflow_y": null,
            "padding": null,
            "right": null,
            "top": null,
            "visibility": null,
            "width": null
          }
        },
        "5c2ade8f3a4641b89685a4954b098e11": {
          "model_module": "@jupyter-widgets/controls",
          "model_name": "ProgressStyleModel",
          "model_module_version": "1.5.0",
          "state": {
            "_model_module": "@jupyter-widgets/controls",
            "_model_module_version": "1.5.0",
            "_model_name": "ProgressStyleModel",
            "_view_count": null,
            "_view_module": "@jupyter-widgets/base",
            "_view_module_version": "1.2.0",
            "_view_name": "StyleView",
            "bar_color": null,
            "description_width": ""
          }
        },
        "e9170402c850481d8a864e7b0d27992c": {
          "model_module": "@jupyter-widgets/base",
          "model_name": "LayoutModel",
          "model_module_version": "1.2.0",
          "state": {
            "_model_module": "@jupyter-widgets/base",
            "_model_module_version": "1.2.0",
            "_model_name": "LayoutModel",
            "_view_count": null,
            "_view_module": "@jupyter-widgets/base",
            "_view_module_version": "1.2.0",
            "_view_name": "LayoutView",
            "align_content": null,
            "align_items": null,
            "align_self": null,
            "border": null,
            "bottom": null,
            "display": null,
            "flex": null,
            "flex_flow": null,
            "grid_area": null,
            "grid_auto_columns": null,
            "grid_auto_flow": null,
            "grid_auto_rows": null,
            "grid_column": null,
            "grid_gap": null,
            "grid_row": null,
            "grid_template_areas": null,
            "grid_template_columns": null,
            "grid_template_rows": null,
            "height": null,
            "justify_content": null,
            "justify_items": null,
            "left": null,
            "margin": null,
            "max_height": null,
            "max_width": null,
            "min_height": null,
            "min_width": null,
            "object_fit": null,
            "object_position": null,
            "order": null,
            "overflow": null,
            "overflow_x": null,
            "overflow_y": null,
            "padding": null,
            "right": null,
            "top": null,
            "visibility": null,
            "width": null
          }
        },
        "fe2a4d9003d845ffaa1a0b515cf354f6": {
          "model_module": "@jupyter-widgets/controls",
          "model_name": "DescriptionStyleModel",
          "model_module_version": "1.5.0",
          "state": {
            "_model_module": "@jupyter-widgets/controls",
            "_model_module_version": "1.5.0",
            "_model_name": "DescriptionStyleModel",
            "_view_count": null,
            "_view_module": "@jupyter-widgets/base",
            "_view_module_version": "1.2.0",
            "_view_name": "StyleView",
            "description_width": ""
          }
        },
        "8a068dd6192e48e29beefaf4c2e40796": {
          "model_module": "@jupyter-widgets/controls",
          "model_name": "HBoxModel",
          "model_module_version": "1.5.0",
          "state": {
            "_dom_classes": [],
            "_model_module": "@jupyter-widgets/controls",
            "_model_module_version": "1.5.0",
            "_model_name": "HBoxModel",
            "_view_count": null,
            "_view_module": "@jupyter-widgets/controls",
            "_view_module_version": "1.5.0",
            "_view_name": "HBoxView",
            "box_style": "",
            "children": [
              "IPY_MODEL_3e732d4d66ed47adaf529eb09539416c",
              "IPY_MODEL_6d7c947998d84e6087ae9583d34ef55e",
              "IPY_MODEL_4a0b366e6ef644b6b28fc8e0057d5e76"
            ],
            "layout": "IPY_MODEL_6ea93005bd1e47dfaa19e6564f7050f2"
          }
        },
        "3e732d4d66ed47adaf529eb09539416c": {
          "model_module": "@jupyter-widgets/controls",
          "model_name": "HTMLModel",
          "model_module_version": "1.5.0",
          "state": {
            "_dom_classes": [],
            "_model_module": "@jupyter-widgets/controls",
            "_model_module_version": "1.5.0",
            "_model_name": "HTMLModel",
            "_view_count": null,
            "_view_module": "@jupyter-widgets/controls",
            "_view_module_version": "1.5.0",
            "_view_name": "HTMLView",
            "description": "",
            "description_tooltip": null,
            "layout": "IPY_MODEL_6db790457c95437db71fe80c95598af5",
            "placeholder": "​",
            "style": "IPY_MODEL_dc42a09ae1fd4a57bc469493aa3fa217",
            "value": "Downloading: 100%"
          }
        },
        "6d7c947998d84e6087ae9583d34ef55e": {
          "model_module": "@jupyter-widgets/controls",
          "model_name": "FloatProgressModel",
          "model_module_version": "1.5.0",
          "state": {
            "_dom_classes": [],
            "_model_module": "@jupyter-widgets/controls",
            "_model_module_version": "1.5.0",
            "_model_name": "FloatProgressModel",
            "_view_count": null,
            "_view_module": "@jupyter-widgets/controls",
            "_view_module_version": "1.5.0",
            "_view_name": "ProgressView",
            "bar_style": "success",
            "description": "",
            "description_tooltip": null,
            "layout": "IPY_MODEL_4647ccb060ff428a8c6888258e5d0a2a",
            "max": 438011953,
            "min": 0,
            "orientation": "horizontal",
            "style": "IPY_MODEL_583228dea3204db8938143cefa8c2ade",
            "value": 438011953
          }
        },
        "4a0b366e6ef644b6b28fc8e0057d5e76": {
          "model_module": "@jupyter-widgets/controls",
          "model_name": "HTMLModel",
          "model_module_version": "1.5.0",
          "state": {
            "_dom_classes": [],
            "_model_module": "@jupyter-widgets/controls",
            "_model_module_version": "1.5.0",
            "_model_name": "HTMLModel",
            "_view_count": null,
            "_view_module": "@jupyter-widgets/controls",
            "_view_module_version": "1.5.0",
            "_view_name": "HTMLView",
            "description": "",
            "description_tooltip": null,
            "layout": "IPY_MODEL_9bba4f17ba714ac896a950885ba121c4",
            "placeholder": "​",
            "style": "IPY_MODEL_13141dae17b9430ca0aa5075b6529b3f",
            "value": " 438M/438M [00:06&lt;00:00, 75.1MB/s]"
          }
        },
        "6ea93005bd1e47dfaa19e6564f7050f2": {
          "model_module": "@jupyter-widgets/base",
          "model_name": "LayoutModel",
          "model_module_version": "1.2.0",
          "state": {
            "_model_module": "@jupyter-widgets/base",
            "_model_module_version": "1.2.0",
            "_model_name": "LayoutModel",
            "_view_count": null,
            "_view_module": "@jupyter-widgets/base",
            "_view_module_version": "1.2.0",
            "_view_name": "LayoutView",
            "align_content": null,
            "align_items": null,
            "align_self": null,
            "border": null,
            "bottom": null,
            "display": null,
            "flex": null,
            "flex_flow": null,
            "grid_area": null,
            "grid_auto_columns": null,
            "grid_auto_flow": null,
            "grid_auto_rows": null,
            "grid_column": null,
            "grid_gap": null,
            "grid_row": null,
            "grid_template_areas": null,
            "grid_template_columns": null,
            "grid_template_rows": null,
            "height": null,
            "justify_content": null,
            "justify_items": null,
            "left": null,
            "margin": null,
            "max_height": null,
            "max_width": null,
            "min_height": null,
            "min_width": null,
            "object_fit": null,
            "object_position": null,
            "order": null,
            "overflow": null,
            "overflow_x": null,
            "overflow_y": null,
            "padding": null,
            "right": null,
            "top": null,
            "visibility": null,
            "width": null
          }
        },
        "6db790457c95437db71fe80c95598af5": {
          "model_module": "@jupyter-widgets/base",
          "model_name": "LayoutModel",
          "model_module_version": "1.2.0",
          "state": {
            "_model_module": "@jupyter-widgets/base",
            "_model_module_version": "1.2.0",
            "_model_name": "LayoutModel",
            "_view_count": null,
            "_view_module": "@jupyter-widgets/base",
            "_view_module_version": "1.2.0",
            "_view_name": "LayoutView",
            "align_content": null,
            "align_items": null,
            "align_self": null,
            "border": null,
            "bottom": null,
            "display": null,
            "flex": null,
            "flex_flow": null,
            "grid_area": null,
            "grid_auto_columns": null,
            "grid_auto_flow": null,
            "grid_auto_rows": null,
            "grid_column": null,
            "grid_gap": null,
            "grid_row": null,
            "grid_template_areas": null,
            "grid_template_columns": null,
            "grid_template_rows": null,
            "height": null,
            "justify_content": null,
            "justify_items": null,
            "left": null,
            "margin": null,
            "max_height": null,
            "max_width": null,
            "min_height": null,
            "min_width": null,
            "object_fit": null,
            "object_position": null,
            "order": null,
            "overflow": null,
            "overflow_x": null,
            "overflow_y": null,
            "padding": null,
            "right": null,
            "top": null,
            "visibility": null,
            "width": null
          }
        },
        "dc42a09ae1fd4a57bc469493aa3fa217": {
          "model_module": "@jupyter-widgets/controls",
          "model_name": "DescriptionStyleModel",
          "model_module_version": "1.5.0",
          "state": {
            "_model_module": "@jupyter-widgets/controls",
            "_model_module_version": "1.5.0",
            "_model_name": "DescriptionStyleModel",
            "_view_count": null,
            "_view_module": "@jupyter-widgets/base",
            "_view_module_version": "1.2.0",
            "_view_name": "StyleView",
            "description_width": ""
          }
        },
        "4647ccb060ff428a8c6888258e5d0a2a": {
          "model_module": "@jupyter-widgets/base",
          "model_name": "LayoutModel",
          "model_module_version": "1.2.0",
          "state": {
            "_model_module": "@jupyter-widgets/base",
            "_model_module_version": "1.2.0",
            "_model_name": "LayoutModel",
            "_view_count": null,
            "_view_module": "@jupyter-widgets/base",
            "_view_module_version": "1.2.0",
            "_view_name": "LayoutView",
            "align_content": null,
            "align_items": null,
            "align_self": null,
            "border": null,
            "bottom": null,
            "display": null,
            "flex": null,
            "flex_flow": null,
            "grid_area": null,
            "grid_auto_columns": null,
            "grid_auto_flow": null,
            "grid_auto_rows": null,
            "grid_column": null,
            "grid_gap": null,
            "grid_row": null,
            "grid_template_areas": null,
            "grid_template_columns": null,
            "grid_template_rows": null,
            "height": null,
            "justify_content": null,
            "justify_items": null,
            "left": null,
            "margin": null,
            "max_height": null,
            "max_width": null,
            "min_height": null,
            "min_width": null,
            "object_fit": null,
            "object_position": null,
            "order": null,
            "overflow": null,
            "overflow_x": null,
            "overflow_y": null,
            "padding": null,
            "right": null,
            "top": null,
            "visibility": null,
            "width": null
          }
        },
        "583228dea3204db8938143cefa8c2ade": {
          "model_module": "@jupyter-widgets/controls",
          "model_name": "ProgressStyleModel",
          "model_module_version": "1.5.0",
          "state": {
            "_model_module": "@jupyter-widgets/controls",
            "_model_module_version": "1.5.0",
            "_model_name": "ProgressStyleModel",
            "_view_count": null,
            "_view_module": "@jupyter-widgets/base",
            "_view_module_version": "1.2.0",
            "_view_name": "StyleView",
            "bar_color": null,
            "description_width": ""
          }
        },
        "9bba4f17ba714ac896a950885ba121c4": {
          "model_module": "@jupyter-widgets/base",
          "model_name": "LayoutModel",
          "model_module_version": "1.2.0",
          "state": {
            "_model_module": "@jupyter-widgets/base",
            "_model_module_version": "1.2.0",
            "_model_name": "LayoutModel",
            "_view_count": null,
            "_view_module": "@jupyter-widgets/base",
            "_view_module_version": "1.2.0",
            "_view_name": "LayoutView",
            "align_content": null,
            "align_items": null,
            "align_self": null,
            "border": null,
            "bottom": null,
            "display": null,
            "flex": null,
            "flex_flow": null,
            "grid_area": null,
            "grid_auto_columns": null,
            "grid_auto_flow": null,
            "grid_auto_rows": null,
            "grid_column": null,
            "grid_gap": null,
            "grid_row": null,
            "grid_template_areas": null,
            "grid_template_columns": null,
            "grid_template_rows": null,
            "height": null,
            "justify_content": null,
            "justify_items": null,
            "left": null,
            "margin": null,
            "max_height": null,
            "max_width": null,
            "min_height": null,
            "min_width": null,
            "object_fit": null,
            "object_position": null,
            "order": null,
            "overflow": null,
            "overflow_x": null,
            "overflow_y": null,
            "padding": null,
            "right": null,
            "top": null,
            "visibility": null,
            "width": null
          }
        },
        "13141dae17b9430ca0aa5075b6529b3f": {
          "model_module": "@jupyter-widgets/controls",
          "model_name": "DescriptionStyleModel",
          "model_module_version": "1.5.0",
          "state": {
            "_model_module": "@jupyter-widgets/controls",
            "_model_module_version": "1.5.0",
            "_model_name": "DescriptionStyleModel",
            "_view_count": null,
            "_view_module": "@jupyter-widgets/base",
            "_view_module_version": "1.2.0",
            "_view_name": "StyleView",
            "description_width": ""
          }
        },
        "94ed561755254382be525278051996fe": {
          "model_module": "@jupyter-widgets/controls",
          "model_name": "HBoxModel",
          "model_module_version": "1.5.0",
          "state": {
            "_dom_classes": [],
            "_model_module": "@jupyter-widgets/controls",
            "_model_module_version": "1.5.0",
            "_model_name": "HBoxModel",
            "_view_count": null,
            "_view_module": "@jupyter-widgets/controls",
            "_view_module_version": "1.5.0",
            "_view_name": "HBoxView",
            "box_style": "",
            "children": [
              "IPY_MODEL_a37d4098978e45a19cb6fbe152d02d74",
              "IPY_MODEL_8d3368bc2ec945fa8a6bb9351199cda1",
              "IPY_MODEL_c055cf9a677a4b128cc21ef50c612b6b"
            ],
            "layout": "IPY_MODEL_45723b1133f84afdb0335091f0a9c3ef"
          }
        },
        "a37d4098978e45a19cb6fbe152d02d74": {
          "model_module": "@jupyter-widgets/controls",
          "model_name": "HTMLModel",
          "model_module_version": "1.5.0",
          "state": {
            "_dom_classes": [],
            "_model_module": "@jupyter-widgets/controls",
            "_model_module_version": "1.5.0",
            "_model_name": "HTMLModel",
            "_view_count": null,
            "_view_module": "@jupyter-widgets/controls",
            "_view_module_version": "1.5.0",
            "_view_name": "HTMLView",
            "description": "",
            "description_tooltip": null,
            "layout": "IPY_MODEL_9aaa1631de024b04a42171ca86c73564",
            "placeholder": "​",
            "style": "IPY_MODEL_71380a0eee794301b59d7b5defb108e3",
            "value": "Downloading: 100%"
          }
        },
        "8d3368bc2ec945fa8a6bb9351199cda1": {
          "model_module": "@jupyter-widgets/controls",
          "model_name": "FloatProgressModel",
          "model_module_version": "1.5.0",
          "state": {
            "_dom_classes": [],
            "_model_module": "@jupyter-widgets/controls",
            "_model_module_version": "1.5.0",
            "_model_name": "FloatProgressModel",
            "_view_count": null,
            "_view_module": "@jupyter-widgets/controls",
            "_view_module_version": "1.5.0",
            "_view_name": "ProgressView",
            "bar_style": "success",
            "description": "",
            "description_tooltip": null,
            "layout": "IPY_MODEL_31cef6f123a948a8be98067b08e7e23a",
            "max": 53,
            "min": 0,
            "orientation": "horizontal",
            "style": "IPY_MODEL_e7554d62c8844f8ba23ec73c7c9808ee",
            "value": 53
          }
        },
        "c055cf9a677a4b128cc21ef50c612b6b": {
          "model_module": "@jupyter-widgets/controls",
          "model_name": "HTMLModel",
          "model_module_version": "1.5.0",
          "state": {
            "_dom_classes": [],
            "_model_module": "@jupyter-widgets/controls",
            "_model_module_version": "1.5.0",
            "_model_name": "HTMLModel",
            "_view_count": null,
            "_view_module": "@jupyter-widgets/controls",
            "_view_module_version": "1.5.0",
            "_view_name": "HTMLView",
            "description": "",
            "description_tooltip": null,
            "layout": "IPY_MODEL_d7f76ca8572049189097e573ab8b3cdc",
            "placeholder": "​",
            "style": "IPY_MODEL_bc392806e36d4721869580f99cd38cb8",
            "value": " 53.0/53.0 [00:00&lt;00:00, 3.57kB/s]"
          }
        },
        "45723b1133f84afdb0335091f0a9c3ef": {
          "model_module": "@jupyter-widgets/base",
          "model_name": "LayoutModel",
          "model_module_version": "1.2.0",
          "state": {
            "_model_module": "@jupyter-widgets/base",
            "_model_module_version": "1.2.0",
            "_model_name": "LayoutModel",
            "_view_count": null,
            "_view_module": "@jupyter-widgets/base",
            "_view_module_version": "1.2.0",
            "_view_name": "LayoutView",
            "align_content": null,
            "align_items": null,
            "align_self": null,
            "border": null,
            "bottom": null,
            "display": null,
            "flex": null,
            "flex_flow": null,
            "grid_area": null,
            "grid_auto_columns": null,
            "grid_auto_flow": null,
            "grid_auto_rows": null,
            "grid_column": null,
            "grid_gap": null,
            "grid_row": null,
            "grid_template_areas": null,
            "grid_template_columns": null,
            "grid_template_rows": null,
            "height": null,
            "justify_content": null,
            "justify_items": null,
            "left": null,
            "margin": null,
            "max_height": null,
            "max_width": null,
            "min_height": null,
            "min_width": null,
            "object_fit": null,
            "object_position": null,
            "order": null,
            "overflow": null,
            "overflow_x": null,
            "overflow_y": null,
            "padding": null,
            "right": null,
            "top": null,
            "visibility": null,
            "width": null
          }
        },
        "9aaa1631de024b04a42171ca86c73564": {
          "model_module": "@jupyter-widgets/base",
          "model_name": "LayoutModel",
          "model_module_version": "1.2.0",
          "state": {
            "_model_module": "@jupyter-widgets/base",
            "_model_module_version": "1.2.0",
            "_model_name": "LayoutModel",
            "_view_count": null,
            "_view_module": "@jupyter-widgets/base",
            "_view_module_version": "1.2.0",
            "_view_name": "LayoutView",
            "align_content": null,
            "align_items": null,
            "align_self": null,
            "border": null,
            "bottom": null,
            "display": null,
            "flex": null,
            "flex_flow": null,
            "grid_area": null,
            "grid_auto_columns": null,
            "grid_auto_flow": null,
            "grid_auto_rows": null,
            "grid_column": null,
            "grid_gap": null,
            "grid_row": null,
            "grid_template_areas": null,
            "grid_template_columns": null,
            "grid_template_rows": null,
            "height": null,
            "justify_content": null,
            "justify_items": null,
            "left": null,
            "margin": null,
            "max_height": null,
            "max_width": null,
            "min_height": null,
            "min_width": null,
            "object_fit": null,
            "object_position": null,
            "order": null,
            "overflow": null,
            "overflow_x": null,
            "overflow_y": null,
            "padding": null,
            "right": null,
            "top": null,
            "visibility": null,
            "width": null
          }
        },
        "71380a0eee794301b59d7b5defb108e3": {
          "model_module": "@jupyter-widgets/controls",
          "model_name": "DescriptionStyleModel",
          "model_module_version": "1.5.0",
          "state": {
            "_model_module": "@jupyter-widgets/controls",
            "_model_module_version": "1.5.0",
            "_model_name": "DescriptionStyleModel",
            "_view_count": null,
            "_view_module": "@jupyter-widgets/base",
            "_view_module_version": "1.2.0",
            "_view_name": "StyleView",
            "description_width": ""
          }
        },
        "31cef6f123a948a8be98067b08e7e23a": {
          "model_module": "@jupyter-widgets/base",
          "model_name": "LayoutModel",
          "model_module_version": "1.2.0",
          "state": {
            "_model_module": "@jupyter-widgets/base",
            "_model_module_version": "1.2.0",
            "_model_name": "LayoutModel",
            "_view_count": null,
            "_view_module": "@jupyter-widgets/base",
            "_view_module_version": "1.2.0",
            "_view_name": "LayoutView",
            "align_content": null,
            "align_items": null,
            "align_self": null,
            "border": null,
            "bottom": null,
            "display": null,
            "flex": null,
            "flex_flow": null,
            "grid_area": null,
            "grid_auto_columns": null,
            "grid_auto_flow": null,
            "grid_auto_rows": null,
            "grid_column": null,
            "grid_gap": null,
            "grid_row": null,
            "grid_template_areas": null,
            "grid_template_columns": null,
            "grid_template_rows": null,
            "height": null,
            "justify_content": null,
            "justify_items": null,
            "left": null,
            "margin": null,
            "max_height": null,
            "max_width": null,
            "min_height": null,
            "min_width": null,
            "object_fit": null,
            "object_position": null,
            "order": null,
            "overflow": null,
            "overflow_x": null,
            "overflow_y": null,
            "padding": null,
            "right": null,
            "top": null,
            "visibility": null,
            "width": null
          }
        },
        "e7554d62c8844f8ba23ec73c7c9808ee": {
          "model_module": "@jupyter-widgets/controls",
          "model_name": "ProgressStyleModel",
          "model_module_version": "1.5.0",
          "state": {
            "_model_module": "@jupyter-widgets/controls",
            "_model_module_version": "1.5.0",
            "_model_name": "ProgressStyleModel",
            "_view_count": null,
            "_view_module": "@jupyter-widgets/base",
            "_view_module_version": "1.2.0",
            "_view_name": "StyleView",
            "bar_color": null,
            "description_width": ""
          }
        },
        "d7f76ca8572049189097e573ab8b3cdc": {
          "model_module": "@jupyter-widgets/base",
          "model_name": "LayoutModel",
          "model_module_version": "1.2.0",
          "state": {
            "_model_module": "@jupyter-widgets/base",
            "_model_module_version": "1.2.0",
            "_model_name": "LayoutModel",
            "_view_count": null,
            "_view_module": "@jupyter-widgets/base",
            "_view_module_version": "1.2.0",
            "_view_name": "LayoutView",
            "align_content": null,
            "align_items": null,
            "align_self": null,
            "border": null,
            "bottom": null,
            "display": null,
            "flex": null,
            "flex_flow": null,
            "grid_area": null,
            "grid_auto_columns": null,
            "grid_auto_flow": null,
            "grid_auto_rows": null,
            "grid_column": null,
            "grid_gap": null,
            "grid_row": null,
            "grid_template_areas": null,
            "grid_template_columns": null,
            "grid_template_rows": null,
            "height": null,
            "justify_content": null,
            "justify_items": null,
            "left": null,
            "margin": null,
            "max_height": null,
            "max_width": null,
            "min_height": null,
            "min_width": null,
            "object_fit": null,
            "object_position": null,
            "order": null,
            "overflow": null,
            "overflow_x": null,
            "overflow_y": null,
            "padding": null,
            "right": null,
            "top": null,
            "visibility": null,
            "width": null
          }
        },
        "bc392806e36d4721869580f99cd38cb8": {
          "model_module": "@jupyter-widgets/controls",
          "model_name": "DescriptionStyleModel",
          "model_module_version": "1.5.0",
          "state": {
            "_model_module": "@jupyter-widgets/controls",
            "_model_module_version": "1.5.0",
            "_model_name": "DescriptionStyleModel",
            "_view_count": null,
            "_view_module": "@jupyter-widgets/base",
            "_view_module_version": "1.2.0",
            "_view_name": "StyleView",
            "description_width": ""
          }
        },
        "b4bd20cf75404c1ca7f2cafd8cc2d766": {
          "model_module": "@jupyter-widgets/controls",
          "model_name": "HBoxModel",
          "model_module_version": "1.5.0",
          "state": {
            "_dom_classes": [],
            "_model_module": "@jupyter-widgets/controls",
            "_model_module_version": "1.5.0",
            "_model_name": "HBoxModel",
            "_view_count": null,
            "_view_module": "@jupyter-widgets/controls",
            "_view_module_version": "1.5.0",
            "_view_name": "HBoxView",
            "box_style": "",
            "children": [
              "IPY_MODEL_f810e0d4ee3b46d38f058b2f1b0110da",
              "IPY_MODEL_f3e0bddac3bf41cfa88d9d4f7a531ccf",
              "IPY_MODEL_4824526be1c24b9f834ef68735376612"
            ],
            "layout": "IPY_MODEL_def92fa22f42433f8961e585af3ff9cb"
          }
        },
        "f810e0d4ee3b46d38f058b2f1b0110da": {
          "model_module": "@jupyter-widgets/controls",
          "model_name": "HTMLModel",
          "model_module_version": "1.5.0",
          "state": {
            "_dom_classes": [],
            "_model_module": "@jupyter-widgets/controls",
            "_model_module_version": "1.5.0",
            "_model_name": "HTMLModel",
            "_view_count": null,
            "_view_module": "@jupyter-widgets/controls",
            "_view_module_version": "1.5.0",
            "_view_name": "HTMLView",
            "description": "",
            "description_tooltip": null,
            "layout": "IPY_MODEL_fce99bc8bde646b8ad8c02164168888a",
            "placeholder": "​",
            "style": "IPY_MODEL_589736d587674fc08cd8ddc81426bcdc",
            "value": "Downloading: 100%"
          }
        },
        "f3e0bddac3bf41cfa88d9d4f7a531ccf": {
          "model_module": "@jupyter-widgets/controls",
          "model_name": "FloatProgressModel",
          "model_module_version": "1.5.0",
          "state": {
            "_dom_classes": [],
            "_model_module": "@jupyter-widgets/controls",
            "_model_module_version": "1.5.0",
            "_model_name": "FloatProgressModel",
            "_view_count": null,
            "_view_module": "@jupyter-widgets/controls",
            "_view_module_version": "1.5.0",
            "_view_name": "ProgressView",
            "bar_style": "success",
            "description": "",
            "description_tooltip": null,
            "layout": "IPY_MODEL_ea21d97ae4c0441ea5b98f3eb0c41a70",
            "max": 239,
            "min": 0,
            "orientation": "horizontal",
            "style": "IPY_MODEL_bc2b9656d86a41139cc9f9923bbf6010",
            "value": 239
          }
        },
        "4824526be1c24b9f834ef68735376612": {
          "model_module": "@jupyter-widgets/controls",
          "model_name": "HTMLModel",
          "model_module_version": "1.5.0",
          "state": {
            "_dom_classes": [],
            "_model_module": "@jupyter-widgets/controls",
            "_model_module_version": "1.5.0",
            "_model_name": "HTMLModel",
            "_view_count": null,
            "_view_module": "@jupyter-widgets/controls",
            "_view_module_version": "1.5.0",
            "_view_name": "HTMLView",
            "description": "",
            "description_tooltip": null,
            "layout": "IPY_MODEL_49d3eb150d6c412cb2444017dcfcf2ec",
            "placeholder": "​",
            "style": "IPY_MODEL_ce0f9660b2874c859dd3ba9e55bebe59",
            "value": " 239/239 [00:00&lt;00:00, 12.2kB/s]"
          }
        },
        "def92fa22f42433f8961e585af3ff9cb": {
          "model_module": "@jupyter-widgets/base",
          "model_name": "LayoutModel",
          "model_module_version": "1.2.0",
          "state": {
            "_model_module": "@jupyter-widgets/base",
            "_model_module_version": "1.2.0",
            "_model_name": "LayoutModel",
            "_view_count": null,
            "_view_module": "@jupyter-widgets/base",
            "_view_module_version": "1.2.0",
            "_view_name": "LayoutView",
            "align_content": null,
            "align_items": null,
            "align_self": null,
            "border": null,
            "bottom": null,
            "display": null,
            "flex": null,
            "flex_flow": null,
            "grid_area": null,
            "grid_auto_columns": null,
            "grid_auto_flow": null,
            "grid_auto_rows": null,
            "grid_column": null,
            "grid_gap": null,
            "grid_row": null,
            "grid_template_areas": null,
            "grid_template_columns": null,
            "grid_template_rows": null,
            "height": null,
            "justify_content": null,
            "justify_items": null,
            "left": null,
            "margin": null,
            "max_height": null,
            "max_width": null,
            "min_height": null,
            "min_width": null,
            "object_fit": null,
            "object_position": null,
            "order": null,
            "overflow": null,
            "overflow_x": null,
            "overflow_y": null,
            "padding": null,
            "right": null,
            "top": null,
            "visibility": null,
            "width": null
          }
        },
        "fce99bc8bde646b8ad8c02164168888a": {
          "model_module": "@jupyter-widgets/base",
          "model_name": "LayoutModel",
          "model_module_version": "1.2.0",
          "state": {
            "_model_module": "@jupyter-widgets/base",
            "_model_module_version": "1.2.0",
            "_model_name": "LayoutModel",
            "_view_count": null,
            "_view_module": "@jupyter-widgets/base",
            "_view_module_version": "1.2.0",
            "_view_name": "LayoutView",
            "align_content": null,
            "align_items": null,
            "align_self": null,
            "border": null,
            "bottom": null,
            "display": null,
            "flex": null,
            "flex_flow": null,
            "grid_area": null,
            "grid_auto_columns": null,
            "grid_auto_flow": null,
            "grid_auto_rows": null,
            "grid_column": null,
            "grid_gap": null,
            "grid_row": null,
            "grid_template_areas": null,
            "grid_template_columns": null,
            "grid_template_rows": null,
            "height": null,
            "justify_content": null,
            "justify_items": null,
            "left": null,
            "margin": null,
            "max_height": null,
            "max_width": null,
            "min_height": null,
            "min_width": null,
            "object_fit": null,
            "object_position": null,
            "order": null,
            "overflow": null,
            "overflow_x": null,
            "overflow_y": null,
            "padding": null,
            "right": null,
            "top": null,
            "visibility": null,
            "width": null
          }
        },
        "589736d587674fc08cd8ddc81426bcdc": {
          "model_module": "@jupyter-widgets/controls",
          "model_name": "DescriptionStyleModel",
          "model_module_version": "1.5.0",
          "state": {
            "_model_module": "@jupyter-widgets/controls",
            "_model_module_version": "1.5.0",
            "_model_name": "DescriptionStyleModel",
            "_view_count": null,
            "_view_module": "@jupyter-widgets/base",
            "_view_module_version": "1.2.0",
            "_view_name": "StyleView",
            "description_width": ""
          }
        },
        "ea21d97ae4c0441ea5b98f3eb0c41a70": {
          "model_module": "@jupyter-widgets/base",
          "model_name": "LayoutModel",
          "model_module_version": "1.2.0",
          "state": {
            "_model_module": "@jupyter-widgets/base",
            "_model_module_version": "1.2.0",
            "_model_name": "LayoutModel",
            "_view_count": null,
            "_view_module": "@jupyter-widgets/base",
            "_view_module_version": "1.2.0",
            "_view_name": "LayoutView",
            "align_content": null,
            "align_items": null,
            "align_self": null,
            "border": null,
            "bottom": null,
            "display": null,
            "flex": null,
            "flex_flow": null,
            "grid_area": null,
            "grid_auto_columns": null,
            "grid_auto_flow": null,
            "grid_auto_rows": null,
            "grid_column": null,
            "grid_gap": null,
            "grid_row": null,
            "grid_template_areas": null,
            "grid_template_columns": null,
            "grid_template_rows": null,
            "height": null,
            "justify_content": null,
            "justify_items": null,
            "left": null,
            "margin": null,
            "max_height": null,
            "max_width": null,
            "min_height": null,
            "min_width": null,
            "object_fit": null,
            "object_position": null,
            "order": null,
            "overflow": null,
            "overflow_x": null,
            "overflow_y": null,
            "padding": null,
            "right": null,
            "top": null,
            "visibility": null,
            "width": null
          }
        },
        "bc2b9656d86a41139cc9f9923bbf6010": {
          "model_module": "@jupyter-widgets/controls",
          "model_name": "ProgressStyleModel",
          "model_module_version": "1.5.0",
          "state": {
            "_model_module": "@jupyter-widgets/controls",
            "_model_module_version": "1.5.0",
            "_model_name": "ProgressStyleModel",
            "_view_count": null,
            "_view_module": "@jupyter-widgets/base",
            "_view_module_version": "1.2.0",
            "_view_name": "StyleView",
            "bar_color": null,
            "description_width": ""
          }
        },
        "49d3eb150d6c412cb2444017dcfcf2ec": {
          "model_module": "@jupyter-widgets/base",
          "model_name": "LayoutModel",
          "model_module_version": "1.2.0",
          "state": {
            "_model_module": "@jupyter-widgets/base",
            "_model_module_version": "1.2.0",
            "_model_name": "LayoutModel",
            "_view_count": null,
            "_view_module": "@jupyter-widgets/base",
            "_view_module_version": "1.2.0",
            "_view_name": "LayoutView",
            "align_content": null,
            "align_items": null,
            "align_self": null,
            "border": null,
            "bottom": null,
            "display": null,
            "flex": null,
            "flex_flow": null,
            "grid_area": null,
            "grid_auto_columns": null,
            "grid_auto_flow": null,
            "grid_auto_rows": null,
            "grid_column": null,
            "grid_gap": null,
            "grid_row": null,
            "grid_template_areas": null,
            "grid_template_columns": null,
            "grid_template_rows": null,
            "height": null,
            "justify_content": null,
            "justify_items": null,
            "left": null,
            "margin": null,
            "max_height": null,
            "max_width": null,
            "min_height": null,
            "min_width": null,
            "object_fit": null,
            "object_position": null,
            "order": null,
            "overflow": null,
            "overflow_x": null,
            "overflow_y": null,
            "padding": null,
            "right": null,
            "top": null,
            "visibility": null,
            "width": null
          }
        },
        "ce0f9660b2874c859dd3ba9e55bebe59": {
          "model_module": "@jupyter-widgets/controls",
          "model_name": "DescriptionStyleModel",
          "model_module_version": "1.5.0",
          "state": {
            "_model_module": "@jupyter-widgets/controls",
            "_model_module_version": "1.5.0",
            "_model_name": "DescriptionStyleModel",
            "_view_count": null,
            "_view_module": "@jupyter-widgets/base",
            "_view_module_version": "1.2.0",
            "_view_name": "StyleView",
            "description_width": ""
          }
        },
        "352f9b740ec94e3e8cd39280ff8aa3f0": {
          "model_module": "@jupyter-widgets/controls",
          "model_name": "HBoxModel",
          "model_module_version": "1.5.0",
          "state": {
            "_dom_classes": [],
            "_model_module": "@jupyter-widgets/controls",
            "_model_module_version": "1.5.0",
            "_model_name": "HBoxModel",
            "_view_count": null,
            "_view_module": "@jupyter-widgets/controls",
            "_view_module_version": "1.5.0",
            "_view_name": "HBoxView",
            "box_style": "",
            "children": [
              "IPY_MODEL_7eedd373c3404bcaa9a30fefd7c152f3",
              "IPY_MODEL_3688132375254b02907735adafa4403f",
              "IPY_MODEL_1b665567248a4cf0ac40a2df4c409d4d"
            ],
            "layout": "IPY_MODEL_d59fb7a84c56462c8ed4a62fab45d43b"
          }
        },
        "7eedd373c3404bcaa9a30fefd7c152f3": {
          "model_module": "@jupyter-widgets/controls",
          "model_name": "HTMLModel",
          "model_module_version": "1.5.0",
          "state": {
            "_dom_classes": [],
            "_model_module": "@jupyter-widgets/controls",
            "_model_module_version": "1.5.0",
            "_model_name": "HTMLModel",
            "_view_count": null,
            "_view_module": "@jupyter-widgets/controls",
            "_view_module_version": "1.5.0",
            "_view_name": "HTMLView",
            "description": "",
            "description_tooltip": null,
            "layout": "IPY_MODEL_2712c4b8e6dc412dbcb077618aaf8b47",
            "placeholder": "​",
            "style": "IPY_MODEL_a4471a5948834aa3bc27184d2de14c21",
            "value": "Downloading: 100%"
          }
        },
        "3688132375254b02907735adafa4403f": {
          "model_module": "@jupyter-widgets/controls",
          "model_name": "FloatProgressModel",
          "model_module_version": "1.5.0",
          "state": {
            "_dom_classes": [],
            "_model_module": "@jupyter-widgets/controls",
            "_model_module_version": "1.5.0",
            "_model_name": "FloatProgressModel",
            "_view_count": null,
            "_view_module": "@jupyter-widgets/controls",
            "_view_module_version": "1.5.0",
            "_view_name": "ProgressView",
            "bar_style": "success",
            "description": "",
            "description_tooltip": null,
            "layout": "IPY_MODEL_5c349abac28f4d0caafbe5b274ac08ae",
            "max": 466021,
            "min": 0,
            "orientation": "horizontal",
            "style": "IPY_MODEL_44282a296b504095ba74f44c3b20970d",
            "value": 466021
          }
        },
        "1b665567248a4cf0ac40a2df4c409d4d": {
          "model_module": "@jupyter-widgets/controls",
          "model_name": "HTMLModel",
          "model_module_version": "1.5.0",
          "state": {
            "_dom_classes": [],
            "_model_module": "@jupyter-widgets/controls",
            "_model_module_version": "1.5.0",
            "_model_name": "HTMLModel",
            "_view_count": null,
            "_view_module": "@jupyter-widgets/controls",
            "_view_module_version": "1.5.0",
            "_view_name": "HTMLView",
            "description": "",
            "description_tooltip": null,
            "layout": "IPY_MODEL_acbebf48ec6247eb94b6072f0bed8656",
            "placeholder": "​",
            "style": "IPY_MODEL_7ce5ed93f008410fb165f28573a94f09",
            "value": " 466k/466k [00:01&lt;00:00, 486kB/s]"
          }
        },
        "d59fb7a84c56462c8ed4a62fab45d43b": {
          "model_module": "@jupyter-widgets/base",
          "model_name": "LayoutModel",
          "model_module_version": "1.2.0",
          "state": {
            "_model_module": "@jupyter-widgets/base",
            "_model_module_version": "1.2.0",
            "_model_name": "LayoutModel",
            "_view_count": null,
            "_view_module": "@jupyter-widgets/base",
            "_view_module_version": "1.2.0",
            "_view_name": "LayoutView",
            "align_content": null,
            "align_items": null,
            "align_self": null,
            "border": null,
            "bottom": null,
            "display": null,
            "flex": null,
            "flex_flow": null,
            "grid_area": null,
            "grid_auto_columns": null,
            "grid_auto_flow": null,
            "grid_auto_rows": null,
            "grid_column": null,
            "grid_gap": null,
            "grid_row": null,
            "grid_template_areas": null,
            "grid_template_columns": null,
            "grid_template_rows": null,
            "height": null,
            "justify_content": null,
            "justify_items": null,
            "left": null,
            "margin": null,
            "max_height": null,
            "max_width": null,
            "min_height": null,
            "min_width": null,
            "object_fit": null,
            "object_position": null,
            "order": null,
            "overflow": null,
            "overflow_x": null,
            "overflow_y": null,
            "padding": null,
            "right": null,
            "top": null,
            "visibility": null,
            "width": null
          }
        },
        "2712c4b8e6dc412dbcb077618aaf8b47": {
          "model_module": "@jupyter-widgets/base",
          "model_name": "LayoutModel",
          "model_module_version": "1.2.0",
          "state": {
            "_model_module": "@jupyter-widgets/base",
            "_model_module_version": "1.2.0",
            "_model_name": "LayoutModel",
            "_view_count": null,
            "_view_module": "@jupyter-widgets/base",
            "_view_module_version": "1.2.0",
            "_view_name": "LayoutView",
            "align_content": null,
            "align_items": null,
            "align_self": null,
            "border": null,
            "bottom": null,
            "display": null,
            "flex": null,
            "flex_flow": null,
            "grid_area": null,
            "grid_auto_columns": null,
            "grid_auto_flow": null,
            "grid_auto_rows": null,
            "grid_column": null,
            "grid_gap": null,
            "grid_row": null,
            "grid_template_areas": null,
            "grid_template_columns": null,
            "grid_template_rows": null,
            "height": null,
            "justify_content": null,
            "justify_items": null,
            "left": null,
            "margin": null,
            "max_height": null,
            "max_width": null,
            "min_height": null,
            "min_width": null,
            "object_fit": null,
            "object_position": null,
            "order": null,
            "overflow": null,
            "overflow_x": null,
            "overflow_y": null,
            "padding": null,
            "right": null,
            "top": null,
            "visibility": null,
            "width": null
          }
        },
        "a4471a5948834aa3bc27184d2de14c21": {
          "model_module": "@jupyter-widgets/controls",
          "model_name": "DescriptionStyleModel",
          "model_module_version": "1.5.0",
          "state": {
            "_model_module": "@jupyter-widgets/controls",
            "_model_module_version": "1.5.0",
            "_model_name": "DescriptionStyleModel",
            "_view_count": null,
            "_view_module": "@jupyter-widgets/base",
            "_view_module_version": "1.2.0",
            "_view_name": "StyleView",
            "description_width": ""
          }
        },
        "5c349abac28f4d0caafbe5b274ac08ae": {
          "model_module": "@jupyter-widgets/base",
          "model_name": "LayoutModel",
          "model_module_version": "1.2.0",
          "state": {
            "_model_module": "@jupyter-widgets/base",
            "_model_module_version": "1.2.0",
            "_model_name": "LayoutModel",
            "_view_count": null,
            "_view_module": "@jupyter-widgets/base",
            "_view_module_version": "1.2.0",
            "_view_name": "LayoutView",
            "align_content": null,
            "align_items": null,
            "align_self": null,
            "border": null,
            "bottom": null,
            "display": null,
            "flex": null,
            "flex_flow": null,
            "grid_area": null,
            "grid_auto_columns": null,
            "grid_auto_flow": null,
            "grid_auto_rows": null,
            "grid_column": null,
            "grid_gap": null,
            "grid_row": null,
            "grid_template_areas": null,
            "grid_template_columns": null,
            "grid_template_rows": null,
            "height": null,
            "justify_content": null,
            "justify_items": null,
            "left": null,
            "margin": null,
            "max_height": null,
            "max_width": null,
            "min_height": null,
            "min_width": null,
            "object_fit": null,
            "object_position": null,
            "order": null,
            "overflow": null,
            "overflow_x": null,
            "overflow_y": null,
            "padding": null,
            "right": null,
            "top": null,
            "visibility": null,
            "width": null
          }
        },
        "44282a296b504095ba74f44c3b20970d": {
          "model_module": "@jupyter-widgets/controls",
          "model_name": "ProgressStyleModel",
          "model_module_version": "1.5.0",
          "state": {
            "_model_module": "@jupyter-widgets/controls",
            "_model_module_version": "1.5.0",
            "_model_name": "ProgressStyleModel",
            "_view_count": null,
            "_view_module": "@jupyter-widgets/base",
            "_view_module_version": "1.2.0",
            "_view_name": "StyleView",
            "bar_color": null,
            "description_width": ""
          }
        },
        "acbebf48ec6247eb94b6072f0bed8656": {
          "model_module": "@jupyter-widgets/base",
          "model_name": "LayoutModel",
          "model_module_version": "1.2.0",
          "state": {
            "_model_module": "@jupyter-widgets/base",
            "_model_module_version": "1.2.0",
            "_model_name": "LayoutModel",
            "_view_count": null,
            "_view_module": "@jupyter-widgets/base",
            "_view_module_version": "1.2.0",
            "_view_name": "LayoutView",
            "align_content": null,
            "align_items": null,
            "align_self": null,
            "border": null,
            "bottom": null,
            "display": null,
            "flex": null,
            "flex_flow": null,
            "grid_area": null,
            "grid_auto_columns": null,
            "grid_auto_flow": null,
            "grid_auto_rows": null,
            "grid_column": null,
            "grid_gap": null,
            "grid_row": null,
            "grid_template_areas": null,
            "grid_template_columns": null,
            "grid_template_rows": null,
            "height": null,
            "justify_content": null,
            "justify_items": null,
            "left": null,
            "margin": null,
            "max_height": null,
            "max_width": null,
            "min_height": null,
            "min_width": null,
            "object_fit": null,
            "object_position": null,
            "order": null,
            "overflow": null,
            "overflow_x": null,
            "overflow_y": null,
            "padding": null,
            "right": null,
            "top": null,
            "visibility": null,
            "width": null
          }
        },
        "7ce5ed93f008410fb165f28573a94f09": {
          "model_module": "@jupyter-widgets/controls",
          "model_name": "DescriptionStyleModel",
          "model_module_version": "1.5.0",
          "state": {
            "_model_module": "@jupyter-widgets/controls",
            "_model_module_version": "1.5.0",
            "_model_name": "DescriptionStyleModel",
            "_view_count": null,
            "_view_module": "@jupyter-widgets/base",
            "_view_module_version": "1.2.0",
            "_view_name": "StyleView",
            "description_width": ""
          }
        },
        "c622afa73018415393e246f8ba1c4117": {
          "model_module": "@jupyter-widgets/controls",
          "model_name": "HBoxModel",
          "model_module_version": "1.5.0",
          "state": {
            "_dom_classes": [],
            "_model_module": "@jupyter-widgets/controls",
            "_model_module_version": "1.5.0",
            "_model_name": "HBoxModel",
            "_view_count": null,
            "_view_module": "@jupyter-widgets/controls",
            "_view_module_version": "1.5.0",
            "_view_name": "HBoxView",
            "box_style": "",
            "children": [
              "IPY_MODEL_5c7efe3847ad42c4bb35d03848be604b",
              "IPY_MODEL_e994d0b65f4643aaa17d39b460467e3f",
              "IPY_MODEL_1f1ec92b9902410ba152b1b0b010b265"
            ],
            "layout": "IPY_MODEL_bf6d0bf59e53441cbb6fab2384c6d3dd"
          }
        },
        "5c7efe3847ad42c4bb35d03848be604b": {
          "model_module": "@jupyter-widgets/controls",
          "model_name": "HTMLModel",
          "model_module_version": "1.5.0",
          "state": {
            "_dom_classes": [],
            "_model_module": "@jupyter-widgets/controls",
            "_model_module_version": "1.5.0",
            "_model_name": "HTMLModel",
            "_view_count": null,
            "_view_module": "@jupyter-widgets/controls",
            "_view_module_version": "1.5.0",
            "_view_name": "HTMLView",
            "description": "",
            "description_tooltip": null,
            "layout": "IPY_MODEL_79bb19d089f34ec89e4e49db7040a83f",
            "placeholder": "​",
            "style": "IPY_MODEL_0073792cbd2a4664aa216240acdd2f3a",
            "value": "Downloading: 100%"
          }
        },
        "e994d0b65f4643aaa17d39b460467e3f": {
          "model_module": "@jupyter-widgets/controls",
          "model_name": "FloatProgressModel",
          "model_module_version": "1.5.0",
          "state": {
            "_dom_classes": [],
            "_model_module": "@jupyter-widgets/controls",
            "_model_module_version": "1.5.0",
            "_model_name": "FloatProgressModel",
            "_view_count": null,
            "_view_module": "@jupyter-widgets/controls",
            "_view_module_version": "1.5.0",
            "_view_name": "ProgressView",
            "bar_style": "success",
            "description": "",
            "description_tooltip": null,
            "layout": "IPY_MODEL_62d148020b1d4d88bdf05c9a4f55784e",
            "max": 363,
            "min": 0,
            "orientation": "horizontal",
            "style": "IPY_MODEL_d200dd56f3d84c17a6c44c6439fa7de9",
            "value": 363
          }
        },
        "1f1ec92b9902410ba152b1b0b010b265": {
          "model_module": "@jupyter-widgets/controls",
          "model_name": "HTMLModel",
          "model_module_version": "1.5.0",
          "state": {
            "_dom_classes": [],
            "_model_module": "@jupyter-widgets/controls",
            "_model_module_version": "1.5.0",
            "_model_name": "HTMLModel",
            "_view_count": null,
            "_view_module": "@jupyter-widgets/controls",
            "_view_module_version": "1.5.0",
            "_view_name": "HTMLView",
            "description": "",
            "description_tooltip": null,
            "layout": "IPY_MODEL_5eeb1490cc394554b0c1323b4ccc7dfe",
            "placeholder": "​",
            "style": "IPY_MODEL_ef25556e044f4d408f601a7e7a7563b6",
            "value": " 363/363 [00:00&lt;00:00, 15.8kB/s]"
          }
        },
        "bf6d0bf59e53441cbb6fab2384c6d3dd": {
          "model_module": "@jupyter-widgets/base",
          "model_name": "LayoutModel",
          "model_module_version": "1.2.0",
          "state": {
            "_model_module": "@jupyter-widgets/base",
            "_model_module_version": "1.2.0",
            "_model_name": "LayoutModel",
            "_view_count": null,
            "_view_module": "@jupyter-widgets/base",
            "_view_module_version": "1.2.0",
            "_view_name": "LayoutView",
            "align_content": null,
            "align_items": null,
            "align_self": null,
            "border": null,
            "bottom": null,
            "display": null,
            "flex": null,
            "flex_flow": null,
            "grid_area": null,
            "grid_auto_columns": null,
            "grid_auto_flow": null,
            "grid_auto_rows": null,
            "grid_column": null,
            "grid_gap": null,
            "grid_row": null,
            "grid_template_areas": null,
            "grid_template_columns": null,
            "grid_template_rows": null,
            "height": null,
            "justify_content": null,
            "justify_items": null,
            "left": null,
            "margin": null,
            "max_height": null,
            "max_width": null,
            "min_height": null,
            "min_width": null,
            "object_fit": null,
            "object_position": null,
            "order": null,
            "overflow": null,
            "overflow_x": null,
            "overflow_y": null,
            "padding": null,
            "right": null,
            "top": null,
            "visibility": null,
            "width": null
          }
        },
        "79bb19d089f34ec89e4e49db7040a83f": {
          "model_module": "@jupyter-widgets/base",
          "model_name": "LayoutModel",
          "model_module_version": "1.2.0",
          "state": {
            "_model_module": "@jupyter-widgets/base",
            "_model_module_version": "1.2.0",
            "_model_name": "LayoutModel",
            "_view_count": null,
            "_view_module": "@jupyter-widgets/base",
            "_view_module_version": "1.2.0",
            "_view_name": "LayoutView",
            "align_content": null,
            "align_items": null,
            "align_self": null,
            "border": null,
            "bottom": null,
            "display": null,
            "flex": null,
            "flex_flow": null,
            "grid_area": null,
            "grid_auto_columns": null,
            "grid_auto_flow": null,
            "grid_auto_rows": null,
            "grid_column": null,
            "grid_gap": null,
            "grid_row": null,
            "grid_template_areas": null,
            "grid_template_columns": null,
            "grid_template_rows": null,
            "height": null,
            "justify_content": null,
            "justify_items": null,
            "left": null,
            "margin": null,
            "max_height": null,
            "max_width": null,
            "min_height": null,
            "min_width": null,
            "object_fit": null,
            "object_position": null,
            "order": null,
            "overflow": null,
            "overflow_x": null,
            "overflow_y": null,
            "padding": null,
            "right": null,
            "top": null,
            "visibility": null,
            "width": null
          }
        },
        "0073792cbd2a4664aa216240acdd2f3a": {
          "model_module": "@jupyter-widgets/controls",
          "model_name": "DescriptionStyleModel",
          "model_module_version": "1.5.0",
          "state": {
            "_model_module": "@jupyter-widgets/controls",
            "_model_module_version": "1.5.0",
            "_model_name": "DescriptionStyleModel",
            "_view_count": null,
            "_view_module": "@jupyter-widgets/base",
            "_view_module_version": "1.2.0",
            "_view_name": "StyleView",
            "description_width": ""
          }
        },
        "62d148020b1d4d88bdf05c9a4f55784e": {
          "model_module": "@jupyter-widgets/base",
          "model_name": "LayoutModel",
          "model_module_version": "1.2.0",
          "state": {
            "_model_module": "@jupyter-widgets/base",
            "_model_module_version": "1.2.0",
            "_model_name": "LayoutModel",
            "_view_count": null,
            "_view_module": "@jupyter-widgets/base",
            "_view_module_version": "1.2.0",
            "_view_name": "LayoutView",
            "align_content": null,
            "align_items": null,
            "align_self": null,
            "border": null,
            "bottom": null,
            "display": null,
            "flex": null,
            "flex_flow": null,
            "grid_area": null,
            "grid_auto_columns": null,
            "grid_auto_flow": null,
            "grid_auto_rows": null,
            "grid_column": null,
            "grid_gap": null,
            "grid_row": null,
            "grid_template_areas": null,
            "grid_template_columns": null,
            "grid_template_rows": null,
            "height": null,
            "justify_content": null,
            "justify_items": null,
            "left": null,
            "margin": null,
            "max_height": null,
            "max_width": null,
            "min_height": null,
            "min_width": null,
            "object_fit": null,
            "object_position": null,
            "order": null,
            "overflow": null,
            "overflow_x": null,
            "overflow_y": null,
            "padding": null,
            "right": null,
            "top": null,
            "visibility": null,
            "width": null
          }
        },
        "d200dd56f3d84c17a6c44c6439fa7de9": {
          "model_module": "@jupyter-widgets/controls",
          "model_name": "ProgressStyleModel",
          "model_module_version": "1.5.0",
          "state": {
            "_model_module": "@jupyter-widgets/controls",
            "_model_module_version": "1.5.0",
            "_model_name": "ProgressStyleModel",
            "_view_count": null,
            "_view_module": "@jupyter-widgets/base",
            "_view_module_version": "1.2.0",
            "_view_name": "StyleView",
            "bar_color": null,
            "description_width": ""
          }
        },
        "5eeb1490cc394554b0c1323b4ccc7dfe": {
          "model_module": "@jupyter-widgets/base",
          "model_name": "LayoutModel",
          "model_module_version": "1.2.0",
          "state": {
            "_model_module": "@jupyter-widgets/base",
            "_model_module_version": "1.2.0",
            "_model_name": "LayoutModel",
            "_view_count": null,
            "_view_module": "@jupyter-widgets/base",
            "_view_module_version": "1.2.0",
            "_view_name": "LayoutView",
            "align_content": null,
            "align_items": null,
            "align_self": null,
            "border": null,
            "bottom": null,
            "display": null,
            "flex": null,
            "flex_flow": null,
            "grid_area": null,
            "grid_auto_columns": null,
            "grid_auto_flow": null,
            "grid_auto_rows": null,
            "grid_column": null,
            "grid_gap": null,
            "grid_row": null,
            "grid_template_areas": null,
            "grid_template_columns": null,
            "grid_template_rows": null,
            "height": null,
            "justify_content": null,
            "justify_items": null,
            "left": null,
            "margin": null,
            "max_height": null,
            "max_width": null,
            "min_height": null,
            "min_width": null,
            "object_fit": null,
            "object_position": null,
            "order": null,
            "overflow": null,
            "overflow_x": null,
            "overflow_y": null,
            "padding": null,
            "right": null,
            "top": null,
            "visibility": null,
            "width": null
          }
        },
        "ef25556e044f4d408f601a7e7a7563b6": {
          "model_module": "@jupyter-widgets/controls",
          "model_name": "DescriptionStyleModel",
          "model_module_version": "1.5.0",
          "state": {
            "_model_module": "@jupyter-widgets/controls",
            "_model_module_version": "1.5.0",
            "_model_name": "DescriptionStyleModel",
            "_view_count": null,
            "_view_module": "@jupyter-widgets/base",
            "_view_module_version": "1.2.0",
            "_view_name": "StyleView",
            "description_width": ""
          }
        },
        "21c9159fc9b448a2bfbac20cf4e6abc8": {
          "model_module": "@jupyter-widgets/controls",
          "model_name": "HBoxModel",
          "model_module_version": "1.5.0",
          "state": {
            "_dom_classes": [],
            "_model_module": "@jupyter-widgets/controls",
            "_model_module_version": "1.5.0",
            "_model_name": "HBoxModel",
            "_view_count": null,
            "_view_module": "@jupyter-widgets/controls",
            "_view_module_version": "1.5.0",
            "_view_name": "HBoxView",
            "box_style": "",
            "children": [
              "IPY_MODEL_a407286512d847ed82f76772499d3405",
              "IPY_MODEL_ff2b97a6da9c49f8b136204c95cf9a9f",
              "IPY_MODEL_cc68919474bb41b0971f640fd16191fb"
            ],
            "layout": "IPY_MODEL_91905896de1c41dda53902c6e31e2ccb"
          }
        },
        "a407286512d847ed82f76772499d3405": {
          "model_module": "@jupyter-widgets/controls",
          "model_name": "HTMLModel",
          "model_module_version": "1.5.0",
          "state": {
            "_dom_classes": [],
            "_model_module": "@jupyter-widgets/controls",
            "_model_module_version": "1.5.0",
            "_model_name": "HTMLModel",
            "_view_count": null,
            "_view_module": "@jupyter-widgets/controls",
            "_view_module_version": "1.5.0",
            "_view_name": "HTMLView",
            "description": "",
            "description_tooltip": null,
            "layout": "IPY_MODEL_bbd4a5f379bf4ccf88da18eaed3cb2c4",
            "placeholder": "​",
            "style": "IPY_MODEL_597be355340841d9b4237799e29a7410",
            "value": "Downloading: 100%"
          }
        },
        "ff2b97a6da9c49f8b136204c95cf9a9f": {
          "model_module": "@jupyter-widgets/controls",
          "model_name": "FloatProgressModel",
          "model_module_version": "1.5.0",
          "state": {
            "_dom_classes": [],
            "_model_module": "@jupyter-widgets/controls",
            "_model_module_version": "1.5.0",
            "_model_name": "FloatProgressModel",
            "_view_count": null,
            "_view_module": "@jupyter-widgets/controls",
            "_view_module_version": "1.5.0",
            "_view_name": "ProgressView",
            "bar_style": "success",
            "description": "",
            "description_tooltip": null,
            "layout": "IPY_MODEL_ae877ca046f148d881414b7d70adb59a",
            "max": 13123,
            "min": 0,
            "orientation": "horizontal",
            "style": "IPY_MODEL_023c72b4e8814e7eb47b84f704d7795c",
            "value": 13123
          }
        },
        "cc68919474bb41b0971f640fd16191fb": {
          "model_module": "@jupyter-widgets/controls",
          "model_name": "HTMLModel",
          "model_module_version": "1.5.0",
          "state": {
            "_dom_classes": [],
            "_model_module": "@jupyter-widgets/controls",
            "_model_module_version": "1.5.0",
            "_model_name": "HTMLModel",
            "_view_count": null,
            "_view_module": "@jupyter-widgets/controls",
            "_view_module_version": "1.5.0",
            "_view_name": "HTMLView",
            "description": "",
            "description_tooltip": null,
            "layout": "IPY_MODEL_15889fc2fd1d405999f47f0aba87e418",
            "placeholder": "​",
            "style": "IPY_MODEL_728edfcdcd384c97b0b32c2f85e5bbbf",
            "value": " 13.1k/13.1k [00:00&lt;00:00, 718kB/s]"
          }
        },
        "91905896de1c41dda53902c6e31e2ccb": {
          "model_module": "@jupyter-widgets/base",
          "model_name": "LayoutModel",
          "model_module_version": "1.2.0",
          "state": {
            "_model_module": "@jupyter-widgets/base",
            "_model_module_version": "1.2.0",
            "_model_name": "LayoutModel",
            "_view_count": null,
            "_view_module": "@jupyter-widgets/base",
            "_view_module_version": "1.2.0",
            "_view_name": "LayoutView",
            "align_content": null,
            "align_items": null,
            "align_self": null,
            "border": null,
            "bottom": null,
            "display": null,
            "flex": null,
            "flex_flow": null,
            "grid_area": null,
            "grid_auto_columns": null,
            "grid_auto_flow": null,
            "grid_auto_rows": null,
            "grid_column": null,
            "grid_gap": null,
            "grid_row": null,
            "grid_template_areas": null,
            "grid_template_columns": null,
            "grid_template_rows": null,
            "height": null,
            "justify_content": null,
            "justify_items": null,
            "left": null,
            "margin": null,
            "max_height": null,
            "max_width": null,
            "min_height": null,
            "min_width": null,
            "object_fit": null,
            "object_position": null,
            "order": null,
            "overflow": null,
            "overflow_x": null,
            "overflow_y": null,
            "padding": null,
            "right": null,
            "top": null,
            "visibility": null,
            "width": null
          }
        },
        "bbd4a5f379bf4ccf88da18eaed3cb2c4": {
          "model_module": "@jupyter-widgets/base",
          "model_name": "LayoutModel",
          "model_module_version": "1.2.0",
          "state": {
            "_model_module": "@jupyter-widgets/base",
            "_model_module_version": "1.2.0",
            "_model_name": "LayoutModel",
            "_view_count": null,
            "_view_module": "@jupyter-widgets/base",
            "_view_module_version": "1.2.0",
            "_view_name": "LayoutView",
            "align_content": null,
            "align_items": null,
            "align_self": null,
            "border": null,
            "bottom": null,
            "display": null,
            "flex": null,
            "flex_flow": null,
            "grid_area": null,
            "grid_auto_columns": null,
            "grid_auto_flow": null,
            "grid_auto_rows": null,
            "grid_column": null,
            "grid_gap": null,
            "grid_row": null,
            "grid_template_areas": null,
            "grid_template_columns": null,
            "grid_template_rows": null,
            "height": null,
            "justify_content": null,
            "justify_items": null,
            "left": null,
            "margin": null,
            "max_height": null,
            "max_width": null,
            "min_height": null,
            "min_width": null,
            "object_fit": null,
            "object_position": null,
            "order": null,
            "overflow": null,
            "overflow_x": null,
            "overflow_y": null,
            "padding": null,
            "right": null,
            "top": null,
            "visibility": null,
            "width": null
          }
        },
        "597be355340841d9b4237799e29a7410": {
          "model_module": "@jupyter-widgets/controls",
          "model_name": "DescriptionStyleModel",
          "model_module_version": "1.5.0",
          "state": {
            "_model_module": "@jupyter-widgets/controls",
            "_model_module_version": "1.5.0",
            "_model_name": "DescriptionStyleModel",
            "_view_count": null,
            "_view_module": "@jupyter-widgets/base",
            "_view_module_version": "1.2.0",
            "_view_name": "StyleView",
            "description_width": ""
          }
        },
        "ae877ca046f148d881414b7d70adb59a": {
          "model_module": "@jupyter-widgets/base",
          "model_name": "LayoutModel",
          "model_module_version": "1.2.0",
          "state": {
            "_model_module": "@jupyter-widgets/base",
            "_model_module_version": "1.2.0",
            "_model_name": "LayoutModel",
            "_view_count": null,
            "_view_module": "@jupyter-widgets/base",
            "_view_module_version": "1.2.0",
            "_view_name": "LayoutView",
            "align_content": null,
            "align_items": null,
            "align_self": null,
            "border": null,
            "bottom": null,
            "display": null,
            "flex": null,
            "flex_flow": null,
            "grid_area": null,
            "grid_auto_columns": null,
            "grid_auto_flow": null,
            "grid_auto_rows": null,
            "grid_column": null,
            "grid_gap": null,
            "grid_row": null,
            "grid_template_areas": null,
            "grid_template_columns": null,
            "grid_template_rows": null,
            "height": null,
            "justify_content": null,
            "justify_items": null,
            "left": null,
            "margin": null,
            "max_height": null,
            "max_width": null,
            "min_height": null,
            "min_width": null,
            "object_fit": null,
            "object_position": null,
            "order": null,
            "overflow": null,
            "overflow_x": null,
            "overflow_y": null,
            "padding": null,
            "right": null,
            "top": null,
            "visibility": null,
            "width": null
          }
        },
        "023c72b4e8814e7eb47b84f704d7795c": {
          "model_module": "@jupyter-widgets/controls",
          "model_name": "ProgressStyleModel",
          "model_module_version": "1.5.0",
          "state": {
            "_model_module": "@jupyter-widgets/controls",
            "_model_module_version": "1.5.0",
            "_model_name": "ProgressStyleModel",
            "_view_count": null,
            "_view_module": "@jupyter-widgets/base",
            "_view_module_version": "1.2.0",
            "_view_name": "StyleView",
            "bar_color": null,
            "description_width": ""
          }
        },
        "15889fc2fd1d405999f47f0aba87e418": {
          "model_module": "@jupyter-widgets/base",
          "model_name": "LayoutModel",
          "model_module_version": "1.2.0",
          "state": {
            "_model_module": "@jupyter-widgets/base",
            "_model_module_version": "1.2.0",
            "_model_name": "LayoutModel",
            "_view_count": null,
            "_view_module": "@jupyter-widgets/base",
            "_view_module_version": "1.2.0",
            "_view_name": "LayoutView",
            "align_content": null,
            "align_items": null,
            "align_self": null,
            "border": null,
            "bottom": null,
            "display": null,
            "flex": null,
            "flex_flow": null,
            "grid_area": null,
            "grid_auto_columns": null,
            "grid_auto_flow": null,
            "grid_auto_rows": null,
            "grid_column": null,
            "grid_gap": null,
            "grid_row": null,
            "grid_template_areas": null,
            "grid_template_columns": null,
            "grid_template_rows": null,
            "height": null,
            "justify_content": null,
            "justify_items": null,
            "left": null,
            "margin": null,
            "max_height": null,
            "max_width": null,
            "min_height": null,
            "min_width": null,
            "object_fit": null,
            "object_position": null,
            "order": null,
            "overflow": null,
            "overflow_x": null,
            "overflow_y": null,
            "padding": null,
            "right": null,
            "top": null,
            "visibility": null,
            "width": null
          }
        },
        "728edfcdcd384c97b0b32c2f85e5bbbf": {
          "model_module": "@jupyter-widgets/controls",
          "model_name": "DescriptionStyleModel",
          "model_module_version": "1.5.0",
          "state": {
            "_model_module": "@jupyter-widgets/controls",
            "_model_module_version": "1.5.0",
            "_model_name": "DescriptionStyleModel",
            "_view_count": null,
            "_view_module": "@jupyter-widgets/base",
            "_view_module_version": "1.2.0",
            "_view_name": "StyleView",
            "description_width": ""
          }
        },
        "e5a01e7020b34ba1a51d37f799ede23d": {
          "model_module": "@jupyter-widgets/controls",
          "model_name": "HBoxModel",
          "model_module_version": "1.5.0",
          "state": {
            "_dom_classes": [],
            "_model_module": "@jupyter-widgets/controls",
            "_model_module_version": "1.5.0",
            "_model_name": "HBoxModel",
            "_view_count": null,
            "_view_module": "@jupyter-widgets/controls",
            "_view_module_version": "1.5.0",
            "_view_name": "HBoxView",
            "box_style": "",
            "children": [
              "IPY_MODEL_4e7c147f21914af18a3e095c6694e6f1",
              "IPY_MODEL_cf32a02033244a38b7a84fb74183a268",
              "IPY_MODEL_b298864ade754916a6bbcb009a431e8a"
            ],
            "layout": "IPY_MODEL_b2166ebdafe048c29d965769eb6c03a6"
          }
        },
        "4e7c147f21914af18a3e095c6694e6f1": {
          "model_module": "@jupyter-widgets/controls",
          "model_name": "HTMLModel",
          "model_module_version": "1.5.0",
          "state": {
            "_dom_classes": [],
            "_model_module": "@jupyter-widgets/controls",
            "_model_module_version": "1.5.0",
            "_model_name": "HTMLModel",
            "_view_count": null,
            "_view_module": "@jupyter-widgets/controls",
            "_view_module_version": "1.5.0",
            "_view_name": "HTMLView",
            "description": "",
            "description_tooltip": null,
            "layout": "IPY_MODEL_d74bae91702b473da944a7c5e6964129",
            "placeholder": "​",
            "style": "IPY_MODEL_dd0cc627b0424be9b2f2b7076c26fd92",
            "value": "Downloading: 100%"
          }
        },
        "cf32a02033244a38b7a84fb74183a268": {
          "model_module": "@jupyter-widgets/controls",
          "model_name": "FloatProgressModel",
          "model_module_version": "1.5.0",
          "state": {
            "_dom_classes": [],
            "_model_module": "@jupyter-widgets/controls",
            "_model_module_version": "1.5.0",
            "_model_name": "FloatProgressModel",
            "_view_count": null,
            "_view_module": "@jupyter-widgets/controls",
            "_view_module_version": "1.5.0",
            "_view_name": "ProgressView",
            "bar_style": "success",
            "description": "",
            "description_tooltip": null,
            "layout": "IPY_MODEL_9d562fa5168141338d0c956ed7fde284",
            "max": 231536,
            "min": 0,
            "orientation": "horizontal",
            "style": "IPY_MODEL_ede2c832e5b44cf5a7e6311704e0b260",
            "value": 231536
          }
        },
        "b298864ade754916a6bbcb009a431e8a": {
          "model_module": "@jupyter-widgets/controls",
          "model_name": "HTMLModel",
          "model_module_version": "1.5.0",
          "state": {
            "_dom_classes": [],
            "_model_module": "@jupyter-widgets/controls",
            "_model_module_version": "1.5.0",
            "_model_name": "HTMLModel",
            "_view_count": null,
            "_view_module": "@jupyter-widgets/controls",
            "_view_module_version": "1.5.0",
            "_view_name": "HTMLView",
            "description": "",
            "description_tooltip": null,
            "layout": "IPY_MODEL_4d80dbd6838541fab43c4f29064ba3db",
            "placeholder": "​",
            "style": "IPY_MODEL_28c158b1093b42fc9cf532349fea7774",
            "value": " 232k/232k [00:00&lt;00:00, 196kB/s]"
          }
        },
        "b2166ebdafe048c29d965769eb6c03a6": {
          "model_module": "@jupyter-widgets/base",
          "model_name": "LayoutModel",
          "model_module_version": "1.2.0",
          "state": {
            "_model_module": "@jupyter-widgets/base",
            "_model_module_version": "1.2.0",
            "_model_name": "LayoutModel",
            "_view_count": null,
            "_view_module": "@jupyter-widgets/base",
            "_view_module_version": "1.2.0",
            "_view_name": "LayoutView",
            "align_content": null,
            "align_items": null,
            "align_self": null,
            "border": null,
            "bottom": null,
            "display": null,
            "flex": null,
            "flex_flow": null,
            "grid_area": null,
            "grid_auto_columns": null,
            "grid_auto_flow": null,
            "grid_auto_rows": null,
            "grid_column": null,
            "grid_gap": null,
            "grid_row": null,
            "grid_template_areas": null,
            "grid_template_columns": null,
            "grid_template_rows": null,
            "height": null,
            "justify_content": null,
            "justify_items": null,
            "left": null,
            "margin": null,
            "max_height": null,
            "max_width": null,
            "min_height": null,
            "min_width": null,
            "object_fit": null,
            "object_position": null,
            "order": null,
            "overflow": null,
            "overflow_x": null,
            "overflow_y": null,
            "padding": null,
            "right": null,
            "top": null,
            "visibility": null,
            "width": null
          }
        },
        "d74bae91702b473da944a7c5e6964129": {
          "model_module": "@jupyter-widgets/base",
          "model_name": "LayoutModel",
          "model_module_version": "1.2.0",
          "state": {
            "_model_module": "@jupyter-widgets/base",
            "_model_module_version": "1.2.0",
            "_model_name": "LayoutModel",
            "_view_count": null,
            "_view_module": "@jupyter-widgets/base",
            "_view_module_version": "1.2.0",
            "_view_name": "LayoutView",
            "align_content": null,
            "align_items": null,
            "align_self": null,
            "border": null,
            "bottom": null,
            "display": null,
            "flex": null,
            "flex_flow": null,
            "grid_area": null,
            "grid_auto_columns": null,
            "grid_auto_flow": null,
            "grid_auto_rows": null,
            "grid_column": null,
            "grid_gap": null,
            "grid_row": null,
            "grid_template_areas": null,
            "grid_template_columns": null,
            "grid_template_rows": null,
            "height": null,
            "justify_content": null,
            "justify_items": null,
            "left": null,
            "margin": null,
            "max_height": null,
            "max_width": null,
            "min_height": null,
            "min_width": null,
            "object_fit": null,
            "object_position": null,
            "order": null,
            "overflow": null,
            "overflow_x": null,
            "overflow_y": null,
            "padding": null,
            "right": null,
            "top": null,
            "visibility": null,
            "width": null
          }
        },
        "dd0cc627b0424be9b2f2b7076c26fd92": {
          "model_module": "@jupyter-widgets/controls",
          "model_name": "DescriptionStyleModel",
          "model_module_version": "1.5.0",
          "state": {
            "_model_module": "@jupyter-widgets/controls",
            "_model_module_version": "1.5.0",
            "_model_name": "DescriptionStyleModel",
            "_view_count": null,
            "_view_module": "@jupyter-widgets/base",
            "_view_module_version": "1.2.0",
            "_view_name": "StyleView",
            "description_width": ""
          }
        },
        "9d562fa5168141338d0c956ed7fde284": {
          "model_module": "@jupyter-widgets/base",
          "model_name": "LayoutModel",
          "model_module_version": "1.2.0",
          "state": {
            "_model_module": "@jupyter-widgets/base",
            "_model_module_version": "1.2.0",
            "_model_name": "LayoutModel",
            "_view_count": null,
            "_view_module": "@jupyter-widgets/base",
            "_view_module_version": "1.2.0",
            "_view_name": "LayoutView",
            "align_content": null,
            "align_items": null,
            "align_self": null,
            "border": null,
            "bottom": null,
            "display": null,
            "flex": null,
            "flex_flow": null,
            "grid_area": null,
            "grid_auto_columns": null,
            "grid_auto_flow": null,
            "grid_auto_rows": null,
            "grid_column": null,
            "grid_gap": null,
            "grid_row": null,
            "grid_template_areas": null,
            "grid_template_columns": null,
            "grid_template_rows": null,
            "height": null,
            "justify_content": null,
            "justify_items": null,
            "left": null,
            "margin": null,
            "max_height": null,
            "max_width": null,
            "min_height": null,
            "min_width": null,
            "object_fit": null,
            "object_position": null,
            "order": null,
            "overflow": null,
            "overflow_x": null,
            "overflow_y": null,
            "padding": null,
            "right": null,
            "top": null,
            "visibility": null,
            "width": null
          }
        },
        "ede2c832e5b44cf5a7e6311704e0b260": {
          "model_module": "@jupyter-widgets/controls",
          "model_name": "ProgressStyleModel",
          "model_module_version": "1.5.0",
          "state": {
            "_model_module": "@jupyter-widgets/controls",
            "_model_module_version": "1.5.0",
            "_model_name": "ProgressStyleModel",
            "_view_count": null,
            "_view_module": "@jupyter-widgets/base",
            "_view_module_version": "1.2.0",
            "_view_name": "StyleView",
            "bar_color": null,
            "description_width": ""
          }
        },
        "4d80dbd6838541fab43c4f29064ba3db": {
          "model_module": "@jupyter-widgets/base",
          "model_name": "LayoutModel",
          "model_module_version": "1.2.0",
          "state": {
            "_model_module": "@jupyter-widgets/base",
            "_model_module_version": "1.2.0",
            "_model_name": "LayoutModel",
            "_view_count": null,
            "_view_module": "@jupyter-widgets/base",
            "_view_module_version": "1.2.0",
            "_view_name": "LayoutView",
            "align_content": null,
            "align_items": null,
            "align_self": null,
            "border": null,
            "bottom": null,
            "display": null,
            "flex": null,
            "flex_flow": null,
            "grid_area": null,
            "grid_auto_columns": null,
            "grid_auto_flow": null,
            "grid_auto_rows": null,
            "grid_column": null,
            "grid_gap": null,
            "grid_row": null,
            "grid_template_areas": null,
            "grid_template_columns": null,
            "grid_template_rows": null,
            "height": null,
            "justify_content": null,
            "justify_items": null,
            "left": null,
            "margin": null,
            "max_height": null,
            "max_width": null,
            "min_height": null,
            "min_width": null,
            "object_fit": null,
            "object_position": null,
            "order": null,
            "overflow": null,
            "overflow_x": null,
            "overflow_y": null,
            "padding": null,
            "right": null,
            "top": null,
            "visibility": null,
            "width": null
          }
        },
        "28c158b1093b42fc9cf532349fea7774": {
          "model_module": "@jupyter-widgets/controls",
          "model_name": "DescriptionStyleModel",
          "model_module_version": "1.5.0",
          "state": {
            "_model_module": "@jupyter-widgets/controls",
            "_model_module_version": "1.5.0",
            "_model_name": "DescriptionStyleModel",
            "_view_count": null,
            "_view_module": "@jupyter-widgets/base",
            "_view_module_version": "1.2.0",
            "_view_name": "StyleView",
            "description_width": ""
          }
        },
        "a6d88e171d664f2482b9e3f509cbcb86": {
          "model_module": "@jupyter-widgets/controls",
          "model_name": "HBoxModel",
          "model_module_version": "1.5.0",
          "state": {
            "_dom_classes": [],
            "_model_module": "@jupyter-widgets/controls",
            "_model_module_version": "1.5.0",
            "_model_name": "HBoxModel",
            "_view_count": null,
            "_view_module": "@jupyter-widgets/controls",
            "_view_module_version": "1.5.0",
            "_view_name": "HBoxView",
            "box_style": "",
            "children": [
              "IPY_MODEL_4c926669ebdd4ed29e16a513bc65e7a2",
              "IPY_MODEL_723615f1e0d046c3939f0292545fcf66",
              "IPY_MODEL_ed74d6563e7e4bc897ad9977bb3c0682"
            ],
            "layout": "IPY_MODEL_71b03a0c9a244346bf4617b2bd4895ab"
          }
        },
        "4c926669ebdd4ed29e16a513bc65e7a2": {
          "model_module": "@jupyter-widgets/controls",
          "model_name": "HTMLModel",
          "model_module_version": "1.5.0",
          "state": {
            "_dom_classes": [],
            "_model_module": "@jupyter-widgets/controls",
            "_model_module_version": "1.5.0",
            "_model_name": "HTMLModel",
            "_view_count": null,
            "_view_module": "@jupyter-widgets/controls",
            "_view_module_version": "1.5.0",
            "_view_name": "HTMLView",
            "description": "",
            "description_tooltip": null,
            "layout": "IPY_MODEL_2451946205454a5a87a939f27c7e7b77",
            "placeholder": "​",
            "style": "IPY_MODEL_a94e8d952e1e40e3aa6138185d2a3e18",
            "value": "Downloading: 100%"
          }
        },
        "723615f1e0d046c3939f0292545fcf66": {
          "model_module": "@jupyter-widgets/controls",
          "model_name": "FloatProgressModel",
          "model_module_version": "1.5.0",
          "state": {
            "_dom_classes": [],
            "_model_module": "@jupyter-widgets/controls",
            "_model_module_version": "1.5.0",
            "_model_name": "FloatProgressModel",
            "_view_count": null,
            "_view_module": "@jupyter-widgets/controls",
            "_view_module_version": "1.5.0",
            "_view_name": "ProgressView",
            "bar_style": "success",
            "description": "",
            "description_tooltip": null,
            "layout": "IPY_MODEL_da65aab5c64c4ee9b52182f24db4e0da",
            "max": 349,
            "min": 0,
            "orientation": "horizontal",
            "style": "IPY_MODEL_6aa780b3bcc6419f90620fa663c6dce1",
            "value": 349
          }
        },
        "ed74d6563e7e4bc897ad9977bb3c0682": {
          "model_module": "@jupyter-widgets/controls",
          "model_name": "HTMLModel",
          "model_module_version": "1.5.0",
          "state": {
            "_dom_classes": [],
            "_model_module": "@jupyter-widgets/controls",
            "_model_module_version": "1.5.0",
            "_model_name": "HTMLModel",
            "_view_count": null,
            "_view_module": "@jupyter-widgets/controls",
            "_view_module_version": "1.5.0",
            "_view_name": "HTMLView",
            "description": "",
            "description_tooltip": null,
            "layout": "IPY_MODEL_96fd91bca3f8404b9bb40f0539afcc06",
            "placeholder": "​",
            "style": "IPY_MODEL_91a19aa5f3a84431a2f03a6b5d3c3fbc",
            "value": " 349/349 [00:00&lt;00:00, 20.8kB/s]"
          }
        },
        "71b03a0c9a244346bf4617b2bd4895ab": {
          "model_module": "@jupyter-widgets/base",
          "model_name": "LayoutModel",
          "model_module_version": "1.2.0",
          "state": {
            "_model_module": "@jupyter-widgets/base",
            "_model_module_version": "1.2.0",
            "_model_name": "LayoutModel",
            "_view_count": null,
            "_view_module": "@jupyter-widgets/base",
            "_view_module_version": "1.2.0",
            "_view_name": "LayoutView",
            "align_content": null,
            "align_items": null,
            "align_self": null,
            "border": null,
            "bottom": null,
            "display": null,
            "flex": null,
            "flex_flow": null,
            "grid_area": null,
            "grid_auto_columns": null,
            "grid_auto_flow": null,
            "grid_auto_rows": null,
            "grid_column": null,
            "grid_gap": null,
            "grid_row": null,
            "grid_template_areas": null,
            "grid_template_columns": null,
            "grid_template_rows": null,
            "height": null,
            "justify_content": null,
            "justify_items": null,
            "left": null,
            "margin": null,
            "max_height": null,
            "max_width": null,
            "min_height": null,
            "min_width": null,
            "object_fit": null,
            "object_position": null,
            "order": null,
            "overflow": null,
            "overflow_x": null,
            "overflow_y": null,
            "padding": null,
            "right": null,
            "top": null,
            "visibility": null,
            "width": null
          }
        },
        "2451946205454a5a87a939f27c7e7b77": {
          "model_module": "@jupyter-widgets/base",
          "model_name": "LayoutModel",
          "model_module_version": "1.2.0",
          "state": {
            "_model_module": "@jupyter-widgets/base",
            "_model_module_version": "1.2.0",
            "_model_name": "LayoutModel",
            "_view_count": null,
            "_view_module": "@jupyter-widgets/base",
            "_view_module_version": "1.2.0",
            "_view_name": "LayoutView",
            "align_content": null,
            "align_items": null,
            "align_self": null,
            "border": null,
            "bottom": null,
            "display": null,
            "flex": null,
            "flex_flow": null,
            "grid_area": null,
            "grid_auto_columns": null,
            "grid_auto_flow": null,
            "grid_auto_rows": null,
            "grid_column": null,
            "grid_gap": null,
            "grid_row": null,
            "grid_template_areas": null,
            "grid_template_columns": null,
            "grid_template_rows": null,
            "height": null,
            "justify_content": null,
            "justify_items": null,
            "left": null,
            "margin": null,
            "max_height": null,
            "max_width": null,
            "min_height": null,
            "min_width": null,
            "object_fit": null,
            "object_position": null,
            "order": null,
            "overflow": null,
            "overflow_x": null,
            "overflow_y": null,
            "padding": null,
            "right": null,
            "top": null,
            "visibility": null,
            "width": null
          }
        },
        "a94e8d952e1e40e3aa6138185d2a3e18": {
          "model_module": "@jupyter-widgets/controls",
          "model_name": "DescriptionStyleModel",
          "model_module_version": "1.5.0",
          "state": {
            "_model_module": "@jupyter-widgets/controls",
            "_model_module_version": "1.5.0",
            "_model_name": "DescriptionStyleModel",
            "_view_count": null,
            "_view_module": "@jupyter-widgets/base",
            "_view_module_version": "1.2.0",
            "_view_name": "StyleView",
            "description_width": ""
          }
        },
        "da65aab5c64c4ee9b52182f24db4e0da": {
          "model_module": "@jupyter-widgets/base",
          "model_name": "LayoutModel",
          "model_module_version": "1.2.0",
          "state": {
            "_model_module": "@jupyter-widgets/base",
            "_model_module_version": "1.2.0",
            "_model_name": "LayoutModel",
            "_view_count": null,
            "_view_module": "@jupyter-widgets/base",
            "_view_module_version": "1.2.0",
            "_view_name": "LayoutView",
            "align_content": null,
            "align_items": null,
            "align_self": null,
            "border": null,
            "bottom": null,
            "display": null,
            "flex": null,
            "flex_flow": null,
            "grid_area": null,
            "grid_auto_columns": null,
            "grid_auto_flow": null,
            "grid_auto_rows": null,
            "grid_column": null,
            "grid_gap": null,
            "grid_row": null,
            "grid_template_areas": null,
            "grid_template_columns": null,
            "grid_template_rows": null,
            "height": null,
            "justify_content": null,
            "justify_items": null,
            "left": null,
            "margin": null,
            "max_height": null,
            "max_width": null,
            "min_height": null,
            "min_width": null,
            "object_fit": null,
            "object_position": null,
            "order": null,
            "overflow": null,
            "overflow_x": null,
            "overflow_y": null,
            "padding": null,
            "right": null,
            "top": null,
            "visibility": null,
            "width": null
          }
        },
        "6aa780b3bcc6419f90620fa663c6dce1": {
          "model_module": "@jupyter-widgets/controls",
          "model_name": "ProgressStyleModel",
          "model_module_version": "1.5.0",
          "state": {
            "_model_module": "@jupyter-widgets/controls",
            "_model_module_version": "1.5.0",
            "_model_name": "ProgressStyleModel",
            "_view_count": null,
            "_view_module": "@jupyter-widgets/base",
            "_view_module_version": "1.2.0",
            "_view_name": "StyleView",
            "bar_color": null,
            "description_width": ""
          }
        },
        "96fd91bca3f8404b9bb40f0539afcc06": {
          "model_module": "@jupyter-widgets/base",
          "model_name": "LayoutModel",
          "model_module_version": "1.2.0",
          "state": {
            "_model_module": "@jupyter-widgets/base",
            "_model_module_version": "1.2.0",
            "_model_name": "LayoutModel",
            "_view_count": null,
            "_view_module": "@jupyter-widgets/base",
            "_view_module_version": "1.2.0",
            "_view_name": "LayoutView",
            "align_content": null,
            "align_items": null,
            "align_self": null,
            "border": null,
            "bottom": null,
            "display": null,
            "flex": null,
            "flex_flow": null,
            "grid_area": null,
            "grid_auto_columns": null,
            "grid_auto_flow": null,
            "grid_auto_rows": null,
            "grid_column": null,
            "grid_gap": null,
            "grid_row": null,
            "grid_template_areas": null,
            "grid_template_columns": null,
            "grid_template_rows": null,
            "height": null,
            "justify_content": null,
            "justify_items": null,
            "left": null,
            "margin": null,
            "max_height": null,
            "max_width": null,
            "min_height": null,
            "min_width": null,
            "object_fit": null,
            "object_position": null,
            "order": null,
            "overflow": null,
            "overflow_x": null,
            "overflow_y": null,
            "padding": null,
            "right": null,
            "top": null,
            "visibility": null,
            "width": null
          }
        },
        "91a19aa5f3a84431a2f03a6b5d3c3fbc": {
          "model_module": "@jupyter-widgets/controls",
          "model_name": "DescriptionStyleModel",
          "model_module_version": "1.5.0",
          "state": {
            "_model_module": "@jupyter-widgets/controls",
            "_model_module_version": "1.5.0",
            "_model_name": "DescriptionStyleModel",
            "_view_count": null,
            "_view_module": "@jupyter-widgets/base",
            "_view_module_version": "1.2.0",
            "_view_name": "StyleView",
            "description_width": ""
          }
        },
        "e567a294281a420692b2236f385eefba": {
          "model_module": "@jupyter-widgets/controls",
          "model_name": "HBoxModel",
          "model_module_version": "1.5.0",
          "state": {
            "_dom_classes": [],
            "_model_module": "@jupyter-widgets/controls",
            "_model_module_version": "1.5.0",
            "_model_name": "HBoxModel",
            "_view_count": null,
            "_view_module": "@jupyter-widgets/controls",
            "_view_module_version": "1.5.0",
            "_view_name": "HBoxView",
            "box_style": "",
            "children": [
              "IPY_MODEL_2cb301202d75471ab2a92130ea7033a0",
              "IPY_MODEL_e0e675dd043043328b0d6ef1c088746c",
              "IPY_MODEL_d7e3993102f246c28437adb84002b060"
            ],
            "layout": "IPY_MODEL_c7a51bca082846d39fc8b8f2b884bebc"
          }
        },
        "2cb301202d75471ab2a92130ea7033a0": {
          "model_module": "@jupyter-widgets/controls",
          "model_name": "HTMLModel",
          "model_module_version": "1.5.0",
          "state": {
            "_dom_classes": [],
            "_model_module": "@jupyter-widgets/controls",
            "_model_module_version": "1.5.0",
            "_model_name": "HTMLModel",
            "_view_count": null,
            "_view_module": "@jupyter-widgets/controls",
            "_view_module_version": "1.5.0",
            "_view_name": "HTMLView",
            "description": "",
            "description_tooltip": null,
            "layout": "IPY_MODEL_0e0bfcfc78b64b2d823d04535375a112",
            "placeholder": "​",
            "style": "IPY_MODEL_4ad93f04beeb46f2b4196fb8926dac46",
            "value": "Batches: 100%"
          }
        },
        "e0e675dd043043328b0d6ef1c088746c": {
          "model_module": "@jupyter-widgets/controls",
          "model_name": "FloatProgressModel",
          "model_module_version": "1.5.0",
          "state": {
            "_dom_classes": [],
            "_model_module": "@jupyter-widgets/controls",
            "_model_module_version": "1.5.0",
            "_model_name": "FloatProgressModel",
            "_view_count": null,
            "_view_module": "@jupyter-widgets/controls",
            "_view_module_version": "1.5.0",
            "_view_name": "ProgressView",
            "bar_style": "success",
            "description": "",
            "description_tooltip": null,
            "layout": "IPY_MODEL_7632c008449443c0ac75c549c474db4c",
            "max": 10,
            "min": 0,
            "orientation": "horizontal",
            "style": "IPY_MODEL_2dc01ffe38a94086a06838951bedbe00",
            "value": 10
          }
        },
        "d7e3993102f246c28437adb84002b060": {
          "model_module": "@jupyter-widgets/controls",
          "model_name": "HTMLModel",
          "model_module_version": "1.5.0",
          "state": {
            "_dom_classes": [],
            "_model_module": "@jupyter-widgets/controls",
            "_model_module_version": "1.5.0",
            "_model_name": "HTMLModel",
            "_view_count": null,
            "_view_module": "@jupyter-widgets/controls",
            "_view_module_version": "1.5.0",
            "_view_name": "HTMLView",
            "description": "",
            "description_tooltip": null,
            "layout": "IPY_MODEL_c1858330f3504adfb60d416e60b0ed2d",
            "placeholder": "​",
            "style": "IPY_MODEL_d486b7e7f2784dd89f4cad5510bb0da6",
            "value": " 10/10 [00:13&lt;00:00,  1.04s/it]"
          }
        },
        "c7a51bca082846d39fc8b8f2b884bebc": {
          "model_module": "@jupyter-widgets/base",
          "model_name": "LayoutModel",
          "model_module_version": "1.2.0",
          "state": {
            "_model_module": "@jupyter-widgets/base",
            "_model_module_version": "1.2.0",
            "_model_name": "LayoutModel",
            "_view_count": null,
            "_view_module": "@jupyter-widgets/base",
            "_view_module_version": "1.2.0",
            "_view_name": "LayoutView",
            "align_content": null,
            "align_items": null,
            "align_self": null,
            "border": null,
            "bottom": null,
            "display": null,
            "flex": null,
            "flex_flow": null,
            "grid_area": null,
            "grid_auto_columns": null,
            "grid_auto_flow": null,
            "grid_auto_rows": null,
            "grid_column": null,
            "grid_gap": null,
            "grid_row": null,
            "grid_template_areas": null,
            "grid_template_columns": null,
            "grid_template_rows": null,
            "height": null,
            "justify_content": null,
            "justify_items": null,
            "left": null,
            "margin": null,
            "max_height": null,
            "max_width": null,
            "min_height": null,
            "min_width": null,
            "object_fit": null,
            "object_position": null,
            "order": null,
            "overflow": null,
            "overflow_x": null,
            "overflow_y": null,
            "padding": null,
            "right": null,
            "top": null,
            "visibility": null,
            "width": null
          }
        },
        "0e0bfcfc78b64b2d823d04535375a112": {
          "model_module": "@jupyter-widgets/base",
          "model_name": "LayoutModel",
          "model_module_version": "1.2.0",
          "state": {
            "_model_module": "@jupyter-widgets/base",
            "_model_module_version": "1.2.0",
            "_model_name": "LayoutModel",
            "_view_count": null,
            "_view_module": "@jupyter-widgets/base",
            "_view_module_version": "1.2.0",
            "_view_name": "LayoutView",
            "align_content": null,
            "align_items": null,
            "align_self": null,
            "border": null,
            "bottom": null,
            "display": null,
            "flex": null,
            "flex_flow": null,
            "grid_area": null,
            "grid_auto_columns": null,
            "grid_auto_flow": null,
            "grid_auto_rows": null,
            "grid_column": null,
            "grid_gap": null,
            "grid_row": null,
            "grid_template_areas": null,
            "grid_template_columns": null,
            "grid_template_rows": null,
            "height": null,
            "justify_content": null,
            "justify_items": null,
            "left": null,
            "margin": null,
            "max_height": null,
            "max_width": null,
            "min_height": null,
            "min_width": null,
            "object_fit": null,
            "object_position": null,
            "order": null,
            "overflow": null,
            "overflow_x": null,
            "overflow_y": null,
            "padding": null,
            "right": null,
            "top": null,
            "visibility": null,
            "width": null
          }
        },
        "4ad93f04beeb46f2b4196fb8926dac46": {
          "model_module": "@jupyter-widgets/controls",
          "model_name": "DescriptionStyleModel",
          "model_module_version": "1.5.0",
          "state": {
            "_model_module": "@jupyter-widgets/controls",
            "_model_module_version": "1.5.0",
            "_model_name": "DescriptionStyleModel",
            "_view_count": null,
            "_view_module": "@jupyter-widgets/base",
            "_view_module_version": "1.2.0",
            "_view_name": "StyleView",
            "description_width": ""
          }
        },
        "7632c008449443c0ac75c549c474db4c": {
          "model_module": "@jupyter-widgets/base",
          "model_name": "LayoutModel",
          "model_module_version": "1.2.0",
          "state": {
            "_model_module": "@jupyter-widgets/base",
            "_model_module_version": "1.2.0",
            "_model_name": "LayoutModel",
            "_view_count": null,
            "_view_module": "@jupyter-widgets/base",
            "_view_module_version": "1.2.0",
            "_view_name": "LayoutView",
            "align_content": null,
            "align_items": null,
            "align_self": null,
            "border": null,
            "bottom": null,
            "display": null,
            "flex": null,
            "flex_flow": null,
            "grid_area": null,
            "grid_auto_columns": null,
            "grid_auto_flow": null,
            "grid_auto_rows": null,
            "grid_column": null,
            "grid_gap": null,
            "grid_row": null,
            "grid_template_areas": null,
            "grid_template_columns": null,
            "grid_template_rows": null,
            "height": null,
            "justify_content": null,
            "justify_items": null,
            "left": null,
            "margin": null,
            "max_height": null,
            "max_width": null,
            "min_height": null,
            "min_width": null,
            "object_fit": null,
            "object_position": null,
            "order": null,
            "overflow": null,
            "overflow_x": null,
            "overflow_y": null,
            "padding": null,
            "right": null,
            "top": null,
            "visibility": null,
            "width": null
          }
        },
        "2dc01ffe38a94086a06838951bedbe00": {
          "model_module": "@jupyter-widgets/controls",
          "model_name": "ProgressStyleModel",
          "model_module_version": "1.5.0",
          "state": {
            "_model_module": "@jupyter-widgets/controls",
            "_model_module_version": "1.5.0",
            "_model_name": "ProgressStyleModel",
            "_view_count": null,
            "_view_module": "@jupyter-widgets/base",
            "_view_module_version": "1.2.0",
            "_view_name": "StyleView",
            "bar_color": null,
            "description_width": ""
          }
        },
        "c1858330f3504adfb60d416e60b0ed2d": {
          "model_module": "@jupyter-widgets/base",
          "model_name": "LayoutModel",
          "model_module_version": "1.2.0",
          "state": {
            "_model_module": "@jupyter-widgets/base",
            "_model_module_version": "1.2.0",
            "_model_name": "LayoutModel",
            "_view_count": null,
            "_view_module": "@jupyter-widgets/base",
            "_view_module_version": "1.2.0",
            "_view_name": "LayoutView",
            "align_content": null,
            "align_items": null,
            "align_self": null,
            "border": null,
            "bottom": null,
            "display": null,
            "flex": null,
            "flex_flow": null,
            "grid_area": null,
            "grid_auto_columns": null,
            "grid_auto_flow": null,
            "grid_auto_rows": null,
            "grid_column": null,
            "grid_gap": null,
            "grid_row": null,
            "grid_template_areas": null,
            "grid_template_columns": null,
            "grid_template_rows": null,
            "height": null,
            "justify_content": null,
            "justify_items": null,
            "left": null,
            "margin": null,
            "max_height": null,
            "max_width": null,
            "min_height": null,
            "min_width": null,
            "object_fit": null,
            "object_position": null,
            "order": null,
            "overflow": null,
            "overflow_x": null,
            "overflow_y": null,
            "padding": null,
            "right": null,
            "top": null,
            "visibility": null,
            "width": null
          }
        },
        "d486b7e7f2784dd89f4cad5510bb0da6": {
          "model_module": "@jupyter-widgets/controls",
          "model_name": "DescriptionStyleModel",
          "model_module_version": "1.5.0",
          "state": {
            "_model_module": "@jupyter-widgets/controls",
            "_model_module_version": "1.5.0",
            "_model_name": "DescriptionStyleModel",
            "_view_count": null,
            "_view_module": "@jupyter-widgets/base",
            "_view_module_version": "1.2.0",
            "_view_name": "StyleView",
            "description_width": ""
          }
        }
      }
    }
  },
  "cells": [
    {
      "cell_type": "markdown",
      "metadata": {
        "id": "qmZ1uZecv7qW"
      },
      "source": [
        "#Combined Topic Modeling\n",
        "\n",
        "In this notebook, we are going to use  **Combined Topic Model** to get the topics out of a collections of articles.\n",
        "\n",
        "## Topic Models \n",
        "\n",
        "Topic models allow you to discover latent topics in your documents in a completely unsupervised way. Just use your documents and get topics out.\n",
        "\n",
        "## Contextualized Topic Models\n",
        "\n",
        "What are Contextualized Topic Models? **CTMs** are a family of topic models that combine the expressive power of BERT embeddings with the unsupervised capabilities of topic models to get topics out of documents. \n",
        "\n",
        "# **Before you start...**\n",
        "\n",
        "If you have additional questions about these topics, follow the links:\n",
        "\n",
        "- you need to work with languages different than English: [click here!](https://contextualized-topic-models.readthedocs.io/en/latest/language.html#language-specific)\n",
        "- you can't get good results with topic models: [click here!](https://contextualized-topic-models.readthedocs.io/en/latest/faq.html#i-am-getting-very-poor-results-what-can-i-do)\n",
        "- you want to load your own embeddings: [click here!](https://contextualized-topic-models.readthedocs.io/en/latest/faq.html#can-i-load-my-own-embeddings)\n"
      ]
    },
    {
      "cell_type": "markdown",
      "metadata": {
        "id": "ln23-soXeQk3"
      },
      "source": [
        "# Enabling the GPU\n",
        "\n",
        "First, you'll need to enable GPUs for the notebook:\n",
        "\n",
        "- Navigate to Edit→Notebook Settings\n",
        "- select GPU from the Hardware Accelerator drop-down\n",
        "\n",
        "[Reference](https://colab.research.google.com/notebooks/gpu.ipynb)"
      ]
    },
    {
      "cell_type": "markdown",
      "metadata": {
        "id": "QsNRo8I8Yem2"
      },
      "source": [
        "# Installing Contextualized Topic Models\n",
        "\n",
        "First, we install the contextualized topic model library"
      ]
    },
    {
      "cell_type": "code",
      "metadata": {
        "id": "BUw5EQi8v9r1"
      },
      "source": [
        "%%capture\n",
        "!pip install contextualized-topic-models==2.3.0"
      ],
      "execution_count": 1,
      "outputs": []
    },
    {
      "cell_type": "code",
      "metadata": {
        "id": "Jv9EL0V5-Xnp"
      },
      "source": [
        "%%capture\n",
        "!pip install pyldavis"
      ],
      "execution_count": 2,
      "outputs": []
    },
    {
      "cell_type": "code",
      "source": [
        "!pip uninstall numpy\n",
        "!pip install numpy==1.22.0"
      ],
      "metadata": {
        "colab": {
          "base_uri": "https://localhost:8080/",
          "height": 485
        },
        "id": "PUtR6n5R5KP2",
        "outputId": "9b25fd31-1e20-483a-9c29-41fcab7816ab"
      },
      "execution_count": 5,
      "outputs": [
        {
          "output_type": "stream",
          "name": "stdout",
          "text": [
            "Found existing installation: numpy 1.21.6\n",
            "Uninstalling numpy-1.21.6:\n",
            "  Would remove:\n",
            "    /usr/bin/f2py\n",
            "    /usr/local/bin/f2py\n",
            "    /usr/local/bin/f2py3\n",
            "    /usr/local/bin/f2py3.8\n",
            "    /usr/local/lib/python3.8/dist-packages/numpy-1.21.6.dist-info/*\n",
            "    /usr/local/lib/python3.8/dist-packages/numpy.libs/libgfortran-2e0d59d6.so.5.0.0\n",
            "    /usr/local/lib/python3.8/dist-packages/numpy.libs/libopenblasp-r0-2d23e62b.3.17.so\n",
            "    /usr/local/lib/python3.8/dist-packages/numpy.libs/libquadmath-2d0c479f.so.0.0.0\n",
            "    /usr/local/lib/python3.8/dist-packages/numpy/*\n",
            "Proceed (y/n)? y\n",
            "  Successfully uninstalled numpy-1.21.6\n",
            "Looking in indexes: https://pypi.org/simple, https://us-python.pkg.dev/colab-wheels/public/simple/\n",
            "Collecting numpy==1.22.0\n",
            "  Downloading numpy-1.22.0-cp38-cp38-manylinux_2_17_x86_64.manylinux2014_x86_64.whl (16.8 MB)\n",
            "\u001b[K     |████████████████████████████████| 16.8 MB 27.7 MB/s \n",
            "\u001b[?25hInstalling collected packages: numpy\n",
            "\u001b[31mERROR: pip's dependency resolver does not currently take into account all the packages that are installed. This behaviour is the source of the following dependency conflicts.\n",
            "google-colab 1.0.0 requires ipython~=7.9.0, but you have ipython 7.16.3 which is incompatible.\u001b[0m\n",
            "Successfully installed numpy-1.22.0\n"
          ]
        },
        {
          "output_type": "display_data",
          "data": {
            "application/vnd.colab-display-data+json": {
              "pip_warning": {
                "packages": [
                  "numpy"
                ]
              }
            }
          },
          "metadata": {}
        }
      ]
    },
    {
      "cell_type": "markdown",
      "metadata": {
        "id": "9AzfVSJfZE2f"
      },
      "source": [
        "## Restart the Notebook\n",
        "\n",
        "For the changes to take effect, we now need to restart the notebook.\n",
        "\n",
        "From the Menu:\n",
        "\n",
        "Runtime → Restart Runtime"
      ]
    },
    {
      "cell_type": "markdown",
      "metadata": {
        "id": "sgxRbgSZ9MsB"
      },
      "source": [
        "# Data\n",
        "\n",
        "We are going to need some data. You should upload a file with one document per line. We assume you haven't run any preprocessing script.\n",
        "\n",
        "However, if you want to first test the model without uploading your data, you can simply use the test file I'm putting here"
      ]
    },
    {
      "cell_type": "code",
      "metadata": {
        "id": "iZEPr_QFJdBz"
      },
      "source": [
        "%%capture\n",
        "!wget https://raw.githubusercontent.com/vinid/data/master/dbpedia_sample_abstract_20k_unprep.txt"
      ],
      "execution_count": 1,
      "outputs": []
    },
    {
      "cell_type": "code",
      "metadata": {
        "id": "pKZ9Yk0qJvxd",
        "colab": {
          "base_uri": "https://localhost:8080/"
        },
        "outputId": "a7d3c143-3d3f-49a9-d2f8-92793c0edea1"
      },
      "source": [
        "!head -n 2 dbpedia_sample_abstract_20k_unprep.txt"
      ],
      "execution_count": 2,
      "outputs": [
        {
          "output_type": "stream",
          "name": "stdout",
          "text": [
            "The Mid-Peninsula Highway is a proposed freeway across the Niagara Peninsula in the Canadian province of Ontario. Although plans for a highway connecting Hamilton to Fort Erie south of the Niagara Escarpment have surfaced for decades,it was not until The Niagara Frontier International Gateway Study was published by the Ministry\n",
            "Monte Zucker (died March 15, 2007) was an American photographer. He specialized in wedding photography, entering it as a profession in 1947. In the 1970s he operated a studio in Silver Spring, Maryland. Later he lived in Florida. He was Brides Magazine's Wedding Photographer of the Year for 1990 and\n"
          ]
        }
      ]
    },
    {
      "cell_type": "code",
      "metadata": {
        "id": "WXZ8fOdYwdWO"
      },
      "source": [
        "text_file = \"dbpedia_sample_abstract_20k_unprep.txt\" # EDIT THIS WITH THE FILE YOU UPLOAD"
      ],
      "execution_count": 3,
      "outputs": []
    },
    {
      "cell_type": "markdown",
      "metadata": {
        "id": "M0c_ftxjxY_H"
      },
      "source": [
        "# Importing what we need"
      ]
    },
    {
      "cell_type": "code",
      "metadata": {
        "id": "SZmTpQUov8y8"
      },
      "source": [
        "from contextualized_topic_models.models.ctm import CombinedTM\n",
        "from contextualized_topic_models.utils.data_preparation import TopicModelDataPreparation\n",
        "from contextualized_topic_models.utils.preprocessing import WhiteSpacePreprocessingStopwords\n",
        "import nltk"
      ],
      "execution_count": 4,
      "outputs": []
    },
    {
      "cell_type": "markdown",
      "metadata": {
        "id": "CQkeIrdWLU2m"
      },
      "source": [
        "## Preprocessing"
      ]
    },
    {
      "cell_type": "markdown",
      "metadata": {
        "id": "V-AM070Ez6lW"
      },
      "source": [
        "Why do we use the **preprocessed text** here? We need text without punctuation to build the bag of word. Also, we might want only to have the most frequent words inside the BoW. Too many words might not help."
      ]
    },
    {
      "cell_type": "code",
      "metadata": {
        "id": "HoKrSIkxaNBt",
        "colab": {
          "base_uri": "https://localhost:8080/"
        },
        "outputId": "a3228fa4-f777-4c44-ae4c-e4b9430ac7d3"
      },
      "source": [
        "from nltk.corpus import stopwords as stop_words\n",
        "\n",
        "nltk.download('stopwords')\n",
        "\n",
        "documents = [line.strip() for line in open(text_file, encoding=\"utf-8\").readlines()[0:2000]]\n",
        "\n",
        "stopwords = list(stop_words.words(\"english\"))\n",
        "\n",
        "sp = WhiteSpacePreprocessingStopwords(documents, stopwords_list=stopwords)\n",
        "preprocessed_documents, unpreprocessed_corpus, vocab, retained_indices = sp.preprocess()"
      ],
      "execution_count": 5,
      "outputs": [
        {
          "output_type": "stream",
          "name": "stderr",
          "text": [
            "[nltk_data] Downloading package stopwords to /root/nltk_data...\n",
            "[nltk_data]   Unzipping corpora/stopwords.zip.\n",
            "/usr/local/lib/python3.8/dist-packages/sklearn/utils/deprecation.py:87: FutureWarning: Function get_feature_names is deprecated; get_feature_names is deprecated in 1.0 and will be removed in 1.2. Please use get_feature_names_out instead.\n",
            "  warnings.warn(msg, category=FutureWarning)\n"
          ]
        }
      ]
    },
    {
      "cell_type": "code",
      "metadata": {
        "colab": {
          "base_uri": "https://localhost:8080/"
        },
        "id": "IDxo_ERVonRE",
        "outputId": "e9e3a452-91ce-45e3-96a8-c66d773c311e"
      },
      "source": [
        "preprocessed_documents[:2]"
      ],
      "execution_count": 6,
      "outputs": [
        {
          "output_type": "execute_result",
          "data": {
            "text/plain": [
              "['mid peninsula highway across peninsula canadian province ontario although highway connecting fort south decades international study published ministry',\n",
              " 'died march american photographer photography operated studio silver spring maryland later lived florida magazine photographer year']"
            ]
          },
          "metadata": {},
          "execution_count": 6
        }
      ]
    },
    {
      "cell_type": "markdown",
      "metadata": {
        "id": "stAb2Q4eBB3W"
      },
      "source": [
        "We don't discard the non-preprocessed texts, because we are going to use them as input for obtaining the contextualized document representations. \n",
        "\n",
        "Let's pass our files with preprocess and unpreprocessed data to our `TopicModelDataPreparation` object. This object takes care of creating the bag-of-words for you and of obtaining the contextualized BERT representations of documents. This operation allows us to create our training dataset.\n",
        "\n",
        "Note: Here we use the contextualized model \"paraphrase-distilroberta-base-v1\".\n"
      ]
    },
    {
      "cell_type": "code",
      "metadata": {
        "id": "KhLt6VA3wvCB",
        "colab": {
          "base_uri": "https://localhost:8080/",
          "height": 497,
          "referenced_widgets": [
            "206fb04f95284722a514facafd44e56d",
            "7af9e1358c29413a991b840a4202beb3",
            "3e32efc8a6924232851eaf2cbc8a9081",
            "2f4c5e3cf63741b29ebf29981627e360",
            "1f5d7ec85e854eeda7914c19b3afa7cd",
            "9779052638ee46138c6a3a27e5973324",
            "2243d0b9c407492aa21e6266f9388d06",
            "335354c5aa934c7fab9194387e87af82",
            "aba1fcaa403c4cbda4ff19485e245af1",
            "5c6eb9dd7d034fedaba32f7c3c319d39",
            "462aacd94da44538861a6f1aa469f221",
            "bac00809e4a24ce58c153863395b71a2",
            "86bdff8250dc47a797f8e4cf1ddf5fc2",
            "aee88ed686f74a218830042aec35cce6",
            "c7f66a68a5754a74a54c3d7065ef06ad",
            "4089f7770dc94bcea0817601e4be9e5c",
            "a9e0536bf4134c90b5165c341615adcd",
            "8b57e192ae994edfb20e0539ece571a1",
            "c0286d9db1a54f8b8a6219c62c36427a",
            "e9ede0fae49f4344a7d6af84076f4e12",
            "7ede90995fe0470c82f2eb6abd3f60e1",
            "d2f918e60f6c4e87818ffa06462fe79a",
            "29fa01ab859145648cdf52b923e5cd3d",
            "ff3431d750c64488a26fa92068fa0e7e",
            "7e9ac9d6e66440128a45c28daa2648b9",
            "6c55f89e26c54d2689bacd2665675467",
            "70cecaeaf39b43098261a9b6e93e1b79",
            "2f81e18653c5413e8b2cc1b052285063",
            "0722836fb84b4a3c97e7b937d09d1e7d",
            "0143669e2f4244788cf37253bcb90fb6",
            "a952cf9e5db7445fa31fd3985bf48957",
            "0b4b0bca3e4c4ee6a912694f5754a62d",
            "756248a1edc849449c3dec9b0647b204",
            "9b2c1bdd6782487f8b19fbab799a9ce1",
            "5d50d459a88a4a5cbec13d827eeb9150",
            "acf8b2ea9f1047ed9566371290f45924",
            "c21df3674d314063886a161126371c5f",
            "cd94e6b60a1f42acb1430c0b8967e2cf",
            "6e5fd45eba8b43beb9d7da257f21b0b3",
            "87a454d96eda4c93ab7ef35bd9e6a0e0",
            "58d3c547b93b4ad19305b1601c5c0bff",
            "c00d1c539736466f921bf22909f05d0c",
            "ede1b84d1a134f2399c60cc117694251",
            "b38251231a1243f2a9cdc07ede59024e",
            "a2dacff1ddbb4df597511d93e4bb06eb",
            "28350af357aa4a98a8cb0e79a189dc9e",
            "d3cc95ff43b84ba7ad15e8ac8feffd10",
            "99ccdbae3c8748babd9902a7b6d66e9d",
            "b7e7ed86bc074db7bd9ade9859dbf67b",
            "35211ce1ef0140669267c55abc5f12e2",
            "e54d067d23a9459990043967b3954324",
            "c0255e9f9a6946d0856c4399a9286670",
            "212efacba52b469dbbed9748daf2c85b",
            "c2fccb5872bc4e0abc3e5149ec6fb5fc",
            "e276a7d5cb664008a6e65135dc9808bd",
            "d58f2a6b648445099ebb88b3159a2b23",
            "ef06b539e19e42b6831616dd622a0c50",
            "61d2d2d74e5e47e0a32934200aa7ef26",
            "6645c7c44ce5480dad7e67c9127772e8",
            "7e765011d1da4de2900cfc90acdb792a",
            "f8be4bc48b394325ae96192aeb40bfd4",
            "34972a4551994591acfc66e3d480aac3",
            "1cdcd9e49ae3483196ea8249f97a0bdb",
            "5c2ade8f3a4641b89685a4954b098e11",
            "e9170402c850481d8a864e7b0d27992c",
            "fe2a4d9003d845ffaa1a0b515cf354f6",
            "8a068dd6192e48e29beefaf4c2e40796",
            "3e732d4d66ed47adaf529eb09539416c",
            "6d7c947998d84e6087ae9583d34ef55e",
            "4a0b366e6ef644b6b28fc8e0057d5e76",
            "6ea93005bd1e47dfaa19e6564f7050f2",
            "6db790457c95437db71fe80c95598af5",
            "dc42a09ae1fd4a57bc469493aa3fa217",
            "4647ccb060ff428a8c6888258e5d0a2a",
            "583228dea3204db8938143cefa8c2ade",
            "9bba4f17ba714ac896a950885ba121c4",
            "13141dae17b9430ca0aa5075b6529b3f",
            "94ed561755254382be525278051996fe",
            "a37d4098978e45a19cb6fbe152d02d74",
            "8d3368bc2ec945fa8a6bb9351199cda1",
            "c055cf9a677a4b128cc21ef50c612b6b",
            "45723b1133f84afdb0335091f0a9c3ef",
            "9aaa1631de024b04a42171ca86c73564",
            "71380a0eee794301b59d7b5defb108e3",
            "31cef6f123a948a8be98067b08e7e23a",
            "e7554d62c8844f8ba23ec73c7c9808ee",
            "d7f76ca8572049189097e573ab8b3cdc",
            "bc392806e36d4721869580f99cd38cb8",
            "b4bd20cf75404c1ca7f2cafd8cc2d766",
            "f810e0d4ee3b46d38f058b2f1b0110da",
            "f3e0bddac3bf41cfa88d9d4f7a531ccf",
            "4824526be1c24b9f834ef68735376612",
            "def92fa22f42433f8961e585af3ff9cb",
            "fce99bc8bde646b8ad8c02164168888a",
            "589736d587674fc08cd8ddc81426bcdc",
            "ea21d97ae4c0441ea5b98f3eb0c41a70",
            "bc2b9656d86a41139cc9f9923bbf6010",
            "49d3eb150d6c412cb2444017dcfcf2ec",
            "ce0f9660b2874c859dd3ba9e55bebe59",
            "352f9b740ec94e3e8cd39280ff8aa3f0",
            "7eedd373c3404bcaa9a30fefd7c152f3",
            "3688132375254b02907735adafa4403f",
            "1b665567248a4cf0ac40a2df4c409d4d",
            "d59fb7a84c56462c8ed4a62fab45d43b",
            "2712c4b8e6dc412dbcb077618aaf8b47",
            "a4471a5948834aa3bc27184d2de14c21",
            "5c349abac28f4d0caafbe5b274ac08ae",
            "44282a296b504095ba74f44c3b20970d",
            "acbebf48ec6247eb94b6072f0bed8656",
            "7ce5ed93f008410fb165f28573a94f09",
            "c622afa73018415393e246f8ba1c4117",
            "5c7efe3847ad42c4bb35d03848be604b",
            "e994d0b65f4643aaa17d39b460467e3f",
            "1f1ec92b9902410ba152b1b0b010b265",
            "bf6d0bf59e53441cbb6fab2384c6d3dd",
            "79bb19d089f34ec89e4e49db7040a83f",
            "0073792cbd2a4664aa216240acdd2f3a",
            "62d148020b1d4d88bdf05c9a4f55784e",
            "d200dd56f3d84c17a6c44c6439fa7de9",
            "5eeb1490cc394554b0c1323b4ccc7dfe",
            "ef25556e044f4d408f601a7e7a7563b6",
            "21c9159fc9b448a2bfbac20cf4e6abc8",
            "a407286512d847ed82f76772499d3405",
            "ff2b97a6da9c49f8b136204c95cf9a9f",
            "cc68919474bb41b0971f640fd16191fb",
            "91905896de1c41dda53902c6e31e2ccb",
            "bbd4a5f379bf4ccf88da18eaed3cb2c4",
            "597be355340841d9b4237799e29a7410",
            "ae877ca046f148d881414b7d70adb59a",
            "023c72b4e8814e7eb47b84f704d7795c",
            "15889fc2fd1d405999f47f0aba87e418",
            "728edfcdcd384c97b0b32c2f85e5bbbf",
            "e5a01e7020b34ba1a51d37f799ede23d",
            "4e7c147f21914af18a3e095c6694e6f1",
            "cf32a02033244a38b7a84fb74183a268",
            "b298864ade754916a6bbcb009a431e8a",
            "b2166ebdafe048c29d965769eb6c03a6",
            "d74bae91702b473da944a7c5e6964129",
            "dd0cc627b0424be9b2f2b7076c26fd92",
            "9d562fa5168141338d0c956ed7fde284",
            "ede2c832e5b44cf5a7e6311704e0b260",
            "4d80dbd6838541fab43c4f29064ba3db",
            "28c158b1093b42fc9cf532349fea7774",
            "a6d88e171d664f2482b9e3f509cbcb86",
            "4c926669ebdd4ed29e16a513bc65e7a2",
            "723615f1e0d046c3939f0292545fcf66",
            "ed74d6563e7e4bc897ad9977bb3c0682",
            "71b03a0c9a244346bf4617b2bd4895ab",
            "2451946205454a5a87a939f27c7e7b77",
            "a94e8d952e1e40e3aa6138185d2a3e18",
            "da65aab5c64c4ee9b52182f24db4e0da",
            "6aa780b3bcc6419f90620fa663c6dce1",
            "96fd91bca3f8404b9bb40f0539afcc06",
            "91a19aa5f3a84431a2f03a6b5d3c3fbc",
            "e567a294281a420692b2236f385eefba",
            "2cb301202d75471ab2a92130ea7033a0",
            "e0e675dd043043328b0d6ef1c088746c",
            "d7e3993102f246c28437adb84002b060",
            "c7a51bca082846d39fc8b8f2b884bebc",
            "0e0bfcfc78b64b2d823d04535375a112",
            "4ad93f04beeb46f2b4196fb8926dac46",
            "7632c008449443c0ac75c549c474db4c",
            "2dc01ffe38a94086a06838951bedbe00",
            "c1858330f3504adfb60d416e60b0ed2d",
            "d486b7e7f2784dd89f4cad5510bb0da6"
          ]
        },
        "outputId": "c65c3ca8-1764-4228-8725-4ec04649b33a"
      },
      "source": [
        "tp = TopicModelDataPreparation(\"all-mpnet-base-v2\")\n",
        "\n",
        "training_dataset = tp.fit(text_for_contextual=unpreprocessed_corpus, text_for_bow=preprocessed_documents)"
      ],
      "execution_count": 7,
      "outputs": [
        {
          "output_type": "display_data",
          "data": {
            "text/plain": [
              "Downloading:   0%|          | 0.00/1.18k [00:00<?, ?B/s]"
            ],
            "application/vnd.jupyter.widget-view+json": {
              "version_major": 2,
              "version_minor": 0,
              "model_id": "206fb04f95284722a514facafd44e56d"
            }
          },
          "metadata": {}
        },
        {
          "output_type": "display_data",
          "data": {
            "text/plain": [
              "Downloading:   0%|          | 0.00/190 [00:00<?, ?B/s]"
            ],
            "application/vnd.jupyter.widget-view+json": {
              "version_major": 2,
              "version_minor": 0,
              "model_id": "bac00809e4a24ce58c153863395b71a2"
            }
          },
          "metadata": {}
        },
        {
          "output_type": "display_data",
          "data": {
            "text/plain": [
              "Downloading:   0%|          | 0.00/10.6k [00:00<?, ?B/s]"
            ],
            "application/vnd.jupyter.widget-view+json": {
              "version_major": 2,
              "version_minor": 0,
              "model_id": "29fa01ab859145648cdf52b923e5cd3d"
            }
          },
          "metadata": {}
        },
        {
          "output_type": "display_data",
          "data": {
            "text/plain": [
              "Downloading:   0%|          | 0.00/571 [00:00<?, ?B/s]"
            ],
            "application/vnd.jupyter.widget-view+json": {
              "version_major": 2,
              "version_minor": 0,
              "model_id": "9b2c1bdd6782487f8b19fbab799a9ce1"
            }
          },
          "metadata": {}
        },
        {
          "output_type": "display_data",
          "data": {
            "text/plain": [
              "Downloading:   0%|          | 0.00/116 [00:00<?, ?B/s]"
            ],
            "application/vnd.jupyter.widget-view+json": {
              "version_major": 2,
              "version_minor": 0,
              "model_id": "a2dacff1ddbb4df597511d93e4bb06eb"
            }
          },
          "metadata": {}
        },
        {
          "output_type": "display_data",
          "data": {
            "text/plain": [
              "Downloading:   0%|          | 0.00/39.3k [00:00<?, ?B/s]"
            ],
            "application/vnd.jupyter.widget-view+json": {
              "version_major": 2,
              "version_minor": 0,
              "model_id": "d58f2a6b648445099ebb88b3159a2b23"
            }
          },
          "metadata": {}
        },
        {
          "output_type": "display_data",
          "data": {
            "text/plain": [
              "Downloading:   0%|          | 0.00/438M [00:00<?, ?B/s]"
            ],
            "application/vnd.jupyter.widget-view+json": {
              "version_major": 2,
              "version_minor": 0,
              "model_id": "8a068dd6192e48e29beefaf4c2e40796"
            }
          },
          "metadata": {}
        },
        {
          "output_type": "display_data",
          "data": {
            "text/plain": [
              "Downloading:   0%|          | 0.00/53.0 [00:00<?, ?B/s]"
            ],
            "application/vnd.jupyter.widget-view+json": {
              "version_major": 2,
              "version_minor": 0,
              "model_id": "94ed561755254382be525278051996fe"
            }
          },
          "metadata": {}
        },
        {
          "output_type": "display_data",
          "data": {
            "text/plain": [
              "Downloading:   0%|          | 0.00/239 [00:00<?, ?B/s]"
            ],
            "application/vnd.jupyter.widget-view+json": {
              "version_major": 2,
              "version_minor": 0,
              "model_id": "b4bd20cf75404c1ca7f2cafd8cc2d766"
            }
          },
          "metadata": {}
        },
        {
          "output_type": "display_data",
          "data": {
            "text/plain": [
              "Downloading:   0%|          | 0.00/466k [00:00<?, ?B/s]"
            ],
            "application/vnd.jupyter.widget-view+json": {
              "version_major": 2,
              "version_minor": 0,
              "model_id": "352f9b740ec94e3e8cd39280ff8aa3f0"
            }
          },
          "metadata": {}
        },
        {
          "output_type": "display_data",
          "data": {
            "text/plain": [
              "Downloading:   0%|          | 0.00/363 [00:00<?, ?B/s]"
            ],
            "application/vnd.jupyter.widget-view+json": {
              "version_major": 2,
              "version_minor": 0,
              "model_id": "c622afa73018415393e246f8ba1c4117"
            }
          },
          "metadata": {}
        },
        {
          "output_type": "display_data",
          "data": {
            "text/plain": [
              "Downloading:   0%|          | 0.00/13.1k [00:00<?, ?B/s]"
            ],
            "application/vnd.jupyter.widget-view+json": {
              "version_major": 2,
              "version_minor": 0,
              "model_id": "21c9159fc9b448a2bfbac20cf4e6abc8"
            }
          },
          "metadata": {}
        },
        {
          "output_type": "display_data",
          "data": {
            "text/plain": [
              "Downloading:   0%|          | 0.00/232k [00:00<?, ?B/s]"
            ],
            "application/vnd.jupyter.widget-view+json": {
              "version_major": 2,
              "version_minor": 0,
              "model_id": "e5a01e7020b34ba1a51d37f799ede23d"
            }
          },
          "metadata": {}
        },
        {
          "output_type": "display_data",
          "data": {
            "text/plain": [
              "Downloading:   0%|          | 0.00/349 [00:00<?, ?B/s]"
            ],
            "application/vnd.jupyter.widget-view+json": {
              "version_major": 2,
              "version_minor": 0,
              "model_id": "a6d88e171d664f2482b9e3f509cbcb86"
            }
          },
          "metadata": {}
        },
        {
          "output_type": "display_data",
          "data": {
            "text/plain": [
              "Batches:   0%|          | 0/10 [00:00<?, ?it/s]"
            ],
            "application/vnd.jupyter.widget-view+json": {
              "version_major": 2,
              "version_minor": 0,
              "model_id": "e567a294281a420692b2236f385eefba"
            }
          },
          "metadata": {}
        }
      ]
    },
    {
      "cell_type": "markdown",
      "metadata": {
        "id": "-aevSxSBbYZG"
      },
      "source": [
        "Let's check the first ten words of the vocabulary "
      ]
    },
    {
      "cell_type": "code",
      "metadata": {
        "colab": {
          "base_uri": "https://localhost:8080/"
        },
        "id": "evwSKgdyyhWq",
        "outputId": "72b0408d-f90f-408f-de72-c4427fbb18a7"
      },
      "source": [
        "tp.vocab[:10]"
      ],
      "execution_count": 8,
      "outputs": [
        {
          "output_type": "execute_result",
          "data": {
            "text/plain": [
              "['ab',\n",
              " 'abbreviated',\n",
              " 'abroad',\n",
              " 'academic',\n",
              " 'academy',\n",
              " 'accepted',\n",
              " 'access',\n",
              " 'according',\n",
              " 'accounting',\n",
              " 'achieved']"
            ]
          },
          "metadata": {},
          "execution_count": 8
        }
      ]
    },
    {
      "cell_type": "code",
      "source": [
        "tp.vocab[1990:]"
      ],
      "metadata": {
        "colab": {
          "base_uri": "https://localhost:8080/"
        },
        "id": "fhM5ER4b74QV",
        "outputId": "970415de-72ee-4e55-e4d6-ed491bba5ea3"
      },
      "execution_count": 11,
      "outputs": [
        {
          "output_type": "execute_result",
          "data": {
            "text/plain": [
              "['ye',\n",
              " 'year',\n",
              " 'years',\n",
              " 'yellow',\n",
              " 'yet',\n",
              " 'york',\n",
              " 'young',\n",
              " 'youth',\n",
              " 'zealand',\n",
              " 'zone']"
            ]
          },
          "metadata": {},
          "execution_count": 11
        }
      ]
    },
    {
      "cell_type": "code",
      "source": [
        "len(tp.vocab)"
      ],
      "metadata": {
        "colab": {
          "base_uri": "https://localhost:8080/"
        },
        "id": "7KO8J-YE66oG",
        "outputId": "b15212af-222e-4229-cb4a-03b1bb641ef8"
      },
      "execution_count": 9,
      "outputs": [
        {
          "output_type": "execute_result",
          "data": {
            "text/plain": [
              "2000"
            ]
          },
          "metadata": {},
          "execution_count": 9
        }
      ]
    },
    {
      "cell_type": "markdown",
      "metadata": {
        "id": "4x-esnySk7uO"
      },
      "source": [
        "## Training our Combined TM\n",
        "\n",
        "Finally, we can fit our new topic model. We will ask the model to find 50 topics in our collection."
      ]
    },
    {
      "cell_type": "code",
      "metadata": {
        "id": "9I3ThmBf0BcK",
        "colab": {
          "base_uri": "https://localhost:8080/"
        },
        "outputId": "fd775ed1-566c-4ed8-f68c-263c27839604"
      },
      "source": [
        "ctm = CombinedTM(bow_size=len(tp.vocab), contextual_size=768, n_components=20, num_epochs=10)\n",
        "ctm.fit(training_dataset) # run the model"
      ],
      "execution_count": 12,
      "outputs": [
        {
          "output_type": "stream",
          "name": "stderr",
          "text": [
            "Epoch: [10/10]\t Seen Samples: [20000/20000]\tTrain Loss: 138.32534484863282\tTime: 0:00:00.659648: : 10it [00:06,  1.47it/s]\n",
            "Sampling: [20/20]: : 20it [00:11,  1.79it/s]\n"
          ]
        }
      ]
    },
    {
      "cell_type": "markdown",
      "metadata": {
        "id": "-SEBG6wj9Zdu"
      },
      "source": [
        "# Topics\n",
        "\n",
        "After training, now it is the time to look at our topics: we can use the \n",
        "\n",
        "```\n",
        "get_topic_lists\n",
        "```\n",
        "\n",
        "function to get the topics. It also accepts a parameter that allows you to select how many words you want to see for each topic.\n",
        "\n",
        "If you look at the topics, you will see that they all make sense and are representative of a collection of documents that comes from Wikipedia (general knowledge). Notice that the topics are in English, because we trained the model on English documents."
      ]
    },
    {
      "cell_type": "code",
      "metadata": {
        "id": "lxcKgjbx3V2o",
        "colab": {
          "base_uri": "https://localhost:8080/"
        },
        "outputId": "99012bce-4742-42b6-b68c-88bca8569399"
      },
      "source": [
        "ctm.get_topic_lists(5)"
      ],
      "execution_count": 14,
      "outputs": [
        {
          "output_type": "execute_result",
          "data": {
            "text/plain": [
              "[['author', 'international', 'writer', 'french', 'characters'],\n",
              " ['released', 'rock', 'directed', 'studio', 'album'],\n",
              " ['km', 'lies', 'north', 'south', 'village'],\n",
              " ['used', 'information', 'body', 'important', 'often'],\n",
              " ['directed', 'film', 'type', 'name', 'described'],\n",
              " ['class', 'used', 'designed', 'user', 'three'],\n",
              " ['born', 'played', 'player', 'league', 'january'],\n",
              " ['area', 'county', 'village', 'district', 'km'],\n",
              " ['village', 'district', 'km', 'south', 'east'],\n",
              " ['based', 'founded', 'music', 'company', 'federation'],\n",
              " ['league', 'born', 'professional', 'football', 'former'],\n",
              " ['released', 'album', 'band', 'game', 'published'],\n",
              " ['best', 'known', 'professor', 'social', 'actress'],\n",
              " ['politician', 'party', 'house', 'member', 'election'],\n",
              " ['located', 'town', 'county', 'historic', 'station'],\n",
              " ['born', 'player', 'former', 'played', 'american'],\n",
              " ['found', 'moth', 'mm', 'family', 'adults'],\n",
              " ['family', 'species', 'school', 'mm', 'college'],\n",
              " ['located', 'county', 'state', 'river', 'north'],\n",
              " ['minister', 'william', 'journal', 'conference', 'home']]"
            ]
          },
          "metadata": {},
          "execution_count": 14
        }
      ]
    },
    {
      "cell_type": "markdown",
      "metadata": {
        "id": "UIxPpLs4sn-Q"
      },
      "source": [
        "# Let's Draw!\n",
        "\n",
        "We can use PyLDAvis to plot our topic in a nice and friendly manner :)"
      ]
    },
    {
      "cell_type": "code",
      "metadata": {
        "colab": {
          "base_uri": "https://localhost:8080/"
        },
        "id": "mnN3vcyQstZE",
        "outputId": "72b9758a-b375-4fd4-d0f4-f6720fc5120e"
      },
      "source": [
        " lda_vis_data = ctm.get_ldavis_data_format(tp.vocab, training_dataset, n_samples=10)"
      ],
      "execution_count": 15,
      "outputs": [
        {
          "output_type": "stream",
          "name": "stderr",
          "text": [
            "Sampling: [10/10]: : 10it [00:05,  1.75it/s]\n"
          ]
        }
      ]
    },
    {
      "cell_type": "code",
      "metadata": {
        "id": "mFhhsliMtDXJ",
        "colab": {
          "base_uri": "https://localhost:8080/",
          "height": 1000
        },
        "outputId": "e492e223-99dc-4f17-da05-ee1307109043"
      },
      "source": [
        "import pyLDAvis as vis\n",
        "\n",
        "lda_vis_data = ctm.get_ldavis_data_format(tp.vocab, training_dataset, n_samples=10)\n",
        "\n",
        "ctm_pd = vis.prepare(**lda_vis_data)\n",
        "vis.display(ctm_pd)"
      ],
      "execution_count": 16,
      "outputs": [
        {
          "output_type": "stream",
          "name": "stderr",
          "text": [
            "/usr/local/lib/python3.8/dist-packages/past/types/oldstr.py:5: DeprecationWarning: Using or importing the ABCs from 'collections' instead of from 'collections.abc' is deprecated since Python 3.3, and in 3.10 it will stop working\n",
            "  from collections import Iterable\n",
            "/usr/local/lib/python3.8/dist-packages/past/builtins/misc.py:4: DeprecationWarning: Using or importing the ABCs from 'collections' instead of from 'collections.abc' is deprecated since Python 3.3, and in 3.10 it will stop working\n",
            "  from collections import Mapping\n",
            "Sampling: [10/10]: : 10it [00:05,  1.74it/s]\n",
            "/usr/local/lib/python3.8/dist-packages/pyLDAvis/_prepare.py:246: FutureWarning: In a future version of pandas all arguments of DataFrame.drop except for the argument 'labels' will be keyword-only\n",
            "  default_term_info = default_term_info.sort_values(\n"
          ]
        },
        {
          "output_type": "execute_result",
          "data": {
            "text/plain": [
              "<IPython.core.display.HTML object>"
            ],
            "text/html": [
              "\n",
              "<link rel=\"stylesheet\" type=\"text/css\" href=\"https://cdn.jsdelivr.net/gh/bmabey/pyLDAvis@3.3.1/pyLDAvis/js/ldavis.v1.0.0.css\">\n",
              "\n",
              "\n",
              "<div id=\"ldavis_el18691401520905167201772429653\"></div>\n",
              "<script type=\"text/javascript\">\n",
              "\n",
              "var ldavis_el18691401520905167201772429653_data = {\"mdsDat\": {\"x\": [0.00013380051878542865, 0.0004465057553131347, 0.00047476086730548407, -0.0006699224458212644, 0.0003456499107414723, 0.0005116978738546522, -0.00019007752368943318, 0.0004628119734458254, -0.0006230310522637679, 0.00020624000390629725, -0.0006161591066501348, -0.0006582420115253845, 0.00018357650066597894, -0.0004995621546476928, 0.00033836124360893735, -0.00010120208480519802, 6.802361615326896e-05, -1.838201828992543e-05, 0.00012046016961992811, 8.468996429239122e-05], \"y\": [0.0004026481551112594, -9.791435312237746e-05, -0.00040120422285655255, -5.4540158850073404e-05, 0.000123312987800576, 0.00010041280371734245, -2.803353463228378e-05, -0.000508868611096446, -7.785866791143736e-06, -0.00018170345498303927, -0.00021323347426858023, -0.0001631508257788633, 0.0003826273125211168, -0.0003014266758431896, -0.000522272034769404, 0.0004126619088215706, 9.791709940364628e-05, 0.0002636754287761926, 0.0002971742867816557, 0.0003997032300585934], \"topics\": [1, 2, 3, 4, 5, 6, 7, 8, 9, 10, 11, 12, 13, 14, 15, 16, 17, 18, 19, 20], \"cluster\": [1, 1, 1, 1, 1, 1, 1, 1, 1, 1, 1, 1, 1, 1, 1, 1, 1, 1, 1, 1], \"Freq\": [5.909309871680179, 5.85444533194439, 5.5798547976812305, 5.453766647113919, 5.349715199832478, 5.317891584464833, 5.3059824290980995, 5.211515431302789, 5.1955355638519345, 5.1632597920746415, 5.158845609975353, 4.972752791489142, 4.941598026584509, 4.818883071316956, 4.6926520607507936, 4.390627440276064, 4.241792501439732, 4.2371281105048, 4.2144113343924126, 3.9900324042257345]}, \"tinfo\": {\"Term\": [\"list\", \"river\", \"mapped\", \"northeastern\", \"species\", \"schools\", \"electricity\", \"used\", \"audio\", \"near\", \"data\", \"advanced\", \"railway\", \"india\", \"senate\", \"region\", \"site\", \"type\", \"name\", \"villages\", \"agent\", \"line\", \"pradesh\", \"commonly\", \"usually\", \"user\", \"port\", \"mp\", \"sometimes\", \"hamlet\", \"released\", \"album\", \"band\", \"game\", \"published\", \"series\", \"written\", \"records\", \"production\", \"video\", \"corporation\", \"games\", \"show\", \"studio\", \"uk\", \"produced\", \"songs\", \"bassist\", \"feature\", \"songwriter\", \"kingdom\", \"debut\", \"rock\", \"aired\", \"sold\", \"based\", \"recorded\", \"peter\", \"music\", \"fiction\", \"entertainment\", \"comedy\", \"story\", \"company\", \"politician\", \"party\", \"member\", \"election\", \"house\", \"served\", \"elected\", \"democratic\", \"held\", \"elections\", \"president\", \"republican\", \"parliament\", \"son\", \"governor\", \"june\", \"appointed\", \"representatives\", \"conservative\", \"december\", \"general\", \"deputy\", \"council\", \"sir\", \"later\", \"terms\", \"married\", \"mayor\", \"daughter\", \"lawyer\", \"born\", \"july\", \"educated\", \"september\", \"assembly\", \"league\", \"born\", \"summer\", \"hockey\", \"football\", \"olympics\", \"footballer\", \"championship\", \"played\", \"professional\", \"bronze\", \"former\", \"women\", \"division\", \"competed\", \"cup\", \"tournament\", \"competition\", \"cricketer\", \"february\", \"men\", \"player\", \"medal\", \"april\", \"career\", \"playing\", \"march\", \"world\", \"retired\", \"basketball\", \"season\", \"best\", \"american\", \"may\", \"town\", \"located\", \"miles\", \"station\", \"population\", \"community\", \"county\", \"historic\", \"district\", \"village\", \"area\", \"km\", \"part\", \"highway\", \"parish\", \"unincorporated\", \"railway\", \"road\", \"lies\", \"built\", \"northern\", \"along\", \"census\", \"border\", \"southern\", \"city\", \"creek\", \"south\", \"building\", \"eastern\", \"river\", \"east\", \"one\", \"united\", \"street\", \"north\", \"states\", \"based\", \"founded\", \"formed\", \"music\", \"artist\", \"rock\", \"federation\", \"company\", \"teams\", \"business\", \"association\", \"director\", \"internet\", \"produced\", \"tennis\", \"press\", \"first\", \"singer\", \"dance\", \"award\", \"projects\", \"composer\", \"richard\", \"worked\", \"season\", \"team\", \"band\", \"release\", \"hockey\", \"guitarist\", \"art\", \"american\", \"including\", \"japanese\", \"york\", \"studio\", \"among\", \"russian\", \"french\", \"known\", \"best\", \"professor\", \"social\", \"actress\", \"director\", \"writer\", \"degree\", \"photographer\", \"died\", \"july\", \"war\", \"significant\", \"hague\", \"artist\", \"department\", \"april\", \"studies\", \"graduated\", \"architect\", \"fields\", \"daughter\", \"studied\", \"films\", \"august\", \"december\", \"brother\", \"among\", \"paris\", \"friedrich\", \"general\", \"american\", \"relations\", \"french\", \"received\", \"september\", \"leader\", \"june\", \"academy\", \"painter\", \"name\", \"art\", \"may\", \"family\", \"species\", \"forewings\", \"genus\", \"mm\", \"college\", \"school\", \"wingspan\", \"found\", \"moth\", \"males\", \"coast\", \"white\", \"education\", \"habitat\", \"mountains\", \"black\", \"belonging\", \"university\", \"france\", \"catholic\", \"brown\", \"commission\", \"large\", \"western\", \"botanist\", \"adults\", \"federal\", \"butterfly\", \"professor\", \"german\", \"ontario\", \"small\", \"dark\", \"established\", \"player\", \"born\", \"played\", \"january\", \"league\", \"football\", \"former\", \"footballer\", \"olympics\", \"medals\", \"competed\", \"career\", \"plays\", \"june\", \"nfl\", \"club\", \"track\", \"coach\", \"bronze\", \"silver\", \"australian\", \"february\", \"competing\", \"wrestling\", \"team\", \"summer\", \"championships\", \"professional\", \"athlete\", \"currently\", \"medal\", \"american\", \"college\", \"april\", \"world\", \"october\", \"lies\", \"km\", \"north\", \"village\", \"miles\", \"south\", \"west\", \"road\", \"district\", \"parish\", \"east\", \"located\", \"mountains\", \"county\", \"within\", \"regional\", \"capital\", \"poland\", \"approximately\", \"community\", \"area\", \"river\", \"coast\", \"near\", \"island\", \"region\", \"northern\", \"voivodeship\", \"square\", \"mi\", \"kilometres\", \"part\", \"england\", \"administrative\", \"minister\", \"william\", \"conference\", \"journal\", \"ncaa\", \"home\", \"grew\", \"basketball\", \"men\", \"federation\", \"tennis\", \"soccer\", \"knight\", \"august\", \"season\", \"club\", \"march\", \"clubs\", \"law\", \"george\", \"arthur\", \"year\", \"member\", \"teams\", \"present\", \"art\", \"cup\", \"big\", \"division\", \"fk\", \"founded\", \"received\", \"arts\", \"korean\", \"england\", \"oxford\", \"antonio\", \"area\", \"village\", \"district\", \"county\", \"km\", \"town\", \"east\", \"population\", \"capital\", \"lies\", \"located\", \"north\", \"administrative\", \"mi\", \"central\", \"poland\", \"regional\", \"voivodeship\", \"kilometres\", \"within\", \"census\", \"south\", \"park\", \"approximately\", \"region\", \"gmina\", \"river\", \"west\", \"southern\", \"station\", \"along\", \"village\", \"district\", \"lies\", \"km\", \"town\", \"within\", \"capital\", \"area\", \"regional\", \"south\", \"east\", \"poland\", \"administrative\", \"north\", \"population\", \"kilometres\", \"mi\", \"county\", \"miles\", \"approximately\", \"located\", \"voivodeship\", \"municipality\", \"along\", \"river\", \"province\", \"west\", \"highway\", \"gmina\", \"railway\", \"region\", \"central\", \"state\", \"released\", \"directed\", \"rock\", \"game\", \"studio\", \"film\", \"album\", \"video\", \"band\", \"records\", \"uk\", \"radio\", \"stars\", \"solo\", \"lead\", \"reality\", \"launched\", \"tv\", \"television\", \"songwriter\", \"written\", \"format\", \"japan\", \"promote\", \"novel\", \"indie\", \"usually\", \"features\", \"computer\", \"silent\", \"entertainment\", \"developed\", \"series\", \"drama\", \"based\", \"first\", \"channel\", \"role\", \"river\", \"county\", \"located\", \"state\", \"north\", \"district\", \"southern\", \"population\", \"islands\", \"km\", \"village\", \"eastern\", \"near\", \"regional\", \"island\", \"along\", \"lies\", \"one\", \"municipality\", \"town\", \"settlement\", \"community\", \"province\", \"south\", \"part\", \"lake\", \"administrative\", \"estonia\", \"seat\", \"capital\", \"region\", \"northern\", \"east\", \"mi\", \"born\", \"player\", \"former\", \"played\", \"career\", \"drafted\", \"nfl\", \"medal\", \"football\", \"american\", \"agent\", \"olympics\", \"march\", \"january\", \"february\", \"irish\", \"politician\", \"cricketer\", \"represented\", \"retired\", \"footballer\", \"plays\", \"zealand\", \"bronze\", \"summer\", \"coach\", \"round\", \"team\", \"cup\", \"league\", \"national\", \"party\", \"professional\", \"world\", \"started\", \"manufactured\", \"group\", \"designed\", \"user\", \"used\", \"referred\", \"groups\", \"often\", \"similar\", \"management\", \"variety\", \"history\", \"generally\", \"operations\", \"nepali\", \"class\", \"disease\", \"various\", \"launched\", \"character\", \"complex\", \"developed\", \"known\", \"half\", \"profit\", \"work\", \"naval\", \"promote\", \"features\", \"prima\", \"four\", \"modern\", \"lives\", \"three\", \"period\", \"type\", \"order\", \"one\", \"species\", \"foreign\", \"author\", \"international\", \"writer\", \"peer\", \"book\", \"alfred\", \"heart\", \"development\", \"philosophy\", \"characters\", \"building\", \"research\", \"journalist\", \"contains\", \"center\", \"jewish\", \"related\", \"brazilian\", \"vice\", \"million\", \"ii\", \"chief\", \"nee\", \"governor\", \"al\", \"harris\", \"president\", \"society\", \"journal\", \"named\", \"french\", \"conflict\", \"berlin\", \"various\", \"established\", \"sciences\", \"german\", \"served\", \"see\", \"professor\", \"moth\", \"found\", \"adults\", \"mm\", \"species\", \"family\", \"natural\", \"well\", \"meaning\", \"known\", \"la\", \"subfamily\", \"forewings\", \"period\", \"wingspan\", \"salt\", \"plant\", \"oil\", \"department\", \"usually\", \"early\", \"females\", \"church\", \"senate\", \"third\", \"lucas\", \"line\", \"males\", \"lord\", \"scotland\", \"latin\", \"general\", \"unknown\", \"great\", \"context\", \"person\", \"use\", \"name\", \"four\", \"directed\", \"film\", \"type\", \"described\", \"tamil\", \"indian\", \"insurance\", \"sometimes\", \"parties\", \"well\", \"protein\", \"sanskrit\", \"contract\", \"name\", \"common\", \"least\", \"performance\", \"rate\", \"audio\", \"human\", \"sulfotransferase\", \"language\", \"related\", \"starring\", \"used\", \"king\", \"genus\", \"referred\", \"generally\", \"stars\", \"production\", \"bbc\", \"including\", \"system\", \"also\", \"title\", \"car\", \"made\", \"began\", \"voice\", \"used\", \"information\", \"often\", \"available\", \"body\", \"process\", \"structure\", \"systems\", \"called\", \"others\", \"term\", \"sister\", \"theory\", \"computer\", \"refers\", \"important\", \"use\", \"specific\", \"conventional\", \"caused\", \"time\", \"transfer\", \"density\", \"products\", \"usually\", \"data\", \"planet\", \"activity\", \"allow\", \"strongly\", \"sometimes\", \"non\", \"proteins\", \"context\", \"translation\", \"type\", \"carried\", \"spirit\", \"associated\", \"reno\", \"early\", \"stories\"], \"Freq\": [17.0, 17.0, 17.0, 17.0, 17.0, 17.0, 17.0, 17.0, 17.0, 17.0, 17.0, 17.0, 17.0, 17.0, 17.0, 17.0, 17.0, 17.0, 18.0, 17.0, 17.0, 17.0, 17.0, 17.0, 17.0, 17.0, 17.0, 17.0, 17.0, 17.0, 1.280547249540358, 1.2499520645952342, 1.2276874748449673, 1.221170561606362, 1.2066292719383478, 1.206483080332612, 1.203179688772518, 1.1954781827487417, 1.1952899947269526, 1.194950350242605, 1.1689035118384141, 1.1831707840745718, 1.1886702331225032, 1.1995763228120444, 1.1834427200514053, 1.1830572835565507, 1.1645817990179308, 1.1558882960178802, 1.1678756403726251, 1.1753248005844905, 1.1769607017940686, 1.174767950146562, 1.1833281175866073, 1.1639702185567495, 1.1710112911455683, 1.1860719650610962, 1.1657530460032481, 1.1803037634381313, 1.1781641501129776, 1.174990298518435, 1.1820220657789156, 1.1707376410293042, 1.1737739941537955, 1.1717541257117319, 1.2996095838905026, 1.2519284095657688, 1.2414917274796595, 1.2355794797213526, 1.250381448226793, 1.2285946818054965, 1.2052176493170805, 1.2053612706003352, 1.2154368373483961, 1.2027988922325372, 1.1898504146123436, 1.2057988060468723, 1.1897419708393457, 1.1998597505997146, 1.1883211633302557, 1.2134766009147844, 1.1859713056451116, 1.183320983501672, 1.198447919420828, 1.1784626054299503, 1.1992510583705152, 1.180172596333702, 1.1851872110716668, 1.1757162122929823, 1.1775037150210579, 1.1717731772984905, 1.1738402805822268, 1.1628224417663258, 1.1639868173558208, 1.1655531869763178, 1.206752480480106, 1.176137857209024, 1.1788986852553733, 1.1779997179156767, 1.179009433761802, 1.2118453392817565, 1.1939025332039825, 1.155313557380626, 1.1383153042330147, 1.1625612958374079, 1.1338022603919087, 1.138756712199644, 1.1499685670419124, 1.155998560576613, 1.1719995415607498, 1.1102656661901447, 1.1593443820942277, 1.1355147105756995, 1.1414510581038602, 1.1295063365511508, 1.1320509644572567, 1.125113067108533, 1.138423864233189, 1.114944382534179, 1.1219067897018982, 1.127078823959397, 1.1074173246307295, 1.1217848186686887, 1.1343982420755059, 1.114875940020757, 1.1024252988080243, 1.1270895759082962, 1.1423494817048756, 1.1151401142490829, 1.1179645240512712, 1.123291594475153, 1.1292270171044834, 1.1245096862342956, 1.1161343804913597, 1.1716146180209295, 1.1968835332307388, 1.1506057974516017, 1.1550068029148066, 1.144755681811486, 1.152880145590301, 1.1631156727132401, 1.1550933608059104, 1.147516155338603, 1.1454001200007344, 1.1317281542010929, 1.1470681109022767, 1.1517800919742511, 1.1083540206075062, 1.1218911775767473, 1.1238161301550125, 1.1172572794065387, 1.1195601035094134, 1.1103271111252102, 1.1317534661692485, 1.1278954250229536, 1.1312684707794092, 1.1158954051198788, 1.1074019968052236, 1.1221591002396805, 1.1268719853105176, 1.097795426891009, 1.1321167607121967, 1.098266071298903, 1.0990116443609161, 1.1113594778264155, 1.1276825332907874, 1.1258638005788897, 1.1281827836614349, 1.1152570689229535, 1.1143561210564137, 1.1126028152622038, 1.148248698322851, 1.138852899753931, 1.0832817270038444, 1.092898880948058, 1.0827870304390297, 1.0834397904816453, 1.084848617131611, 1.0879002620175433, 1.0600475042066322, 1.0730628012356604, 1.07401439657712, 1.0658231392517228, 1.0546402036192783, 1.063787600888232, 1.054072017513242, 1.0566250862959843, 1.0797363831486795, 1.0475306724368405, 1.0504253622845074, 1.0652798930352412, 1.0639412306078901, 1.0583440543280587, 1.0424209878648414, 1.069249436700746, 1.0687779065222287, 1.0605269043058534, 1.0593174859283732, 1.046794225209274, 1.0384420224632827, 1.0452470653052441, 1.0607260908904315, 1.0727047752656063, 1.0539404457403458, 1.054998894653054, 1.0606416277978057, 1.0596554491428298, 1.0552860913367725, 1.0586876705841477, 1.0564798807167983, 1.096126128686343, 1.110997411034051, 1.087572720030243, 1.0683139978505511, 1.059124824161915, 1.0552850016976438, 1.0540889480705768, 1.0521525642435774, 1.0451979338582045, 1.0478717830860294, 1.053530642798504, 1.0516800927601262, 1.0228912857980952, 1.0383472075327418, 1.0520271741903668, 1.0434112908768232, 1.0574145390951866, 1.0351921822395644, 1.0395986840040663, 1.0486279798656297, 1.0250220352260293, 1.030557598392333, 1.0358641979992587, 1.0340900058755338, 1.0321776422871987, 1.0332801492049724, 1.0341545740400166, 1.0449847266939138, 1.024722002611888, 1.0302215354201951, 1.0506044708801234, 1.0552713388095964, 1.0324221418725015, 1.0481481260152494, 1.038831028028039, 1.0379977020417186, 1.037409426563606, 1.0399170072586583, 1.0369128246569095, 1.0349822806127045, 1.0361581704614435, 1.0358636470763536, 1.036286645682923, 1.1351644732941886, 1.1114214204339192, 1.0868947307349144, 1.0851386938065866, 1.099363769260802, 1.0967662681961554, 1.105495221809897, 1.0910081645113063, 1.0903720642378885, 1.0636647577184128, 1.0666679293687684, 1.0808983917765609, 1.073747045996132, 1.0724155889599474, 1.0621751001475845, 1.0599514976363245, 1.0671741930671939, 1.0463873684046787, 1.07921216536908, 1.0633841963810877, 1.0564499778111671, 1.050070175708382, 1.0523796396633924, 1.0600883702323156, 1.0625418527421442, 1.0351428174082293, 1.0459059506554051, 1.0560914705537154, 1.0448388940958142, 1.0642055418948633, 1.075609722617722, 1.061130690780583, 1.0583211196455211, 1.0521943944230348, 1.0507479424186519, 1.1222631423778662, 1.1553396241576417, 1.1269139709152298, 1.1109987235766021, 1.1126209147752464, 1.1090593936206907, 1.1054299527254743, 1.0791474966414658, 1.06991861843034, 1.045664252281294, 1.0743033829915698, 1.073788639901379, 1.074007300433713, 1.0886293731870404, 1.0584787313006596, 1.0658032652410478, 1.0606956791472528, 1.0645953952584852, 1.036933380181341, 1.0435627355996713, 1.0619771918374954, 1.0588018089859652, 1.0479394016226664, 1.0592528435753772, 1.0635542471830457, 1.0573301426179744, 1.057956969477332, 1.0818416103608415, 1.0265480307103148, 1.0453990521492385, 1.053397816392784, 1.0745348932045695, 1.0605370557783647, 1.059170994348953, 1.064800018324546, 1.0578408904293028, 1.1234264788289419, 1.1290739823520748, 1.1232160242258438, 1.103538680310305, 1.08505226185465, 1.1070540795526411, 1.0982891566683246, 1.077146919535928, 1.0898871199564089, 1.066672523967624, 1.0911600742692646, 1.0961738456960102, 1.0590859315618295, 1.087087051065779, 1.0735131059389078, 1.069376246633306, 1.0759591159090314, 1.0675283368037514, 1.0791313288216098, 1.07092650583495, 1.0624860382824683, 1.0657421100880458, 1.0653641529977762, 1.0607406106944222, 1.0706884929820346, 1.067135954692093, 1.0661690476613892, 1.077133678658086, 1.0408804780750163, 1.0837868430007285, 1.0706916148150216, 1.070374049045641, 1.071029095725872, 1.0644891785660728, 1.0508893307315967, 1.049542765009338, 1.0363126792271604, 1.0377115584981744, 1.0136487168194224, 1.0358807982530793, 1.019002457584077, 1.028343581966752, 1.0291524628300233, 1.0277228801060587, 1.0097262704694892, 0.9960130599711979, 1.0004068631632914, 1.0076994146520655, 1.026705600893144, 1.0109195328883396, 1.022853119902896, 1.0050753927218552, 1.0264130087543997, 1.0118406364768553, 1.0048238811612744, 1.007240039645203, 1.0185651205957087, 0.9946243438640526, 1.0103711499621224, 1.01643716804296, 1.0026719649379305, 0.9945978126573218, 1.004941238958789, 0.9994875782462049, 1.0211654997973403, 1.0114162441498353, 1.0033246540196417, 1.0073304383132977, 1.0153225364182512, 1.0057562177203818, 1.005509627270727, 1.1387916811806706, 1.1358994728764606, 1.1352811187837764, 1.138113148461507, 1.1275598696499562, 1.1076383927227218, 1.1246119720661807, 1.0941093182430064, 1.1118437349990367, 1.0876318319825615, 1.1223280702687066, 1.0998307771054292, 1.1008030413797694, 1.1184234073463626, 1.0954546258679891, 1.0872973756375297, 1.0853113740745088, 1.1023220439746073, 1.0966583052867824, 1.086030417805103, 1.0743481751340997, 1.0959557224948697, 1.0581680344129394, 1.0889883629748274, 1.0724726970165128, 1.084526059032339, 1.062922359683209, 1.0727760486007891, 1.0648768289286252, 1.057288977531654, 1.0623320105641259, 1.1115267477012696, 1.1070872426813996, 1.070648125900805, 1.0956824708040926, 1.080518523735318, 1.0800255087074662, 1.0843684713906387, 1.0717152432766588, 1.074682812520585, 1.0914597481496562, 1.0871584109777173, 1.0683309037531796, 1.0744558298442304, 1.0694633443323058, 1.0521476468264035, 1.0716384833611416, 1.0832618922058679, 1.0721373712952813, 1.0474302606090171, 1.0625063201503606, 1.0726288408214784, 1.057793364371051, 1.0330935690592857, 1.0457335058590354, 1.036272872029907, 1.0280040260434458, 1.044227569046688, 1.0124384546113345, 1.0497527374622684, 1.013648479373527, 1.026463160893702, 1.0245945463597168, 1.0261567394322955, 1.0618710520455452, 1.0371274730841544, 1.0434858658885793, 1.030024003317397, 1.0359490904045496, 1.0235129501102187, 1.0326019266041366, 1.0065878158266701, 1.0115683742649955, 0.9962763274555709, 1.000013998818762, 1.0019002916423223, 0.9836871172067686, 0.973417505498799, 0.9818632810201497, 0.9797665810016474, 0.968049511135578, 0.989713261180251, 0.9885595539916348, 0.9816838973678196, 0.9798796172757185, 0.9724771747550777, 0.9859205051110362, 0.9609595565755032, 0.9810311743178171, 0.9576038945769489, 0.959932298479711, 0.9776936349827687, 0.9440847971532254, 0.9555649413506351, 0.9882526973671866, 0.9704949444416582, 0.9759100372524088, 0.9741758928919549, 0.9843182364036652, 0.9885769599396349, 0.9770554510187427, 0.9733817721114342, 1.0128786004904555, 1.0282961164665019, 1.0306346936628115, 1.0256213600617567, 1.0102170236685777, 1.0091448845714053, 1.003403778398243, 0.9910452236365824, 0.9768951442129209, 1.0072992437433894, 1.0022384836130782, 0.9829362855869587, 0.9908780825629498, 0.9933574416671579, 0.9959878667477137, 0.9953891941805088, 0.9736672447090573, 1.0018452927242103, 0.9786724908388071, 0.9804605209144417, 0.9823482964695022, 0.9844119994867733, 0.9712721550589388, 0.9936482910981564, 0.993429430146303, 0.9680873887353675, 0.9832668734572081, 0.9622814829464421, 0.9831515521071211, 0.9820555499773332, 0.9768340388741735, 0.975319085761732, 0.979777678738472, 0.9795320592395854, 1.0710312447897863, 1.0147953360240782, 0.999364372461011, 0.9932104023729411, 0.9758549680160551, 0.9635715297668613, 0.967737732416502, 0.967656059326682, 0.9773925611617859, 0.9800055166568136, 0.9506998508112257, 0.9479595241880262, 0.9659056299980749, 0.9525594692825325, 0.9525776512680044, 0.9500573558379748, 0.9409753082499883, 0.9388760181520072, 0.9601591502902856, 0.9507997058865175, 0.9443330445402796, 0.9452254202764322, 0.948253741771116, 0.9206067202579564, 0.9463759413143373, 0.9433185480888723, 0.9402935324097288, 0.9489173356259036, 0.9389113125943938, 0.9444478730153718, 0.9556262938052744, 0.9479643856814679, 0.9570375853513906, 0.9553574532179502, 0.9410125472897515, 0.8592828610987469, 0.8609058022890679, 0.8651609284794308, 0.8620071098030828, 0.8675358445508725, 0.8536788015019893, 0.8598500717670009, 0.8566662323175135, 0.8565391443778902, 0.8416292819122141, 0.8460848195062921, 0.8569681685176634, 0.8455802885734716, 0.8553914411235691, 0.8488829375069589, 0.8718220831788527, 0.8380330662062399, 0.8563023441582487, 0.8406886310205146, 0.8380882862344083, 0.8489127763360186, 0.8512626750965109, 0.8598689939512827, 0.857859785479902, 0.8558774137602673, 0.8562300213865948, 0.8464028577574896, 0.8369013740309263, 0.8527537068290983, 0.8452069393220658, 0.8596972387401096, 0.8502055799938466, 0.8562826941976484, 0.8609899514258978, 0.8506519797932247, 0.8529593946111228, 0.8479649386531736, 0.8508840494667959, 0.8482496811377983, 0.8482350346393879, 0.8626523381620673, 0.8469471491921291, 0.8409273321110302, 0.8223093511052674, 0.8203421486389749, 0.8187466255378235, 0.8158098400125962, 0.8295966044892032, 0.8157125477313923, 0.8299123869339778, 0.8161478581819819, 0.8271532235409212, 0.820822721532943, 0.8075965961365521, 0.8255152504200576, 0.8143379756645196, 0.8257330374777117, 0.8095337408249117, 0.8176892421275583, 0.809795823555309, 0.81981394031916, 0.8151234328615555, 0.8074749588129875, 0.816059178948256, 0.8116100125965103, 0.8140627096981867, 0.8107141677705746, 0.8101434215428078, 0.8172043627098513, 0.8172737944191115, 0.8342744560403097, 0.8142544818369282, 0.8191722682820604, 0.8132618720592261, 0.8159487034311166, 0.8134402851855529, 0.8168428783805005, 0.813961726110921, 0.8149594334065181, 0.8143907086082615, 0.8647483546040226, 0.8670110951802598, 0.8478525109298098, 0.8587053079358797, 0.8475832541071467, 0.8492796511023601, 0.833692604530287, 0.8401608258942751, 0.8346046714134456, 0.8347311791022156, 0.8383799733844214, 0.8210003102287295, 0.8195374388769083, 0.8302304551796045, 0.8327835225613673, 0.8246676285375352, 0.8346153819880673, 0.8133482192026572, 0.8244997710073977, 0.8115583241584916, 0.8449783896841804, 0.8223731951954091, 0.8246731594080365, 0.8148260151256727, 0.8166900940678332, 0.8134396980449183, 0.8165495397238216, 0.8125271922037836, 0.8173621387295502, 0.8288875071469087, 0.8327147817422785, 0.8297915849948986, 0.8227932779787293, 0.8246035406729952, 0.8201808634785706, 0.8213957235737817, 0.8182052014188342, 0.8201382845548693, 0.8199752555624711, 0.8599132962296402, 0.8586103808902117, 0.8567425865660795, 0.8406473339617311, 0.8208375370490957, 0.8338683495407235, 0.8277962279085822, 0.8384974930893545, 0.8212494297946278, 0.839472081796771, 0.818449048122121, 0.8278901852107218, 0.8359361960760098, 0.8422165780851055, 0.83093436687168, 0.8217781579214449, 0.8242957944784052, 0.8185670186752722, 0.8091553960551874, 0.8183660059340776, 0.81437552754144, 0.8218178016158422, 0.8290643022038158, 0.8140828278418379, 0.8262622614339665, 0.8214107115205124, 0.8224504416288547, 0.8127996470286952, 0.8106978326583417, 0.820994016124778, 0.8223885311017014, 0.8268364837563364, 0.8248619832768004, 0.8223002496588917, 0.8316252499335095, 0.8266913563993141, 0.8224940147643265, 0.8215584585049178, 0.8215113925329353, 0.821357882368287, 0.7954732100970844, 0.7870658114715899, 0.7827485210076526, 0.7736060867742752, 0.786155759512128, 0.7724304927641418, 0.7756859457128783, 0.7793464081591989, 0.7772105803637138, 0.7811675868124499, 0.7744925772504117, 0.7676542080706502, 0.7708002034617626, 0.7527313565947601, 0.7712623392224268, 0.7843596304358861, 0.7745908741054081, 0.7618223689241781, 0.7732721750860242, 0.7714826597594877, 0.7693259159805593, 0.7671675187642046, 0.7725358994000714, 0.7665842687120604, 0.7601172615782567, 0.7599150461810144, 0.7722257972107599, 0.7653403050643475, 0.7699549662494135, 0.7575774163476435, 0.7697119109477403, 0.7722400994444978, 0.7748574908904067, 0.771479352884635, 0.7715554936781184, 0.7744379311434708, 0.7755118387518839, 0.7687765613956552, 0.7705228393334927, 0.7705003525844943, 0.7713057419548685, 0.7704874557725688], \"Total\": [17.0, 17.0, 17.0, 17.0, 17.0, 17.0, 17.0, 17.0, 17.0, 17.0, 17.0, 17.0, 17.0, 17.0, 17.0, 17.0, 17.0, 17.0, 18.0, 17.0, 17.0, 17.0, 17.0, 17.0, 17.0, 17.0, 17.0, 17.0, 17.0, 17.0, 17.908801115911583, 18.0756623716158, 17.926514572288717, 17.93946888151984, 17.86364755204028, 17.8617153496818, 17.817640391103627, 17.770721876974733, 17.795850402467316, 17.80049146201803, 17.460901203442177, 17.70532303465098, 17.820965222043267, 18.05924555249868, 17.84823081582409, 17.84377152627613, 17.595078104726618, 17.470425429649197, 17.676469864030846, 17.793675069042703, 17.82566626313805, 17.813002125030724, 17.95052624953916, 17.690203153107152, 17.812437567438078, 18.04295076283784, 17.740921942220023, 17.982181323675018, 17.957060232794223, 17.920115322616443, 18.08830668010489, 17.93084990523588, 18.132723211957295, 18.061772732050933, 17.64224190716788, 18.02650988764476, 18.01155753352306, 17.932311933366005, 18.177940417363313, 17.966137939951995, 17.70690358807618, 17.804125854348552, 17.97919990822934, 17.821375422614885, 17.67453042337878, 17.91361401527619, 17.68553991915934, 17.851560154669873, 17.756249121545693, 18.152864308517284, 17.770444368717314, 17.787241510462042, 18.037733781167578, 17.73705605847178, 18.09746538201777, 17.815614012608613, 17.898606010182185, 17.78551129846906, 17.81476385507296, 17.76374152550322, 17.79934075250121, 17.639637713751092, 17.65953223511311, 17.703722827844576, 18.341697233022757, 17.894857989073643, 17.983969336888045, 17.971496960984144, 18.137990768731207, 17.887304073756425, 18.341697233022757, 17.845201232871844, 17.602594787303577, 18.083758307831566, 17.6368261227938, 17.74077198770862, 17.938557275895867, 18.03520947736678, 18.288896491969105, 17.340846874902695, 18.11706670934238, 17.757242558726627, 17.856494549348195, 17.725185446154647, 17.772584690925854, 17.70699403843665, 17.954468310996894, 17.61617589813654, 17.80033885331899, 17.91759147387563, 17.608195917343984, 17.845245767134138, 18.061569892659218, 17.75543032602578, 17.591577481432495, 18.01942250216919, 18.280835395436892, 17.848575512720828, 17.8973778099772, 18.056817021115627, 18.27975387509925, 18.227133909896207, 18.29051350121482, 17.820244549454905, 18.279204048090484, 17.73880532653239, 17.813776144962105, 17.723691401052815, 17.945655081178316, 18.149397021597782, 18.045459285020133, 17.982149413721025, 17.989750545110343, 17.807198619600264, 18.063613288837463, 18.159862703885608, 17.496647666116242, 17.751623880374712, 17.799823562395698, 17.69956491989615, 17.737566467420447, 17.640578208478694, 17.992280684228568, 17.931906338034192, 18.00685599910078, 17.764522546363544, 17.647303058047648, 17.916358225257873, 18.04152238199858, 17.598173150222262, 18.148405060089097, 17.633059619784195, 17.661199221740908, 17.865464317689742, 18.166076296405546, 18.1691051841509, 18.360487988567403, 17.996278500830645, 17.97570791359515, 18.274899413741416, 18.04295076283784, 18.152370247382855, 17.49532640023069, 17.957060232794223, 17.92172598241445, 17.95052624953916, 17.98179648244641, 18.061772732050933, 17.615614032420872, 17.869460013463, 17.911727588119565, 17.838239075065488, 17.681834770809452, 17.84377152627613, 17.68662147221576, 17.74539638771344, 18.147736282575426, 17.61701366989257, 17.68631178396089, 17.942982725574662, 17.92499733842142, 17.83928365552197, 17.583592770519182, 18.064338607061714, 18.056817021115627, 17.919987388080983, 17.926514572288717, 17.734946193246177, 17.602594787303577, 17.72381364431599, 18.003550778257665, 18.227133909896207, 17.88250584125392, 17.911676714732696, 18.070450653146224, 18.05924555249868, 17.942068432350755, 18.16056562803614, 18.245543419330467, 17.938067962996996, 18.27975387509925, 18.05488221694042, 17.9132582733805, 17.773692165676827, 17.838239075065488, 17.85118503535748, 17.829358416280918, 17.736585116498222, 17.79786310807546, 17.894857989073643, 17.86912134783001, 17.400925258883227, 17.664963125735753, 17.92172598241445, 17.81144494373487, 18.061569892659218, 17.701378102899103, 17.780348492618035, 17.954163917179415, 17.56420215633349, 17.65953223511311, 17.761308154960037, 17.741314459477657, 17.71718074950366, 17.73705605847178, 17.755969076883495, 17.942068432350755, 17.603549335952238, 17.703667113918897, 18.09746538201777, 18.227133909896207, 17.75487243127979, 18.245543419330467, 17.98313142128573, 17.971496960984144, 17.946696019892414, 18.152864308517284, 18.048164269130215, 17.860292880087336, 18.043751642760768, 18.003550778257665, 18.29051350121482, 17.967938599260954, 17.904569235457934, 17.64566222352353, 17.778656649709216, 18.04082748584586, 18.020355462048187, 18.18927150766406, 17.956436361631717, 17.969396580693157, 17.547871339877712, 17.630703813532783, 17.87995495054024, 17.779536515255803, 17.79501352849988, 17.65094792825496, 17.661096378740783, 17.790298225402253, 17.52382942940597, 18.122712735985544, 17.88829974091141, 17.782678546327503, 17.694431070752433, 17.759065705655846, 17.894049958979913, 17.97105989121973, 17.520399258958584, 17.706277939220566, 17.899189149224696, 17.719360611297194, 18.05488221694042, 18.286035496918544, 18.056566036872912, 18.05861136965775, 17.937840950225894, 18.019427123227384, 17.608195917343984, 18.341697233022757, 18.03520947736678, 17.799228205738935, 17.887304073756425, 18.083758307831566, 18.11706670934238, 17.74077198770862, 17.6368261227938, 17.24561571999526, 17.725185446154647, 17.75543032602578, 17.775335432432694, 18.152864308517284, 17.661047456807744, 17.788458083521235, 17.71461450139235, 17.801223608457473, 17.340846874902695, 17.510170515329364, 17.850406410071113, 17.80033885331899, 17.641475527410016, 17.83675851576758, 17.919987388080983, 17.845201232871844, 17.873488167071752, 18.288896491969105, 17.364095601362962, 17.690289303373792, 17.845245767134138, 18.227133909896207, 18.020355462048187, 18.061569892659218, 18.280835395436892, 18.030244235306235, 17.640578208478694, 18.063613288837463, 17.97570791359515, 17.989750545110343, 17.73880532653239, 18.148405060089097, 18.03195840211193, 17.737566467420447, 17.982149413721025, 17.751623880374712, 18.166076296405546, 18.279204048090484, 17.661096378740783, 18.149397021597782, 17.927381356708803, 17.86684113569786, 18.01619906715527, 17.88564101657076, 18.08181000241504, 17.945655081178316, 17.807198619600264, 17.865464317689742, 17.87995495054024, 17.81414213533215, 17.99496019673449, 17.93872760904962, 17.931906338034192, 18.167049253364713, 17.555730072883236, 18.294716494171816, 18.082323322967895, 18.159862703885608, 18.184991616121135, 17.99466891371916, 17.674342464534067, 17.708799149944515, 17.75811914642769, 17.841046328108217, 17.46418383371796, 17.91825880518129, 17.728195819422798, 17.8973778099772, 17.91759147387563, 17.98179648244641, 17.68662147221576, 17.496293429041398, 17.58556091483221, 17.71718074950366, 18.056817021115627, 17.788458083521235, 18.01942250216919, 17.732798413592388, 18.125017437971792, 17.871028901021244, 17.766008840749187, 17.81115453353962, 18.01155753352306, 17.615614032420872, 17.896048585770554, 18.003550778257665, 17.772584690925854, 17.665836455416525, 17.856494549348195, 17.764063003104315, 18.152370247382855, 17.98313142128573, 17.83640270093981, 17.94673446260631, 18.184991616121135, 18.030551979449275, 18.061839869795982, 17.807198619600264, 17.989750545110343, 17.982149413721025, 18.149397021597782, 18.063613288837463, 17.820244549454905, 18.166076296405546, 17.723691401052815, 18.01619906715527, 17.640578208478694, 18.279204048090484, 17.97570791359515, 17.99466891371916, 18.294716494171816, 17.953792789039284, 17.88564101657076, 17.86684113569786, 18.167049253364713, 18.082323322967895, 17.927381356708803, 17.764522546363544, 18.148405060089097, 17.564870724641853, 18.08181000241504, 17.93872760904962, 18.1731321745191, 17.865464317689742, 18.03195840211193, 17.916358225257873, 17.813776144962105, 18.00685599910078, 17.989750545110343, 17.982149413721025, 17.640578208478694, 18.063613288837463, 17.820244549454905, 17.927381356708803, 18.01619906715527, 17.807198619600264, 17.86684113569786, 18.148405060089097, 18.166076296405546, 17.88564101657076, 17.99466891371916, 17.97570791359515, 17.723691401052815, 18.082323322967895, 18.294716494171816, 18.149397021597782, 17.73880532653239, 18.08181000241504, 18.279204048090484, 18.167049253364713, 17.782614840045753, 18.00685599910078, 17.865464317689742, 17.73274093042957, 18.03195840211193, 17.496647666116242, 18.1731321745191, 17.69956491989615, 17.93872760904962, 17.953792789039284, 18.208488876256283, 17.908801115911583, 17.780675130530398, 17.95052624953916, 17.93946888151984, 18.05924555249868, 17.87608115825159, 18.0756623716158, 17.80049146201803, 17.926514572288717, 17.770721876974733, 17.84823081582409, 18.033831136329766, 17.75877026794429, 17.57947071053027, 17.734148859016905, 17.708005987622233, 17.50946893268099, 17.910619347030682, 17.891473558656713, 17.793675069042703, 17.817640391103627, 17.686904869462616, 17.95457033929009, 17.51508601300594, 17.89063233410674, 17.47327892115524, 17.53188386914128, 17.858638447845145, 17.25011372220763, 17.465888631077867, 18.08830668010489, 17.752541994670782, 17.8617153496818, 17.827994931877054, 18.04295076283784, 18.147736282575426, 18.091529189061383, 17.94842269738786, 17.865464317689742, 18.149397021597782, 18.279204048090484, 18.208488876256283, 17.97570791359515, 17.982149413721025, 17.916358225257873, 17.723691401052815, 17.473496249545644, 18.063613288837463, 17.989750545110343, 17.661199221740908, 17.81414213533215, 17.86684113569786, 17.99496019673449, 18.00685599910078, 17.640578208478694, 18.1691051841509, 17.782614840045753, 17.820244549454905, 17.866182978486357, 17.945655081178316, 17.73274093042957, 18.148405060089097, 18.159862703885608, 17.707365805422423, 17.99466891371916, 17.63023261772375, 18.018471457404523, 18.01619906715527, 17.93872760904962, 17.931906338034192, 18.166076296405546, 18.294716494171816, 18.341697233022757, 17.608195917343984, 18.11706670934238, 18.03520947736678, 17.75543032602578, 17.558126075672444, 17.661047456807744, 17.845245767134138, 18.083758307831566, 18.227133909896207, 17.687308262692973, 17.6368261227938, 18.01942250216919, 17.799228205738935, 17.80033885331899, 17.804514415685354, 17.64224190716788, 17.61617589813654, 18.023604950117303, 17.848575512720828, 17.74077198770862, 17.775335432432694, 17.86103974264127, 17.340846874902695, 17.845201232871844, 17.801223608457473, 17.748917005048227, 17.919987388080983, 17.772584690925854, 17.887304073756425, 18.204860705969537, 18.02650988764476, 18.288896491969105, 18.280835395436892, 17.889726527335654, 17.542834582698514, 17.609783767369844, 17.712402263976657, 17.6913157986685, 17.849012995609257, 17.574561674902945, 17.7288594270721, 17.69134588769122, 17.69312995832614, 17.422714314858133, 17.528377842250595, 17.754055507187473, 17.53321550722997, 17.741391080353964, 17.64624061619301, 18.14385882709543, 17.443057276173917, 17.824847454072103, 17.50946893268099, 17.459804891107122, 17.68705779708606, 17.752541994670782, 17.938067962996996, 17.935117435672993, 17.89802666982763, 17.913499757026557, 17.71028854472007, 17.51508601300594, 17.858638447845145, 17.718294703474175, 18.03853276915457, 17.84645510031867, 18.04118066721656, 18.248806213708495, 17.889690902713532, 17.982446981260143, 17.817045092815846, 18.1691051841509, 17.904569235457934, 17.95880021366579, 17.740181930513504, 17.76084651215149, 17.85118503535748, 17.54072173743664, 17.62722152772512, 17.61946734308018, 17.572367955113183, 17.881788207607748, 17.59196191215547, 17.91722855515065, 17.633059619784195, 17.877923234250638, 17.771473285994112, 17.486740544284974, 17.881905882077962, 17.646682970980812, 17.89606132584856, 17.548429584742603, 17.74797096648489, 17.58436343084079, 17.80221539848206, 17.710932271711894, 17.55915186806447, 17.756249121545693, 17.67259754773336, 17.735119471741324, 17.67453042337878, 17.67590816295099, 17.841046328108217, 17.843436104479366, 18.245543419330467, 17.801370379860018, 18.056452906392085, 17.824847454072103, 18.019427123227384, 17.897298072464004, 18.286035496918544, 17.966137939951995, 18.175877978224978, 18.05488221694042, 17.547871339877712, 17.969396580693157, 17.706277939220566, 18.04082748584586, 17.904569235457934, 17.967938599260954, 17.69796016764449, 17.90155258097613, 17.784210450597975, 17.938067962996996, 18.03936223215688, 17.667790384970903, 17.64566222352353, 17.889690902713532, 17.956436361631717, 17.788397687209443, 18.029230197853025, 17.570533381491483, 17.81144494373487, 17.53188386914128, 18.301087274622468, 17.813799712893722, 17.86671470221988, 17.654082116690226, 17.698345159245218, 17.630781581413867, 17.703539959051806, 17.630703813532783, 17.74994663099158, 18.002879194182743, 18.106509325266888, 18.09746538201777, 17.92379453777739, 18.02888881319102, 17.87339389191857, 17.94277501357432, 17.793283484726025, 18.043751642760768, 18.03853276915457, 17.780675130530398, 17.87608115825159, 17.982446981260143, 17.680943289209946, 17.33235318154607, 17.626385049513047, 17.555859090115014, 17.795760002969132, 17.49397736412278, 17.90155258097613, 17.454259759101305, 17.700270389764228, 17.90161903232067, 18.043751642760768, 17.825823192476182, 17.648877364801237, 17.721024920860486, 17.604651709467685, 17.424572165909936, 17.63445556935913, 17.57469939107829, 17.73535917330893, 17.89606132584856, 17.57724644352315, 17.849012995609257, 17.756054602095386, 17.778656649709216, 17.574561674902945, 17.53321550722997, 17.75877026794429, 17.795850402467316, 17.904488181757724, 17.88250584125392, 17.82703612087914, 18.12584876306271, 18.025918994825243, 17.871981856339513, 17.812124217595166, 17.83307865212449, 17.849932678189326, 17.849012995609257, 17.772711120913858, 17.69134588769122, 17.506410021328957, 17.802018397291043, 17.549138161802233, 17.629859424756088, 17.738584659648566, 17.72734009368942, 17.851042225194092, 17.716366136027542, 17.56375816988737, 17.651499110653752, 17.25011372220763, 17.694997577121566, 18.01110906646326, 17.793283484726025, 17.524476479675773, 17.792678844853477, 17.75607085656869, 17.727679658805968, 17.679116998274992, 17.80580823940182, 17.674513825699268, 17.53188386914128, 17.52785331955934, 17.82289112201416, 17.66901441890878, 17.776728526512898, 17.4993262895464, 17.795760002969132, 17.862679467920362, 17.961250507452103, 17.87339389191857, 17.876210933890615, 17.982446981260143, 18.09112625590886, 17.787844676910055, 17.973912861490437, 18.031852797397228, 18.301087274622468, 18.111181976946334], \"Category\": [\"Default\", \"Default\", \"Default\", \"Default\", \"Default\", \"Default\", \"Default\", \"Default\", \"Default\", \"Default\", \"Default\", \"Default\", \"Default\", \"Default\", \"Default\", \"Default\", \"Default\", \"Default\", \"Default\", \"Default\", \"Default\", \"Default\", \"Default\", \"Default\", \"Default\", \"Default\", \"Default\", \"Default\", \"Default\", \"Default\", \"Topic1\", \"Topic1\", \"Topic1\", \"Topic1\", \"Topic1\", \"Topic1\", \"Topic1\", \"Topic1\", \"Topic1\", \"Topic1\", \"Topic1\", \"Topic1\", \"Topic1\", \"Topic1\", \"Topic1\", \"Topic1\", \"Topic1\", \"Topic1\", \"Topic1\", \"Topic1\", \"Topic1\", \"Topic1\", \"Topic1\", \"Topic1\", \"Topic1\", \"Topic1\", \"Topic1\", \"Topic1\", \"Topic1\", \"Topic1\", \"Topic1\", \"Topic1\", \"Topic1\", \"Topic1\", \"Topic2\", \"Topic2\", \"Topic2\", \"Topic2\", \"Topic2\", \"Topic2\", \"Topic2\", \"Topic2\", \"Topic2\", \"Topic2\", \"Topic2\", \"Topic2\", \"Topic2\", \"Topic2\", \"Topic2\", \"Topic2\", \"Topic2\", \"Topic2\", \"Topic2\", \"Topic2\", \"Topic2\", \"Topic2\", \"Topic2\", \"Topic2\", \"Topic2\", \"Topic2\", \"Topic2\", \"Topic2\", \"Topic2\", \"Topic2\", \"Topic2\", \"Topic2\", \"Topic2\", \"Topic2\", \"Topic2\", \"Topic3\", \"Topic3\", \"Topic3\", \"Topic3\", \"Topic3\", \"Topic3\", \"Topic3\", \"Topic3\", \"Topic3\", \"Topic3\", \"Topic3\", \"Topic3\", \"Topic3\", \"Topic3\", \"Topic3\", \"Topic3\", \"Topic3\", \"Topic3\", \"Topic3\", \"Topic3\", \"Topic3\", \"Topic3\", \"Topic3\", \"Topic3\", \"Topic3\", \"Topic3\", \"Topic3\", \"Topic3\", \"Topic3\", \"Topic3\", \"Topic3\", \"Topic3\", \"Topic3\", \"Topic3\", \"Topic4\", \"Topic4\", \"Topic4\", \"Topic4\", \"Topic4\", \"Topic4\", \"Topic4\", \"Topic4\", \"Topic4\", \"Topic4\", \"Topic4\", \"Topic4\", \"Topic4\", \"Topic4\", \"Topic4\", \"Topic4\", \"Topic4\", \"Topic4\", \"Topic4\", \"Topic4\", \"Topic4\", \"Topic4\", \"Topic4\", \"Topic4\", \"Topic4\", \"Topic4\", \"Topic4\", \"Topic4\", \"Topic4\", \"Topic4\", \"Topic4\", \"Topic4\", \"Topic4\", \"Topic4\", \"Topic4\", \"Topic4\", \"Topic4\", \"Topic5\", \"Topic5\", \"Topic5\", \"Topic5\", \"Topic5\", \"Topic5\", \"Topic5\", \"Topic5\", \"Topic5\", \"Topic5\", \"Topic5\", \"Topic5\", \"Topic5\", \"Topic5\", \"Topic5\", \"Topic5\", \"Topic5\", \"Topic5\", \"Topic5\", \"Topic5\", \"Topic5\", \"Topic5\", \"Topic5\", \"Topic5\", \"Topic5\", \"Topic5\", \"Topic5\", \"Topic5\", \"Topic5\", \"Topic5\", \"Topic5\", \"Topic5\", \"Topic5\", \"Topic5\", \"Topic5\", \"Topic5\", \"Topic5\", \"Topic5\", \"Topic5\", \"Topic6\", \"Topic6\", \"Topic6\", \"Topic6\", \"Topic6\", \"Topic6\", \"Topic6\", \"Topic6\", \"Topic6\", \"Topic6\", \"Topic6\", \"Topic6\", \"Topic6\", \"Topic6\", \"Topic6\", \"Topic6\", \"Topic6\", \"Topic6\", \"Topic6\", \"Topic6\", \"Topic6\", \"Topic6\", \"Topic6\", \"Topic6\", \"Topic6\", \"Topic6\", \"Topic6\", \"Topic6\", \"Topic6\", \"Topic6\", \"Topic6\", \"Topic6\", \"Topic6\", \"Topic6\", \"Topic6\", \"Topic6\", \"Topic6\", \"Topic6\", \"Topic6\", \"Topic6\", \"Topic6\", \"Topic6\", \"Topic6\", \"Topic7\", \"Topic7\", \"Topic7\", \"Topic7\", \"Topic7\", \"Topic7\", \"Topic7\", \"Topic7\", \"Topic7\", \"Topic7\", \"Topic7\", \"Topic7\", \"Topic7\", \"Topic7\", \"Topic7\", \"Topic7\", \"Topic7\", \"Topic7\", \"Topic7\", \"Topic7\", \"Topic7\", \"Topic7\", \"Topic7\", \"Topic7\", \"Topic7\", \"Topic7\", \"Topic7\", \"Topic7\", \"Topic7\", \"Topic7\", \"Topic7\", \"Topic7\", \"Topic7\", \"Topic7\", \"Topic7\", \"Topic8\", \"Topic8\", \"Topic8\", \"Topic8\", \"Topic8\", \"Topic8\", \"Topic8\", \"Topic8\", \"Topic8\", \"Topic8\", \"Topic8\", \"Topic8\", \"Topic8\", \"Topic8\", \"Topic8\", \"Topic8\", \"Topic8\", \"Topic8\", \"Topic8\", \"Topic8\", \"Topic8\", \"Topic8\", \"Topic8\", \"Topic8\", \"Topic8\", \"Topic8\", \"Topic8\", \"Topic8\", \"Topic8\", \"Topic8\", \"Topic8\", \"Topic8\", \"Topic8\", \"Topic8\", \"Topic8\", \"Topic8\", \"Topic9\", \"Topic9\", \"Topic9\", \"Topic9\", \"Topic9\", \"Topic9\", \"Topic9\", \"Topic9\", \"Topic9\", \"Topic9\", \"Topic9\", \"Topic9\", \"Topic9\", \"Topic9\", \"Topic9\", \"Topic9\", \"Topic9\", \"Topic9\", \"Topic9\", \"Topic9\", \"Topic9\", \"Topic9\", \"Topic9\", \"Topic9\", \"Topic9\", \"Topic9\", \"Topic9\", \"Topic9\", \"Topic9\", \"Topic9\", \"Topic9\", \"Topic9\", \"Topic9\", \"Topic9\", \"Topic10\", \"Topic10\", \"Topic10\", \"Topic10\", \"Topic10\", \"Topic10\", \"Topic10\", \"Topic10\", \"Topic10\", \"Topic10\", \"Topic10\", \"Topic10\", \"Topic10\", \"Topic10\", \"Topic10\", \"Topic10\", \"Topic10\", \"Topic10\", \"Topic10\", \"Topic10\", \"Topic10\", \"Topic10\", \"Topic10\", \"Topic10\", \"Topic10\", \"Topic10\", \"Topic10\", \"Topic10\", \"Topic10\", \"Topic10\", \"Topic10\", \"Topic10\", \"Topic10\", \"Topic10\", \"Topic10\", \"Topic10\", \"Topic10\", \"Topic11\", \"Topic11\", \"Topic11\", \"Topic11\", \"Topic11\", \"Topic11\", \"Topic11\", \"Topic11\", \"Topic11\", \"Topic11\", \"Topic11\", \"Topic11\", \"Topic11\", \"Topic11\", \"Topic11\", \"Topic11\", \"Topic11\", \"Topic11\", \"Topic11\", \"Topic11\", \"Topic11\", \"Topic11\", \"Topic11\", \"Topic11\", \"Topic11\", \"Topic11\", \"Topic11\", \"Topic11\", \"Topic11\", \"Topic11\", \"Topic11\", \"Topic12\", \"Topic12\", \"Topic12\", \"Topic12\", \"Topic12\", \"Topic12\", \"Topic12\", \"Topic12\", \"Topic12\", \"Topic12\", \"Topic12\", \"Topic12\", \"Topic12\", \"Topic12\", \"Topic12\", \"Topic12\", \"Topic12\", \"Topic12\", \"Topic12\", \"Topic12\", \"Topic12\", \"Topic12\", \"Topic12\", \"Topic12\", \"Topic12\", \"Topic12\", \"Topic12\", \"Topic12\", \"Topic12\", \"Topic12\", \"Topic12\", \"Topic12\", \"Topic12\", \"Topic13\", \"Topic13\", \"Topic13\", \"Topic13\", \"Topic13\", \"Topic13\", \"Topic13\", \"Topic13\", \"Topic13\", \"Topic13\", \"Topic13\", \"Topic13\", \"Topic13\", \"Topic13\", \"Topic13\", \"Topic13\", \"Topic13\", \"Topic13\", \"Topic13\", \"Topic13\", \"Topic13\", \"Topic13\", \"Topic13\", \"Topic13\", \"Topic13\", \"Topic13\", \"Topic13\", \"Topic13\", \"Topic13\", \"Topic13\", \"Topic13\", \"Topic13\", \"Topic13\", \"Topic13\", \"Topic13\", \"Topic13\", \"Topic13\", \"Topic13\", \"Topic14\", \"Topic14\", \"Topic14\", \"Topic14\", \"Topic14\", \"Topic14\", \"Topic14\", \"Topic14\", \"Topic14\", \"Topic14\", \"Topic14\", \"Topic14\", \"Topic14\", \"Topic14\", \"Topic14\", \"Topic14\", \"Topic14\", \"Topic14\", \"Topic14\", \"Topic14\", \"Topic14\", \"Topic14\", \"Topic14\", \"Topic14\", \"Topic14\", \"Topic14\", \"Topic14\", \"Topic14\", \"Topic14\", \"Topic14\", \"Topic14\", \"Topic14\", \"Topic14\", \"Topic14\", \"Topic15\", \"Topic15\", \"Topic15\", \"Topic15\", \"Topic15\", \"Topic15\", \"Topic15\", \"Topic15\", \"Topic15\", \"Topic15\", \"Topic15\", \"Topic15\", \"Topic15\", \"Topic15\", \"Topic15\", \"Topic15\", \"Topic15\", \"Topic15\", \"Topic15\", \"Topic15\", \"Topic15\", \"Topic15\", \"Topic15\", \"Topic15\", \"Topic15\", \"Topic15\", \"Topic15\", \"Topic15\", \"Topic15\", \"Topic15\", \"Topic15\", \"Topic15\", \"Topic15\", \"Topic15\", \"Topic15\", \"Topic16\", \"Topic16\", \"Topic16\", \"Topic16\", \"Topic16\", \"Topic16\", \"Topic16\", \"Topic16\", \"Topic16\", \"Topic16\", \"Topic16\", \"Topic16\", \"Topic16\", \"Topic16\", \"Topic16\", \"Topic16\", \"Topic16\", \"Topic16\", \"Topic16\", \"Topic16\", \"Topic16\", \"Topic16\", \"Topic16\", \"Topic16\", \"Topic16\", \"Topic16\", \"Topic16\", \"Topic16\", \"Topic16\", \"Topic16\", \"Topic16\", \"Topic16\", \"Topic16\", \"Topic16\", \"Topic16\", \"Topic16\", \"Topic16\", \"Topic16\", \"Topic16\", \"Topic16\", \"Topic17\", \"Topic17\", \"Topic17\", \"Topic17\", \"Topic17\", \"Topic17\", \"Topic17\", \"Topic17\", \"Topic17\", \"Topic17\", \"Topic17\", \"Topic17\", \"Topic17\", \"Topic17\", \"Topic17\", \"Topic17\", \"Topic17\", \"Topic17\", \"Topic17\", \"Topic17\", \"Topic17\", \"Topic17\", \"Topic17\", \"Topic17\", \"Topic17\", \"Topic17\", \"Topic17\", \"Topic17\", \"Topic17\", \"Topic17\", \"Topic17\", \"Topic17\", \"Topic17\", \"Topic17\", \"Topic17\", \"Topic17\", \"Topic17\", \"Topic17\", \"Topic17\", \"Topic17\", \"Topic18\", \"Topic18\", \"Topic18\", \"Topic18\", \"Topic18\", \"Topic18\", \"Topic18\", \"Topic18\", \"Topic18\", \"Topic18\", \"Topic18\", \"Topic18\", \"Topic18\", \"Topic18\", \"Topic18\", \"Topic18\", \"Topic18\", \"Topic18\", \"Topic18\", \"Topic18\", \"Topic18\", \"Topic18\", \"Topic18\", \"Topic18\", \"Topic18\", \"Topic18\", \"Topic18\", \"Topic18\", \"Topic18\", \"Topic18\", \"Topic18\", \"Topic18\", \"Topic18\", \"Topic18\", \"Topic18\", \"Topic18\", \"Topic18\", \"Topic18\", \"Topic18\", \"Topic19\", \"Topic19\", \"Topic19\", \"Topic19\", \"Topic19\", \"Topic19\", \"Topic19\", \"Topic19\", \"Topic19\", \"Topic19\", \"Topic19\", \"Topic19\", \"Topic19\", \"Topic19\", \"Topic19\", \"Topic19\", \"Topic19\", \"Topic19\", \"Topic19\", \"Topic19\", \"Topic19\", \"Topic19\", \"Topic19\", \"Topic19\", \"Topic19\", \"Topic19\", \"Topic19\", \"Topic19\", \"Topic19\", \"Topic19\", \"Topic19\", \"Topic19\", \"Topic19\", \"Topic19\", \"Topic19\", \"Topic19\", \"Topic19\", \"Topic19\", \"Topic19\", \"Topic19\", \"Topic20\", \"Topic20\", \"Topic20\", \"Topic20\", \"Topic20\", \"Topic20\", \"Topic20\", \"Topic20\", \"Topic20\", \"Topic20\", \"Topic20\", \"Topic20\", \"Topic20\", \"Topic20\", \"Topic20\", \"Topic20\", \"Topic20\", \"Topic20\", \"Topic20\", \"Topic20\", \"Topic20\", \"Topic20\", \"Topic20\", \"Topic20\", \"Topic20\", \"Topic20\", \"Topic20\", \"Topic20\", \"Topic20\", \"Topic20\", \"Topic20\", \"Topic20\", \"Topic20\", \"Topic20\", \"Topic20\", \"Topic20\", \"Topic20\", \"Topic20\", \"Topic20\", \"Topic20\", \"Topic20\", \"Topic20\"], \"logprob\": [30.0, 29.0, 28.0, 27.0, 26.0, 25.0, 24.0, 23.0, 22.0, 21.0, 20.0, 19.0, 18.0, 17.0, 16.0, 15.0, 14.0, 13.0, 12.0, 11.0, 10.0, 9.0, 8.0, 7.0, 6.0, 5.0, 4.0, 3.0, 2.0, 1.0, -7.4041, -7.4282, -7.4462, -7.4515, -7.4635, -7.4636, -7.4664, -7.4728, -7.473, -7.4732, -7.4953, -7.4831, -7.4785, -7.4694, -7.4829, -7.4832, -7.499, -7.5065, -7.4962, -7.4898, -7.4884, -7.4903, -7.483, -7.4995, -7.4935, -7.4807, -7.498, -7.4856, -7.4874, -7.4901, -7.4841, -7.4937, -7.4911, -7.4928, -7.38, -7.4173, -7.4257, -7.4305, -7.4186, -7.4361, -7.4554, -7.4552, -7.4469, -7.4574, -7.4682, -7.4549, -7.4683, -7.4598, -7.4695, -7.4485, -7.4715, -7.4737, -7.461, -7.4778, -7.4603, -7.4764, -7.4721, -7.4801, -7.4786, -7.4835, -7.4817, -7.4912, -7.4902, -7.4888, -7.4541, -7.4798, -7.4774, -7.4782, -7.4773, -7.4018, -7.4168, -7.4496, -7.4644, -7.4434, -7.4684, -7.464, -7.4542, -7.449, -7.4353, -7.4894, -7.4461, -7.4669, -7.4617, -7.4722, -7.47, -7.4761, -7.4643, -7.4852, -7.479, -7.4744, -7.492, -7.4791, -7.4679, -7.4852, -7.4965, -7.4743, -7.4609, -7.485, -7.4825, -7.4777, -7.4724, -7.4766, -7.4841, -7.4127, -7.3914, -7.4308, -7.427, -7.4359, -7.4289, -7.42, -7.4269, -7.4335, -7.4354, -7.4474, -7.4339, -7.4298, -7.4682, -7.4561, -7.4544, -7.4602, -7.4582, -7.4665, -7.4474, -7.4508, -7.4478, -7.4615, -7.4691, -7.4559, -7.4517, -7.4778, -7.447, -7.4774, -7.4767, -7.4655, -7.451, -7.4526, -7.4505, -7.462, -7.4628, -7.4644, -7.4136, -7.4218, -7.4719, -7.463, -7.4723, -7.4717, -7.4704, -7.4676, -7.4935, -7.4813, -7.4805, -7.4881, -7.4987, -7.49, -7.4992, -7.4968, -7.4751, -7.5054, -7.5027, -7.4886, -7.4899, -7.4952, -7.5103, -7.4849, -7.4853, -7.4931, -7.4942, -7.5061, -7.5141, -7.5076, -7.4929, -7.4817, -7.4993, -7.4983, -7.493, -7.4939, -7.498, -7.4948, -7.4969, -7.4541, -7.4406, -7.4619, -7.4798, -7.4885, -7.4921, -7.4932, -7.4951, -7.5017, -7.4991, -7.4937, -7.4955, -7.5233, -7.5083, -7.4952, -7.5034, -7.4901, -7.5113, -7.5071, -7.4984, -7.5212, -7.5158, -7.5107, -7.5124, -7.5142, -7.5132, -7.5123, -7.5019, -7.5215, -7.5161, -7.4965, -7.4921, -7.514, -7.4989, -7.5078, -7.5086, -7.5092, -7.5068, -7.5096, -7.5115, -7.5104, -7.5107, -7.5103, -7.4169, -7.438, -7.4603, -7.4619, -7.4489, -7.4513, -7.4434, -7.4566, -7.4571, -7.4819, -7.4791, -7.4659, -7.4725, -7.4737, -7.4833, -7.4854, -7.4786, -7.4983, -7.4674, -7.4822, -7.4887, -7.4948, -7.4926, -7.4853, -7.483, -7.5091, -7.4988, -7.4891, -7.4998, -7.4814, -7.4708, -7.4843, -7.487, -7.4928, -7.4942, -7.4103, -7.3813, -7.4062, -7.4204, -7.419, -7.4222, -7.4255, -7.4495, -7.4581, -7.481, -7.454, -7.4545, -7.4543, -7.4408, -7.4689, -7.462, -7.4668, -7.4631, -7.4894, -7.483, -7.4656, -7.4686, -7.4789, -7.4681, -7.4641, -7.4699, -7.4693, -7.447, -7.4995, -7.4813, -7.4737, -7.4538, -7.4669, -7.4682, -7.4629, -7.4695, -7.4062, -7.4012, -7.4064, -7.4241, -7.441, -7.4209, -7.4289, -7.4483, -7.4365, -7.4581, -7.4354, -7.4308, -7.4652, -7.4391, -7.4517, -7.4555, -7.4494, -7.4573, -7.4465, -7.4541, -7.462, -7.4589, -7.4593, -7.4637, -7.4543, -7.4576, -7.4585, -7.4483, -7.4826, -7.4422, -7.4543, -7.4546, -7.454, -7.4601, -7.4667, -7.468, -7.4807, -7.4794, -7.5028, -7.4811, -7.4976, -7.4884, -7.4877, -7.489, -7.5067, -7.5204, -7.516, -7.5087, -7.49, -7.5055, -7.4938, -7.5113, -7.4903, -7.5046, -7.5116, -7.5092, -7.498, -7.5218, -7.5061, -7.5001, -7.5137, -7.5218, -7.5115, -7.5169, -7.4954, -7.505, -7.5131, -7.5091, -7.5012, -7.5106, -7.5109, -7.3856, -7.3881, -7.3887, -7.3862, -7.3955, -7.4133, -7.3981, -7.4256, -7.4095, -7.4315, -7.4001, -7.4204, -7.4195, -7.4036, -7.4244, -7.4318, -7.4337, -7.4181, -7.4233, -7.433, -7.4438, -7.4239, -7.459, -7.4303, -7.4456, -7.4344, -7.4545, -7.4453, -7.4527, -7.4598, -7.4551, -7.3731, -7.3771, -7.4105, -7.3874, -7.4014, -7.4018, -7.3978, -7.4095, -7.4068, -7.3913, -7.3952, -7.4127, -7.407, -7.4116, -7.428, -7.4096, -7.3988, -7.4091, -7.4325, -7.4182, -7.4087, -7.4226, -7.4462, -7.4341, -7.4432, -7.4512, -7.4355, -7.4664, -7.4302, -7.4652, -7.4527, -7.4545, -7.453, -7.4125, -7.4361, -7.4299, -7.4429, -7.4372, -7.4493, -7.4404, -7.4659, -7.461, -7.4762, -7.4725, -7.4706, -7.489, -7.4994, -7.4908, -7.4929, -7.505, -7.4828, -7.484, -7.491, -7.4928, -7.5004, -7.4867, -7.5123, -7.4917, -7.5158, -7.5134, -7.4951, -7.53, -7.518, -7.4843, -7.5025, -7.4969, -7.4987, -7.4883, -7.484, -7.4957, -7.4995, -7.4346, -7.4195, -7.4172, -7.4221, -7.4372, -7.4383, -7.444, -7.4564, -7.4707, -7.4401, -7.4451, -7.4646, -7.4565, -7.454, -7.4514, -7.452, -7.474, -7.4455, -7.4689, -7.4671, -7.4652, -7.4631, -7.4765, -7.4537, -7.454, -7.4798, -7.4642, -7.4858, -7.4644, -7.4655, -7.4708, -7.4724, -7.4678, -7.468, -7.3522, -7.4061, -7.4215, -7.4276, -7.4453, -7.4579, -7.4536, -7.4537, -7.4437, -7.441, -7.4714, -7.4743, -7.4555, -7.4694, -7.4694, -7.472, -7.4817, -7.4839, -7.4615, -7.4713, -7.4781, -7.4771, -7.4739, -7.5035, -7.4759, -7.4792, -7.4824, -7.4732, -7.4839, -7.478, -7.4662, -7.4743, -7.4647, -7.4665, -7.4816, -7.5059, -7.5041, -7.4991, -7.5028, -7.4964, -7.5125, -7.5053, -7.509, -7.5091, -7.5267, -7.5214, -7.5086, -7.522, -7.5105, -7.5181, -7.4915, -7.531, -7.5094, -7.5278, -7.5309, -7.5181, -7.5153, -7.5053, -7.5076, -7.5099, -7.5095, -7.5211, -7.5323, -7.5136, -7.5225, -7.5055, -7.5166, -7.5094, -7.504, -7.516, -7.5133, -7.5192, -7.5158, -7.5189, -7.5189, -7.4675, -7.4859, -7.4931, -7.5154, -7.5178, -7.5198, -7.5234, -7.5066, -7.5235, -7.5062, -7.523, -7.5096, -7.5173, -7.5335, -7.5116, -7.5252, -7.5113, -7.5311, -7.5211, -7.5308, -7.5185, -7.5242, -7.5336, -7.5231, -7.5285, -7.5255, -7.5296, -7.5303, -7.5217, -7.5216, -7.501, -7.5253, -7.5193, -7.5265, -7.5232, -7.5263, -7.5221, -7.5256, -7.5244, -7.5251, -7.464, -7.4614, -7.4838, -7.471, -7.4841, -7.4821, -7.5006, -7.4929, -7.4995, -7.4993, -7.495, -7.5159, -7.5177, -7.5048, -7.5017, -7.5115, -7.4995, -7.5253, -7.5117, -7.5275, -7.4871, -7.5143, -7.5115, -7.5235, -7.5212, -7.5252, -7.5214, -7.5263, -7.5204, -7.5064, -7.5018, -7.5053, -7.5138, -7.5116, -7.5169, -7.5155, -7.5193, -7.517, -7.5172, -7.4643, -7.4658, -7.4679, -7.4869, -7.5108, -7.495, -7.5023, -7.4895, -7.5103, -7.4883, -7.5137, -7.5022, -7.4925, -7.485, -7.4985, -7.5096, -7.5066, -7.5135, -7.5251, -7.5138, -7.5187, -7.5096, -7.5008, -7.519, -7.5042, -7.5101, -7.5088, -7.5206, -7.5232, -7.5106, -7.5089, -7.5035, -7.5059, -7.509, -7.4977, -7.5037, -7.5087, -7.5099, -7.5099, -7.5101, -7.4874, -7.4981, -7.5036, -7.5153, -7.4992, -7.5168, -7.5126, -7.5079, -7.5107, -7.5056, -7.5142, -7.523, -7.5189, -7.5427, -7.5183, -7.5015, -7.514, -7.5307, -7.5157, -7.5181, -7.5209, -7.5237, -7.5167, -7.5244, -7.5329, -7.5332, -7.5171, -7.5261, -7.52, -7.5362, -7.5204, -7.5171, -7.5137, -7.5181, -7.518, -7.5142, -7.5128, -7.5216, -7.5193, -7.5193, -7.5183, -7.5193], \"loglift\": [30.0, 29.0, 28.0, 27.0, 26.0, 25.0, 24.0, 23.0, 22.0, 21.0, 20.0, 19.0, 18.0, 17.0, 16.0, 15.0, 14.0, 13.0, 12.0, 11.0, 10.0, 9.0, 8.0, 7.0, 6.0, 5.0, 4.0, 3.0, 2.0, 1.0, 0.1906, 0.1572, 0.1475, 0.1414, 0.1337, 0.1337, 0.1334, 0.1296, 0.1281, 0.1275, 0.1247, 0.123, 0.1211, 0.117, 0.1152, 0.1151, 0.1134, 0.113, 0.1116, 0.1113, 0.1109, 0.1098, 0.1094, 0.1075, 0.1066, 0.1065, 0.1061, 0.105, 0.1046, 0.104, 0.1006, 0.0998, 0.0911, 0.0933, 0.2297, 0.1708, 0.1633, 0.1629, 0.1612, 0.1554, 0.1507, 0.1453, 0.1439, 0.1422, 0.1397, 0.1396, 0.139, 0.1381, 0.1338, 0.1326, 0.131, 0.1278, 0.1265, 0.1265, 0.1239, 0.1236, 0.1231, 0.1215, 0.1213, 0.1193, 0.1191, 0.1187, 0.1185, 0.1174, 0.1167, 0.1157, 0.1131, 0.113, 0.1046, 0.1941, 0.1541, 0.1486, 0.1475, 0.1416, 0.1416, 0.1401, 0.1388, 0.1386, 0.1384, 0.1375, 0.137, 0.1363, 0.1359, 0.1328, 0.1324, 0.1299, 0.1278, 0.126, 0.1218, 0.1199, 0.1197, 0.1192, 0.1183, 0.1181, 0.1161, 0.1142, 0.1132, 0.1131, 0.1129, 0.1087, 0.1017, 0.1004, 0.0895, 0.1869, 0.1828, 0.1734, 0.173, 0.1692, 0.1638, 0.1613, 0.1602, 0.1571, 0.1548, 0.153, 0.1522, 0.151, 0.1497, 0.1474, 0.1464, 0.1462, 0.1461, 0.1433, 0.1427, 0.1426, 0.1415, 0.1413, 0.1403, 0.1384, 0.1356, 0.1344, 0.1344, 0.1328, 0.1319, 0.1316, 0.1295, 0.1277, 0.1193, 0.1278, 0.1281, 0.11, 0.1736, 0.1593, 0.1462, 0.129, 0.1217, 0.1206, 0.1202, 0.1186, 0.1177, 0.1156, 0.1141, 0.1105, 0.1088, 0.1083, 0.108, 0.1071, 0.1063, 0.1057, 0.1045, 0.1042, 0.1039, 0.1034, 0.1027, 0.1011, 0.1011, 0.101, 0.0995, 0.0983, 0.0978, 0.0975, 0.0965, 0.0954, 0.0968, 0.0962, 0.0927, 0.0924, 0.0948, 0.0859, 0.0791, 0.139, 0.1336, 0.1246, 0.1146, 0.1138, 0.1066, 0.1047, 0.1041, 0.1027, 0.1018, 0.1017, 0.1014, 0.1002, 0.1001, 0.0988, 0.0967, 0.0961, 0.095, 0.0948, 0.0938, 0.0929, 0.0929, 0.0923, 0.0917, 0.0912, 0.0912, 0.091, 0.0909, 0.0904, 0.0901, 0.0877, 0.085, 0.0893, 0.0772, 0.0828, 0.0826, 0.0834, 0.0744, 0.0773, 0.0859, 0.0768, 0.0788, 0.0634, 0.1745, 0.1569, 0.1492, 0.14, 0.1384, 0.1372, 0.1358, 0.1355, 0.1342, 0.1331, 0.1312, 0.1304, 0.1294, 0.1273, 0.1259, 0.1232, 0.1227, 0.1181, 0.1154, 0.1136, 0.113, 0.1119, 0.1105, 0.1102, 0.1082, 0.1075, 0.1073, 0.1062, 0.1055, 0.1051, 0.1031, 0.1022, 0.0994, 0.1003, 0.0944, 0.2013, 0.1895, 0.1815, 0.1804, 0.1769, 0.1628, 0.1577, 0.1546, 0.1519, 0.1514, 0.151, 0.1488, 0.1479, 0.1404, 0.1398, 0.1395, 0.1388, 0.1376, 0.1375, 0.1342, 0.1324, 0.1322, 0.1309, 0.1306, 0.13, 0.1283, 0.1273, 0.1267, 0.1261, 0.1257, 0.1246, 0.1233, 0.1216, 0.118, 0.1112, 0.1185, 0.2036, 0.1849, 0.1845, 0.1661, 0.1632, 0.1605, 0.159, 0.156, 0.1541, 0.1454, 0.1451, 0.1434, 0.1434, 0.1422, 0.142, 0.1415, 0.1393, 0.1387, 0.1386, 0.1385, 0.1384, 0.1382, 0.137, 0.1363, 0.1356, 0.1354, 0.1349, 0.1321, 0.1321, 0.1312, 0.1307, 0.1262, 0.1254, 0.1298, 0.1411, 0.1379, 0.1224, 0.1191, 0.117, 0.113, 0.1073, 0.1069, 0.1066, 0.1016, 0.1005, 0.0976, 0.0969, 0.0967, 0.0964, 0.0959, 0.0947, 0.0932, 0.0924, 0.0922, 0.0911, 0.091, 0.091, 0.0894, 0.0893, 0.0893, 0.0886, 0.0866, 0.0862, 0.0859, 0.0857, 0.0855, 0.0857, 0.0835, 0.0782, 0.0773, 0.0753, 0.2148, 0.2021, 0.202, 0.1952, 0.1906, 0.1864, 0.1823, 0.1795, 0.1792, 0.1783, 0.1741, 0.1706, 0.1704, 0.1698, 0.1678, 0.1642, 0.1634, 0.1623, 0.1618, 0.1607, 0.159, 0.1575, 0.1551, 0.1548, 0.1475, 0.1457, 0.1426, 0.1426, 0.1416, 0.1402, 0.1342, 0.2171, 0.2135, 0.1993, 0.1987, 0.1983, 0.1919, 0.1909, 0.1909, 0.1903, 0.1901, 0.1852, 0.1833, 0.1829, 0.1793, 0.1771, 0.1755, 0.1746, 0.1722, 0.1718, 0.1669, 0.1655, 0.1578, 0.1555, 0.1552, 0.154, 0.1534, 0.1523, 0.1515, 0.1498, 0.1412, 0.1404, 0.1377, 0.1251, 0.1822, 0.1658, 0.1624, 0.1501, 0.1491, 0.1473, 0.145, 0.1348, 0.1327, 0.1262, 0.1256, 0.1171, 0.1142, 0.1138, 0.1137, 0.113, 0.1123, 0.1117, 0.1117, 0.1102, 0.107, 0.1067, 0.1055, 0.1046, 0.1041, 0.1035, 0.1026, 0.1024, 0.1021, 0.1018, 0.1004, 0.101, 0.1004, 0.1005, 0.0989, 0.0974, 0.0888, 0.093, 0.1626, 0.1619, 0.157, 0.156, 0.1538, 0.1524, 0.1503, 0.1487, 0.1486, 0.146, 0.1451, 0.144, 0.1435, 0.143, 0.1385, 0.1373, 0.1357, 0.1347, 0.1328, 0.1326, 0.1319, 0.1296, 0.1281, 0.1277, 0.1268, 0.1262, 0.1257, 0.1246, 0.1242, 0.1232, 0.1222, 0.1211, 0.1126, 0.1053, 0.2186, 0.2055, 0.1617, 0.16, 0.158, 0.1565, 0.155, 0.1446, 0.1413, 0.1361, 0.1358, 0.1357, 0.133, 0.1314, 0.1314, 0.1285, 0.128, 0.1273, 0.1268, 0.1268, 0.126, 0.125, 0.1234, 0.1234, 0.1223, 0.1216, 0.1213, 0.1208, 0.1185, 0.1179, 0.1121, 0.1139, 0.109, 0.1076, 0.1141, 0.1094, 0.1075, 0.1066, 0.1041, 0.1017, 0.101, 0.0995, 0.0979, 0.0977, 0.0955, 0.0947, 0.0947, 0.0939, 0.0936, 0.0913, 0.0902, 0.0901, 0.09, 0.0894, 0.0892, 0.0891, 0.0881, 0.0878, 0.0856, 0.0854, 0.0849, 0.0848, 0.0846, 0.0839, 0.0829, 0.082, 0.0816, 0.0779, 0.0719, 0.0797, 0.0773, 0.0806, 0.0645, 0.0761, 0.073, 0.1366, 0.1171, 0.1049, 0.1, 0.0927, 0.0912, 0.0903, 0.0896, 0.089, 0.088, 0.0872, 0.0869, 0.0851, 0.085, 0.0846, 0.0843, 0.0841, 0.0839, 0.0826, 0.0822, 0.0822, 0.0816, 0.0808, 0.0802, 0.0794, 0.0789, 0.0782, 0.0774, 0.0768, 0.0768, 0.0751, 0.0754, 0.0672, 0.0729, 0.0653, 0.0691, 0.0517, 0.0659, 0.0555, 0.0615, 0.151, 0.1299, 0.1223, 0.1163, 0.1109, 0.1093, 0.1059, 0.1022, 0.1022, 0.0937, 0.0924, 0.0923, 0.0918, 0.091, 0.0904, 0.09, 0.0885, 0.0885, 0.0885, 0.0885, 0.0859, 0.0858, 0.0856, 0.0855, 0.0853, 0.0852, 0.0849, 0.084, 0.0832, 0.0831, 0.0819, 0.0789, 0.0801, 0.0765, 0.0797, 0.0773, 0.0818, 0.0702, 0.0703, 0.1376, 0.1308, 0.1226, 0.1206, 0.1167, 0.1156, 0.1123, 0.1116, 0.1079, 0.1068, 0.1067, 0.1042, 0.1026, 0.1021, 0.1008, 0.0997, 0.0987, 0.0983, 0.097, 0.0964, 0.0949, 0.0949, 0.0946, 0.0944, 0.0939, 0.0932, 0.0932, 0.0929, 0.0927, 0.0925, 0.0922, 0.0915, 0.0903, 0.0903, 0.0849, 0.0845, 0.088, 0.0902, 0.089, 0.0879, 0.1106, 0.1043, 0.1034, 0.1021, 0.1015, 0.0982, 0.0978, 0.0963, 0.0942, 0.0923, 0.0913, 0.0911, 0.0902, 0.0895, 0.0884, 0.0875, 0.0871, 0.0857, 0.0855, 0.0852, 0.084, 0.0839, 0.0838, 0.0834, 0.0831, 0.083, 0.0824, 0.0821, 0.0821, 0.0816, 0.0807, 0.0802, 0.0781, 0.0786, 0.0786, 0.0764, 0.0717, 0.0799, 0.0718, 0.0685, 0.0547, 0.0641]}, \"token.table\": {\"Topic\": [1, 2, 3, 4, 5, 6, 7, 8, 9, 10, 11, 12, 13, 14, 15, 16, 17, 18, 19, 20, 1, 2, 3, 4, 5, 6, 7, 8, 9, 10, 11, 12, 13, 14, 15, 16, 17, 18, 19, 20, 1, 2, 3, 4, 5, 6, 7, 8, 9, 10, 11, 12, 13, 14, 15, 16, 17, 18, 19, 20, 1, 2, 3, 4, 5, 6, 7, 8, 9, 10, 11, 12, 13, 14, 15, 16, 17, 18, 19, 20, 1, 2, 3, 4, 5, 6, 7, 8, 9, 10, 11, 12, 13, 14, 15, 16, 17, 18, 19, 20, 1, 2, 3, 4, 5, 6, 7, 8, 9, 10, 11, 12, 13, 14, 15, 16, 17, 18, 19, 20, 1, 2, 3, 4, 5, 6, 7, 8, 9, 10, 11, 12, 13, 14, 15, 16, 17, 18, 19, 20, 1, 2, 3, 4, 5, 6, 7, 8, 9, 10, 11, 12, 13, 14, 15, 16, 17, 18, 19, 20, 1, 2, 3, 4, 5, 6, 7, 8, 9, 10, 11, 12, 13, 14, 15, 16, 17, 18, 19, 20, 1, 2, 3, 4, 5, 6, 7, 8, 9, 10, 11, 12, 13, 14, 15, 16, 17, 18, 19, 20, 1, 2, 3, 4, 5, 6, 7, 8, 9, 10, 11, 12, 13, 14, 15, 16, 17, 18, 19, 20, 1, 2, 3, 4, 5, 6, 7, 8, 9, 10, 11, 12, 13, 14, 15, 16, 17, 18, 19, 20, 1, 2, 3, 4, 5, 6, 7, 8, 9, 10, 11, 12, 13, 14, 15, 16, 17, 18, 19, 20, 1, 2, 3, 4, 5, 6, 7, 8, 9, 10, 11, 12, 13, 14, 15, 16, 17, 18, 19, 20, 1, 2, 3, 4, 5, 6, 7, 8, 9, 10, 11, 12, 13, 14, 15, 16, 17, 18, 19, 20, 1, 2, 3, 4, 5, 6, 7, 8, 9, 10, 11, 12, 13, 14, 15, 16, 17, 18, 19, 20, 1, 2, 3, 4, 5, 6, 7, 8, 9, 10, 11, 12, 13, 14, 15, 16, 17, 18, 19, 20, 1, 2, 3, 4, 5, 6, 7, 8, 9, 10, 11, 12, 13, 14, 15, 16, 17, 18, 19, 20, 1, 2, 3, 4, 5, 6, 7, 8, 9, 10, 11, 12, 13, 14, 15, 16, 17, 18, 19, 20, 1, 2, 3, 4, 5, 6, 7, 8, 9, 10, 11, 12, 13, 14, 15, 16, 17, 18, 19, 20, 1, 2, 3, 4, 5, 6, 7, 8, 9, 10, 11, 12, 13, 14, 15, 16, 17, 18, 19, 20, 1, 2, 3, 4, 5, 6, 7, 8, 9, 10, 11, 12, 13, 14, 15, 16, 17, 18, 19, 20, 1, 2, 3, 4, 5, 6, 7, 8, 9, 10, 11, 12, 13, 14, 15, 16, 17, 18, 19, 20, 1, 2, 3, 4, 5, 6, 7, 8, 9, 10, 11, 12, 13, 14, 15, 16, 17, 18, 19, 20, 1, 2, 3, 4, 5, 6, 7, 8, 9, 10, 11, 12, 13, 14, 15, 16, 17, 18, 19, 20, 1, 2, 3, 4, 5, 6, 7, 8, 9, 10, 11, 12, 13, 14, 15, 16, 17, 18, 19, 20, 1, 2, 3, 4, 5, 6, 7, 8, 9, 10, 11, 12, 13, 14, 15, 16, 17, 18, 19, 20, 1, 2, 3, 4, 5, 6, 7, 8, 9, 10, 11, 12, 13, 14, 15, 16, 17, 18, 19, 20, 1, 2, 3, 4, 5, 6, 7, 8, 9, 10, 11, 12, 13, 14, 15, 16, 17, 18, 19, 20, 1, 2, 3, 4, 5, 6, 7, 8, 9, 10, 11, 12, 13, 14, 15, 16, 17, 18, 19, 20, 1, 2, 3, 4, 5, 6, 7, 8, 9, 10, 11, 12, 13, 14, 15, 16, 17, 18, 19, 20, 1, 2, 3, 4, 5, 6, 7, 8, 9, 10, 11, 12, 13, 14, 15, 16, 17, 18, 19, 20, 1, 2, 3, 4, 5, 6, 7, 8, 9, 10, 11, 12, 13, 14, 15, 16, 17, 18, 19, 20, 1, 2, 3, 4, 5, 6, 7, 8, 9, 10, 11, 12, 13, 14, 15, 16, 17, 18, 19, 20, 1, 2, 3, 4, 5, 6, 7, 8, 9, 10, 11, 12, 13, 14, 15, 16, 17, 18, 19, 20, 1, 2, 3, 4, 5, 6, 7, 8, 9, 10, 11, 12, 13, 14, 15, 16, 17, 18, 19, 20, 1, 2, 3, 4, 5, 6, 7, 8, 9, 10, 11, 12, 13, 14, 15, 16, 17, 18, 19, 20, 1, 2, 3, 4, 5, 6, 7, 8, 9, 10, 11, 12, 13, 14, 15, 16, 17, 18, 19, 20, 1, 2, 3, 4, 5, 6, 7, 8, 9, 10, 11, 12, 13, 14, 15, 16, 17, 18, 19, 20, 1, 2, 3, 4, 5, 6, 7, 8, 9, 10, 11, 12, 13, 14, 15, 16, 17, 18, 19, 20, 1, 2, 3, 4, 5, 6, 7, 8, 9, 10, 11, 12, 13, 14, 15, 16, 17, 18, 19, 20, 1, 2, 3, 4, 5, 6, 7, 8, 9, 10, 11, 12, 13, 14, 15, 16, 17, 18, 19, 20, 1, 2, 3, 4, 5, 6, 7, 8, 9, 10, 11, 12, 13, 14, 15, 16, 17, 18, 19, 20, 1, 2, 3, 4, 5, 6, 7, 8, 9, 10, 11, 12, 13, 14, 15, 16, 17, 18, 19, 20, 1, 2, 3, 4, 5, 6, 7, 8, 9, 10, 11, 12, 13, 14, 15, 16, 17, 18, 19, 20, 1, 2, 3, 4, 5, 6, 7, 8, 9, 10, 11, 12, 13, 14, 15, 16, 17, 18, 19, 20, 1, 2, 3, 4, 5, 6, 7, 8, 9, 10, 11, 12, 13, 14, 15, 16, 17, 18, 19, 20, 1, 2, 3, 4, 5, 6, 7, 8, 9, 10, 11, 12, 13, 14, 15, 16, 17, 18, 19, 20, 1, 2, 3, 4, 5, 6, 7, 8, 9, 10, 11, 12, 13, 14, 15, 16, 17, 18, 19, 20, 1, 2, 3, 4, 5, 6, 7, 8, 9, 10, 11, 12, 13, 14, 15, 16, 17, 18, 19, 20, 1, 2, 3, 4, 5, 6, 7, 8, 9, 10, 11, 12, 13, 14, 15, 16, 17, 18, 19, 20, 1, 2, 3, 4, 5, 6, 7, 8, 9, 10, 11, 12, 13, 14, 15, 16, 17, 18, 19, 20, 1, 2, 3, 4, 5, 6, 7, 8, 9, 10, 11, 12, 13, 14, 15, 16, 17, 18, 19, 20, 1, 2, 3, 4, 5, 6, 7, 8, 9, 10, 11, 12, 13, 14, 15, 16, 17, 18, 19, 20, 1, 2, 3, 4, 5, 6, 7, 8, 9, 10, 11, 12, 13, 14, 15, 16, 17, 18, 19, 20, 1, 2, 3, 4, 5, 6, 7, 8, 9, 10, 11, 12, 13, 14, 15, 16, 17, 18, 19, 20, 1, 2, 3, 4, 5, 6, 7, 8, 9, 10, 11, 12, 13, 14, 15, 16, 17, 18, 19, 20, 1, 2, 3, 4, 5, 6, 7, 8, 9, 10, 11, 12, 13, 14, 15, 16, 17, 18, 19, 20, 1, 2, 3, 4, 5, 6, 7, 8, 9, 10, 11, 12, 13, 14, 15, 16, 17, 18, 19, 20, 1, 2, 3, 4, 5, 6, 7, 8, 9, 10, 11, 12, 13, 14, 15, 16, 17, 18, 19, 20, 1, 2, 3, 4, 5, 6, 7, 8, 9, 10, 11, 12, 13, 14, 15, 16, 17, 18, 19, 20, 1, 2, 3, 4, 5, 6, 7, 8, 9, 10, 11, 12, 13, 14, 15, 16, 17, 18, 19, 20, 1, 2, 3, 4, 5, 6, 7, 8, 9, 10, 11, 12, 13, 14, 15, 16, 17, 18, 19, 20, 1, 2, 3, 4, 5, 6, 7, 8, 9, 10, 11, 12, 13, 14, 15, 16, 17, 18, 19, 20, 1, 2, 3, 4, 5, 6, 7, 8, 9, 10, 11, 12, 13, 14, 15, 16, 17, 18, 19, 20, 1, 2, 3, 4, 5, 6, 7, 8, 9, 10, 11, 12, 13, 14, 15, 16, 17, 18, 19, 20, 1, 2, 3, 4, 5, 6, 7, 8, 9, 10, 11, 12, 13, 14, 15, 16, 17, 18, 19, 20, 1, 2, 3, 4, 5, 6, 7, 8, 9, 10, 11, 12, 13, 14, 15, 16, 17, 18, 19, 20, 1, 2, 3, 4, 5, 6, 7, 8, 9, 10, 11, 12, 13, 14, 15, 16, 17, 18, 19, 20, 1, 2, 3, 4, 5, 6, 7, 8, 9, 10, 11, 12, 13, 14, 15, 16, 17, 18, 19, 20, 1, 2, 3, 4, 5, 6, 7, 8, 9, 10, 11, 12, 13, 14, 15, 16, 17, 18, 19, 20, 1, 2, 3, 4, 5, 6, 7, 8, 9, 10, 11, 12, 13, 14, 15, 16, 17, 18, 19, 20, 1, 2, 3, 4, 5, 6, 7, 8, 9, 10, 11, 12, 13, 14, 15, 16, 17, 18, 19, 20, 1, 2, 3, 4, 5, 6, 7, 8, 9, 10, 11, 12, 13, 14, 15, 16, 17, 18, 19, 20, 1, 2, 3, 4, 5, 6, 7, 8, 9, 10, 11, 12, 13, 14, 15, 16, 17, 18, 19, 20, 1, 2, 3, 4, 5, 6, 7, 8, 9, 10, 11, 12, 13, 14, 15, 16, 17, 18, 19, 20, 1, 2, 3, 4, 5, 6, 7, 8, 9, 10, 11, 12, 13, 14, 15, 16, 17, 18, 19, 20, 1, 2, 3, 4, 5, 6, 7, 8, 9, 10, 11, 12, 13, 14, 15, 16, 17, 18, 19, 20, 1, 2, 3, 4, 5, 6, 7, 8, 9, 10, 11, 12, 13, 14, 15, 16, 17, 18, 19, 20, 1, 2, 3, 4, 5, 6, 7, 8, 9, 10, 11, 12, 13, 14, 15, 16, 17, 18, 19, 20, 1, 2, 3, 4, 5, 6, 7, 8, 9, 10, 11, 12, 13, 14, 15, 16, 17, 18, 19, 20, 1, 2, 3, 4, 5, 6, 7, 8, 9, 10, 11, 12, 13, 14, 15, 16, 17, 18, 19, 20, 1, 2, 3, 4, 5, 6, 7, 8, 9, 10, 11, 12, 13, 14, 15, 16, 17, 18, 19, 20, 1, 2, 3, 4, 5, 6, 7, 8, 9, 10, 11, 12, 13, 14, 15, 16, 17, 18, 19, 20, 1, 2, 3, 4, 5, 6, 7, 8, 9, 10, 11, 12, 13, 14, 15, 16, 17, 18, 19, 20, 1, 2, 3, 4, 5, 6, 7, 8, 9, 10, 11, 12, 13, 14, 15, 16, 17, 18, 19, 20, 1, 2, 3, 4, 5, 6, 7, 8, 9, 10, 11, 12, 13, 14, 15, 16, 17, 18, 19, 20, 1, 2, 3, 4, 5, 6, 7, 8, 9, 10, 11, 12, 13, 14, 15, 16, 17, 18, 19, 20, 1, 2, 3, 4, 5, 6, 7, 8, 9, 10, 11, 12, 13, 14, 15, 16, 17, 18, 19, 20, 1, 2, 3, 4, 5, 6, 7, 8, 9, 10, 11, 12, 13, 14, 15, 16, 17, 18, 19, 20, 1, 2, 3, 4, 5, 6, 7, 8, 9, 10, 11, 12, 13, 14, 15, 16, 17, 18, 19, 20, 1, 2, 3, 4, 5, 6, 7, 8, 9, 10, 11, 12, 13, 14, 15, 16, 17, 18, 19, 20, 1, 2, 3, 4, 5, 6, 7, 8, 9, 10, 11, 12, 13, 14, 15, 16, 17, 18, 19, 20, 1, 2, 3, 4, 5, 6, 7, 8, 9, 10, 11, 12, 13, 14, 15, 16, 17, 18, 19, 20, 1, 2, 3, 4, 5, 6, 7, 8, 9, 10, 11, 12, 13, 14, 15, 16, 17, 18, 19, 20, 1, 2, 3, 4, 5, 6, 7, 8, 9, 10, 11, 12, 13, 14, 15, 16, 17, 18, 19, 20, 1, 2, 3, 4, 5, 6, 7, 8, 9, 10, 11, 12, 13, 14, 15, 16, 17, 18, 19, 20, 1, 2, 3, 4, 5, 6, 7, 8, 9, 10, 11, 12, 13, 14, 15, 16, 17, 18, 19, 20, 1, 2, 3, 4, 5, 6, 7, 8, 9, 10, 11, 12, 13, 14, 15, 16, 17, 18, 19, 20, 1, 2, 3, 4, 5, 6, 7, 8, 9, 10, 11, 12, 13, 14, 15, 16, 17, 18, 19, 20, 1, 2, 3, 4, 5, 6, 7, 8, 9, 10, 11, 12, 13, 14, 15, 16, 17, 18, 19, 20, 1, 2, 3, 4, 5, 6, 7, 8, 9, 10, 11, 12, 13, 14, 15, 16, 17, 18, 19, 20, 1, 2, 3, 4, 5, 6, 7, 8, 9, 10, 11, 12, 13, 14, 15, 16, 17, 18, 19, 20, 1, 2, 3, 4, 5, 6, 7, 8, 9, 10, 11, 12, 13, 14, 15, 16, 17, 18, 19, 20, 1, 2, 3, 4, 5, 6, 7, 8, 9, 10, 11, 12, 13, 14, 15, 16, 17, 18, 19, 20, 1, 2, 3, 4, 5, 6, 7, 8, 9, 10, 11, 12, 13, 14, 15, 16, 17, 18, 19, 20, 1, 2, 3, 4, 5, 6, 7, 8, 9, 10, 11, 12, 13, 14, 15, 16, 17, 18, 19, 20, 1, 2, 3, 4, 5, 6, 7, 8, 9, 10, 11, 12, 13, 14, 15, 16, 17, 18, 19, 20, 1, 2, 3, 4, 5, 6, 7, 8, 9, 10, 11, 12, 13, 14, 15, 16, 17, 18, 19, 20, 1, 2, 3, 4, 5, 6, 7, 8, 9, 10, 11, 12, 13, 14, 15, 16, 17, 18, 19, 20, 1, 2, 3, 4, 5, 6, 7, 8, 9, 10, 11, 12, 13, 14, 15, 16, 17, 18, 19, 20, 1, 2, 3, 4, 5, 6, 7, 8, 9, 10, 11, 12, 13, 14, 15, 16, 17, 18, 19, 20, 1, 2, 3, 4, 5, 6, 7, 8, 9, 10, 11, 12, 13, 14, 15, 16, 17, 18, 19, 20, 1, 2, 3, 4, 5, 6, 7, 8, 9, 10, 11, 12, 13, 14, 15, 16, 17, 18, 19, 20, 1, 2, 3, 4, 5, 6, 7, 8, 9, 10, 11, 12, 13, 14, 15, 16, 17, 18, 19, 20, 1, 2, 3, 4, 5, 6, 7, 8, 9, 10, 11, 12, 13, 14, 15, 16, 17, 18, 19, 20, 1, 2, 3, 4, 5, 6, 7, 8, 9, 10, 11, 12, 13, 14, 15, 16, 17, 18, 19, 20, 1, 2, 3, 4, 5, 6, 7, 8, 9, 10, 11, 12, 13, 14, 15, 16, 17, 18, 19, 20, 1, 2, 3, 4, 5, 6, 7, 8, 9, 10, 11, 12, 13, 14, 15, 16, 17, 18, 19, 20, 1, 2, 3, 4, 5, 6, 7, 8, 9, 10, 11, 12, 13, 14, 15, 16, 17, 18, 19, 20, 1, 2, 3, 4, 5, 6, 7, 8, 9, 10, 11, 12, 13, 14, 15, 16, 17, 18, 19, 20, 1, 2, 3, 4, 5, 6, 7, 8, 9, 10, 11, 12, 13, 14, 15, 16, 17, 18, 19, 20, 1, 2, 3, 4, 5, 6, 7, 8, 9, 10, 11, 12, 13, 14, 15, 16, 17, 18, 19, 20, 1, 2, 3, 4, 5, 6, 7, 8, 9, 10, 11, 12, 13, 14, 15, 16, 17, 18, 19, 20, 1, 2, 3, 4, 5, 6, 7, 8, 9, 10, 11, 12, 13, 14, 15, 16, 17, 18, 19, 20, 1, 2, 3, 4, 5, 6, 7, 8, 9, 10, 11, 12, 13, 14, 15, 16, 17, 18, 19, 20, 1, 2, 3, 4, 5, 6, 7, 8, 9, 10, 11, 12, 13, 14, 15, 16, 17, 18, 19, 20, 1, 2, 3, 4, 5, 6, 7, 8, 9, 10, 11, 12, 13, 14, 15, 16, 17, 18, 19, 20, 1, 2, 3, 4, 5, 6, 7, 8, 9, 10, 11, 12, 13, 14, 15, 16, 17, 18, 19, 20, 1, 2, 3, 4, 5, 6, 7, 8, 9, 10, 11, 12, 13, 14, 15, 16, 17, 18, 19, 20, 1, 2, 3, 4, 5, 6, 7, 8, 9, 10, 11, 12, 13, 14, 15, 16, 17, 18, 19, 20, 1, 2, 3, 4, 5, 6, 7, 8, 9, 10, 11, 12, 13, 14, 15, 16, 17, 18, 19, 20, 1, 2, 3, 4, 5, 6, 7, 8, 9, 10, 11, 12, 13, 14, 15, 16, 17, 18, 19, 20, 1, 2, 3, 4, 5, 6, 7, 8, 9, 10, 11, 12, 13, 14, 15, 16, 17, 18, 19, 20, 1, 2, 3, 4, 5, 6, 7, 8, 9, 10, 11, 12, 13, 14, 15, 16, 17, 18, 19, 20, 1, 2, 3, 4, 5, 6, 7, 8, 9, 10, 11, 12, 13, 14, 15, 16, 17, 18, 19, 20, 1, 2, 3, 4, 5, 6, 7, 8, 9, 10, 11, 12, 13, 14, 15, 16, 17, 18, 19, 20, 1, 2, 3, 4, 5, 6, 7, 8, 9, 10, 11, 12, 13, 14, 15, 16, 17, 18, 19, 20, 1, 2, 3, 4, 5, 6, 7, 8, 9, 10, 11, 12, 13, 14, 15, 16, 17, 18, 19, 20, 1, 2, 3, 4, 5, 6, 7, 8, 9, 10, 11, 12, 13, 14, 15, 16, 17, 18, 19, 20, 1, 2, 3, 4, 5, 6, 7, 8, 9, 10, 11, 12, 13, 14, 15, 16, 17, 18, 19, 20, 1, 2, 3, 4, 5, 6, 7, 8, 9, 10, 11, 12, 13, 14, 15, 16, 17, 18, 19, 20, 1, 2, 3, 4, 5, 6, 7, 8, 9, 10, 11, 12, 13, 14, 15, 16, 17, 18, 19, 20, 1, 2, 3, 4, 5, 6, 7, 8, 9, 10, 11, 12, 13, 14, 15, 16, 17, 18, 19, 20, 1, 2, 3, 4, 5, 6, 7, 8, 9, 10, 11, 12, 13, 14, 15, 16, 17, 18, 19, 20, 1, 2, 3, 4, 5, 6, 7, 8, 9, 10, 11, 12, 13, 14, 15, 16, 17, 18, 19, 20, 1, 2, 3, 4, 5, 6, 7, 8, 9, 10, 11, 12, 13, 14, 15, 16, 17, 18, 19, 20, 1, 2, 3, 4, 5, 6, 7, 8, 9, 10, 11, 12, 13, 14, 15, 16, 17, 18, 19, 20, 1, 2, 3, 4, 5, 6, 7, 8, 9, 10, 11, 12, 13, 14, 15, 16, 17, 18, 19, 20, 1, 2, 3, 4, 5, 6, 7, 8, 9, 10, 11, 12, 13, 14, 15, 16, 17, 18, 19, 20, 1, 2, 3, 4, 5, 6, 7, 8, 9, 10, 11, 12, 13, 14, 15, 16, 17, 18, 19, 20, 1, 2, 3, 4, 5, 6, 7, 8, 9, 10, 11, 12, 13, 14, 15, 16, 17, 18, 19, 20, 1, 2, 3, 4, 5, 6, 7, 8, 9, 10, 11, 12, 13, 14, 15, 16, 17, 18, 19, 20, 1, 2, 3, 4, 5, 6, 7, 8, 9, 10, 11, 12, 13, 14, 15, 16, 17, 18, 19, 20, 1, 2, 3, 4, 5, 6, 7, 8, 9, 10, 11, 12, 13, 14, 15, 16, 17, 18, 19, 20, 1, 2, 3, 4, 5, 6, 7, 8, 9, 10, 11, 12, 13, 14, 15, 16, 17, 18, 19, 20, 1, 2, 3, 4, 5, 6, 7, 8, 9, 10, 11, 12, 13, 14, 15, 16, 17, 18, 19, 20, 1, 2, 3, 4, 5, 6, 7, 8, 9, 10, 11, 12, 13, 14, 15, 16, 17, 18, 19, 20, 1, 2, 3, 4, 5, 6, 7, 8, 9, 10, 11, 12, 13, 14, 15, 16, 17, 18, 19, 20, 1, 2, 3, 4, 5, 6, 7, 8, 9, 10, 11, 12, 13, 14, 15, 16, 17, 18, 19, 20, 1, 2, 3, 4, 5, 6, 7, 8, 9, 10, 11, 12, 13, 14, 15, 16, 17, 18, 19, 20, 1, 2, 3, 4, 5, 6, 7, 8, 9, 10, 11, 12, 13, 14, 15, 16, 17, 18, 19, 20, 1, 2, 3, 4, 5, 6, 7, 8, 9, 10, 11, 12, 13, 14, 15, 16, 17, 18, 19, 20, 1, 2, 3, 4, 5, 6, 7, 8, 9, 10, 11, 12, 13, 14, 15, 16, 17, 18, 19, 20, 1, 2, 3, 4, 5, 6, 7, 8, 9, 10, 11, 12, 13, 14, 15, 16, 17, 18, 19, 20, 1, 2, 3, 4, 5, 6, 7, 8, 9, 10, 11, 12, 13, 14, 15, 16, 17, 18, 19, 20, 1, 2, 3, 4, 5, 6, 7, 8, 9, 10, 11, 12, 13, 14, 15, 16, 17, 18, 19, 20, 1, 2, 3, 4, 5, 6, 7, 8, 9, 10, 11, 12, 13, 14, 15, 16, 17, 18, 19, 20, 1, 2, 3, 4, 5, 6, 7, 8, 9, 10, 11, 12, 13, 14, 15, 16, 17, 18, 19, 20, 1, 2, 3, 4, 5, 6, 7, 8, 9, 10, 11, 12, 13, 14, 15, 16, 17, 18, 19, 20, 1, 2, 3, 4, 5, 6, 7, 8, 9, 10, 11, 12, 13, 14, 15, 16, 17, 18, 19, 20, 1, 2, 3, 4, 5, 6, 7, 8, 9, 10, 11, 12, 13, 14, 15, 16, 17, 18, 19, 20, 1, 2, 3, 4, 5, 6, 7, 8, 9, 10, 11, 12, 13, 14, 15, 16, 17, 18, 19, 20, 1, 2, 3, 4, 5, 6, 7, 8, 9, 10, 11, 12, 13, 14, 15, 16, 17, 18, 19, 20, 1, 2, 3, 4, 5, 6, 7, 8, 9, 10, 11, 12, 13, 14, 15, 16, 17, 18, 19, 20, 1, 2, 3, 4, 5, 6, 7, 8, 9, 10, 11, 12, 13, 14, 15, 16, 17, 18, 19, 20, 1, 2, 3, 4, 5, 6, 7, 8, 9, 10, 11, 12, 13, 14, 15, 16, 17, 18, 19, 20, 1, 2, 3, 4, 5, 6, 7, 8, 9, 10, 11, 12, 13, 14, 15, 16, 17, 18, 19, 20, 1, 2, 3, 4, 5, 6, 7, 8, 9, 10, 11, 12, 13, 14, 15, 16, 17, 18, 19, 20, 1, 2, 3, 4, 5, 6, 7, 8, 9, 10, 11, 12, 13, 14, 15, 16, 17, 18, 19, 20, 1, 2, 3, 4, 5, 6, 7, 8, 9, 10, 11, 12, 13, 14, 15, 16, 17, 18, 19, 20, 1, 2, 3, 4, 5, 6, 7, 8, 9, 10, 11, 12, 13, 14, 15, 16, 17, 18, 19, 20, 1, 2, 3, 4, 5, 6, 7, 8, 9, 10, 11, 12, 13, 14, 15, 16, 17, 18, 19, 20, 1, 2, 3, 4, 5, 6, 7, 8, 9, 10, 11, 12, 13, 14, 15, 16, 17, 18, 19, 20, 1, 2, 3, 4, 5, 6, 7, 8, 9, 10, 11, 12, 13, 14, 15, 16, 17, 18, 19, 20, 1, 2, 3, 4, 5, 6, 7, 8, 9, 10, 11, 12, 13, 14, 15, 16, 17, 18, 19, 20, 1, 2, 3, 4, 5, 6, 7, 8, 9, 10, 11, 12, 13, 14, 15, 16, 17, 18, 19, 20, 1, 2, 3, 4, 5, 6, 7, 8, 9, 10, 11, 12, 13, 14, 15, 16, 17, 18, 19, 20, 1, 2, 3, 4, 5, 6, 7, 8, 9, 10, 11, 12, 13, 14, 15, 16, 17, 18, 19, 20, 1, 2, 3, 4, 5, 6, 7, 8, 9, 10, 11, 12, 13, 14, 15, 16, 17, 18, 19, 20, 1, 2, 3, 4, 5, 6, 7, 8, 9, 10, 11, 12, 13, 14, 15, 16, 17, 18, 19, 20, 1, 2, 3, 4, 5, 6, 7, 8, 9, 10, 11, 12, 13, 14, 15, 16, 17, 18, 19, 20, 1, 2, 3, 4, 5, 6, 7, 8, 9, 10, 11, 12, 13, 14, 15, 16, 17, 18, 19, 20, 1, 2, 3, 4, 5, 6, 7, 8, 9, 10, 11, 12, 13, 14, 15, 16, 17, 18, 19, 20, 1, 2, 3, 4, 5, 6, 7, 8, 9, 10, 11, 12, 13, 14, 15, 16, 17, 18, 19, 20, 1, 2, 3, 4, 5, 6, 7, 8, 9, 10, 11, 12, 13, 14, 15, 16, 17, 18, 19, 20, 1, 2, 3, 4, 5, 6, 7, 8, 9, 10, 11, 12, 13, 14, 15, 16, 17, 18, 19, 20, 1, 2, 3, 4, 5, 6, 7, 8, 9, 10, 11, 12, 13, 14, 15, 16, 17, 18, 19, 20, 1, 2, 3, 4, 5, 6, 7, 8, 9, 10, 11, 12, 13, 14, 15, 16, 17, 18, 19, 20, 1, 2, 3, 4, 5, 6, 7, 8, 9, 10, 11, 12, 13, 14, 15, 16, 17, 18, 19, 20, 1, 2, 3, 4, 5, 6, 7, 8, 9, 10, 11, 12, 13, 14, 15, 16, 17, 18, 19, 20, 1, 2, 3, 4, 5, 6, 7, 8, 9, 10, 11, 12, 13, 14, 15, 16, 17, 18, 19, 20, 1, 2, 3, 4, 5, 6, 7, 8, 9, 10, 11, 12, 13, 14, 15, 16, 17, 18, 19, 20, 1, 2, 3, 4, 5, 6, 7, 8, 9, 10, 11, 12, 13, 14, 15, 16, 17, 18, 19, 20, 1, 2, 3, 4, 5, 6, 7, 8, 9, 10, 11, 12, 13, 14, 15, 16, 17, 18, 19, 20, 1, 2, 3, 4, 5, 6, 7, 8, 9, 10, 11, 12, 13, 14, 15, 16, 17, 18, 19, 20, 1, 2, 3, 4, 5, 6, 7, 8, 9, 10, 11, 12, 13, 14, 15, 16, 17, 18, 19, 20, 1, 2, 3, 4, 5, 6, 7, 8, 9, 10, 11, 12, 13, 14, 15, 16, 17, 18, 19, 20, 1, 2, 3, 4, 5, 6, 7, 8, 9, 10, 11, 12, 13, 14, 15, 16, 17, 18, 19, 20, 1, 2, 3, 4, 5, 6, 7, 8, 9, 10, 11, 12, 13, 14, 15, 16, 17, 18, 19, 20, 1, 2, 3, 4, 5, 6, 7, 8, 9, 10, 11, 12, 13, 14, 15, 16, 17, 18, 19, 20, 1, 2, 3, 4, 5, 6, 7, 8, 9, 10, 11, 12, 13, 14, 15, 16, 17, 18, 19, 20, 1, 2, 3, 4, 5, 6, 7, 8, 9, 10, 11, 12, 13, 14, 15, 16, 17, 18, 19, 20, 1, 2, 3, 4, 5, 6, 7, 8, 9, 10, 11, 12, 13, 14, 15, 16, 17, 18, 19, 20, 1, 2, 3, 4, 5, 6, 7, 8, 9, 10, 11, 12, 13, 14, 15, 16, 17, 18, 19, 20, 1, 2, 3, 4, 5, 6, 7, 8, 9, 10, 11, 12, 13, 14, 15, 16, 17, 18, 19, 20, 1, 2, 3, 4, 5, 6, 7, 8, 9, 10, 11, 12, 13, 14, 15, 16, 17, 18, 19, 20, 1, 2, 3, 4, 5, 6, 7, 8, 9, 10, 11, 12, 13, 14, 15, 16, 17, 18, 19, 20, 1, 2, 3, 4, 5, 6, 7, 8, 9, 10, 11, 12, 13, 14, 15, 16, 17, 18, 19, 20, 1, 2, 3, 4, 5, 6, 7, 8, 9, 10, 11, 12, 13, 14, 15, 16, 17, 18, 19, 20, 1, 2, 3, 4, 5, 6, 7, 8, 9, 10, 11, 12, 13, 14, 15, 16, 17, 18, 19, 20, 1, 2, 3, 4, 5, 6, 7, 8, 9, 10, 11, 12, 13, 14, 15, 16, 17, 18, 19, 20, 1, 2, 3, 4, 5, 6, 7, 8, 9, 10, 11, 12, 13, 14, 15, 16, 17, 18, 19, 20, 1, 2, 3, 4, 5, 6, 7, 8, 9, 10, 11, 12, 13, 14, 15, 16, 17, 18, 19, 20, 1, 2, 3, 4, 5, 6, 7, 8, 9, 10, 11, 12, 13, 14, 15, 16, 17, 18, 19, 20, 1, 2, 3, 4, 5, 6, 7, 8, 9, 10, 11, 12, 13, 14, 15, 16, 17, 18, 19, 20, 1, 2, 3, 4, 5, 6, 7, 8, 9, 10, 11, 12, 13, 14, 15, 16, 17, 18, 19, 20, 1, 2, 3, 4, 5, 6, 7, 8, 9, 10, 11, 12, 13, 14, 15, 16, 17, 18, 19, 20, 1, 2, 3, 4, 5, 6, 7, 8, 9, 10, 11, 12, 13, 14, 15, 16, 17, 18, 19, 20, 1, 2, 3, 4, 5, 6, 7, 8, 9, 10, 11, 12, 13, 14, 15, 16, 17, 18, 19, 20, 1, 2, 3, 4, 5, 6, 7, 8, 9, 10, 11, 12, 13, 14, 15, 16, 17, 18, 19, 20, 1, 2, 3, 4, 5, 6, 7, 8, 9, 10, 11, 12, 13, 14, 15, 16, 17, 18, 19, 20, 1, 2, 3, 4, 5, 6, 7, 8, 9, 10, 11, 12, 13, 14, 15, 16, 17, 18, 19, 20, 1, 2, 3, 4, 5, 6, 7, 8, 9, 10, 11, 12, 13, 14, 15, 16, 17, 18, 19, 20, 1, 2, 3, 4, 5, 6, 7, 8, 9, 10, 11, 12, 13, 14, 15, 16, 17, 18, 19, 20, 1, 2, 3, 4, 5, 6, 7, 8, 9, 10, 11, 12, 13, 14, 15, 16, 17, 18, 19, 20, 1, 2, 3, 4, 5, 6, 7, 8, 9, 10, 11, 12, 13, 14, 15, 16, 17, 18, 19, 20, 1, 2, 3, 4, 5, 6, 7, 8, 9, 10, 11, 12, 13, 14, 15, 16, 17, 18, 19, 20, 1, 2, 3, 4, 5, 6, 7, 8, 9, 10, 11, 12, 13, 14, 15, 16, 17, 18, 19, 20, 1, 2, 3, 4, 5, 6, 7, 8, 9, 10, 11, 12, 13, 14, 15, 16, 17, 18, 19, 20, 1, 2, 3, 4, 5, 6, 7, 8, 9, 10, 11, 12, 13, 14, 15, 16, 17, 18, 19, 20, 1, 2, 3, 4, 5, 6, 7, 8, 9, 10, 11, 12, 13, 14, 15, 16, 17, 18, 19, 20, 1, 2, 3, 4, 5, 6, 7, 8, 9, 10, 11, 12, 13, 14, 15, 16, 17, 18, 19, 20, 1, 2, 3, 4, 5, 6, 7, 8, 9, 10, 11, 12, 13, 14, 15, 16, 17, 18, 19, 20, 1, 2, 3, 4, 5, 6, 7, 8, 9, 10, 11, 12, 13, 14, 15, 16, 17, 18, 19, 20, 1, 2, 3, 4, 5, 6, 7, 8, 9, 10, 11, 12, 13, 14, 15, 16, 17, 18, 19, 20, 1, 2, 3, 4, 5, 6, 7, 8, 9, 10, 11, 12, 13, 14, 15, 16, 17, 18, 19, 20, 1, 2, 3, 4, 5, 6, 7, 8, 9, 10, 11, 12, 13, 14, 15, 16, 17, 18, 19, 20, 1, 2, 3, 4, 5, 6, 7, 8, 9, 10, 11, 12, 13, 14, 15, 16, 17, 18, 19, 20, 1, 2, 3, 4, 5, 6, 7, 8, 9, 10, 11, 12, 13, 14, 15, 16, 17, 18, 19, 20, 1, 2, 3, 4, 5, 6, 7, 8, 9, 10, 11, 12, 13, 14, 15, 16, 17, 18, 19, 20, 1, 2, 3, 4, 5, 6, 7, 8, 9, 10, 11, 12, 13, 14, 15, 16, 17, 18, 19, 20, 1, 2, 3, 4, 5, 6, 7, 8, 9, 10, 11, 12, 13, 14, 15, 16, 17, 18, 19, 20, 1, 2, 3, 4, 5, 6, 7, 8, 9, 10, 11, 12, 13, 14, 15, 16, 17, 18, 19, 20, 1, 2, 3, 4, 5, 6, 7, 8, 9, 10, 11, 12, 13, 14, 15, 16, 17, 18, 19, 20, 1, 2, 3, 4, 5, 6, 7, 8, 9, 10, 11, 12, 13, 14, 15, 16, 17, 18, 19, 20, 1, 2, 3, 4, 5, 6, 7, 8, 9, 10, 11, 12, 13, 14, 15, 16, 17, 18, 19, 20, 1, 2, 3, 4, 5, 6, 7, 8, 9, 10, 11, 12, 13, 14, 15, 16, 17, 18, 19, 20, 1, 2, 3, 4, 5, 6, 7, 8, 9, 10, 11, 12, 13, 14, 15, 16, 17, 18, 19, 20, 1, 2, 3, 4, 5, 6, 7, 8, 9, 10, 11, 12, 13, 14, 15, 16, 17, 18, 19, 20, 1, 2, 3, 4, 5, 6, 7, 8, 9, 10, 11, 12, 13, 14, 15, 16, 17, 18, 19, 20, 1, 2, 3, 4, 5, 6, 7, 8, 9, 10, 11, 12, 13, 14, 15, 16, 17, 18, 19, 20, 1, 2, 3, 4, 5, 6, 7, 8, 9, 10, 11, 12, 13, 14, 15, 16, 17, 18, 19, 20, 1, 2, 3, 4, 5, 6, 7, 8, 9, 10, 11, 12, 13, 14, 15, 16, 17, 18, 19, 20, 1, 2, 3, 4, 5, 6, 7, 8, 9, 10, 11, 12, 13, 14, 15, 16, 17, 18, 19, 20, 1, 2, 3, 4, 5, 6, 7, 8, 9, 10, 11, 12, 13, 14, 15, 16, 17, 18, 19, 20, 1, 2, 3, 4, 5, 6, 7, 8, 9, 10, 11, 12, 13, 14, 15, 16, 17, 18, 19, 20, 1, 2, 3, 4, 5, 6, 7, 8, 9, 10, 11, 12, 13, 14, 15, 16, 17, 18, 19, 20, 1, 2, 3, 4, 5, 6, 7, 8, 9, 10, 11, 12, 13, 14, 15, 16, 17, 18, 19, 20, 1, 2, 3, 4, 5, 6, 7, 8, 9, 10, 11, 12, 13, 14, 15, 16, 17, 18, 19, 20, 1, 2, 3, 4, 5, 6, 7, 8, 9, 10, 11, 12, 13, 14, 15, 16, 17, 18, 19, 20, 1, 2, 3, 4, 5, 6, 7, 8, 9, 10, 11, 12, 13, 14, 15, 16, 17, 18, 19, 20, 1, 2, 3, 4, 5, 6, 7, 8, 9, 10, 11, 12, 13, 14, 15, 16, 17, 18, 19, 20, 1, 2, 3, 4, 5, 6, 7, 8, 9, 10, 11, 12, 13, 14, 15, 16, 17, 18, 19, 20, 1, 2, 3, 4, 5, 6, 7, 8, 9, 10, 11, 12, 13, 14, 15, 16, 17, 18, 19, 20, 1, 2, 3, 4, 5, 6, 7, 8, 9, 10, 11, 12, 13, 14, 15, 16, 17, 18, 19, 20, 1, 2, 3, 4, 5, 6, 7, 8, 9, 10, 11, 12, 13, 14, 15, 16, 17, 18, 19, 20, 1, 2, 3, 4, 5, 6, 7, 8, 9, 10, 11, 12, 13, 14, 15, 16, 17, 18, 19, 20, 1, 2, 3, 4, 5, 6, 7, 8, 9, 10, 11, 12, 13, 14, 15, 16, 17, 18, 19, 20, 1, 2, 3, 4, 5, 6, 7, 8, 9, 10, 11, 12, 13, 14, 15, 16, 17, 18, 19, 20, 1, 2, 3, 4, 5, 6, 7, 8, 9, 10, 11, 12, 13, 14, 15, 16, 17, 18, 19, 20, 1, 2, 3, 4, 5, 6, 7, 8, 9, 10, 11, 12, 13, 14, 15, 16, 17, 18, 19, 20, 1, 2, 3, 4, 5, 6, 7, 8, 9, 10, 11, 12, 13, 14, 15, 16, 17, 18, 19, 20, 1, 2, 3, 4, 5, 6, 7, 8, 9, 10, 11, 12, 13, 14, 15, 16, 17, 18, 19, 20, 1, 2, 3, 4, 5, 6, 7, 8, 9, 10, 11, 12, 13, 14, 15, 16, 17, 18, 19, 20, 1, 2, 3, 4, 5, 6, 7, 8, 9, 10, 11, 12, 13, 14, 15, 16, 17, 18, 19, 20, 1, 2, 3, 4, 5, 6, 7, 8, 9, 10, 11, 12, 13, 14, 15, 16, 17, 18, 19, 20, 1, 2, 3, 4, 5, 6, 7, 8, 9, 10, 11, 12, 13, 14, 15, 16, 17, 18, 19, 20, 1, 2, 3, 4, 5, 6, 7, 8, 9, 10, 11, 12, 13, 14, 15, 16, 17, 18, 19, 20, 1, 2, 3, 4, 5, 6, 7, 8, 9, 10, 11, 12, 13, 14, 15, 16, 17, 18, 19, 20, 1, 2, 3, 4, 5, 6, 7, 8, 9, 10, 11, 12, 13, 14, 15, 16, 17, 18, 19, 20, 1, 2, 3, 4, 5, 6, 7, 8, 9, 10, 11, 12, 13, 14, 15, 16, 17, 18, 19, 20, 1, 2, 3, 4, 5, 6, 7, 8, 9, 10, 11, 12, 13, 14, 15, 16, 17, 18, 19, 20, 1, 2, 3, 4, 5, 6, 7, 8, 9, 10, 11, 12, 13, 14, 15, 16, 17, 18, 19, 20, 1, 2, 3, 4, 5, 6, 7, 8, 9, 10, 11, 12, 13, 14, 15, 16, 17, 18, 19, 20, 1, 2, 3, 4, 5, 6, 7, 8, 9, 10, 11, 12, 13, 14, 15, 16, 17, 18, 19, 20, 1, 2, 3, 4, 5, 6, 7, 8, 9, 10, 11, 12, 13, 14, 15, 16, 17, 18, 19, 20, 1, 2, 3, 4, 5, 6, 7, 8, 9, 10, 11, 12, 13, 14, 15, 16, 17, 18, 19, 20, 1, 2, 3, 4, 5, 6, 7, 8, 9, 10, 11, 12, 13, 14, 15, 16, 17, 18, 19, 20, 1, 2, 3, 4, 5, 6, 7, 8, 9, 10, 11, 12, 13, 14, 15, 16, 17, 18, 19, 20, 1, 2, 3, 4, 5, 6, 7, 8, 9, 10, 11, 12, 13, 14, 15, 16, 17, 18, 19, 20, 1, 2, 3, 4, 5, 6, 7, 8, 9, 10, 11, 12, 13, 14, 15, 16, 17, 18, 19, 20, 1, 2, 3, 4, 5, 6, 7, 8, 9, 10, 11, 12, 13, 14, 15, 16, 17, 18, 19, 20, 1, 2, 3, 4, 5, 6, 7, 8, 9, 10, 11, 12, 13, 14, 15, 16, 17, 18, 19, 20, 1, 2, 3, 4, 5, 6, 7, 8, 9, 10, 11, 12, 13, 14, 15, 16, 17, 18, 19, 20, 1, 2, 3, 4, 5, 6, 7, 8, 9, 10, 11, 12, 13, 14, 15, 16, 17, 18, 19, 20, 1, 2, 3, 4, 5, 6, 7, 8, 9, 10, 11, 12, 13, 14, 15, 16, 17, 18, 19, 20, 1, 2, 3, 4, 5, 6, 7, 8, 9, 10, 11, 12, 13, 14, 15, 16, 17, 18, 19, 20, 1, 2, 3, 4, 5, 6, 7, 8, 9, 10, 11, 12, 13, 14, 15, 16, 17, 18, 19, 20, 1, 2, 3, 4, 5, 6, 7, 8, 9, 10, 11, 12, 13, 14, 15, 16, 17, 18, 19, 20, 1, 2, 3, 4, 5, 6, 7, 8, 9, 10, 11, 12, 13, 14, 15, 16, 17, 18, 19, 20, 1, 2, 3, 4, 5, 6, 7, 8, 9, 10, 11, 12, 13, 14, 15, 16, 17, 18, 19, 20, 1, 2, 3, 4, 5, 6, 7, 8, 9, 10, 11, 12, 13, 14, 15, 16, 17, 18, 19, 20, 1, 2, 3, 4, 5, 6, 7, 8, 9, 10, 11, 12, 13, 14, 15, 16, 17, 18, 19, 20, 1, 2, 3, 4, 5, 6, 7, 8, 9, 10, 11, 12, 13, 14, 15, 16, 17, 18, 19, 20, 1, 2, 3, 4, 5, 6, 7, 8, 9, 10, 11, 12, 13, 14, 15, 16, 17, 18, 19, 20, 1, 2, 3, 4, 5, 6, 7, 8, 9, 10, 11, 12, 13, 14, 15, 16, 17, 18, 19, 20, 1, 2, 3, 4, 5, 6, 7, 8, 9, 10, 11, 12, 13, 14, 15, 16, 17, 18, 19, 20, 1, 2, 3, 4, 5, 6, 7, 8, 9, 10, 11, 12, 13, 14, 15, 16, 17, 18, 19, 20, 1, 2, 3, 4, 5, 6, 7, 8, 9, 10, 11, 12, 13, 14, 15, 16, 17, 18, 19, 20, 1, 2, 3, 4, 5, 6, 7, 8, 9, 10, 11, 12, 13, 14, 15, 16, 17, 18, 19, 20, 1, 2, 3, 4, 5, 6, 7, 8, 9, 10, 11, 12, 13, 14, 15, 16, 17, 18, 19, 20, 1, 2, 3, 4, 5, 6, 7, 8, 9, 10, 11, 12, 13, 14, 15, 16, 17, 18, 19, 20, 1, 2, 3, 4, 5, 6, 7, 8, 9, 10, 11, 12, 13, 14, 15, 16, 17, 18, 19, 20, 1, 2, 3, 4, 5, 6, 7, 8, 9, 10, 11, 12, 13, 14, 15, 16, 17, 18, 19, 20, 1, 2, 3, 4, 5, 6, 7, 8, 9, 10, 11, 12, 13, 14, 15, 16, 17, 18, 19, 20, 1, 2, 3, 4, 5, 6, 7, 8, 9, 10, 11, 12, 13, 14, 15, 16, 17, 18, 19, 20, 1, 2, 3, 4, 5, 6, 7, 8, 9, 10, 11, 12, 13, 14, 15, 16, 17, 18, 19, 20, 1, 2, 3, 4, 5, 6, 7, 8, 9, 10, 11, 12, 13, 14, 15, 16, 17, 18, 19, 20, 1, 2, 3, 4, 5, 6, 7, 8, 9, 10, 11, 12, 13, 14, 15, 16, 17, 18, 19, 20, 1, 2, 3, 4, 5, 6, 7, 8, 9, 10, 11, 12, 13, 14, 15, 16, 17, 18, 19, 20, 1, 2, 3, 4, 5, 6, 7, 8, 9, 10, 11, 12, 13, 14, 15, 16, 17, 18, 19, 20, 1, 2, 3, 4, 5, 6, 7, 8, 9, 10, 11, 12, 13, 14, 15, 16, 17, 18, 19, 20, 1, 2, 3, 4, 5, 6, 7, 8, 9, 10, 11, 12, 13, 14, 15, 16, 17, 18, 19, 20, 1, 2, 3, 4, 5, 6, 7, 8, 9, 10, 11, 12, 13, 14, 15, 16, 17, 18, 19, 20, 1, 2, 3, 4, 5, 6, 7, 8, 9, 10, 11, 12, 13, 14, 15, 16, 17, 18, 19, 20, 1, 2, 3, 4, 5, 6, 7, 8, 9, 10, 11, 12, 13, 14, 15, 16, 17, 18, 19, 20, 1, 2, 3, 4, 5, 6, 7, 8, 9, 10, 11, 12, 13, 14, 15, 16, 17, 18, 19, 20, 1, 2, 3, 4, 5, 6, 7, 8, 9, 10, 11, 12, 13, 14, 15, 16, 17, 18, 19, 20, 1, 2, 3, 4, 5, 6, 7, 8, 9, 10, 11, 12, 13, 14, 15, 16, 17, 18, 19, 20, 1, 2, 3, 4, 5, 6, 7, 8, 9, 10, 11, 12, 13, 14, 15, 16, 17, 18, 19, 20, 1, 2, 3, 4, 5, 6, 7, 8, 9, 10, 11, 12, 13, 14, 15, 16, 17, 18, 19, 20, 1, 2, 3, 4, 5, 6, 7, 8, 9, 10, 11, 12, 13, 14, 15, 16, 17, 18, 19, 20, 1, 2, 3, 4, 5, 6, 7, 8, 9, 10, 11, 12, 13, 14, 15, 16, 17, 18, 19, 20, 1, 2, 3, 4, 5, 6, 7, 8, 9, 10, 11, 12, 13, 14, 15, 16, 17, 18, 19, 20, 1, 2, 3, 4, 5, 6, 7, 8, 9, 10, 11, 12, 13, 14, 15, 16, 17, 18, 19, 20, 1, 2, 3, 4, 5, 6, 7, 8, 9, 10, 11, 12, 13, 14, 15, 16, 17, 18, 19, 20, 1, 2, 3, 4, 5, 6, 7, 8, 9, 10, 11, 12, 13, 14, 15, 16, 17, 18, 19, 20, 1, 2, 3, 4, 5, 6, 7, 8, 9, 10, 11, 12, 13, 14, 15, 16, 17, 18, 19, 20, 1, 2, 3, 4, 5, 6, 7, 8, 9, 10, 11, 12, 13, 14, 15, 16, 17, 18, 19, 20, 1, 2, 3, 4, 5, 6, 7, 8, 9, 10, 11, 12, 13, 14, 15, 16, 17, 18, 19, 20, 1, 2, 3, 4, 5, 6, 7, 8, 9, 10, 11, 12, 13, 14, 15, 16, 17, 18, 19, 20, 1, 2, 3, 4, 5, 6, 7, 8, 9, 10, 11, 12, 13, 14, 15, 16, 17, 18, 19, 20, 1, 2, 3, 4, 5, 6, 7, 8, 9, 10, 11, 12, 13, 14, 15, 16, 17, 18, 19, 20, 1, 2, 3, 4, 5, 6, 7, 8, 9, 10, 11, 12, 13, 14, 15, 16, 17, 18, 19, 20, 1, 2, 3, 4, 5, 6, 7, 8, 9, 10, 11, 12, 13, 14, 15, 16, 17, 18, 19, 20, 1, 2, 3, 4, 5, 6, 7, 8, 9, 10, 11, 12, 13, 14, 15, 16, 17, 18, 19, 20, 1, 2, 3, 4, 5, 6, 7, 8, 9, 10, 11, 12, 13, 14, 15, 16, 17, 18, 19, 20, 1, 2, 3, 4, 5, 6, 7, 8, 9, 10, 11, 12, 13, 14, 15, 16, 17, 18, 19, 20, 1, 2, 3, 4, 5, 6, 7, 8, 9, 10, 11, 12, 13, 14, 15, 16, 17, 18, 19, 20, 1, 2, 3, 4, 5, 6, 7, 8, 9, 10, 11, 12, 13, 14, 15, 16, 17, 18, 19, 20, 1, 2, 3, 4, 5, 6, 7, 8, 9, 10, 11, 12, 13, 14, 15, 16, 17, 18, 19, 20, 1, 2, 3, 4, 5, 6, 7, 8, 9, 10, 11, 12, 13, 14, 15, 16, 17, 18, 19, 20, 1, 2, 3, 4, 5, 6, 7, 8, 9, 10, 11, 12, 13, 14, 15, 16, 17, 18, 19, 20, 1, 2, 3, 4, 5, 6, 7, 8, 9, 10, 11, 12, 13, 14, 15, 16, 17, 18, 19, 20, 1, 2, 3, 4, 5, 6, 7, 8, 9, 10, 11, 12, 13, 14, 15, 16, 17, 18, 19, 20, 1, 2, 3, 4, 5, 6, 7, 8, 9, 10, 11, 12, 13, 14, 15, 16, 17, 18, 19, 20, 1, 2, 3, 4, 5, 6, 7, 8, 9, 10, 11, 12, 13, 14, 15, 16, 17, 18, 19, 20, 1, 2, 3, 4, 5, 6, 7, 8, 9, 10, 11, 12, 13, 14, 15, 16, 17, 18, 19, 20, 1, 2, 3, 4, 5, 6, 7, 8, 9, 10, 11, 12, 13, 14, 15, 16, 17, 18, 19, 20, 1, 2, 3, 4, 5, 6, 7, 8, 9, 10, 11, 12, 13, 14, 15, 16, 17, 18, 19, 20, 1, 2, 3, 4, 5, 6, 7, 8, 9, 10, 11, 12, 13, 14, 15, 16, 17, 18, 19, 20, 1, 2, 3, 4, 5, 6, 7, 8, 9, 10, 11, 12, 13, 14, 15, 16, 17, 18, 19, 20, 1, 2, 3, 4, 5, 6, 7, 8, 9, 10, 11, 12, 13, 14, 15, 16, 17, 18, 19, 20, 1, 2, 3, 4, 5, 6, 7, 8, 9, 10, 11, 12, 13, 14, 15, 16, 17, 18, 19, 20, 1, 2, 3, 4, 5, 6, 7, 8, 9, 10, 11, 12, 13, 14, 15, 16, 17, 18, 19, 20, 1, 2, 3, 4, 5, 6, 7, 8, 9, 10, 11, 12, 13, 14, 15, 16, 17, 18, 19, 20, 1, 2, 3, 4, 5, 6, 7, 8, 9, 10, 11, 12, 13, 14, 15, 16, 17, 18, 19, 20, 1, 2, 3, 4, 5, 6, 7, 8, 9, 10, 11, 12, 13, 14, 15, 16, 17, 18, 19, 20, 1, 2, 3, 4, 5, 6, 7, 8, 9, 10, 11, 12, 13, 14, 15, 16, 17, 18, 19, 20, 1, 2, 3, 4, 5, 6, 7, 8, 9, 10, 11, 12, 13, 14, 15, 16, 17, 18, 19, 20, 1, 2, 3, 4, 5, 6, 7, 8, 9, 10, 11, 12, 13, 14, 15, 16, 17, 18, 19, 20, 1, 2, 3, 4, 5, 6, 7, 8, 9, 10, 11, 12, 13, 14, 15, 16, 17, 18, 19, 20, 1, 2, 3, 4, 5, 6, 7, 8, 9, 10, 11, 12, 13, 14, 15, 16, 17, 18, 19, 20, 1, 2, 3, 4, 5, 6, 7, 8, 9, 10, 11, 12, 13, 14, 15, 16, 17, 18, 19, 20, 1, 2, 3, 4, 5, 6, 7, 8, 9, 10, 11, 12, 13, 14, 15, 16, 17, 18, 19, 20, 1, 2, 3, 4, 5, 6, 7, 8, 9, 10, 11, 12, 13, 14, 15, 16, 17, 18, 19, 20, 1, 2, 3, 4, 5, 6, 7, 8, 9, 10, 11, 12, 13, 14, 15, 16, 17, 18, 19, 20, 1, 2, 3, 4, 5, 6, 7, 8, 9, 10, 11, 12, 13, 14, 15, 16, 17, 18, 19, 20, 1, 2, 3, 4, 5, 6, 7, 8, 9, 10, 11, 12, 13, 14, 15, 16, 17, 18, 19, 20, 1, 2, 3, 4, 5, 6, 7, 8, 9, 10, 11, 12, 13, 14, 15, 16, 17, 18, 19, 20, 1, 2, 3, 4, 5, 6, 7, 8, 9, 10, 11, 12, 13, 14, 15, 16, 17, 18, 19, 20, 1, 2, 3, 4, 5, 6, 7, 8, 9, 10, 11, 12, 13, 14, 15, 16, 17, 18, 19, 20, 1, 2, 3, 4, 5, 6, 7, 8, 9, 10, 11, 12, 13, 14, 15, 16, 17, 18, 19, 20, 1, 2, 3, 4, 5, 6, 7, 8, 9, 10, 11, 12, 13, 14, 15, 16, 17, 18, 19, 20, 1, 2, 3, 4, 5, 6, 7, 8, 9, 10, 11, 12, 13, 14, 15, 16, 17, 18, 19, 20, 1, 2, 3, 4, 5, 6, 7, 8, 9, 10, 11, 12, 13, 14, 15, 16, 17, 18, 19, 20, 1, 2, 3, 4, 5, 6, 7, 8, 9, 10, 11, 12, 13, 14, 15, 16, 17, 18, 19, 20, 1, 2, 3, 4, 5, 6, 7, 8, 9, 10, 11, 12, 13, 14, 15, 16, 17, 18, 19, 20, 1, 2, 3, 4, 5, 6, 7, 8, 9, 10, 11, 12, 13, 14, 15, 16, 17, 18, 19, 20, 1, 2, 3, 4, 5, 6, 7, 8, 9, 10, 11, 12, 13, 14, 15, 16, 17, 18, 19, 20, 1, 2, 3, 4, 5, 6, 7, 8, 9, 10, 11, 12, 13, 14, 15, 16, 17, 18, 19, 20, 1, 2, 3, 4, 5, 6, 7, 8, 9, 10, 11, 12, 13, 14, 15, 16, 17, 18, 19, 20, 1, 2, 3, 4, 5, 6, 7, 8, 9, 10, 11, 12, 13, 14, 15, 16, 17, 18, 19, 20, 1, 2, 3, 4, 5, 6, 7, 8, 9, 10, 11, 12, 13, 14, 15, 16, 17, 18, 19, 20, 1, 2, 3, 4, 5, 6, 7, 8, 9, 10, 11, 12, 13, 14, 15, 16, 17, 18, 19, 20, 1, 2, 3, 4, 5, 6, 7, 8, 9, 10, 11, 12, 13, 14, 15, 16, 17, 18, 19, 20, 1, 2, 3, 4, 5, 6, 7, 8, 9, 10, 11, 12, 13, 14, 15, 16, 17, 18, 19, 20, 1, 2, 3, 4, 5, 6, 7, 8, 9, 10, 11, 12, 13, 14, 15, 16, 17, 18, 19, 20, 1, 2, 3, 4, 5, 6, 7, 8, 9, 10, 11, 12, 13, 14, 15, 16, 17, 18, 19, 20, 1, 2, 3, 4, 5, 6, 7, 8, 9, 10, 11, 12, 13, 14, 15, 16, 17, 18, 19, 20, 1, 2, 3, 4, 5, 6, 7, 8, 9, 10, 11, 12, 13, 14, 15, 16, 17, 18, 19, 20, 1, 2, 3, 4, 5, 6, 7, 8, 9, 10, 11, 12, 13, 14, 15, 16, 17, 18, 19, 20, 1, 2, 3, 4, 5, 6, 7, 8, 9, 10, 11, 12, 13, 14, 15, 16, 17, 18, 19, 20, 1, 2, 3, 4, 5, 6, 7, 8, 9, 10, 11, 12, 13, 14, 15, 16, 17, 18, 19, 20, 1, 2, 3, 4, 5, 6, 7, 8, 9, 10, 11, 12, 13, 14, 15, 16, 17, 18, 19, 20, 1, 2, 3, 4, 5, 6, 7, 8, 9, 10, 11, 12, 13, 14, 15, 16, 17, 18, 19, 20, 1, 2, 3, 4, 5, 6, 7, 8, 9, 10, 11, 12, 13, 14, 15, 16, 17, 18, 19, 20, 1, 2, 3, 4, 5, 6, 7, 8, 9, 10, 11, 12, 13, 14, 15, 16, 17, 18, 19, 20, 1, 2, 3, 4, 5, 6, 7, 8, 9, 10, 11, 12, 13, 14, 15, 16, 17, 18, 19, 20, 1, 2, 3, 4, 5, 6, 7, 8, 9, 10, 11, 12, 13, 14, 15, 16, 17, 18, 19, 20, 1, 2, 3, 4, 5, 6, 7, 8, 9, 10, 11, 12, 13, 14, 15, 16, 17, 18, 19, 20, 1, 2, 3, 4, 5, 6, 7, 8, 9, 10, 11, 12, 13, 14, 15, 16, 17, 18, 19, 20, 1, 2, 3, 4, 5, 6, 7, 8, 9, 10, 11, 12, 13, 14, 15, 16, 17, 18, 19, 20, 1, 2, 3, 4, 5, 6, 7, 8, 9, 10, 11, 12, 13, 14, 15, 16, 17, 18, 19, 20, 1, 2, 3, 4, 5, 6, 7, 8, 9, 10, 11, 12, 13, 14, 15, 16, 17, 18, 19, 20, 1, 2, 3, 4, 5, 6, 7, 8, 9, 10, 11, 12, 13, 14, 15, 16, 17, 18, 19, 20, 1, 2, 3, 4, 5, 6, 7, 8, 9, 10, 11, 12, 13, 14, 15, 16, 17, 18, 19, 20, 1, 2, 3, 4, 5, 6, 7, 8, 9, 10, 11, 12, 13, 14, 15, 16, 17, 18, 19, 20, 1, 2, 3, 4, 5, 6, 7, 8, 9, 10, 11, 12, 13, 14, 15, 16, 17, 18, 19, 20, 1, 2, 3, 4, 5, 6, 7, 8, 9, 10, 11, 12, 13, 14, 15, 16, 17, 18, 19, 20, 1, 2, 3, 4, 5, 6, 7, 8, 9, 10, 11, 12, 13, 14, 15, 16, 17, 18, 19, 20, 1, 2, 3, 4, 5, 6, 7, 8, 9, 10, 11, 12, 13, 14, 15, 16, 17, 18, 19, 20, 1, 2, 3, 4, 5, 6, 7, 8, 9, 10, 11, 12, 13, 14, 15, 16, 17, 18, 19, 20, 1, 2, 3, 4, 5, 6, 7, 8, 9, 10, 11, 12, 13, 14, 15, 16, 17, 18, 19, 20, 1, 2, 3, 4, 5, 6, 7, 8, 9, 10, 11, 12, 13, 14, 15, 16, 17, 18, 19, 20, 1, 2, 3, 4, 5, 6, 7, 8, 9, 10, 11, 12, 13, 14, 15, 16, 17, 18, 19, 20, 1, 2, 3, 4, 5, 6, 7, 8, 9, 10, 11, 12, 13, 14, 15, 16, 17, 18, 19, 20, 1, 2, 3, 4, 5, 6, 7, 8, 9, 10, 11, 12, 13, 14, 15, 16, 17, 18, 19, 20, 1, 2, 3, 4, 5, 6, 7, 8, 9, 10, 11, 12, 13, 14, 15, 16, 17, 18, 19, 20, 1, 2, 3, 4, 5, 6, 7, 8, 9, 10, 11, 12, 13, 14, 15, 16, 17, 18, 19, 20, 1, 2, 3, 4, 5, 6, 7, 8, 9, 10, 11, 12, 13, 14, 15, 16, 17, 18, 19, 20, 1, 2, 3, 4, 5, 6, 7, 8, 9, 10, 11, 12, 13, 14, 15, 16, 17, 18, 19, 20, 1, 2, 3, 4, 5, 6, 7, 8, 9, 10, 11, 12, 13, 14, 15, 16, 17, 18, 19, 20, 1, 2, 3, 4, 5, 6, 7, 8, 9, 10, 11, 12, 13, 14, 15, 16, 17, 18, 19, 20, 1, 2, 3, 4, 5, 6, 7, 8, 9, 10, 11, 12, 13, 14, 15, 16, 17, 18, 19, 20, 1, 2, 3, 4, 5, 6, 7, 8, 9, 10, 11, 12, 13, 14, 15, 16, 17, 18, 19, 20, 1, 2, 3, 4, 5, 6, 7, 8, 9, 10, 11, 12, 13, 14, 15, 16, 17, 18, 19, 20, 1, 2, 3, 4, 5, 6, 7, 8, 9, 10, 11, 12, 13, 14, 15, 16, 17, 18, 19, 20, 1, 2, 3, 4, 5, 6, 7, 8, 9, 10, 11, 12, 13, 14, 15, 16, 17, 18, 19, 20, 1, 2, 3, 4, 5, 6, 7, 8, 9, 10, 11, 12, 13, 14, 15, 16, 17, 18, 19, 20, 1, 2, 3, 4, 5, 6, 7, 8, 9, 10, 11, 12, 13, 14, 15, 16, 17, 18, 19, 20, 1, 2, 3, 4, 5, 6, 7, 8, 9, 10, 11, 12, 13, 14, 15, 16, 17, 18, 19, 20, 1, 2, 3, 4, 5, 6, 7, 8, 9, 10, 11, 12, 13, 14, 15, 16, 17, 18, 19, 20, 1, 2, 3, 4, 5, 6, 7, 8, 9, 10, 11, 12, 13, 14, 15, 16, 17, 18, 19, 20, 1, 2, 3, 4, 5, 6, 7, 8, 9, 10, 11, 12, 13, 14, 15, 16, 17, 18, 19, 20, 1, 2, 3, 4, 5, 6, 7, 8, 9, 10, 11, 12, 13, 14, 15, 16, 17, 18, 19, 20, 1, 2, 3, 4, 5, 6, 7, 8, 9, 10, 11, 12, 13, 14, 15, 16, 17, 18, 19, 20, 1, 2, 3, 4, 5, 6, 7, 8, 9, 10, 11, 12, 13, 14, 15, 16, 17, 18, 19, 20, 1, 2, 3, 4, 5, 6, 7, 8, 9, 10, 11, 12, 13, 14, 15, 16, 17, 18, 19, 20, 1, 2, 3, 4, 5, 6, 7, 8, 9, 10, 11, 12, 13, 14, 15, 16, 17, 18, 19, 20, 1, 2, 3, 4, 5, 6, 7, 8, 9, 10, 11, 12, 13, 14, 15, 16, 17, 18, 19, 20, 1, 2, 3, 4, 5, 6, 7, 8, 9, 10, 11, 12, 13, 14, 15, 16, 17, 18, 19, 20, 1, 2, 3, 4, 5, 6, 7, 8, 9, 10, 11, 12, 13, 14, 15, 16, 17, 18, 19, 20, 1, 2, 3, 4, 5, 6, 7, 8, 9, 10, 11, 12, 13, 14, 15, 16, 17, 18, 19, 20, 1, 2, 3, 4, 5, 6, 7, 8, 9, 10, 11, 12, 13, 14, 15, 16, 17, 18, 19, 20, 1, 2, 3, 4, 5, 6, 7, 8, 9, 10, 11, 12, 13, 14, 15, 16, 17, 18, 19, 20, 1, 2, 3, 4, 5, 6, 7, 8, 9, 10, 11, 12, 13, 14, 15, 16, 17, 18, 19, 20, 1, 2, 3, 4, 5, 6, 7, 8, 9, 10, 11, 12, 13, 14, 15, 16, 17, 18, 19, 20, 1, 2, 3, 4, 5, 6, 7, 8, 9, 10, 11, 12, 13, 14, 15, 16, 17, 18, 19, 20, 1, 2, 3, 4, 5, 6, 7, 8, 9, 10, 11, 12, 13, 14, 15, 16, 17, 18, 19, 20, 1, 2, 3, 4, 5, 6, 7, 8, 9, 10, 11, 12, 13, 14, 15, 16, 17, 18, 19, 20, 1, 2, 3, 4, 5, 6, 7, 8, 9, 10, 11, 12, 13, 14, 15, 16, 17, 18, 19, 20, 1, 2, 3, 4, 5, 6, 7, 8, 9, 10, 11, 12, 13, 14, 15, 16, 17, 18, 19, 20, 1, 2, 3, 4, 5, 6, 7, 8, 9, 10, 11, 12, 13, 14, 15, 16, 17, 18, 19, 20, 1, 2, 3, 4, 5, 6, 7, 8, 9, 10, 11, 12, 13, 14, 15, 16, 17, 18, 19, 20, 1, 2, 3, 4, 5, 6, 7, 8, 9, 10, 11, 12, 13, 14, 15, 16, 17, 18, 19, 20, 1, 2, 3, 4, 5, 6, 7, 8, 9, 10, 11, 12, 13, 14, 15, 16, 17, 18, 19, 20, 1, 2, 3, 4, 5, 6, 7, 8, 9, 10, 11, 12, 13, 14, 15, 16, 17, 18, 19, 20, 1, 2, 3, 4, 5, 6, 7, 8, 9, 10, 11, 12, 13, 14, 15, 16, 17, 18, 19, 20, 1, 2, 3, 4, 5, 6, 7, 8, 9, 10, 11, 12, 13, 14, 15, 16, 17, 18, 19, 20, 1, 2, 3, 4, 5, 6, 7, 8, 9, 10, 11, 12, 13, 14, 15, 16, 17, 18, 19, 20], \"Freq\": [0.05540729711278234, 0.05540729711278234, 0.05540729711278234, 0.05540729711278234, 0.05540729711278234, 0.05540729711278234, 0.05540729711278234, 0.05540729711278234, 0.05540729711278234, 0.05540729711278234, 0.05540729711278234, 0.05540729711278234, 0.05540729711278234, 0.05540729711278234, 0.05540729711278234, 0.05540729711278234, 0.05540729711278234, 0.05540729711278234, 0.05540729711278234, 0.05540729711278234, 0.056596252416311, 0.056596252416311, 0.056596252416311, 0.056596252416311, 0.056596252416311, 0.056596252416311, 0.056596252416311, 0.056596252416311, 0.056596252416311, 0.056596252416311, 0.056596252416311, 0.056596252416311, 0.056596252416311, 0.056596252416311, 0.056596252416311, 0.056596252416311, 0.056596252416311, 0.056596252416311, 0.056596252416311, 0.056596252416311, 0.05626293010357872, 0.05626293010357872, 0.05626293010357872, 0.05626293010357872, 0.05626293010357872, 0.05626293010357872, 0.05626293010357872, 0.05626293010357872, 0.05626293010357872, 0.05626293010357872, 0.05626293010357872, 0.05626293010357872, 0.05626293010357872, 0.05626293010357872, 0.05626293010357872, 0.05626293010357872, 0.05626293010357872, 0.05626293010357872, 0.05626293010357872, 0.05626293010357872, 0.0555720144001982, 0.0555720144001982, 0.0555720144001982, 0.0555720144001982, 0.0555720144001982, 0.0555720144001982, 0.0555720144001982, 0.0555720144001982, 0.0555720144001982, 0.0555720144001982, 0.0555720144001982, 0.0555720144001982, 0.0555720144001982, 0.0555720144001982, 0.0555720144001982, 0.0555720144001982, 0.0555720144001982, 0.0555720144001982, 0.0555720144001982, 0.0555720144001982, 0.056477143498630755, 0.056477143498630755, 0.056477143498630755, 0.056477143498630755, 0.056477143498630755, 0.056477143498630755, 0.056477143498630755, 0.056477143498630755, 0.056477143498630755, 0.056477143498630755, 0.056477143498630755, 0.056477143498630755, 0.056477143498630755, 0.056477143498630755, 0.056477143498630755, 0.056477143498630755, 0.056477143498630755, 0.056477143498630755, 0.056477143498630755, 0.056477143498630755, 0.05605950502367649, 0.05605950502367649, 0.05605950502367649, 0.05605950502367649, 0.05605950502367649, 0.05605950502367649, 0.05605950502367649, 0.05605950502367649, 0.05605950502367649, 0.05605950502367649, 0.05605950502367649, 0.05605950502367649, 0.05605950502367649, 0.05605950502367649, 0.05605950502367649, 0.05605950502367649, 0.05605950502367649, 0.05605950502367649, 0.05605950502367649, 0.05605950502367649, 0.05653771535769827, 0.05653771535769827, 0.05653771535769827, 0.05653771535769827, 0.05653771535769827, 0.05653771535769827, 0.05653771535769827, 0.05653771535769827, 0.05653771535769827, 0.05653771535769827, 0.05653771535769827, 0.05653771535769827, 0.05653771535769827, 0.05653771535769827, 0.05653771535769827, 0.05653771535769827, 0.05653771535769827, 0.05653771535769827, 0.05653771535769827, 0.05653771535769827, 0.056528463316395404, 0.056528463316395404, 0.056528463316395404, 0.056528463316395404, 0.056528463316395404, 0.056528463316395404, 0.056528463316395404, 0.056528463316395404, 0.056528463316395404, 0.056528463316395404, 0.056528463316395404, 0.056528463316395404, 0.056528463316395404, 0.056528463316395404, 0.056528463316395404, 0.056528463316395404, 0.056528463316395404, 0.056528463316395404, 0.056528463316395404, 0.056528463316395404, 0.05658477749515986, 0.05658477749515986, 0.05658477749515986, 0.05658477749515986, 0.05658477749515986, 0.05658477749515986, 0.05658477749515986, 0.05658477749515986, 0.05658477749515986, 0.05658477749515986, 0.05658477749515986, 0.05658477749515986, 0.05658477749515986, 0.05658477749515986, 0.05658477749515986, 0.05658477749515986, 0.05658477749515986, 0.05658477749515986, 0.05658477749515986, 0.05658477749515986, 0.05532300722602007, 0.05532300722602007, 0.05532300722602007, 0.05532300722602007, 0.05532300722602007, 0.05532300722602007, 0.05532300722602007, 0.05532300722602007, 0.05532300722602007, 0.05532300722602007, 0.05532300722602007, 0.05532300722602007, 0.05532300722602007, 0.05532300722602007, 0.05532300722602007, 0.05532300722602007, 0.05532300722602007, 0.05532300722602007, 0.05532300722602007, 0.05532300722602007, 0.056755404719583485, 0.056755404719583485, 0.056755404719583485, 0.056755404719583485, 0.056755404719583485, 0.056755404719583485, 0.056755404719583485, 0.056755404719583485, 0.056755404719583485, 0.056755404719583485, 0.056755404719583485, 0.056755404719583485, 0.056755404719583485, 0.056755404719583485, 0.056755404719583485, 0.056755404719583485, 0.056755404719583485, 0.056755404719583485, 0.056755404719583485, 0.056755404719583485, 0.05625332009253342, 0.05625332009253342, 0.05625332009253342, 0.05625332009253342, 0.05625332009253342, 0.05625332009253342, 0.05625332009253342, 0.05625332009253342, 0.05625332009253342, 0.05625332009253342, 0.05625332009253342, 0.05625332009253342, 0.05625332009253342, 0.05625332009253342, 0.05625332009253342, 0.05625332009253342, 0.05625332009253342, 0.05625332009253342, 0.05625332009253342, 0.05625332009253342, 0.05553440312122992, 0.05553440312122992, 0.05553440312122992, 0.05553440312122992, 0.05553440312122992, 0.05553440312122992, 0.05553440312122992, 0.05553440312122992, 0.05553440312122992, 0.05553440312122992, 0.05553440312122992, 0.05553440312122992, 0.05553440312122992, 0.05553440312122992, 0.05553440312122992, 0.05553440312122992, 0.05553440312122992, 0.05553440312122992, 0.05553440312122992, 0.05553440312122992, 0.055169830283358874, 0.055169830283358874, 0.055169830283358874, 0.055169830283358874, 0.055169830283358874, 0.055169830283358874, 0.055169830283358874, 0.055169830283358874, 0.055169830283358874, 0.055169830283358874, 0.055169830283358874, 0.055169830283358874, 0.055169830283358874, 0.055169830283358874, 0.055169830283358874, 0.055169830283358874, 0.055169830283358874, 0.055169830283358874, 0.055169830283358874, 0.055169830283358874, 0.05486326072674881, 0.05486326072674881, 0.05486326072674881, 0.05486326072674881, 0.05486326072674881, 0.05486326072674881, 0.05486326072674881, 0.05486326072674881, 0.05486326072674881, 0.05486326072674881, 0.05486326072674881, 0.05486326072674881, 0.05486326072674881, 0.05486326072674881, 0.05486326072674881, 0.05486326072674881, 0.05486326072674881, 0.05486326072674881, 0.05486326072674881, 0.05486326072674881, 0.055734934005542684, 0.055734934005542684, 0.055734934005542684, 0.055734934005542684, 0.055734934005542684, 0.055734934005542684, 0.055734934005542684, 0.055734934005542684, 0.055734934005542684, 0.055734934005542684, 0.055734934005542684, 0.055734934005542684, 0.055734934005542684, 0.055734934005542684, 0.055734934005542684, 0.055734934005542684, 0.055734934005542684, 0.055734934005542684, 0.055734934005542684, 0.055734934005542684, 0.055365345236630954, 0.055365345236630954, 0.055365345236630954, 0.055365345236630954, 0.055365345236630954, 0.055365345236630954, 0.055365345236630954, 0.055365345236630954, 0.055365345236630954, 0.055365345236630954, 0.055365345236630954, 0.055365345236630954, 0.055365345236630954, 0.055365345236630954, 0.055365345236630954, 0.055365345236630954, 0.055365345236630954, 0.055365345236630954, 0.055365345236630954, 0.055365345236630954, 0.05627321294004202, 0.05627321294004202, 0.05627321294004202, 0.05627321294004202, 0.05627321294004202, 0.05627321294004202, 0.05627321294004202, 0.05627321294004202, 0.05627321294004202, 0.05627321294004202, 0.05627321294004202, 0.05627321294004202, 0.05627321294004202, 0.05627321294004202, 0.05627321294004202, 0.05627321294004202, 0.05627321294004202, 0.05627321294004202, 0.05627321294004202, 0.05627321294004202, 0.05530419796836922, 0.05530419796836922, 0.05530419796836922, 0.05530419796836922, 0.05530419796836922, 0.05530419796836922, 0.05530419796836922, 0.05530419796836922, 0.05530419796836922, 0.05530419796836922, 0.05530419796836922, 0.05530419796836922, 0.05530419796836922, 0.05530419796836922, 0.05530419796836922, 0.05530419796836922, 0.05530419796836922, 0.05530419796836922, 0.05530419796836922, 0.05530419796836922, 0.055366172815710275, 0.055366172815710275, 0.055366172815710275, 0.055366172815710275, 0.055366172815710275, 0.055366172815710275, 0.055366172815710275, 0.055366172815710275, 0.055366172815710275, 0.055366172815710275, 0.055366172815710275, 0.055366172815710275, 0.055366172815710275, 0.055366172815710275, 0.055366172815710275, 0.055366172815710275, 0.055366172815710275, 0.055366172815710275, 0.055366172815710275, 0.055366172815710275, 0.05569738611126032, 0.05569738611126032, 0.05569738611126032, 0.05569738611126032, 0.05569738611126032, 0.05569738611126032, 0.05569738611126032, 0.05569738611126032, 0.05569738611126032, 0.05569738611126032, 0.05569738611126032, 0.05569738611126032, 0.05569738611126032, 0.05569738611126032, 0.05569738611126032, 0.05569738611126032, 0.05569738611126032, 0.05569738611126032, 0.05569738611126032, 0.05569738611126032, 0.05615706441884164, 0.05615706441884164, 0.05615706441884164, 0.05615706441884164, 0.05615706441884164, 0.05615706441884164, 0.05615706441884164, 0.05615706441884164, 0.05615706441884164, 0.05615706441884164, 0.05615706441884164, 0.05615706441884164, 0.05615706441884164, 0.05615706441884164, 0.05615706441884164, 0.05615706441884164, 0.05615706441884164, 0.05615706441884164, 0.05615706441884164, 0.05615706441884164, 0.05554459852484596, 0.05554459852484596, 0.05554459852484596, 0.05554459852484596, 0.05554459852484596, 0.05554459852484596, 0.05554459852484596, 0.05554459852484596, 0.05554459852484596, 0.05554459852484596, 0.05554459852484596, 0.05554459852484596, 0.05554459852484596, 0.05554459852484596, 0.05554459852484596, 0.05554459852484596, 0.05554459852484596, 0.05554459852484596, 0.05554459852484596, 0.05554459852484596, 0.05628726232007381, 0.05628726232007381, 0.05628726232007381, 0.05628726232007381, 0.05628726232007381, 0.05628726232007381, 0.05628726232007381, 0.05628726232007381, 0.05628726232007381, 0.05628726232007381, 0.05628726232007381, 0.05628726232007381, 0.05628726232007381, 0.05628726232007381, 0.05628726232007381, 0.05628726232007381, 0.05628726232007381, 0.05628726232007381, 0.05628726232007381, 0.05628726232007381, 0.05579819717036417, 0.05579819717036417, 0.05579819717036417, 0.05579819717036417, 0.05579819717036417, 0.05579819717036417, 0.05579819717036417, 0.05579819717036417, 0.05579819717036417, 0.05579819717036417, 0.05579819717036417, 0.05579819717036417, 0.05579819717036417, 0.05579819717036417, 0.05579819717036417, 0.05579819717036417, 0.05579819717036417, 0.05579819717036417, 0.05579819717036417, 0.05579819717036417, 0.05606511675963166, 0.05606511675963166, 0.05606511675963166, 0.05606511675963166, 0.05606511675963166, 0.05606511675963166, 0.05606511675963166, 0.05606511675963166, 0.05606511675963166, 0.05606511675963166, 0.05606511675963166, 0.05606511675963166, 0.05606511675963166, 0.05606511675963166, 0.05606511675963166, 0.05606511675963166, 0.05606511675963166, 0.05606511675963166, 0.05606511675963166, 0.05606511675963166, 0.055132898276910536, 0.055132898276910536, 0.055132898276910536, 0.055132898276910536, 0.055132898276910536, 0.055132898276910536, 0.055132898276910536, 0.055132898276910536, 0.055132898276910536, 0.055132898276910536, 0.055132898276910536, 0.055132898276910536, 0.055132898276910536, 0.055132898276910536, 0.055132898276910536, 0.055132898276910536, 0.055132898276910536, 0.055132898276910536, 0.055132898276910536, 0.055132898276910536, 0.05563618827498187, 0.05563618827498187, 0.05563618827498187, 0.05563618827498187, 0.05563618827498187, 0.05563618827498187, 0.05563618827498187, 0.05563618827498187, 0.05563618827498187, 0.05563618827498187, 0.05563618827498187, 0.05563618827498187, 0.05563618827498187, 0.05563618827498187, 0.05563618827498187, 0.05563618827498187, 0.05563618827498187, 0.05563618827498187, 0.05563618827498187, 0.05563618827498187, 0.05582934393571712, 0.05582934393571712, 0.05582934393571712, 0.05582934393571712, 0.05582934393571712, 0.05582934393571712, 0.05582934393571712, 0.05582934393571712, 0.05582934393571712, 0.05582934393571712, 0.05582934393571712, 0.05582934393571712, 0.05582934393571712, 0.05582934393571712, 0.05582934393571712, 0.05582934393571712, 0.05582934393571712, 0.05582934393571712, 0.05582934393571712, 0.05582934393571712, 0.05759009987951845, 0.05759009987951845, 0.05759009987951845, 0.05759009987951845, 0.05759009987951845, 0.05759009987951845, 0.05759009987951845, 0.05759009987951845, 0.05759009987951845, 0.05759009987951845, 0.05759009987951845, 0.05759009987951845, 0.05759009987951845, 0.05759009987951845, 0.05759009987951845, 0.05759009987951845, 0.05759009987951845, 0.05759009987951845, 0.05759009987951845, 0.05759009987951845, 0.05739021827786602, 0.05739021827786602, 0.05739021827786602, 0.05739021827786602, 0.05739021827786602, 0.05739021827786602, 0.05739021827786602, 0.05739021827786602, 0.05739021827786602, 0.05739021827786602, 0.05739021827786602, 0.05739021827786602, 0.05739021827786602, 0.05739021827786602, 0.05739021827786602, 0.05739021827786602, 0.05739021827786602, 0.05739021827786602, 0.05739021827786602, 0.05739021827786602, 0.05644238855710802, 0.05644238855710802, 0.05644238855710802, 0.05644238855710802, 0.05644238855710802, 0.05644238855710802, 0.05644238855710802, 0.05644238855710802, 0.05644238855710802, 0.05644238855710802, 0.05644238855710802, 0.05644238855710802, 0.05644238855710802, 0.05644238855710802, 0.05644238855710802, 0.05644238855710802, 0.05644238855710802, 0.05644238855710802, 0.05644238855710802, 0.05644238855710802, 0.05602113347042927, 0.05602113347042927, 0.05602113347042927, 0.05602113347042927, 0.05602113347042927, 0.05602113347042927, 0.05602113347042927, 0.05602113347042927, 0.05602113347042927, 0.05602113347042927, 0.05602113347042927, 0.05602113347042927, 0.05602113347042927, 0.05602113347042927, 0.05602113347042927, 0.05602113347042927, 0.05602113347042927, 0.05602113347042927, 0.05602113347042927, 0.05602113347042927, 0.0563692077069389, 0.0563692077069389, 0.0563692077069389, 0.0563692077069389, 0.0563692077069389, 0.0563692077069389, 0.0563692077069389, 0.0563692077069389, 0.0563692077069389, 0.0563692077069389, 0.0563692077069389, 0.0563692077069389, 0.0563692077069389, 0.0563692077069389, 0.0563692077069389, 0.0563692077069389, 0.0563692077069389, 0.0563692077069389, 0.0563692077069389, 0.0563692077069389, 0.057121934124794785, 0.057121934124794785, 0.057121934124794785, 0.057121934124794785, 0.057121934124794785, 0.057121934124794785, 0.057121934124794785, 0.057121934124794785, 0.057121934124794785, 0.057121934124794785, 0.057121934124794785, 0.057121934124794785, 0.057121934124794785, 0.057121934124794785, 0.057121934124794785, 0.057121934124794785, 0.057121934124794785, 0.057121934124794785, 0.057121934124794785, 0.057121934124794785, 0.055732094005455986, 0.055732094005455986, 0.055732094005455986, 0.055732094005455986, 0.055732094005455986, 0.055732094005455986, 0.055732094005455986, 0.055732094005455986, 0.055732094005455986, 0.055732094005455986, 0.055732094005455986, 0.055732094005455986, 0.055732094005455986, 0.055732094005455986, 0.055732094005455986, 0.055732094005455986, 0.055732094005455986, 0.055732094005455986, 0.055732094005455986, 0.055732094005455986, 0.055783292171353076, 0.055783292171353076, 0.055783292171353076, 0.055783292171353076, 0.055783292171353076, 0.055783292171353076, 0.055783292171353076, 0.055783292171353076, 0.055783292171353076, 0.055783292171353076, 0.055783292171353076, 0.055783292171353076, 0.055783292171353076, 0.055783292171353076, 0.055783292171353076, 0.055783292171353076, 0.055783292171353076, 0.055783292171353076, 0.055783292171353076, 0.055783292171353076, 0.05542330703798459, 0.05542330703798459, 0.05542330703798459, 0.05542330703798459, 0.05542330703798459, 0.05542330703798459, 0.05542330703798459, 0.05542330703798459, 0.05542330703798459, 0.05542330703798459, 0.05542330703798459, 0.05542330703798459, 0.05542330703798459, 0.05542330703798459, 0.05542330703798459, 0.05542330703798459, 0.05542330703798459, 0.05542330703798459, 0.05542330703798459, 0.05542330703798459, 0.0558741068450001, 0.0558741068450001, 0.0558741068450001, 0.0558741068450001, 0.0558741068450001, 0.0558741068450001, 0.0558741068450001, 0.0558741068450001, 0.0558741068450001, 0.0558741068450001, 0.0558741068450001, 0.0558741068450001, 0.0558741068450001, 0.0558741068450001, 0.0558741068450001, 0.0558741068450001, 0.0558741068450001, 0.0558741068450001, 0.0558741068450001, 0.0558741068450001, 0.057239590645737345, 0.057239590645737345, 0.057239590645737345, 0.057239590645737345, 0.057239590645737345, 0.057239590645737345, 0.057239590645737345, 0.057239590645737345, 0.057239590645737345, 0.057239590645737345, 0.057239590645737345, 0.057239590645737345, 0.057239590645737345, 0.057239590645737345, 0.057239590645737345, 0.057239590645737345, 0.057239590645737345, 0.057239590645737345, 0.057239590645737345, 0.057239590645737345, 0.055851917678320796, 0.055851917678320796, 0.055851917678320796, 0.055851917678320796, 0.055851917678320796, 0.055851917678320796, 0.055851917678320796, 0.055851917678320796, 0.055851917678320796, 0.055851917678320796, 0.055851917678320796, 0.055851917678320796, 0.055851917678320796, 0.055851917678320796, 0.055851917678320796, 0.055851917678320796, 0.055851917678320796, 0.055851917678320796, 0.055851917678320796, 0.055851917678320796, 0.056075567180929126, 0.056075567180929126, 0.056075567180929126, 0.056075567180929126, 0.056075567180929126, 0.056075567180929126, 0.056075567180929126, 0.056075567180929126, 0.056075567180929126, 0.056075567180929126, 0.056075567180929126, 0.056075567180929126, 0.056075567180929126, 0.056075567180929126, 0.056075567180929126, 0.056075567180929126, 0.056075567180929126, 0.056075567180929126, 0.056075567180929126, 0.056075567180929126, 0.057065152570016674, 0.057065152570016674, 0.057065152570016674, 0.057065152570016674, 0.057065152570016674, 0.057065152570016674, 0.057065152570016674, 0.057065152570016674, 0.057065152570016674, 0.057065152570016674, 0.057065152570016674, 0.057065152570016674, 0.057065152570016674, 0.057065152570016674, 0.057065152570016674, 0.057065152570016674, 0.057065152570016674, 0.057065152570016674, 0.057065152570016674, 0.057065152570016674, 0.055381862937542645, 0.055381862937542645, 0.055381862937542645, 0.055381862937542645, 0.055381862937542645, 0.055381862937542645, 0.055381862937542645, 0.055381862937542645, 0.055381862937542645, 0.055381862937542645, 0.055381862937542645, 0.055381862937542645, 0.055381862937542645, 0.055381862937542645, 0.055381862937542645, 0.055381862937542645, 0.055381862937542645, 0.055381862937542645, 0.055381862937542645, 0.055381862937542645, 0.05470533174750256, 0.05470533174750256, 0.05470533174750256, 0.05470533174750256, 0.05470533174750256, 0.05470533174750256, 0.05470533174750256, 0.05470533174750256, 0.05470533174750256, 0.05470533174750256, 0.05470533174750256, 0.05470533174750256, 0.05470533174750256, 0.05470533174750256, 0.05470533174750256, 0.05470533174750256, 0.05470533174750256, 0.05470533174750256, 0.05470533174750256, 0.05470533174750256, 0.056606433696118015, 0.056606433696118015, 0.056606433696118015, 0.056606433696118015, 0.056606433696118015, 0.056606433696118015, 0.056606433696118015, 0.056606433696118015, 0.056606433696118015, 0.056606433696118015, 0.056606433696118015, 0.056606433696118015, 0.056606433696118015, 0.056606433696118015, 0.056606433696118015, 0.056606433696118015, 0.056606433696118015, 0.056606433696118015, 0.056606433696118015, 0.056606433696118015, 0.05621041240175102, 0.05621041240175102, 0.05621041240175102, 0.05621041240175102, 0.05621041240175102, 0.05621041240175102, 0.05621041240175102, 0.05621041240175102, 0.05621041240175102, 0.05621041240175102, 0.05621041240175102, 0.05621041240175102, 0.05621041240175102, 0.05621041240175102, 0.05621041240175102, 0.05621041240175102, 0.05621041240175102, 0.05621041240175102, 0.05621041240175102, 0.05621041240175102, 0.056173405603949456, 0.056173405603949456, 0.056173405603949456, 0.056173405603949456, 0.056173405603949456, 0.056173405603949456, 0.056173405603949456, 0.056173405603949456, 0.056173405603949456, 0.056173405603949456, 0.056173405603949456, 0.056173405603949456, 0.056173405603949456, 0.056173405603949456, 0.056173405603949456, 0.056173405603949456, 0.056173405603949456, 0.056173405603949456, 0.056173405603949456, 0.056173405603949456, 0.056730438113978536, 0.056730438113978536, 0.056730438113978536, 0.056730438113978536, 0.056730438113978536, 0.056730438113978536, 0.056730438113978536, 0.056730438113978536, 0.056730438113978536, 0.056730438113978536, 0.056730438113978536, 0.056730438113978536, 0.056730438113978536, 0.056730438113978536, 0.056730438113978536, 0.056730438113978536, 0.056730438113978536, 0.056730438113978536, 0.056730438113978536, 0.056730438113978536, 0.05666588241334548, 0.05666588241334548, 0.05666588241334548, 0.05666588241334548, 0.05666588241334548, 0.05666588241334548, 0.05666588241334548, 0.05666588241334548, 0.05666588241334548, 0.05666588241334548, 0.05666588241334548, 0.05666588241334548, 0.05666588241334548, 0.05666588241334548, 0.05666588241334548, 0.05666588241334548, 0.05666588241334548, 0.05666588241334548, 0.05666588241334548, 0.05666588241334548, 0.054520581563170724, 0.054520581563170724, 0.054520581563170724, 0.054520581563170724, 0.054520581563170724, 0.054520581563170724, 0.054520581563170724, 0.054520581563170724, 0.054520581563170724, 0.054520581563170724, 0.054520581563170724, 0.054520581563170724, 0.054520581563170724, 0.054520581563170724, 0.054520581563170724, 0.054520581563170724, 0.054520581563170724, 0.054520581563170724, 0.054520581563170724, 0.054520581563170724, 0.05707632487248696, 0.05707632487248696, 0.05707632487248696, 0.05707632487248696, 0.05707632487248696, 0.05707632487248696, 0.05707632487248696, 0.05707632487248696, 0.05707632487248696, 0.05707632487248696, 0.05707632487248696, 0.05707632487248696, 0.05707632487248696, 0.05707632487248696, 0.05707632487248696, 0.05707632487248696, 0.05707632487248696, 0.05707632487248696, 0.05707632487248696, 0.05707632487248696, 0.056985156145792394, 0.056985156145792394, 0.056985156145792394, 0.056985156145792394, 0.056985156145792394, 0.056985156145792394, 0.056985156145792394, 0.056985156145792394, 0.056985156145792394, 0.056985156145792394, 0.056985156145792394, 0.056985156145792394, 0.056985156145792394, 0.056985156145792394, 0.056985156145792394, 0.056985156145792394, 0.056985156145792394, 0.056985156145792394, 0.056985156145792394, 0.056985156145792394, 0.05766731043841314, 0.05766731043841314, 0.05766731043841314, 0.05766731043841314, 0.05766731043841314, 0.05766731043841314, 0.05766731043841314, 0.05766731043841314, 0.05766731043841314, 0.05766731043841314, 0.05766731043841314, 0.05766731043841314, 0.05766731043841314, 0.05766731043841314, 0.05766731043841314, 0.05766731043841314, 0.05766731043841314, 0.05766731043841314, 0.05766731043841314, 0.05766731043841314, 0.05631908884668539, 0.05631908884668539, 0.05631908884668539, 0.05631908884668539, 0.05631908884668539, 0.05631908884668539, 0.05631908884668539, 0.05631908884668539, 0.05631908884668539, 0.05631908884668539, 0.05631908884668539, 0.05631908884668539, 0.05631908884668539, 0.05631908884668539, 0.05631908884668539, 0.05631908884668539, 0.05631908884668539, 0.05631908884668539, 0.05631908884668539, 0.05631908884668539, 0.05651495637251231, 0.05651495637251231, 0.05651495637251231, 0.05651495637251231, 0.05651495637251231, 0.05651495637251231, 0.05651495637251231, 0.05651495637251231, 0.05651495637251231, 0.05651495637251231, 0.05651495637251231, 0.05651495637251231, 0.05651495637251231, 0.05651495637251231, 0.05651495637251231, 0.05651495637251231, 0.05651495637251231, 0.05651495637251231, 0.05651495637251231, 0.05651495637251231, 0.05671165535435527, 0.05671165535435527, 0.05671165535435527, 0.05671165535435527, 0.05671165535435527, 0.05671165535435527, 0.05671165535435527, 0.05671165535435527, 0.05671165535435527, 0.05671165535435527, 0.05671165535435527, 0.05671165535435527, 0.05671165535435527, 0.05671165535435527, 0.05671165535435527, 0.05671165535435527, 0.05671165535435527, 0.05671165535435527, 0.05671165535435527, 0.05671165535435527, 0.055579390826009434, 0.055579390826009434, 0.055579390826009434, 0.055579390826009434, 0.055579390826009434, 0.055579390826009434, 0.055579390826009434, 0.055579390826009434, 0.055579390826009434, 0.055579390826009434, 0.055579390826009434, 0.055579390826009434, 0.055579390826009434, 0.055579390826009434, 0.055579390826009434, 0.055579390826009434, 0.055579390826009434, 0.055579390826009434, 0.055579390826009434, 0.055579390826009434, 0.05596140002252959, 0.05596140002252959, 0.05596140002252959, 0.05596140002252959, 0.05596140002252959, 0.05596140002252959, 0.05596140002252959, 0.05596140002252959, 0.05596140002252959, 0.05596140002252959, 0.05596140002252959, 0.05596140002252959, 0.05596140002252959, 0.05596140002252959, 0.05596140002252959, 0.05596140002252959, 0.05596140002252959, 0.05596140002252959, 0.05596140002252959, 0.05596140002252959, 0.05643544493148572, 0.05643544493148572, 0.05643544493148572, 0.05643544493148572, 0.05643544493148572, 0.05643544493148572, 0.05643544493148572, 0.05643544493148572, 0.05643544493148572, 0.05643544493148572, 0.05643544493148572, 0.05643544493148572, 0.05643544493148572, 0.05643544493148572, 0.05643544493148572, 0.05643544493148572, 0.05643544493148572, 0.05643544493148572, 0.05643544493148572, 0.05643544493148572, 0.05641004204324934, 0.05641004204324934, 0.05641004204324934, 0.05641004204324934, 0.05641004204324934, 0.05641004204324934, 0.05641004204324934, 0.05641004204324934, 0.05641004204324934, 0.05641004204324934, 0.05641004204324934, 0.05641004204324934, 0.05641004204324934, 0.05641004204324934, 0.05641004204324934, 0.05641004204324934, 0.05641004204324934, 0.05641004204324934, 0.05641004204324934, 0.05641004204324934, 0.05550560338906704, 0.05550560338906704, 0.05550560338906704, 0.05550560338906704, 0.05550560338906704, 0.05550560338906704, 0.05550560338906704, 0.05550560338906704, 0.05550560338906704, 0.05550560338906704, 0.05550560338906704, 0.05550560338906704, 0.05550560338906704, 0.05550560338906704, 0.05550560338906704, 0.05550560338906704, 0.05550560338906704, 0.05550560338906704, 0.05550560338906704, 0.05550560338906704, 0.055953503536334555, 0.055953503536334555, 0.055953503536334555, 0.055953503536334555, 0.055953503536334555, 0.055953503536334555, 0.055953503536334555, 0.055953503536334555, 0.055953503536334555, 0.055953503536334555, 0.055953503536334555, 0.055953503536334555, 0.055953503536334555, 0.055953503536334555, 0.055953503536334555, 0.055953503536334555, 0.055953503536334555, 0.055953503536334555, 0.055953503536334555, 0.055953503536334555, 0.05632079772993208, 0.05632079772993208, 0.05632079772993208, 0.05632079772993208, 0.05632079772993208, 0.05632079772993208, 0.05632079772993208, 0.05632079772993208, 0.05632079772993208, 0.05632079772993208, 0.05632079772993208, 0.05632079772993208, 0.05632079772993208, 0.05632079772993208, 0.05632079772993208, 0.05632079772993208, 0.05632079772993208, 0.05632079772993208, 0.05632079772993208, 0.05632079772993208, 0.05527571837454749, 0.05527571837454749, 0.05527571837454749, 0.05527571837454749, 0.05527571837454749, 0.05527571837454749, 0.05527571837454749, 0.05527571837454749, 0.05527571837454749, 0.05527571837454749, 0.05527571837454749, 0.05527571837454749, 0.05527571837454749, 0.05527571837454749, 0.05527571837454749, 0.05527571837454749, 0.05527571837454749, 0.05527571837454749, 0.05527571837454749, 0.05527571837454749, 0.05623449793543735, 0.05623449793543735, 0.05623449793543735, 0.05623449793543735, 0.05623449793543735, 0.05623449793543735, 0.05623449793543735, 0.05623449793543735, 0.05623449793543735, 0.05623449793543735, 0.05623449793543735, 0.05623449793543735, 0.05623449793543735, 0.05623449793543735, 0.05623449793543735, 0.05623449793543735, 0.05623449793543735, 0.05623449793543735, 0.05623449793543735, 0.05623449793543735, 0.056318766019682755, 0.056318766019682755, 0.056318766019682755, 0.056318766019682755, 0.056318766019682755, 0.056318766019682755, 0.056318766019682755, 0.056318766019682755, 0.056318766019682755, 0.056318766019682755, 0.056318766019682755, 0.056318766019682755, 0.056318766019682755, 0.056318766019682755, 0.056318766019682755, 0.056318766019682755, 0.056318766019682755, 0.056318766019682755, 0.056318766019682755, 0.056318766019682755, 0.056291971675011515, 0.056291971675011515, 0.056291971675011515, 0.056291971675011515, 0.056291971675011515, 0.056291971675011515, 0.056291971675011515, 0.056291971675011515, 0.056291971675011515, 0.056291971675011515, 0.056291971675011515, 0.056291971675011515, 0.056291971675011515, 0.056291971675011515, 0.056291971675011515, 0.056291971675011515, 0.056291971675011515, 0.056291971675011515, 0.056291971675011515, 0.056291971675011515, 0.055922450693706216, 0.055922450693706216, 0.055922450693706216, 0.055922450693706216, 0.055922450693706216, 0.055922450693706216, 0.055922450693706216, 0.055922450693706216, 0.055922450693706216, 0.055922450693706216, 0.055922450693706216, 0.055922450693706216, 0.055922450693706216, 0.055922450693706216, 0.055922450693706216, 0.055922450693706216, 0.055922450693706216, 0.055922450693706216, 0.055922450693706216, 0.055922450693706216, 0.05569853744833771, 0.05569853744833771, 0.05569853744833771, 0.05569853744833771, 0.05569853744833771, 0.05569853744833771, 0.05569853744833771, 0.05569853744833771, 0.05569853744833771, 0.05569853744833771, 0.05569853744833771, 0.05569853744833771, 0.05569853744833771, 0.05569853744833771, 0.05569853744833771, 0.05569853744833771, 0.05569853744833771, 0.05569853744833771, 0.05569853744833771, 0.05569853744833771, 0.05574584313665543, 0.05574584313665543, 0.05574584313665543, 0.05574584313665543, 0.05574584313665543, 0.05574584313665543, 0.05574584313665543, 0.05574584313665543, 0.05574584313665543, 0.05574584313665543, 0.05574584313665543, 0.05574584313665543, 0.05574584313665543, 0.05574584313665543, 0.05574584313665543, 0.05574584313665543, 0.05574584313665543, 0.05574584313665543, 0.05574584313665543, 0.05574584313665543, 0.055948787984334, 0.055948787984334, 0.055948787984334, 0.055948787984334, 0.055948787984334, 0.055948787984334, 0.055948787984334, 0.055948787984334, 0.055948787984334, 0.055948787984334, 0.055948787984334, 0.055948787984334, 0.055948787984334, 0.055948787984334, 0.055948787984334, 0.055948787984334, 0.055948787984334, 0.055948787984334, 0.055948787984334, 0.055948787984334, 0.05527448727798126, 0.05527448727798126, 0.05527448727798126, 0.05527448727798126, 0.05527448727798126, 0.05527448727798126, 0.05527448727798126, 0.05527448727798126, 0.05527448727798126, 0.05527448727798126, 0.05527448727798126, 0.05527448727798126, 0.05527448727798126, 0.05527448727798126, 0.05527448727798126, 0.05527448727798126, 0.05527448727798126, 0.05527448727798126, 0.05527448727798126, 0.05527448727798126, 0.057274408633817796, 0.057274408633817796, 0.057274408633817796, 0.057274408633817796, 0.057274408633817796, 0.057274408633817796, 0.057274408633817796, 0.057274408633817796, 0.057274408633817796, 0.057274408633817796, 0.057274408633817796, 0.057274408633817796, 0.057274408633817796, 0.057274408633817796, 0.057274408633817796, 0.057274408633817796, 0.057274408633817796, 0.057274408633817796, 0.057274408633817796, 0.057274408633817796, 0.0558122031497182, 0.0558122031497182, 0.0558122031497182, 0.0558122031497182, 0.0558122031497182, 0.0558122031497182, 0.0558122031497182, 0.0558122031497182, 0.0558122031497182, 0.0558122031497182, 0.0558122031497182, 0.0558122031497182, 0.0558122031497182, 0.0558122031497182, 0.0558122031497182, 0.0558122031497182, 0.0558122031497182, 0.0558122031497182, 0.0558122031497182, 0.0558122031497182, 0.05646230162582755, 0.05646230162582755, 0.05646230162582755, 0.05646230162582755, 0.05646230162582755, 0.05646230162582755, 0.05646230162582755, 0.05646230162582755, 0.05646230162582755, 0.05646230162582755, 0.05646230162582755, 0.05646230162582755, 0.05646230162582755, 0.05646230162582755, 0.05646230162582755, 0.05646230162582755, 0.05646230162582755, 0.05646230162582755, 0.05646230162582755, 0.05646230162582755, 0.05596999877519471, 0.05596999877519471, 0.05596999877519471, 0.05596999877519471, 0.05596999877519471, 0.05596999877519471, 0.05596999877519471, 0.05596999877519471, 0.05596999877519471, 0.05596999877519471, 0.05596999877519471, 0.05596999877519471, 0.05596999877519471, 0.05596999877519471, 0.05596999877519471, 0.05596999877519471, 0.05596999877519471, 0.05596999877519471, 0.05596999877519471, 0.05596999877519471, 0.055427695004152046, 0.055427695004152046, 0.055427695004152046, 0.055427695004152046, 0.055427695004152046, 0.055427695004152046, 0.055427695004152046, 0.055427695004152046, 0.055427695004152046, 0.055427695004152046, 0.055427695004152046, 0.055427695004152046, 0.055427695004152046, 0.055427695004152046, 0.055427695004152046, 0.055427695004152046, 0.055427695004152046, 0.055427695004152046, 0.055427695004152046, 0.055427695004152046, 0.055115067281422715, 0.055115067281422715, 0.055115067281422715, 0.055115067281422715, 0.055115067281422715, 0.055115067281422715, 0.055115067281422715, 0.055115067281422715, 0.055115067281422715, 0.055115067281422715, 0.055115067281422715, 0.055115067281422715, 0.055115067281422715, 0.055115067281422715, 0.055115067281422715, 0.055115067281422715, 0.055115067281422715, 0.055115067281422715, 0.055115067281422715, 0.055115067281422715, 0.05621622713473823, 0.05621622713473823, 0.05621622713473823, 0.05621622713473823, 0.05621622713473823, 0.05621622713473823, 0.05621622713473823, 0.05621622713473823, 0.05621622713473823, 0.05621622713473823, 0.05621622713473823, 0.05621622713473823, 0.05621622713473823, 0.05621622713473823, 0.05621622713473823, 0.05621622713473823, 0.05621622713473823, 0.05621622713473823, 0.05621622713473823, 0.05621622713473823, 0.05639267850885221, 0.05639267850885221, 0.05639267850885221, 0.05639267850885221, 0.05639267850885221, 0.05639267850885221, 0.05639267850885221, 0.05639267850885221, 0.05639267850885221, 0.05639267850885221, 0.05639267850885221, 0.05639267850885221, 0.05639267850885221, 0.05639267850885221, 0.05639267850885221, 0.05639267850885221, 0.05639267850885221, 0.05639267850885221, 0.05639267850885221, 0.05639267850885221, 0.05617591363353774, 0.05617591363353774, 0.05617591363353774, 0.05617591363353774, 0.05617591363353774, 0.05617591363353774, 0.05617591363353774, 0.05617591363353774, 0.05617591363353774, 0.05617591363353774, 0.05617591363353774, 0.05617591363353774, 0.05617591363353774, 0.05617591363353774, 0.05617591363353774, 0.05617591363353774, 0.05617591363353774, 0.05617591363353774, 0.05617591363353774, 0.05617591363353774, 0.0559285525475994, 0.0559285525475994, 0.0559285525475994, 0.0559285525475994, 0.0559285525475994, 0.0559285525475994, 0.0559285525475994, 0.0559285525475994, 0.0559285525475994, 0.0559285525475994, 0.0559285525475994, 0.0559285525475994, 0.0559285525475994, 0.0559285525475994, 0.0559285525475994, 0.0559285525475994, 0.0559285525475994, 0.0559285525475994, 0.0559285525475994, 0.0559285525475994, 0.055492801021936135, 0.055492801021936135, 0.055492801021936135, 0.055492801021936135, 0.055492801021936135, 0.055492801021936135, 0.055492801021936135, 0.055492801021936135, 0.055492801021936135, 0.055492801021936135, 0.055492801021936135, 0.055492801021936135, 0.055492801021936135, 0.055492801021936135, 0.055492801021936135, 0.055492801021936135, 0.055492801021936135, 0.055492801021936135, 0.055492801021936135, 0.055492801021936135, 0.05576980484946204, 0.05576980484946204, 0.05576980484946204, 0.05576980484946204, 0.05576980484946204, 0.05576980484946204, 0.05576980484946204, 0.05576980484946204, 0.05576980484946204, 0.05576980484946204, 0.05576980484946204, 0.05576980484946204, 0.05576980484946204, 0.05576980484946204, 0.05576980484946204, 0.05576980484946204, 0.05576980484946204, 0.05576980484946204, 0.05576980484946204, 0.05576980484946204, 0.056309268549050044, 0.056309268549050044, 0.056309268549050044, 0.056309268549050044, 0.056309268549050044, 0.056309268549050044, 0.056309268549050044, 0.056309268549050044, 0.056309268549050044, 0.056309268549050044, 0.056309268549050044, 0.056309268549050044, 0.056309268549050044, 0.056309268549050044, 0.056309268549050044, 0.056309268549050044, 0.056309268549050044, 0.056309268549050044, 0.056309268549050044, 0.056309268549050044, 0.056098391036553875, 0.056098391036553875, 0.056098391036553875, 0.056098391036553875, 0.056098391036553875, 0.056098391036553875, 0.056098391036553875, 0.056098391036553875, 0.056098391036553875, 0.056098391036553875, 0.056098391036553875, 0.056098391036553875, 0.056098391036553875, 0.056098391036553875, 0.056098391036553875, 0.056098391036553875, 0.056098391036553875, 0.056098391036553875, 0.056098391036553875, 0.056098391036553875, 0.055766025427090866, 0.055766025427090866, 0.055766025427090866, 0.055766025427090866, 0.055766025427090866, 0.055766025427090866, 0.055766025427090866, 0.055766025427090866, 0.055766025427090866, 0.055766025427090866, 0.055766025427090866, 0.055766025427090866, 0.055766025427090866, 0.055766025427090866, 0.055766025427090866, 0.055766025427090866, 0.055766025427090866, 0.055766025427090866, 0.055766025427090866, 0.055766025427090866, 0.055723794727828894, 0.055723794727828894, 0.055723794727828894, 0.055723794727828894, 0.055723794727828894, 0.055723794727828894, 0.055723794727828894, 0.055723794727828894, 0.055723794727828894, 0.055723794727828894, 0.055723794727828894, 0.055723794727828894, 0.055723794727828894, 0.055723794727828894, 0.055723794727828894, 0.055723794727828894, 0.055723794727828894, 0.055723794727828894, 0.055723794727828894, 0.055723794727828894, 0.055365551036166145, 0.055365551036166145, 0.055365551036166145, 0.055365551036166145, 0.055365551036166145, 0.055365551036166145, 0.055365551036166145, 0.055365551036166145, 0.055365551036166145, 0.055365551036166145, 0.055365551036166145, 0.055365551036166145, 0.055365551036166145, 0.055365551036166145, 0.055365551036166145, 0.055365551036166145, 0.055365551036166145, 0.055365551036166145, 0.055365551036166145, 0.055365551036166145, 0.05641689916519, 0.05641689916519, 0.05641689916519, 0.05641689916519, 0.05641689916519, 0.05641689916519, 0.05641689916519, 0.05641689916519, 0.05641689916519, 0.05641689916519, 0.05641689916519, 0.05641689916519, 0.05641689916519, 0.05641689916519, 0.05641689916519, 0.05641689916519, 0.05641689916519, 0.05641689916519, 0.05641689916519, 0.05641689916519, 0.056684600925034544, 0.056684600925034544, 0.056684600925034544, 0.056684600925034544, 0.056684600925034544, 0.056684600925034544, 0.056684600925034544, 0.056684600925034544, 0.056684600925034544, 0.056684600925034544, 0.056684600925034544, 0.056684600925034544, 0.056684600925034544, 0.056684600925034544, 0.056684600925034544, 0.056684600925034544, 0.056684600925034544, 0.056684600925034544, 0.056684600925034544, 0.056684600925034544, 0.055696441837128206, 0.055696441837128206, 0.055696441837128206, 0.055696441837128206, 0.055696441837128206, 0.055696441837128206, 0.055696441837128206, 0.055696441837128206, 0.055696441837128206, 0.055696441837128206, 0.055696441837128206, 0.055696441837128206, 0.055696441837128206, 0.055696441837128206, 0.055696441837128206, 0.055696441837128206, 0.055696441837128206, 0.055696441837128206, 0.055696441837128206, 0.055696441837128206, 0.056538515985668905, 0.056538515985668905, 0.056538515985668905, 0.056538515985668905, 0.056538515985668905, 0.056538515985668905, 0.056538515985668905, 0.056538515985668905, 0.056538515985668905, 0.056538515985668905, 0.056538515985668905, 0.056538515985668905, 0.056538515985668905, 0.056538515985668905, 0.056538515985668905, 0.056538515985668905, 0.056538515985668905, 0.056538515985668905, 0.056538515985668905, 0.056538515985668905, 0.056056062525271864, 0.056056062525271864, 0.056056062525271864, 0.056056062525271864, 0.056056062525271864, 0.056056062525271864, 0.056056062525271864, 0.056056062525271864, 0.056056062525271864, 0.056056062525271864, 0.056056062525271864, 0.056056062525271864, 0.056056062525271864, 0.056056062525271864, 0.056056062525271864, 0.056056062525271864, 0.056056062525271864, 0.056056062525271864, 0.056056062525271864, 0.056056062525271864, 0.05797063231604147, 0.05797063231604147, 0.05797063231604147, 0.05797063231604147, 0.05797063231604147, 0.05797063231604147, 0.05797063231604147, 0.05797063231604147, 0.05797063231604147, 0.05797063231604147, 0.05797063231604147, 0.05797063231604147, 0.05797063231604147, 0.05797063231604147, 0.05797063231604147, 0.05797063231604147, 0.05797063231604147, 0.05797063231604147, 0.05797063231604147, 0.05797063231604147, 0.056312269996294344, 0.056312269996294344, 0.056312269996294344, 0.056312269996294344, 0.056312269996294344, 0.056312269996294344, 0.056312269996294344, 0.056312269996294344, 0.056312269996294344, 0.056312269996294344, 0.056312269996294344, 0.056312269996294344, 0.056312269996294344, 0.056312269996294344, 0.056312269996294344, 0.056312269996294344, 0.056312269996294344, 0.056312269996294344, 0.056312269996294344, 0.056312269996294344, 0.05617545046595809, 0.05617545046595809, 0.05617545046595809, 0.05617545046595809, 0.05617545046595809, 0.05617545046595809, 0.05617545046595809, 0.05617545046595809, 0.05617545046595809, 0.05617545046595809, 0.05617545046595809, 0.05617545046595809, 0.05617545046595809, 0.05617545046595809, 0.05617545046595809, 0.05617545046595809, 0.05617545046595809, 0.05617545046595809, 0.05617545046595809, 0.05617545046595809, 0.055439336899630764, 0.055439336899630764, 0.055439336899630764, 0.055439336899630764, 0.055439336899630764, 0.055439336899630764, 0.055439336899630764, 0.055439336899630764, 0.055439336899630764, 0.055439336899630764, 0.055439336899630764, 0.055439336899630764, 0.055439336899630764, 0.055439336899630764, 0.055439336899630764, 0.055439336899630764, 0.055439336899630764, 0.055439336899630764, 0.055439336899630764, 0.055439336899630764, 0.057186186154447205, 0.057186186154447205, 0.057186186154447205, 0.057186186154447205, 0.057186186154447205, 0.057186186154447205, 0.057186186154447205, 0.057186186154447205, 0.057186186154447205, 0.057186186154447205, 0.057186186154447205, 0.057186186154447205, 0.057186186154447205, 0.057186186154447205, 0.057186186154447205, 0.057186186154447205, 0.057186186154447205, 0.057186186154447205, 0.057186186154447205, 0.057186186154447205, 0.05594908309227989, 0.05594908309227989, 0.05594908309227989, 0.05594908309227989, 0.05594908309227989, 0.05594908309227989, 0.05594908309227989, 0.05594908309227989, 0.05594908309227989, 0.05594908309227989, 0.05594908309227989, 0.05594908309227989, 0.05594908309227989, 0.05594908309227989, 0.05594908309227989, 0.05594908309227989, 0.05594908309227989, 0.05594908309227989, 0.05594908309227989, 0.05594908309227989, 0.05586086924286229, 0.05586086924286229, 0.05586086924286229, 0.05586086924286229, 0.05586086924286229, 0.05586086924286229, 0.05586086924286229, 0.05586086924286229, 0.05586086924286229, 0.05586086924286229, 0.05586086924286229, 0.05586086924286229, 0.05586086924286229, 0.05586086924286229, 0.05586086924286229, 0.05586086924286229, 0.05586086924286229, 0.05586086924286229, 0.05586086924286229, 0.05586086924286229, 0.05620289157802955, 0.05620289157802955, 0.05620289157802955, 0.05620289157802955, 0.05620289157802955, 0.05620289157802955, 0.05620289157802955, 0.05620289157802955, 0.05620289157802955, 0.05620289157802955, 0.05620289157802955, 0.05620289157802955, 0.05620289157802955, 0.05620289157802955, 0.05620289157802955, 0.05620289157802955, 0.05620289157802955, 0.05620289157802955, 0.05620289157802955, 0.05620289157802955, 0.05727081256280539, 0.05727081256280539, 0.05727081256280539, 0.05727081256280539, 0.05727081256280539, 0.05727081256280539, 0.05727081256280539, 0.05727081256280539, 0.05727081256280539, 0.05727081256280539, 0.05727081256280539, 0.05727081256280539, 0.05727081256280539, 0.05727081256280539, 0.05727081256280539, 0.05727081256280539, 0.05727081256280539, 0.05727081256280539, 0.05727081256280539, 0.05727081256280539, 0.05587027277046707, 0.05587027277046707, 0.05587027277046707, 0.05587027277046707, 0.05587027277046707, 0.05587027277046707, 0.05587027277046707, 0.05587027277046707, 0.05587027277046707, 0.05587027277046707, 0.05587027277046707, 0.05587027277046707, 0.05587027277046707, 0.05587027277046707, 0.05587027277046707, 0.05587027277046707, 0.05587027277046707, 0.05587027277046707, 0.05587027277046707, 0.05587027277046707, 0.055098249204092016, 0.055098249204092016, 0.055098249204092016, 0.055098249204092016, 0.055098249204092016, 0.055098249204092016, 0.055098249204092016, 0.055098249204092016, 0.055098249204092016, 0.055098249204092016, 0.055098249204092016, 0.055098249204092016, 0.055098249204092016, 0.055098249204092016, 0.055098249204092016, 0.055098249204092016, 0.055098249204092016, 0.055098249204092016, 0.055098249204092016, 0.055098249204092016, 0.056824080060115224, 0.056824080060115224, 0.056824080060115224, 0.056824080060115224, 0.056824080060115224, 0.056824080060115224, 0.056824080060115224, 0.056824080060115224, 0.056824080060115224, 0.056824080060115224, 0.056824080060115224, 0.056824080060115224, 0.056824080060115224, 0.056824080060115224, 0.056824080060115224, 0.056824080060115224, 0.056824080060115224, 0.056824080060115224, 0.056824080060115224, 0.056824080060115224, 0.05676600902388703, 0.05676600902388703, 0.05676600902388703, 0.05676600902388703, 0.05676600902388703, 0.05676600902388703, 0.05676600902388703, 0.05676600902388703, 0.05676600902388703, 0.05676600902388703, 0.05676600902388703, 0.05676600902388703, 0.05676600902388703, 0.05676600902388703, 0.05676600902388703, 0.05676600902388703, 0.05676600902388703, 0.05676600902388703, 0.05676600902388703, 0.05676600902388703, 0.05626643605252138, 0.05626643605252138, 0.05626643605252138, 0.05626643605252138, 0.05626643605252138, 0.05626643605252138, 0.05626643605252138, 0.05626643605252138, 0.05626643605252138, 0.05626643605252138, 0.05626643605252138, 0.05626643605252138, 0.05626643605252138, 0.05626643605252138, 0.05626643605252138, 0.05626643605252138, 0.05626643605252138, 0.05626643605252138, 0.05626643605252138, 0.05626643605252138, 0.05652818802738775, 0.05652818802738775, 0.05652818802738775, 0.05652818802738775, 0.05652818802738775, 0.05652818802738775, 0.05652818802738775, 0.05652818802738775, 0.05652818802738775, 0.05652818802738775, 0.05652818802738775, 0.05652818802738775, 0.05652818802738775, 0.05652818802738775, 0.05652818802738775, 0.05652818802738775, 0.05652818802738775, 0.05652818802738775, 0.05652818802738775, 0.05652818802738775, 0.05654090079463971, 0.05654090079463971, 0.05654090079463971, 0.05654090079463971, 0.05654090079463971, 0.05654090079463971, 0.05654090079463971, 0.05654090079463971, 0.05654090079463971, 0.05654090079463971, 0.05654090079463971, 0.05654090079463971, 0.05654090079463971, 0.05654090079463971, 0.05654090079463971, 0.05654090079463971, 0.05654090079463971, 0.05654090079463971, 0.05654090079463971, 0.05654090079463971, 0.05574806927850516, 0.05574806927850516, 0.05574806927850516, 0.05574806927850516, 0.05574806927850516, 0.05574806927850516, 0.05574806927850516, 0.05574806927850516, 0.05574806927850516, 0.05574806927850516, 0.05574806927850516, 0.05574806927850516, 0.05574806927850516, 0.05574806927850516, 0.05574806927850516, 0.05574806927850516, 0.05574806927850516, 0.05574806927850516, 0.05574806927850516, 0.05574806927850516, 0.05705205205500547, 0.05705205205500547, 0.05705205205500547, 0.05705205205500547, 0.05705205205500547, 0.05705205205500547, 0.05705205205500547, 0.05705205205500547, 0.05705205205500547, 0.05705205205500547, 0.05705205205500547, 0.05705205205500547, 0.05705205205500547, 0.05705205205500547, 0.05705205205500547, 0.05705205205500547, 0.05705205205500547, 0.05705205205500547, 0.05705205205500547, 0.05705205205500547, 0.056626641447028954, 0.056626641447028954, 0.056626641447028954, 0.056626641447028954, 0.056626641447028954, 0.056626641447028954, 0.056626641447028954, 0.056626641447028954, 0.056626641447028954, 0.056626641447028954, 0.056626641447028954, 0.056626641447028954, 0.056626641447028954, 0.056626641447028954, 0.056626641447028954, 0.056626641447028954, 0.056626641447028954, 0.056626641447028954, 0.056626641447028954, 0.056626641447028954, 0.05613876835476295, 0.05613876835476295, 0.05613876835476295, 0.05613876835476295, 0.05613876835476295, 0.05613876835476295, 0.05613876835476295, 0.05613876835476295, 0.05613876835476295, 0.05613876835476295, 0.05613876835476295, 0.05613876835476295, 0.05613876835476295, 0.05613876835476295, 0.05613876835476295, 0.05613876835476295, 0.05613876835476295, 0.05613876835476295, 0.05613876835476295, 0.05613876835476295, 0.05637914187695023, 0.05637914187695023, 0.05637914187695023, 0.05637914187695023, 0.05637914187695023, 0.05637914187695023, 0.05637914187695023, 0.05637914187695023, 0.05637914187695023, 0.05637914187695023, 0.05637914187695023, 0.05637914187695023, 0.05637914187695023, 0.05637914187695023, 0.05637914187695023, 0.05637914187695023, 0.05637914187695023, 0.05637914187695023, 0.05637914187695023, 0.05637914187695023, 0.05608726778899951, 0.05608726778899951, 0.05608726778899951, 0.05608726778899951, 0.05608726778899951, 0.05608726778899951, 0.05608726778899951, 0.05608726778899951, 0.05608726778899951, 0.05608726778899951, 0.05608726778899951, 0.05608726778899951, 0.05608726778899951, 0.05608726778899951, 0.05608726778899951, 0.05608726778899951, 0.05608726778899951, 0.05608726778899951, 0.05608726778899951, 0.05608726778899951, 0.05616675641257366, 0.05616675641257366, 0.05616675641257366, 0.05616675641257366, 0.05616675641257366, 0.05616675641257366, 0.05616675641257366, 0.05616675641257366, 0.05616675641257366, 0.05616675641257366, 0.05616675641257366, 0.05616675641257366, 0.05616675641257366, 0.05616675641257366, 0.05616675641257366, 0.05616675641257366, 0.05616675641257366, 0.05616675641257366, 0.05616675641257366, 0.05616675641257366, 0.056161449486305075, 0.056161449486305075, 0.056161449486305075, 0.056161449486305075, 0.056161449486305075, 0.056161449486305075, 0.056161449486305075, 0.056161449486305075, 0.056161449486305075, 0.056161449486305075, 0.056161449486305075, 0.056161449486305075, 0.056161449486305075, 0.056161449486305075, 0.056161449486305075, 0.056161449486305075, 0.056161449486305075, 0.056161449486305075, 0.056161449486305075, 0.056161449486305075, 0.05614367633613843, 0.05614367633613843, 0.05614367633613843, 0.05614367633613843, 0.05614367633613843, 0.05614367633613843, 0.05614367633613843, 0.05614367633613843, 0.05614367633613843, 0.05614367633613843, 0.05614367633613843, 0.05614367633613843, 0.05614367633613843, 0.05614367633613843, 0.05614367633613843, 0.05614367633613843, 0.05614367633613843, 0.05614367633613843, 0.05614367633613843, 0.05614367633613843, 0.056130538037716345, 0.056130538037716345, 0.056130538037716345, 0.056130538037716345, 0.056130538037716345, 0.056130538037716345, 0.056130538037716345, 0.056130538037716345, 0.056130538037716345, 0.056130538037716345, 0.056130538037716345, 0.056130538037716345, 0.056130538037716345, 0.056130538037716345, 0.056130538037716345, 0.056130538037716345, 0.056130538037716345, 0.056130538037716345, 0.056130538037716345, 0.056130538037716345, 0.056558068404091576, 0.056558068404091576, 0.056558068404091576, 0.056558068404091576, 0.056558068404091576, 0.056558068404091576, 0.056558068404091576, 0.056558068404091576, 0.056558068404091576, 0.056558068404091576, 0.056558068404091576, 0.056558068404091576, 0.056558068404091576, 0.056558068404091576, 0.056558068404091576, 0.056558068404091576, 0.056558068404091576, 0.056558068404091576, 0.056558068404091576, 0.056558068404091576, 0.05645761569190375, 0.05645761569190375, 0.05645761569190375, 0.05645761569190375, 0.05645761569190375, 0.05645761569190375, 0.05645761569190375, 0.05645761569190375, 0.05645761569190375, 0.05645761569190375, 0.05645761569190375, 0.05645761569190375, 0.05645761569190375, 0.05645761569190375, 0.05645761569190375, 0.05645761569190375, 0.05645761569190375, 0.05645761569190375, 0.05645761569190375, 0.05645761569190375, 0.05632996110079304, 0.05632996110079304, 0.05632996110079304, 0.05632996110079304, 0.05632996110079304, 0.05632996110079304, 0.05632996110079304, 0.05632996110079304, 0.05632996110079304, 0.05632996110079304, 0.05632996110079304, 0.05632996110079304, 0.05632996110079304, 0.05632996110079304, 0.05632996110079304, 0.05632996110079304, 0.05632996110079304, 0.05632996110079304, 0.05632996110079304, 0.05632996110079304, 0.05592281870190999, 0.05592281870190999, 0.05592281870190999, 0.05592281870190999, 0.05592281870190999, 0.05592281870190999, 0.05592281870190999, 0.05592281870190999, 0.05592281870190999, 0.05592281870190999, 0.05592281870190999, 0.05592281870190999, 0.05592281870190999, 0.05592281870190999, 0.05592281870190999, 0.05592281870190999, 0.05592281870190999, 0.05592281870190999, 0.05592281870190999, 0.05592281870190999, 0.056186520478757246, 0.056186520478757246, 0.056186520478757246, 0.056186520478757246, 0.056186520478757246, 0.056186520478757246, 0.056186520478757246, 0.056186520478757246, 0.056186520478757246, 0.056186520478757246, 0.056186520478757246, 0.056186520478757246, 0.056186520478757246, 0.056186520478757246, 0.056186520478757246, 0.056186520478757246, 0.056186520478757246, 0.056186520478757246, 0.056186520478757246, 0.056186520478757246, 0.05624083408863058, 0.05624083408863058, 0.05624083408863058, 0.05624083408863058, 0.05624083408863058, 0.05624083408863058, 0.05624083408863058, 0.05624083408863058, 0.05624083408863058, 0.05624083408863058, 0.05624083408863058, 0.05624083408863058, 0.05624083408863058, 0.05624083408863058, 0.05624083408863058, 0.05624083408863058, 0.05624083408863058, 0.05624083408863058, 0.05624083408863058, 0.05624083408863058, 0.05605934508400061, 0.05605934508400061, 0.05605934508400061, 0.05605934508400061, 0.05605934508400061, 0.05605934508400061, 0.05605934508400061, 0.05605934508400061, 0.05605934508400061, 0.05605934508400061, 0.05605934508400061, 0.05605934508400061, 0.05605934508400061, 0.05605934508400061, 0.05605934508400061, 0.05605934508400061, 0.05605934508400061, 0.05605934508400061, 0.05605934508400061, 0.05605934508400061, 0.05732939955233278, 0.05732939955233278, 0.05732939955233278, 0.05732939955233278, 0.05732939955233278, 0.05732939955233278, 0.05732939955233278, 0.05732939955233278, 0.05732939955233278, 0.05732939955233278, 0.05732939955233278, 0.05732939955233278, 0.05732939955233278, 0.05732939955233278, 0.05732939955233278, 0.05732939955233278, 0.05732939955233278, 0.05732939955233278, 0.05732939955233278, 0.05732939955233278, 0.05561070464896505, 0.05561070464896505, 0.05561070464896505, 0.05561070464896505, 0.05561070464896505, 0.05561070464896505, 0.05561070464896505, 0.05561070464896505, 0.05561070464896505, 0.05561070464896505, 0.05561070464896505, 0.05561070464896505, 0.05561070464896505, 0.05561070464896505, 0.05561070464896505, 0.05561070464896505, 0.05561070464896505, 0.05561070464896505, 0.05561070464896505, 0.05561070464896505, 0.05600203316705867, 0.05600203316705867, 0.05600203316705867, 0.05600203316705867, 0.05600203316705867, 0.05600203316705867, 0.05600203316705867, 0.05600203316705867, 0.05600203316705867, 0.05600203316705867, 0.05600203316705867, 0.05600203316705867, 0.05600203316705867, 0.05600203316705867, 0.05600203316705867, 0.05600203316705867, 0.05600203316705867, 0.05600203316705867, 0.05600203316705867, 0.05600203316705867, 0.05695368604201698, 0.05695368604201698, 0.05695368604201698, 0.05695368604201698, 0.05695368604201698, 0.05695368604201698, 0.05695368604201698, 0.05695368604201698, 0.05695368604201698, 0.05695368604201698, 0.05695368604201698, 0.05695368604201698, 0.05695368604201698, 0.05695368604201698, 0.05695368604201698, 0.05695368604201698, 0.05695368604201698, 0.05695368604201698, 0.05695368604201698, 0.05695368604201698, 0.056091557341199735, 0.056091557341199735, 0.056091557341199735, 0.056091557341199735, 0.056091557341199735, 0.056091557341199735, 0.056091557341199735, 0.056091557341199735, 0.056091557341199735, 0.056091557341199735, 0.056091557341199735, 0.056091557341199735, 0.056091557341199735, 0.056091557341199735, 0.056091557341199735, 0.056091557341199735, 0.056091557341199735, 0.056091557341199735, 0.056091557341199735, 0.056091557341199735, 0.05464156227409876, 0.05464156227409876, 0.05464156227409876, 0.05464156227409876, 0.05464156227409876, 0.05464156227409876, 0.05464156227409876, 0.05464156227409876, 0.05464156227409876, 0.05464156227409876, 0.05464156227409876, 0.05464156227409876, 0.05464156227409876, 0.05464156227409876, 0.05464156227409876, 0.05464156227409876, 0.05464156227409876, 0.05464156227409876, 0.05464156227409876, 0.05464156227409876, 0.05504766046798264, 0.05504766046798264, 0.05504766046798264, 0.05504766046798264, 0.05504766046798264, 0.05504766046798264, 0.05504766046798264, 0.05504766046798264, 0.05504766046798264, 0.05504766046798264, 0.05504766046798264, 0.05504766046798264, 0.05504766046798264, 0.05504766046798264, 0.05504766046798264, 0.05504766046798264, 0.05504766046798264, 0.05504766046798264, 0.05504766046798264, 0.05504766046798264, 0.056621296631374926, 0.056621296631374926, 0.056621296631374926, 0.056621296631374926, 0.056621296631374926, 0.056621296631374926, 0.056621296631374926, 0.056621296631374926, 0.056621296631374926, 0.056621296631374926, 0.056621296631374926, 0.056621296631374926, 0.056621296631374926, 0.056621296631374926, 0.056621296631374926, 0.056621296631374926, 0.056621296631374926, 0.056621296631374926, 0.056621296631374926, 0.056621296631374926, 0.0556050770142739, 0.0556050770142739, 0.0556050770142739, 0.0556050770142739, 0.0556050770142739, 0.0556050770142739, 0.0556050770142739, 0.0556050770142739, 0.0556050770142739, 0.0556050770142739, 0.0556050770142739, 0.0556050770142739, 0.0556050770142739, 0.0556050770142739, 0.0556050770142739, 0.0556050770142739, 0.0556050770142739, 0.0556050770142739, 0.0556050770142739, 0.0556050770142739, 0.05619551782854419, 0.05619551782854419, 0.05619551782854419, 0.05619551782854419, 0.05619551782854419, 0.05619551782854419, 0.05619551782854419, 0.05619551782854419, 0.05619551782854419, 0.05619551782854419, 0.05619551782854419, 0.05619551782854419, 0.05619551782854419, 0.05619551782854419, 0.05619551782854419, 0.05619551782854419, 0.05619551782854419, 0.05619551782854419, 0.05619551782854419, 0.05619551782854419, 0.05647514795717301, 0.05647514795717301, 0.05647514795717301, 0.05647514795717301, 0.05647514795717301, 0.05647514795717301, 0.05647514795717301, 0.05647514795717301, 0.05647514795717301, 0.05647514795717301, 0.05647514795717301, 0.05647514795717301, 0.05647514795717301, 0.05647514795717301, 0.05647514795717301, 0.05647514795717301, 0.05647514795717301, 0.05647514795717301, 0.05647514795717301, 0.05647514795717301, 0.05576525791631675, 0.05576525791631675, 0.05576525791631675, 0.05576525791631675, 0.05576525791631675, 0.05576525791631675, 0.05576525791631675, 0.05576525791631675, 0.05576525791631675, 0.05576525791631675, 0.05576525791631675, 0.05576525791631675, 0.05576525791631675, 0.05576525791631675, 0.05576525791631675, 0.05576525791631675, 0.05576525791631675, 0.05576525791631675, 0.05576525791631675, 0.05576525791631675, 0.05611239179278075, 0.05611239179278075, 0.05611239179278075, 0.05611239179278075, 0.05611239179278075, 0.05611239179278075, 0.05611239179278075, 0.05611239179278075, 0.05611239179278075, 0.05611239179278075, 0.05611239179278075, 0.05611239179278075, 0.05611239179278075, 0.05611239179278075, 0.05611239179278075, 0.05611239179278075, 0.05611239179278075, 0.05611239179278075, 0.05611239179278075, 0.05611239179278075, 0.05704403070676504, 0.05704403070676504, 0.05704403070676504, 0.05704403070676504, 0.05704403070676504, 0.05704403070676504, 0.05704403070676504, 0.05704403070676504, 0.05704403070676504, 0.05704403070676504, 0.05704403070676504, 0.05704403070676504, 0.05704403070676504, 0.05704403070676504, 0.05704403070676504, 0.05704403070676504, 0.05704403070676504, 0.05704403070676504, 0.05704403070676504, 0.05704403070676504, 0.05499040203645144, 0.05499040203645144, 0.05499040203645144, 0.05499040203645144, 0.05499040203645144, 0.05499040203645144, 0.05499040203645144, 0.05499040203645144, 0.05499040203645144, 0.05499040203645144, 0.05499040203645144, 0.05499040203645144, 0.05499040203645144, 0.05499040203645144, 0.05499040203645144, 0.05499040203645144, 0.05499040203645144, 0.05499040203645144, 0.05499040203645144, 0.05499040203645144, 0.055284334663558525, 0.055284334663558525, 0.055284334663558525, 0.055284334663558525, 0.055284334663558525, 0.055284334663558525, 0.055284334663558525, 0.055284334663558525, 0.055284334663558525, 0.055284334663558525, 0.055284334663558525, 0.055284334663558525, 0.055284334663558525, 0.055284334663558525, 0.055284334663558525, 0.055284334663558525, 0.055284334663558525, 0.055284334663558525, 0.055284334663558525, 0.055284334663558525, 0.05549565994309447, 0.05549565994309447, 0.05549565994309447, 0.05549565994309447, 0.05549565994309447, 0.05549565994309447, 0.05549565994309447, 0.05549565994309447, 0.05549565994309447, 0.05549565994309447, 0.05549565994309447, 0.05549565994309447, 0.05549565994309447, 0.05549565994309447, 0.05549565994309447, 0.05549565994309447, 0.05549565994309447, 0.05549565994309447, 0.05549565994309447, 0.05549565994309447, 0.05672074904982795, 0.05672074904982795, 0.05672074904982795, 0.05672074904982795, 0.05672074904982795, 0.05672074904982795, 0.05672074904982795, 0.05672074904982795, 0.05672074904982795, 0.05672074904982795, 0.05672074904982795, 0.05672074904982795, 0.05672074904982795, 0.05672074904982795, 0.05672074904982795, 0.05672074904982795, 0.05672074904982795, 0.05672074904982795, 0.05672074904982795, 0.05672074904982795, 0.05565468706806085, 0.05565468706806085, 0.05565468706806085, 0.05565468706806085, 0.05565468706806085, 0.05565468706806085, 0.05565468706806085, 0.05565468706806085, 0.05565468706806085, 0.05565468706806085, 0.05565468706806085, 0.05565468706806085, 0.05565468706806085, 0.05565468706806085, 0.05565468706806085, 0.05565468706806085, 0.05565468706806085, 0.05565468706806085, 0.05565468706806085, 0.05565468706806085, 0.05657238168548918, 0.05657238168548918, 0.05657238168548918, 0.05657238168548918, 0.05657238168548918, 0.05657238168548918, 0.05657238168548918, 0.05657238168548918, 0.05657238168548918, 0.05657238168548918, 0.05657238168548918, 0.05657238168548918, 0.05657238168548918, 0.05657238168548918, 0.05657238168548918, 0.05657238168548918, 0.05657238168548918, 0.05657238168548918, 0.05657238168548918, 0.05657238168548918, 0.05599531022034111, 0.05599531022034111, 0.05599531022034111, 0.05599531022034111, 0.05599531022034111, 0.05599531022034111, 0.05599531022034111, 0.05599531022034111, 0.05599531022034111, 0.05599531022034111, 0.05599531022034111, 0.05599531022034111, 0.05599531022034111, 0.05599531022034111, 0.05599531022034111, 0.05599531022034111, 0.05599531022034111, 0.05599531022034111, 0.05599531022034111, 0.05599531022034111, 0.05617870582354355, 0.05617870582354355, 0.05617870582354355, 0.05617870582354355, 0.05617870582354355, 0.05617870582354355, 0.05617870582354355, 0.05617870582354355, 0.05617870582354355, 0.05617870582354355, 0.05617870582354355, 0.05617870582354355, 0.05617870582354355, 0.05617870582354355, 0.05617870582354355, 0.05617870582354355, 0.05617870582354355, 0.05617870582354355, 0.05617870582354355, 0.05617870582354355, 0.05586845256860783, 0.05586845256860783, 0.05586845256860783, 0.05586845256860783, 0.05586845256860783, 0.05586845256860783, 0.05586845256860783, 0.05586845256860783, 0.05586845256860783, 0.05586845256860783, 0.05586845256860783, 0.05586845256860783, 0.05586845256860783, 0.05586845256860783, 0.05586845256860783, 0.05586845256860783, 0.05586845256860783, 0.05586845256860783, 0.05586845256860783, 0.05586845256860783, 0.05561179612816699, 0.05561179612816699, 0.05561179612816699, 0.05561179612816699, 0.05561179612816699, 0.05561179612816699, 0.05561179612816699, 0.05561179612816699, 0.05561179612816699, 0.05561179612816699, 0.05561179612816699, 0.05561179612816699, 0.05561179612816699, 0.05561179612816699, 0.05561179612816699, 0.05561179612816699, 0.05561179612816699, 0.05561179612816699, 0.05561179612816699, 0.05561179612816699, 0.05613625482025571, 0.05613625482025571, 0.05613625482025571, 0.05613625482025571, 0.05613625482025571, 0.05613625482025571, 0.05613625482025571, 0.05613625482025571, 0.05613625482025571, 0.05613625482025571, 0.05613625482025571, 0.05613625482025571, 0.05613625482025571, 0.05613625482025571, 0.05613625482025571, 0.05613625482025571, 0.05613625482025571, 0.05613625482025571, 0.05613625482025571, 0.05613625482025571, 0.05580321231180526, 0.05580321231180526, 0.05580321231180526, 0.05580321231180526, 0.05580321231180526, 0.05580321231180526, 0.05580321231180526, 0.05580321231180526, 0.05580321231180526, 0.05580321231180526, 0.05580321231180526, 0.05580321231180526, 0.05580321231180526, 0.05580321231180526, 0.05580321231180526, 0.05580321231180526, 0.05580321231180526, 0.05580321231180526, 0.05580321231180526, 0.05580321231180526, 0.056933983741436794, 0.056933983741436794, 0.056933983741436794, 0.056933983741436794, 0.056933983741436794, 0.056933983741436794, 0.056933983741436794, 0.056933983741436794, 0.056933983741436794, 0.056933983741436794, 0.056933983741436794, 0.056933983741436794, 0.056933983741436794, 0.056933983741436794, 0.056933983741436794, 0.056933983741436794, 0.056933983741436794, 0.056933983741436794, 0.056933983741436794, 0.056933983741436794, 0.05594067240729663, 0.05594067240729663, 0.05594067240729663, 0.05594067240729663, 0.05594067240729663, 0.05594067240729663, 0.05594067240729663, 0.05594067240729663, 0.05594067240729663, 0.05594067240729663, 0.05594067240729663, 0.05594067240729663, 0.05594067240729663, 0.05594067240729663, 0.05594067240729663, 0.05594067240729663, 0.05594067240729663, 0.05594067240729663, 0.05594067240729663, 0.05594067240729663, 0.05636560933994302, 0.05636560933994302, 0.05636560933994302, 0.05636560933994302, 0.05636560933994302, 0.05636560933994302, 0.05636560933994302, 0.05636560933994302, 0.05636560933994302, 0.05636560933994302, 0.05636560933994302, 0.05636560933994302, 0.05636560933994302, 0.05636560933994302, 0.05636560933994302, 0.05636560933994302, 0.05636560933994302, 0.05636560933994302, 0.05636560933994302, 0.05636560933994302, 0.055103291365334164, 0.055103291365334164, 0.055103291365334164, 0.055103291365334164, 0.055103291365334164, 0.055103291365334164, 0.055103291365334164, 0.055103291365334164, 0.055103291365334164, 0.055103291365334164, 0.055103291365334164, 0.055103291365334164, 0.055103291365334164, 0.055103291365334164, 0.055103291365334164, 0.055103291365334164, 0.055103291365334164, 0.055103291365334164, 0.055103291365334164, 0.055103291365334164, 0.05629342790696292, 0.05629342790696292, 0.05629342790696292, 0.05629342790696292, 0.05629342790696292, 0.05629342790696292, 0.05629342790696292, 0.05629342790696292, 0.05629342790696292, 0.05629342790696292, 0.05629342790696292, 0.05629342790696292, 0.05629342790696292, 0.05629342790696292, 0.05629342790696292, 0.05629342790696292, 0.05629342790696292, 0.05629342790696292, 0.05629342790696292, 0.05629342790696292, 0.05529823961244429, 0.05529823961244429, 0.05529823961244429, 0.05529823961244429, 0.05529823961244429, 0.05529823961244429, 0.05529823961244429, 0.05529823961244429, 0.05529823961244429, 0.05529823961244429, 0.05529823961244429, 0.05529823961244429, 0.05529823961244429, 0.05529823961244429, 0.05529823961244429, 0.05529823961244429, 0.05529823961244429, 0.05529823961244429, 0.05529823961244429, 0.05529823961244429, 0.056367332869890464, 0.056367332869890464, 0.056367332869890464, 0.056367332869890464, 0.056367332869890464, 0.056367332869890464, 0.056367332869890464, 0.056367332869890464, 0.056367332869890464, 0.056367332869890464, 0.056367332869890464, 0.056367332869890464, 0.056367332869890464, 0.056367332869890464, 0.056367332869890464, 0.056367332869890464, 0.056367332869890464, 0.056367332869890464, 0.056367332869890464, 0.056367332869890464, 0.05568300711085631, 0.05568300711085631, 0.05568300711085631, 0.05568300711085631, 0.05568300711085631, 0.05568300711085631, 0.05568300711085631, 0.05568300711085631, 0.05568300711085631, 0.05568300711085631, 0.05568300711085631, 0.05568300711085631, 0.05568300711085631, 0.05568300711085631, 0.05568300711085631, 0.05568300711085631, 0.05568300711085631, 0.05568300711085631, 0.05568300711085631, 0.05568300711085631, 0.05667115165940865, 0.05667115165940865, 0.05667115165940865, 0.05667115165940865, 0.05667115165940865, 0.05667115165940865, 0.05667115165940865, 0.05667115165940865, 0.05667115165940865, 0.05667115165940865, 0.05667115165940865, 0.05667115165940865, 0.05667115165940865, 0.05667115165940865, 0.05667115165940865, 0.05667115165940865, 0.05667115165940865, 0.05667115165940865, 0.05667115165940865, 0.05667115165940865, 0.05653900483891635, 0.05653900483891635, 0.05653900483891635, 0.05653900483891635, 0.05653900483891635, 0.05653900483891635, 0.05653900483891635, 0.05653900483891635, 0.05653900483891635, 0.05653900483891635, 0.05653900483891635, 0.05653900483891635, 0.05653900483891635, 0.05653900483891635, 0.05653900483891635, 0.05653900483891635, 0.05653900483891635, 0.05653900483891635, 0.05653900483891635, 0.05653900483891635, 0.057158121953461476, 0.057158121953461476, 0.057158121953461476, 0.057158121953461476, 0.057158121953461476, 0.057158121953461476, 0.057158121953461476, 0.057158121953461476, 0.057158121953461476, 0.057158121953461476, 0.057158121953461476, 0.057158121953461476, 0.057158121953461476, 0.057158121953461476, 0.057158121953461476, 0.057158121953461476, 0.057158121953461476, 0.057158121953461476, 0.057158121953461476, 0.057158121953461476, 0.055196573266705067, 0.055196573266705067, 0.055196573266705067, 0.055196573266705067, 0.055196573266705067, 0.055196573266705067, 0.055196573266705067, 0.055196573266705067, 0.055196573266705067, 0.055196573266705067, 0.055196573266705067, 0.055196573266705067, 0.055196573266705067, 0.055196573266705067, 0.055196573266705067, 0.055196573266705067, 0.055196573266705067, 0.055196573266705067, 0.055196573266705067, 0.055196573266705067, 0.05565017141835631, 0.05565017141835631, 0.05565017141835631, 0.05565017141835631, 0.05565017141835631, 0.05565017141835631, 0.05565017141835631, 0.05565017141835631, 0.05565017141835631, 0.05565017141835631, 0.05565017141835631, 0.05565017141835631, 0.05565017141835631, 0.05565017141835631, 0.05565017141835631, 0.05565017141835631, 0.05565017141835631, 0.05565017141835631, 0.05565017141835631, 0.05565017141835631, 0.05508922451293524, 0.05508922451293524, 0.05508922451293524, 0.05508922451293524, 0.05508922451293524, 0.05508922451293524, 0.05508922451293524, 0.05508922451293524, 0.05508922451293524, 0.05508922451293524, 0.05508922451293524, 0.05508922451293524, 0.05508922451293524, 0.05508922451293524, 0.05508922451293524, 0.05508922451293524, 0.05508922451293524, 0.05508922451293524, 0.05508922451293524, 0.05508922451293524, 0.055436881302783916, 0.055436881302783916, 0.055436881302783916, 0.055436881302783916, 0.055436881302783916, 0.055436881302783916, 0.055436881302783916, 0.055436881302783916, 0.055436881302783916, 0.055436881302783916, 0.055436881302783916, 0.055436881302783916, 0.055436881302783916, 0.055436881302783916, 0.055436881302783916, 0.055436881302783916, 0.055436881302783916, 0.055436881302783916, 0.055436881302783916, 0.055436881302783916, 0.05590246219504873, 0.05590246219504873, 0.05590246219504873, 0.05590246219504873, 0.05590246219504873, 0.05590246219504873, 0.05590246219504873, 0.05590246219504873, 0.05590246219504873, 0.05590246219504873, 0.05590246219504873, 0.05590246219504873, 0.05590246219504873, 0.05590246219504873, 0.05590246219504873, 0.05590246219504873, 0.05590246219504873, 0.05590246219504873, 0.05590246219504873, 0.05590246219504873, 0.054807904429995634, 0.054807904429995634, 0.054807904429995634, 0.054807904429995634, 0.054807904429995634, 0.054807904429995634, 0.054807904429995634, 0.054807904429995634, 0.054807904429995634, 0.054807904429995634, 0.054807904429995634, 0.054807904429995634, 0.054807904429995634, 0.054807904429995634, 0.054807904429995634, 0.054807904429995634, 0.054807904429995634, 0.054807904429995634, 0.054807904429995634, 0.054807904429995634, 0.056485472391976044, 0.056485472391976044, 0.056485472391976044, 0.056485472391976044, 0.056485472391976044, 0.056485472391976044, 0.056485472391976044, 0.056485472391976044, 0.056485472391976044, 0.056485472391976044, 0.056485472391976044, 0.056485472391976044, 0.056485472391976044, 0.056485472391976044, 0.056485472391976044, 0.056485472391976044, 0.056485472391976044, 0.056485472391976044, 0.056485472391976044, 0.056485472391976044, 0.05574301037586123, 0.05574301037586123, 0.05574301037586123, 0.05574301037586123, 0.05574301037586123, 0.05574301037586123, 0.05574301037586123, 0.05574301037586123, 0.05574301037586123, 0.05574301037586123, 0.05574301037586123, 0.05574301037586123, 0.05574301037586123, 0.05574301037586123, 0.05574301037586123, 0.05574301037586123, 0.05574301037586123, 0.05574301037586123, 0.05574301037586123, 0.05574301037586123, 0.05648018949120025, 0.05648018949120025, 0.05648018949120025, 0.05648018949120025, 0.05648018949120025, 0.05648018949120025, 0.05648018949120025, 0.05648018949120025, 0.05648018949120025, 0.05648018949120025, 0.05648018949120025, 0.05648018949120025, 0.05648018949120025, 0.05648018949120025, 0.05648018949120025, 0.05648018949120025, 0.05648018949120025, 0.05648018949120025, 0.05648018949120025, 0.05648018949120025, 0.05525635656104819, 0.05525635656104819, 0.05525635656104819, 0.05525635656104819, 0.05525635656104819, 0.05525635656104819, 0.05525635656104819, 0.05525635656104819, 0.05525635656104819, 0.05525635656104819, 0.05525635656104819, 0.05525635656104819, 0.05525635656104819, 0.05525635656104819, 0.05525635656104819, 0.05525635656104819, 0.05525635656104819, 0.05525635656104819, 0.05525635656104819, 0.05525635656104819, 0.05703460381169909, 0.05703460381169909, 0.05703460381169909, 0.05703460381169909, 0.05703460381169909, 0.05703460381169909, 0.05703460381169909, 0.05703460381169909, 0.05703460381169909, 0.05703460381169909, 0.05703460381169909, 0.05703460381169909, 0.05703460381169909, 0.05703460381169909, 0.05703460381169909, 0.05703460381169909, 0.05703460381169909, 0.05703460381169909, 0.05703460381169909, 0.05703460381169909, 0.05624721933174607, 0.05624721933174607, 0.05624721933174607, 0.05624721933174607, 0.05624721933174607, 0.05624721933174607, 0.05624721933174607, 0.05624721933174607, 0.05624721933174607, 0.05624721933174607, 0.05624721933174607, 0.05624721933174607, 0.05624721933174607, 0.05624721933174607, 0.05624721933174607, 0.05624721933174607, 0.05624721933174607, 0.05624721933174607, 0.05624721933174607, 0.05624721933174607, 0.05595648720275164, 0.05595648720275164, 0.05595648720275164, 0.05595648720275164, 0.05595648720275164, 0.05595648720275164, 0.05595648720275164, 0.05595648720275164, 0.05595648720275164, 0.05595648720275164, 0.05595648720275164, 0.05595648720275164, 0.05595648720275164, 0.05595648720275164, 0.05595648720275164, 0.05595648720275164, 0.05595648720275164, 0.05595648720275164, 0.05595648720275164, 0.05595648720275164, 0.05468653936324876, 0.05468653936324876, 0.05468653936324876, 0.05468653936324876, 0.05468653936324876, 0.05468653936324876, 0.05468653936324876, 0.05468653936324876, 0.05468653936324876, 0.05468653936324876, 0.05468653936324876, 0.05468653936324876, 0.05468653936324876, 0.05468653936324876, 0.05468653936324876, 0.05468653936324876, 0.05468653936324876, 0.05468653936324876, 0.05468653936324876, 0.05468653936324876, 0.05502628773052778, 0.05502628773052778, 0.05502628773052778, 0.05502628773052778, 0.05502628773052778, 0.05502628773052778, 0.05502628773052778, 0.05502628773052778, 0.05502628773052778, 0.05502628773052778, 0.05502628773052778, 0.05502628773052778, 0.05502628773052778, 0.05502628773052778, 0.05502628773052778, 0.05502628773052778, 0.05502628773052778, 0.05502628773052778, 0.05502628773052778, 0.05502628773052778, 0.05631820060389811, 0.05631820060389811, 0.05631820060389811, 0.05631820060389811, 0.05631820060389811, 0.05631820060389811, 0.05631820060389811, 0.05631820060389811, 0.05631820060389811, 0.05631820060389811, 0.05631820060389811, 0.05631820060389811, 0.05631820060389811, 0.05631820060389811, 0.05631820060389811, 0.05631820060389811, 0.05631820060389811, 0.05631820060389811, 0.05631820060389811, 0.05631820060389811, 0.05624186727359003, 0.05624186727359003, 0.05624186727359003, 0.05624186727359003, 0.05624186727359003, 0.05624186727359003, 0.05624186727359003, 0.05624186727359003, 0.05624186727359003, 0.05624186727359003, 0.05624186727359003, 0.05624186727359003, 0.05624186727359003, 0.05624186727359003, 0.05624186727359003, 0.05624186727359003, 0.05624186727359003, 0.05624186727359003, 0.05624186727359003, 0.05624186727359003, 0.05546653542332236, 0.05546653542332236, 0.05546653542332236, 0.05546653542332236, 0.05546653542332236, 0.05546653542332236, 0.05546653542332236, 0.05546653542332236, 0.05546653542332236, 0.05546653542332236, 0.05546653542332236, 0.05546653542332236, 0.05546653542332236, 0.05546653542332236, 0.05546653542332236, 0.05546653542332236, 0.05546653542332236, 0.05546653542332236, 0.05546653542332236, 0.05546653542332236, 0.056407319175954276, 0.056407319175954276, 0.056407319175954276, 0.056407319175954276, 0.056407319175954276, 0.056407319175954276, 0.056407319175954276, 0.056407319175954276, 0.056407319175954276, 0.056407319175954276, 0.056407319175954276, 0.056407319175954276, 0.056407319175954276, 0.056407319175954276, 0.056407319175954276, 0.056407319175954276, 0.056407319175954276, 0.056407319175954276, 0.056407319175954276, 0.056407319175954276, 0.05678661437359362, 0.05678661437359362, 0.05678661437359362, 0.05678661437359362, 0.05678661437359362, 0.05678661437359362, 0.05678661437359362, 0.05678661437359362, 0.05678661437359362, 0.05678661437359362, 0.05678661437359362, 0.05678661437359362, 0.05678661437359362, 0.05678661437359362, 0.05678661437359362, 0.05678661437359362, 0.05678661437359362, 0.05678661437359362, 0.05678661437359362, 0.05678661437359362, 0.056405207797687915, 0.056405207797687915, 0.056405207797687915, 0.056405207797687915, 0.056405207797687915, 0.056405207797687915, 0.056405207797687915, 0.056405207797687915, 0.056405207797687915, 0.056405207797687915, 0.056405207797687915, 0.056405207797687915, 0.056405207797687915, 0.056405207797687915, 0.056405207797687915, 0.056405207797687915, 0.056405207797687915, 0.056405207797687915, 0.056405207797687915, 0.056405207797687915, 0.056421265765265995, 0.056421265765265995, 0.056421265765265995, 0.056421265765265995, 0.056421265765265995, 0.056421265765265995, 0.056421265765265995, 0.056421265765265995, 0.056421265765265995, 0.056421265765265995, 0.056421265765265995, 0.056421265765265995, 0.056421265765265995, 0.056421265765265995, 0.056421265765265995, 0.056421265765265995, 0.056421265765265995, 0.056421265765265995, 0.056421265765265995, 0.056421265765265995, 0.05665418107087826, 0.05665418107087826, 0.05665418107087826, 0.05665418107087826, 0.05665418107087826, 0.05665418107087826, 0.05665418107087826, 0.05665418107087826, 0.05665418107087826, 0.05665418107087826, 0.05665418107087826, 0.05665418107087826, 0.05665418107087826, 0.05665418107087826, 0.05665418107087826, 0.05665418107087826, 0.05665418107087826, 0.05665418107087826, 0.05665418107087826, 0.05665418107087826, 0.05660923223457618, 0.05660923223457618, 0.05660923223457618, 0.05660923223457618, 0.05660923223457618, 0.05660923223457618, 0.05660923223457618, 0.05660923223457618, 0.05660923223457618, 0.05660923223457618, 0.05660923223457618, 0.05660923223457618, 0.05660923223457618, 0.05660923223457618, 0.05660923223457618, 0.05660923223457618, 0.05660923223457618, 0.05660923223457618, 0.05660923223457618, 0.05660923223457618, 0.055756534830990155, 0.055756534830990155, 0.055756534830990155, 0.055756534830990155, 0.055756534830990155, 0.055756534830990155, 0.055756534830990155, 0.055756534830990155, 0.055756534830990155, 0.055756534830990155, 0.055756534830990155, 0.055756534830990155, 0.055756534830990155, 0.055756534830990155, 0.055756534830990155, 0.055756534830990155, 0.055756534830990155, 0.055756534830990155, 0.055756534830990155, 0.055756534830990155, 0.05695287283714085, 0.05695287283714085, 0.05695287283714085, 0.05695287283714085, 0.05695287283714085, 0.05695287283714085, 0.05695287283714085, 0.05695287283714085, 0.05695287283714085, 0.05695287283714085, 0.05695287283714085, 0.05695287283714085, 0.05695287283714085, 0.05695287283714085, 0.05695287283714085, 0.05695287283714085, 0.05695287283714085, 0.05695287283714085, 0.05695287283714085, 0.05695287283714085, 0.05638529819849107, 0.05638529819849107, 0.05638529819849107, 0.05638529819849107, 0.05638529819849107, 0.05638529819849107, 0.05638529819849107, 0.05638529819849107, 0.05638529819849107, 0.05638529819849107, 0.05638529819849107, 0.05638529819849107, 0.05638529819849107, 0.05638529819849107, 0.05638529819849107, 0.05638529819849107, 0.05638529819849107, 0.05638529819849107, 0.05638529819849107, 0.05638529819849107, 0.056907526780363225, 0.056907526780363225, 0.056907526780363225, 0.056907526780363225, 0.056907526780363225, 0.056907526780363225, 0.056907526780363225, 0.056907526780363225, 0.056907526780363225, 0.056907526780363225, 0.056907526780363225, 0.056907526780363225, 0.056907526780363225, 0.056907526780363225, 0.056907526780363225, 0.056907526780363225, 0.056907526780363225, 0.056907526780363225, 0.056907526780363225, 0.056907526780363225, 0.055619827639954406, 0.055619827639954406, 0.055619827639954406, 0.055619827639954406, 0.055619827639954406, 0.055619827639954406, 0.055619827639954406, 0.055619827639954406, 0.055619827639954406, 0.055619827639954406, 0.055619827639954406, 0.055619827639954406, 0.055619827639954406, 0.055619827639954406, 0.055619827639954406, 0.055619827639954406, 0.055619827639954406, 0.055619827639954406, 0.055619827639954406, 0.055619827639954406, 0.057153805636526916, 0.057153805636526916, 0.057153805636526916, 0.057153805636526916, 0.057153805636526916, 0.057153805636526916, 0.057153805636526916, 0.057153805636526916, 0.057153805636526916, 0.057153805636526916, 0.057153805636526916, 0.057153805636526916, 0.057153805636526916, 0.057153805636526916, 0.057153805636526916, 0.057153805636526916, 0.057153805636526916, 0.057153805636526916, 0.057153805636526916, 0.057153805636526916, 0.05541560257377978, 0.05541560257377978, 0.05541560257377978, 0.05541560257377978, 0.05541560257377978, 0.05541560257377978, 0.05541560257377978, 0.05541560257377978, 0.05541560257377978, 0.05541560257377978, 0.05541560257377978, 0.05541560257377978, 0.05541560257377978, 0.05541560257377978, 0.05541560257377978, 0.05541560257377978, 0.05541560257377978, 0.05541560257377978, 0.05541560257377978, 0.05541560257377978, 0.056325159037334566, 0.056325159037334566, 0.056325159037334566, 0.056325159037334566, 0.056325159037334566, 0.056325159037334566, 0.056325159037334566, 0.056325159037334566, 0.056325159037334566, 0.056325159037334566, 0.056325159037334566, 0.056325159037334566, 0.056325159037334566, 0.056325159037334566, 0.056325159037334566, 0.056325159037334566, 0.056325159037334566, 0.056325159037334566, 0.056325159037334566, 0.056325159037334566, 0.05680980628613239, 0.05680980628613239, 0.05680980628613239, 0.05680980628613239, 0.05680980628613239, 0.05680980628613239, 0.05680980628613239, 0.05680980628613239, 0.05680980628613239, 0.05680980628613239, 0.05680980628613239, 0.05680980628613239, 0.05680980628613239, 0.05680980628613239, 0.05680980628613239, 0.05680980628613239, 0.05680980628613239, 0.05680980628613239, 0.05680980628613239, 0.05680980628613239, 0.05580899410331307, 0.05580899410331307, 0.05580899410331307, 0.05580899410331307, 0.05580899410331307, 0.05580899410331307, 0.05580899410331307, 0.05580899410331307, 0.05580899410331307, 0.05580899410331307, 0.05580899410331307, 0.05580899410331307, 0.05580899410331307, 0.05580899410331307, 0.05580899410331307, 0.05580899410331307, 0.05580899410331307, 0.05580899410331307, 0.05580899410331307, 0.05580899410331307, 0.055011732739800055, 0.055011732739800055, 0.055011732739800055, 0.055011732739800055, 0.055011732739800055, 0.055011732739800055, 0.055011732739800055, 0.055011732739800055, 0.055011732739800055, 0.055011732739800055, 0.055011732739800055, 0.055011732739800055, 0.055011732739800055, 0.055011732739800055, 0.055011732739800055, 0.055011732739800055, 0.055011732739800055, 0.055011732739800055, 0.055011732739800055, 0.055011732739800055, 0.05670716604018992, 0.05670716604018992, 0.05670716604018992, 0.05670716604018992, 0.05670716604018992, 0.05670716604018992, 0.05670716604018992, 0.05670716604018992, 0.05670716604018992, 0.05670716604018992, 0.05670716604018992, 0.05670716604018992, 0.05670716604018992, 0.05670716604018992, 0.05670716604018992, 0.05670716604018992, 0.05670716604018992, 0.05670716604018992, 0.05670716604018992, 0.05670716604018992, 0.05617278398312533, 0.05617278398312533, 0.05617278398312533, 0.05617278398312533, 0.05617278398312533, 0.05617278398312533, 0.05617278398312533, 0.05617278398312533, 0.05617278398312533, 0.05617278398312533, 0.05617278398312533, 0.05617278398312533, 0.05617278398312533, 0.05617278398312533, 0.05617278398312533, 0.05617278398312533, 0.05617278398312533, 0.05617278398312533, 0.05617278398312533, 0.05617278398312533, 0.05552128946140263, 0.05552128946140263, 0.05552128946140263, 0.05552128946140263, 0.05552128946140263, 0.05552128946140263, 0.05552128946140263, 0.05552128946140263, 0.05552128946140263, 0.05552128946140263, 0.05552128946140263, 0.05552128946140263, 0.05552128946140263, 0.05552128946140263, 0.05552128946140263, 0.05552128946140263, 0.05552128946140263, 0.05552128946140263, 0.05552128946140263, 0.05552128946140263, 0.05592057449202992, 0.05592057449202992, 0.05592057449202992, 0.05592057449202992, 0.05592057449202992, 0.05592057449202992, 0.05592057449202992, 0.05592057449202992, 0.05592057449202992, 0.05592057449202992, 0.05592057449202992, 0.05592057449202992, 0.05592057449202992, 0.05592057449202992, 0.05592057449202992, 0.05592057449202992, 0.05592057449202992, 0.05592057449202992, 0.05592057449202992, 0.05592057449202992, 0.05558281092523526, 0.05558281092523526, 0.05558281092523526, 0.05558281092523526, 0.05558281092523526, 0.05558281092523526, 0.05558281092523526, 0.05558281092523526, 0.05558281092523526, 0.05558281092523526, 0.05558281092523526, 0.05558281092523526, 0.05558281092523526, 0.05558281092523526, 0.05558281092523526, 0.05558281092523526, 0.05558281092523526, 0.05558281092523526, 0.05558281092523526, 0.05558281092523526, 0.05673313031520472, 0.05673313031520472, 0.05673313031520472, 0.05673313031520472, 0.05673313031520472, 0.05673313031520472, 0.05673313031520472, 0.05673313031520472, 0.05673313031520472, 0.05673313031520472, 0.05673313031520472, 0.05673313031520472, 0.05673313031520472, 0.05673313031520472, 0.05673313031520472, 0.05673313031520472, 0.05673313031520472, 0.05673313031520472, 0.05673313031520472, 0.05673313031520472, 0.05723024307643143, 0.05723024307643143, 0.05723024307643143, 0.05723024307643143, 0.05723024307643143, 0.05723024307643143, 0.05723024307643143, 0.05723024307643143, 0.05723024307643143, 0.05723024307643143, 0.05723024307643143, 0.05723024307643143, 0.05723024307643143, 0.05723024307643143, 0.05723024307643143, 0.05723024307643143, 0.05723024307643143, 0.05723024307643143, 0.05723024307643143, 0.05723024307643143, 0.05626603578917457, 0.05626603578917457, 0.05626603578917457, 0.05626603578917457, 0.05626603578917457, 0.05626603578917457, 0.05626603578917457, 0.05626603578917457, 0.05626603578917457, 0.05626603578917457, 0.05626603578917457, 0.05626603578917457, 0.05626603578917457, 0.05626603578917457, 0.05626603578917457, 0.05626603578917457, 0.05626603578917457, 0.05626603578917457, 0.05626603578917457, 0.05626603578917457, 0.056961040463298036, 0.056961040463298036, 0.056961040463298036, 0.056961040463298036, 0.056961040463298036, 0.056961040463298036, 0.056961040463298036, 0.056961040463298036, 0.056961040463298036, 0.056961040463298036, 0.056961040463298036, 0.056961040463298036, 0.056961040463298036, 0.056961040463298036, 0.056961040463298036, 0.056961040463298036, 0.056961040463298036, 0.056961040463298036, 0.056961040463298036, 0.056961040463298036, 0.05630362265198493, 0.05630362265198493, 0.05630362265198493, 0.05630362265198493, 0.05630362265198493, 0.05630362265198493, 0.05630362265198493, 0.05630362265198493, 0.05630362265198493, 0.05630362265198493, 0.05630362265198493, 0.05630362265198493, 0.05630362265198493, 0.05630362265198493, 0.05630362265198493, 0.05630362265198493, 0.05630362265198493, 0.05630362265198493, 0.05630362265198493, 0.05630362265198493, 0.056555216863064334, 0.056555216863064334, 0.056555216863064334, 0.056555216863064334, 0.056555216863064334, 0.056555216863064334, 0.056555216863064334, 0.056555216863064334, 0.056555216863064334, 0.056555216863064334, 0.056555216863064334, 0.056555216863064334, 0.056555216863064334, 0.056555216863064334, 0.056555216863064334, 0.056555216863064334, 0.056555216863064334, 0.056555216863064334, 0.056555216863064334, 0.056555216863064334, 0.05616553064311733, 0.05616553064311733, 0.05616553064311733, 0.05616553064311733, 0.05616553064311733, 0.05616553064311733, 0.05616553064311733, 0.05616553064311733, 0.05616553064311733, 0.05616553064311733, 0.05616553064311733, 0.05616553064311733, 0.05616553064311733, 0.05616553064311733, 0.05616553064311733, 0.05616553064311733, 0.05616553064311733, 0.05616553064311733, 0.05616553064311733, 0.05616553064311733, 0.05557111486034118, 0.05557111486034118, 0.05557111486034118, 0.05557111486034118, 0.05557111486034118, 0.05557111486034118, 0.05557111486034118, 0.05557111486034118, 0.05557111486034118, 0.05557111486034118, 0.05557111486034118, 0.05557111486034118, 0.05557111486034118, 0.05557111486034118, 0.05557111486034118, 0.05557111486034118, 0.05557111486034118, 0.05557111486034118, 0.05557111486034118, 0.05557111486034118, 0.05722953126945059, 0.05722953126945059, 0.05722953126945059, 0.05722953126945059, 0.05722953126945059, 0.05722953126945059, 0.05722953126945059, 0.05722953126945059, 0.05722953126945059, 0.05722953126945059, 0.05722953126945059, 0.05722953126945059, 0.05722953126945059, 0.05722953126945059, 0.05722953126945059, 0.05722953126945059, 0.05722953126945059, 0.05722953126945059, 0.05722953126945059, 0.05722953126945059, 0.05618221129821651, 0.05618221129821651, 0.05618221129821651, 0.05618221129821651, 0.05618221129821651, 0.05618221129821651, 0.05618221129821651, 0.05618221129821651, 0.05618221129821651, 0.05618221129821651, 0.05618221129821651, 0.05618221129821651, 0.05618221129821651, 0.05618221129821651, 0.05618221129821651, 0.05618221129821651, 0.05618221129821651, 0.05618221129821651, 0.05618221129821651, 0.05618221129821651, 0.05569612533760801, 0.05569612533760801, 0.05569612533760801, 0.05569612533760801, 0.05569612533760801, 0.05569612533760801, 0.05569612533760801, 0.05569612533760801, 0.05569612533760801, 0.05569612533760801, 0.05569612533760801, 0.05569612533760801, 0.05569612533760801, 0.05569612533760801, 0.05569612533760801, 0.05569612533760801, 0.05569612533760801, 0.05569612533760801, 0.05569612533760801, 0.05569612533760801, 0.055829502504222896, 0.055829502504222896, 0.055829502504222896, 0.055829502504222896, 0.055829502504222896, 0.055829502504222896, 0.055829502504222896, 0.055829502504222896, 0.055829502504222896, 0.055829502504222896, 0.055829502504222896, 0.055829502504222896, 0.055829502504222896, 0.055829502504222896, 0.055829502504222896, 0.055829502504222896, 0.055829502504222896, 0.055829502504222896, 0.055829502504222896, 0.055829502504222896, 0.05666787359666718, 0.05666787359666718, 0.05666787359666718, 0.05666787359666718, 0.05666787359666718, 0.05666787359666718, 0.05666787359666718, 0.05666787359666718, 0.05666787359666718, 0.05666787359666718, 0.05666787359666718, 0.05666787359666718, 0.05666787359666718, 0.05666787359666718, 0.05666787359666718, 0.05666787359666718, 0.05666787359666718, 0.05666787359666718, 0.05666787359666718, 0.05666787359666718, 0.05605052425790295, 0.05605052425790295, 0.05605052425790295, 0.05605052425790295, 0.05605052425790295, 0.05605052425790295, 0.05605052425790295, 0.05605052425790295, 0.05605052425790295, 0.05605052425790295, 0.05605052425790295, 0.05605052425790295, 0.05605052425790295, 0.05605052425790295, 0.05605052425790295, 0.05605052425790295, 0.05605052425790295, 0.05605052425790295, 0.05605052425790295, 0.05605052425790295, 0.056269954882587625, 0.056269954882587625, 0.056269954882587625, 0.056269954882587625, 0.056269954882587625, 0.056269954882587625, 0.056269954882587625, 0.056269954882587625, 0.056269954882587625, 0.056269954882587625, 0.056269954882587625, 0.056269954882587625, 0.056269954882587625, 0.056269954882587625, 0.056269954882587625, 0.056269954882587625, 0.056269954882587625, 0.056269954882587625, 0.056269954882587625, 0.056269954882587625, 0.05588197462145754, 0.05588197462145754, 0.05588197462145754, 0.05588197462145754, 0.05588197462145754, 0.05588197462145754, 0.05588197462145754, 0.05588197462145754, 0.05588197462145754, 0.05588197462145754, 0.05588197462145754, 0.05588197462145754, 0.05588197462145754, 0.05588197462145754, 0.05588197462145754, 0.05588197462145754, 0.05588197462145754, 0.05588197462145754, 0.05588197462145754, 0.05588197462145754, 0.05508772516581872, 0.05508772516581872, 0.05508772516581872, 0.05508772516581872, 0.05508772516581872, 0.05508772516581872, 0.05508772516581872, 0.05508772516581872, 0.05508772516581872, 0.05508772516581872, 0.05508772516581872, 0.05508772516581872, 0.05508772516581872, 0.05508772516581872, 0.05508772516581872, 0.05508772516581872, 0.05508772516581872, 0.05508772516581872, 0.05508772516581872, 0.05508772516581872, 0.05530262799414802, 0.05530262799414802, 0.05530262799414802, 0.05530262799414802, 0.05530262799414802, 0.05530262799414802, 0.05530262799414802, 0.05530262799414802, 0.05530262799414802, 0.05530262799414802, 0.05530262799414802, 0.05530262799414802, 0.05530262799414802, 0.05530262799414802, 0.05530262799414802, 0.05530262799414802, 0.05530262799414802, 0.05530262799414802, 0.05530262799414802, 0.05530262799414802, 0.05631881757572374, 0.05631881757572374, 0.05631881757572374, 0.05631881757572374, 0.05631881757572374, 0.05631881757572374, 0.05631881757572374, 0.05631881757572374, 0.05631881757572374, 0.05631881757572374, 0.05631881757572374, 0.05631881757572374, 0.05631881757572374, 0.05631881757572374, 0.05631881757572374, 0.05631881757572374, 0.05631881757572374, 0.05631881757572374, 0.05631881757572374, 0.05631881757572374, 0.0560988849021545, 0.0560988849021545, 0.0560988849021545, 0.0560988849021545, 0.0560988849021545, 0.0560988849021545, 0.0560988849021545, 0.0560988849021545, 0.0560988849021545, 0.0560988849021545, 0.0560988849021545, 0.0560988849021545, 0.0560988849021545, 0.0560988849021545, 0.0560988849021545, 0.0560988849021545, 0.0560988849021545, 0.0560988849021545, 0.0560988849021545, 0.0560988849021545, 0.05535990967089387, 0.05535990967089387, 0.05535990967089387, 0.05535990967089387, 0.05535990967089387, 0.05535990967089387, 0.05535990967089387, 0.05535990967089387, 0.05535990967089387, 0.05535990967089387, 0.05535990967089387, 0.05535990967089387, 0.05535990967089387, 0.05535990967089387, 0.05535990967089387, 0.05535990967089387, 0.05535990967089387, 0.05535990967089387, 0.05535990967089387, 0.05535990967089387, 0.05686483387382706, 0.05686483387382706, 0.05686483387382706, 0.05686483387382706, 0.05686483387382706, 0.05686483387382706, 0.05686483387382706, 0.05686483387382706, 0.05686483387382706, 0.05686483387382706, 0.05686483387382706, 0.05686483387382706, 0.05686483387382706, 0.05686483387382706, 0.05686483387382706, 0.05686483387382706, 0.05686483387382706, 0.05686483387382706, 0.05686483387382706, 0.05686483387382706, 0.05574736376642233, 0.05574736376642233, 0.05574736376642233, 0.05574736376642233, 0.05574736376642233, 0.05574736376642233, 0.05574736376642233, 0.05574736376642233, 0.05574736376642233, 0.05574736376642233, 0.05574736376642233, 0.05574736376642233, 0.05574736376642233, 0.05574736376642233, 0.05574736376642233, 0.05574736376642233, 0.05574736376642233, 0.05574736376642233, 0.05574736376642233, 0.05574736376642233, 0.05572044329755883, 0.05572044329755883, 0.05572044329755883, 0.05572044329755883, 0.05572044329755883, 0.05572044329755883, 0.05572044329755883, 0.05572044329755883, 0.05572044329755883, 0.05572044329755883, 0.05572044329755883, 0.05572044329755883, 0.05572044329755883, 0.05572044329755883, 0.05572044329755883, 0.05572044329755883, 0.05572044329755883, 0.05572044329755883, 0.05572044329755883, 0.05572044329755883, 0.05543433227464133, 0.05543433227464133, 0.05543433227464133, 0.05543433227464133, 0.05543433227464133, 0.05543433227464133, 0.05543433227464133, 0.05543433227464133, 0.05543433227464133, 0.05543433227464133, 0.05543433227464133, 0.05543433227464133, 0.05543433227464133, 0.05543433227464133, 0.05543433227464133, 0.05543433227464133, 0.05543433227464133, 0.05543433227464133, 0.05543433227464133, 0.05543433227464133, 0.05647367378008172, 0.05647367378008172, 0.05647367378008172, 0.05647367378008172, 0.05647367378008172, 0.05647367378008172, 0.05647367378008172, 0.05647367378008172, 0.05647367378008172, 0.05647367378008172, 0.05647367378008172, 0.05647367378008172, 0.05647367378008172, 0.05647367378008172, 0.05647367378008172, 0.05647367378008172, 0.05647367378008172, 0.05647367378008172, 0.05647367378008172, 0.05647367378008172, 0.05638453612515295, 0.05638453612515295, 0.05638453612515295, 0.05638453612515295, 0.05638453612515295, 0.05638453612515295, 0.05638453612515295, 0.05638453612515295, 0.05638453612515295, 0.05638453612515295, 0.05638453612515295, 0.05638453612515295, 0.05638453612515295, 0.05638453612515295, 0.05638453612515295, 0.05638453612515295, 0.05638453612515295, 0.05638453612515295, 0.05638453612515295, 0.05638453612515295, 0.055884498047808456, 0.055884498047808456, 0.055884498047808456, 0.055884498047808456, 0.055884498047808456, 0.055884498047808456, 0.055884498047808456, 0.055884498047808456, 0.055884498047808456, 0.055884498047808456, 0.055884498047808456, 0.055884498047808456, 0.055884498047808456, 0.055884498047808456, 0.055884498047808456, 0.055884498047808456, 0.055884498047808456, 0.055884498047808456, 0.055884498047808456, 0.055884498047808456, 0.05613321670358479, 0.05613321670358479, 0.05613321670358479, 0.05613321670358479, 0.05613321670358479, 0.05613321670358479, 0.05613321670358479, 0.05613321670358479, 0.05613321670358479, 0.05613321670358479, 0.05613321670358479, 0.05613321670358479, 0.05613321670358479, 0.05613321670358479, 0.05613321670358479, 0.05613321670358479, 0.05613321670358479, 0.05613321670358479, 0.05613321670358479, 0.05613321670358479, 0.05522875679877961, 0.05522875679877961, 0.05522875679877961, 0.05522875679877961, 0.05522875679877961, 0.05522875679877961, 0.05522875679877961, 0.05522875679877961, 0.05522875679877961, 0.05522875679877961, 0.05522875679877961, 0.05522875679877961, 0.05522875679877961, 0.05522875679877961, 0.05522875679877961, 0.05522875679877961, 0.05522875679877961, 0.05522875679877961, 0.05522875679877961, 0.05522875679877961, 0.057111954899644324, 0.057111954899644324, 0.057111954899644324, 0.057111954899644324, 0.057111954899644324, 0.057111954899644324, 0.057111954899644324, 0.057111954899644324, 0.057111954899644324, 0.057111954899644324, 0.057111954899644324, 0.057111954899644324, 0.057111954899644324, 0.057111954899644324, 0.057111954899644324, 0.057111954899644324, 0.057111954899644324, 0.057111954899644324, 0.057111954899644324, 0.057111954899644324, 0.055172360712051324, 0.055172360712051324, 0.055172360712051324, 0.055172360712051324, 0.055172360712051324, 0.055172360712051324, 0.055172360712051324, 0.055172360712051324, 0.055172360712051324, 0.055172360712051324, 0.055172360712051324, 0.055172360712051324, 0.055172360712051324, 0.055172360712051324, 0.055172360712051324, 0.055172360712051324, 0.055172360712051324, 0.055172360712051324, 0.055172360712051324, 0.055172360712051324, 0.05648529463120553, 0.05648529463120553, 0.05648529463120553, 0.05648529463120553, 0.05648529463120553, 0.05648529463120553, 0.05648529463120553, 0.05648529463120553, 0.05648529463120553, 0.05648529463120553, 0.05648529463120553, 0.05648529463120553, 0.05648529463120553, 0.05648529463120553, 0.05648529463120553, 0.05648529463120553, 0.05648529463120553, 0.05648529463120553, 0.05648529463120553, 0.05648529463120553, 0.056388384238217966, 0.056388384238217966, 0.056388384238217966, 0.056388384238217966, 0.056388384238217966, 0.056388384238217966, 0.056388384238217966, 0.056388384238217966, 0.056388384238217966, 0.056388384238217966, 0.056388384238217966, 0.056388384238217966, 0.056388384238217966, 0.056388384238217966, 0.056388384238217966, 0.056388384238217966, 0.056388384238217966, 0.056388384238217966, 0.056388384238217966, 0.056388384238217966, 0.0557205626535148, 0.0557205626535148, 0.0557205626535148, 0.0557205626535148, 0.0557205626535148, 0.0557205626535148, 0.0557205626535148, 0.0557205626535148, 0.0557205626535148, 0.0557205626535148, 0.0557205626535148, 0.0557205626535148, 0.0557205626535148, 0.0557205626535148, 0.0557205626535148, 0.0557205626535148, 0.0557205626535148, 0.0557205626535148, 0.0557205626535148, 0.0557205626535148, 0.055905573913017, 0.055905573913017, 0.055905573913017, 0.055905573913017, 0.055905573913017, 0.055905573913017, 0.055905573913017, 0.055905573913017, 0.055905573913017, 0.055905573913017, 0.055905573913017, 0.055905573913017, 0.055905573913017, 0.055905573913017, 0.055905573913017, 0.055905573913017, 0.055905573913017, 0.055905573913017, 0.055905573913017, 0.055905573913017, 0.056660827730289014, 0.056660827730289014, 0.056660827730289014, 0.056660827730289014, 0.056660827730289014, 0.056660827730289014, 0.056660827730289014, 0.056660827730289014, 0.056660827730289014, 0.056660827730289014, 0.056660827730289014, 0.056660827730289014, 0.056660827730289014, 0.056660827730289014, 0.056660827730289014, 0.056660827730289014, 0.056660827730289014, 0.056660827730289014, 0.056660827730289014, 0.056660827730289014, 0.05668748428661846, 0.05668748428661846, 0.05668748428661846, 0.05668748428661846, 0.05668748428661846, 0.05668748428661846, 0.05668748428661846, 0.05668748428661846, 0.05668748428661846, 0.05668748428661846, 0.05668748428661846, 0.05668748428661846, 0.05668748428661846, 0.05668748428661846, 0.05668748428661846, 0.05668748428661846, 0.05668748428661846, 0.05668748428661846, 0.05668748428661846, 0.05668748428661846, 0.056485878096301345, 0.056485878096301345, 0.056485878096301345, 0.056485878096301345, 0.056485878096301345, 0.056485878096301345, 0.056485878096301345, 0.056485878096301345, 0.056485878096301345, 0.056485878096301345, 0.056485878096301345, 0.056485878096301345, 0.056485878096301345, 0.056485878096301345, 0.056485878096301345, 0.056485878096301345, 0.056485878096301345, 0.056485878096301345, 0.056485878096301345, 0.056485878096301345, 0.05590272425344331, 0.05590272425344331, 0.05590272425344331, 0.05590272425344331, 0.05590272425344331, 0.05590272425344331, 0.05590272425344331, 0.05590272425344331, 0.05590272425344331, 0.05590272425344331, 0.05590272425344331, 0.05590272425344331, 0.05590272425344331, 0.05590272425344331, 0.05590272425344331, 0.05590272425344331, 0.05590272425344331, 0.05590272425344331, 0.05590272425344331, 0.05590272425344331, 0.05542874485022728, 0.05542874485022728, 0.05542874485022728, 0.05542874485022728, 0.05542874485022728, 0.05542874485022728, 0.05542874485022728, 0.05542874485022728, 0.05542874485022728, 0.05542874485022728, 0.05542874485022728, 0.05542874485022728, 0.05542874485022728, 0.05542874485022728, 0.05542874485022728, 0.05542874485022728, 0.05542874485022728, 0.05542874485022728, 0.05542874485022728, 0.05542874485022728, 0.05470697724961738, 0.05470697724961738, 0.05470697724961738, 0.05470697724961738, 0.05470697724961738, 0.05470697724961738, 0.05470697724961738, 0.05470697724961738, 0.05470697724961738, 0.05470697724961738, 0.05470697724961738, 0.05470697724961738, 0.05470697724961738, 0.05470697724961738, 0.05470697724961738, 0.05470697724961738, 0.05470697724961738, 0.05470697724961738, 0.05470697724961738, 0.05470697724961738, 0.05633819756133746, 0.05633819756133746, 0.05633819756133746, 0.05633819756133746, 0.05633819756133746, 0.05633819756133746, 0.05633819756133746, 0.05633819756133746, 0.05633819756133746, 0.05633819756133746, 0.05633819756133746, 0.05633819756133746, 0.05633819756133746, 0.05633819756133746, 0.05633819756133746, 0.05633819756133746, 0.05633819756133746, 0.05633819756133746, 0.05633819756133746, 0.05633819756133746, 0.05671898295502603, 0.05671898295502603, 0.05671898295502603, 0.05671898295502603, 0.05671898295502603, 0.05671898295502603, 0.05671898295502603, 0.05671898295502603, 0.05671898295502603, 0.05671898295502603, 0.05671898295502603, 0.05671898295502603, 0.05671898295502603, 0.05671898295502603, 0.05671898295502603, 0.05671898295502603, 0.05671898295502603, 0.05671898295502603, 0.05671898295502603, 0.05671898295502603, 0.05614153527023916, 0.05614153527023916, 0.05614153527023916, 0.05614153527023916, 0.05614153527023916, 0.05614153527023916, 0.05614153527023916, 0.05614153527023916, 0.05614153527023916, 0.05614153527023916, 0.05614153527023916, 0.05614153527023916, 0.05614153527023916, 0.05614153527023916, 0.05614153527023916, 0.05614153527023916, 0.05614153527023916, 0.05614153527023916, 0.05614153527023916, 0.05614153527023916, 0.05671923313874917, 0.05671923313874917, 0.05671923313874917, 0.05671923313874917, 0.05671923313874917, 0.05671923313874917, 0.05671923313874917, 0.05671923313874917, 0.05671923313874917, 0.05671923313874917, 0.05671923313874917, 0.05671923313874917, 0.05671923313874917, 0.05671923313874917, 0.05671923313874917, 0.05671923313874917, 0.05671923313874917, 0.05671923313874917, 0.05671923313874917, 0.05671923313874917, 0.05739633801761862, 0.05739633801761862, 0.05739633801761862, 0.05739633801761862, 0.05739633801761862, 0.05739633801761862, 0.05739633801761862, 0.05739633801761862, 0.05739633801761862, 0.05739633801761862, 0.05739633801761862, 0.05739633801761862, 0.05739633801761862, 0.05739633801761862, 0.05739633801761862, 0.05739633801761862, 0.05739633801761862, 0.05739633801761862, 0.05739633801761862, 0.05739633801761862, 0.05700333063541751, 0.05700333063541751, 0.05700333063541751, 0.05700333063541751, 0.05700333063541751, 0.05700333063541751, 0.05700333063541751, 0.05700333063541751, 0.05700333063541751, 0.05700333063541751, 0.05700333063541751, 0.05700333063541751, 0.05700333063541751, 0.05700333063541751, 0.05700333063541751, 0.05700333063541751, 0.05700333063541751, 0.05700333063541751, 0.05700333063541751, 0.05700333063541751, 0.05657148643065033, 0.05657148643065033, 0.05657148643065033, 0.05657148643065033, 0.05657148643065033, 0.05657148643065033, 0.05657148643065033, 0.05657148643065033, 0.05657148643065033, 0.05657148643065033, 0.05657148643065033, 0.05657148643065033, 0.05657148643065033, 0.05657148643065033, 0.05657148643065033, 0.05657148643065033, 0.05657148643065033, 0.05657148643065033, 0.05657148643065033, 0.05657148643065033, 0.05549567417488654, 0.05549567417488654, 0.05549567417488654, 0.05549567417488654, 0.05549567417488654, 0.05549567417488654, 0.05549567417488654, 0.05549567417488654, 0.05549567417488654, 0.05549567417488654, 0.05549567417488654, 0.05549567417488654, 0.05549567417488654, 0.05549567417488654, 0.05549567417488654, 0.05549567417488654, 0.05549567417488654, 0.05549567417488654, 0.05549567417488654, 0.05549567417488654, 0.05618185605326295, 0.05618185605326295, 0.05618185605326295, 0.05618185605326295, 0.05618185605326295, 0.05618185605326295, 0.05618185605326295, 0.05618185605326295, 0.05618185605326295, 0.05618185605326295, 0.05618185605326295, 0.05618185605326295, 0.05618185605326295, 0.05618185605326295, 0.05618185605326295, 0.05618185605326295, 0.05618185605326295, 0.05618185605326295, 0.05618185605326295, 0.05618185605326295, 0.054673150643560764, 0.054673150643560764, 0.054673150643560764, 0.054673150643560764, 0.054673150643560764, 0.054673150643560764, 0.054673150643560764, 0.054673150643560764, 0.054673150643560764, 0.054673150643560764, 0.054673150643560764, 0.054673150643560764, 0.054673150643560764, 0.054673150643560764, 0.054673150643560764, 0.054673150643560764, 0.054673150643560764, 0.054673150643560764, 0.054673150643560764, 0.054673150643560764, 0.05669050670017126, 0.05669050670017126, 0.05669050670017126, 0.05669050670017126, 0.05669050670017126, 0.05669050670017126, 0.05669050670017126, 0.05669050670017126, 0.05669050670017126, 0.05669050670017126, 0.05669050670017126, 0.05669050670017126, 0.05669050670017126, 0.05669050670017126, 0.05669050670017126, 0.05669050670017126, 0.05669050670017126, 0.05669050670017126, 0.05669050670017126, 0.05669050670017126, 0.056229653983113775, 0.056229653983113775, 0.056229653983113775, 0.056229653983113775, 0.056229653983113775, 0.056229653983113775, 0.056229653983113775, 0.056229653983113775, 0.056229653983113775, 0.056229653983113775, 0.056229653983113775, 0.056229653983113775, 0.056229653983113775, 0.056229653983113775, 0.056229653983113775, 0.056229653983113775, 0.056229653983113775, 0.056229653983113775, 0.056229653983113775, 0.056229653983113775, 0.05603733414765939, 0.05603733414765939, 0.05603733414765939, 0.05603733414765939, 0.05603733414765939, 0.05603733414765939, 0.05603733414765939, 0.05603733414765939, 0.05603733414765939, 0.05603733414765939, 0.05603733414765939, 0.05603733414765939, 0.05603733414765939, 0.05603733414765939, 0.05603733414765939, 0.05603733414765939, 0.05603733414765939, 0.05603733414765939, 0.05603733414765939, 0.05603733414765939, 0.05798575221878334, 0.05798575221878334, 0.05798575221878334, 0.05798575221878334, 0.05798575221878334, 0.05798575221878334, 0.05798575221878334, 0.05798575221878334, 0.05798575221878334, 0.05798575221878334, 0.05798575221878334, 0.05798575221878334, 0.05798575221878334, 0.05798575221878334, 0.05798575221878334, 0.05798575221878334, 0.05798575221878334, 0.05798575221878334, 0.05798575221878334, 0.05798575221878334, 0.05551990704517379, 0.05551990704517379, 0.05551990704517379, 0.05551990704517379, 0.05551990704517379, 0.05551990704517379, 0.05551990704517379, 0.05551990704517379, 0.05551990704517379, 0.05551990704517379, 0.05551990704517379, 0.05551990704517379, 0.05551990704517379, 0.05551990704517379, 0.05551990704517379, 0.05551990704517379, 0.05551990704517379, 0.05551990704517379, 0.05551990704517379, 0.05551990704517379, 0.05581107268005464, 0.05581107268005464, 0.05581107268005464, 0.05581107268005464, 0.05581107268005464, 0.05581107268005464, 0.05581107268005464, 0.05581107268005464, 0.05581107268005464, 0.05581107268005464, 0.05581107268005464, 0.05581107268005464, 0.05581107268005464, 0.05581107268005464, 0.05581107268005464, 0.05581107268005464, 0.05581107268005464, 0.05581107268005464, 0.05581107268005464, 0.05581107268005464, 0.05466059013915695, 0.05466059013915695, 0.05466059013915695, 0.05466059013915695, 0.05466059013915695, 0.05466059013915695, 0.05466059013915695, 0.05466059013915695, 0.05466059013915695, 0.05466059013915695, 0.05466059013915695, 0.05466059013915695, 0.05466059013915695, 0.05466059013915695, 0.05466059013915695, 0.05466059013915695, 0.05466059013915695, 0.05466059013915695, 0.05466059013915695, 0.05466059013915695, 0.05637358218843939, 0.05637358218843939, 0.05637358218843939, 0.05637358218843939, 0.05637358218843939, 0.05637358218843939, 0.05637358218843939, 0.05637358218843939, 0.05637358218843939, 0.05637358218843939, 0.05637358218843939, 0.05637358218843939, 0.05637358218843939, 0.05637358218843939, 0.05637358218843939, 0.05637358218843939, 0.05637358218843939, 0.05637358218843939, 0.05637358218843939, 0.05637358218843939, 0.0568687063329301, 0.0568687063329301, 0.0568687063329301, 0.0568687063329301, 0.0568687063329301, 0.0568687063329301, 0.0568687063329301, 0.0568687063329301, 0.0568687063329301, 0.0568687063329301, 0.0568687063329301, 0.0568687063329301, 0.0568687063329301, 0.0568687063329301, 0.0568687063329301, 0.0568687063329301, 0.0568687063329301, 0.0568687063329301, 0.0568687063329301, 0.0568687063329301, 0.05657919110748441, 0.05657919110748441, 0.05657919110748441, 0.05657919110748441, 0.05657919110748441, 0.05657919110748441, 0.05657919110748441, 0.05657919110748441, 0.05657919110748441, 0.05657919110748441, 0.05657919110748441, 0.05657919110748441, 0.05657919110748441, 0.05657919110748441, 0.05657919110748441, 0.05657919110748441, 0.05657919110748441, 0.05657919110748441, 0.05657919110748441, 0.05657919110748441, 0.05542982996675522, 0.05542982996675522, 0.05542982996675522, 0.05542982996675522, 0.05542982996675522, 0.05542982996675522, 0.05542982996675522, 0.05542982996675522, 0.05542982996675522, 0.05542982996675522, 0.05542982996675522, 0.05542982996675522, 0.05542982996675522, 0.05542982996675522, 0.05542982996675522, 0.05542982996675522, 0.05542982996675522, 0.05542982996675522, 0.05542982996675522, 0.05542982996675522, 0.056033536877704286, 0.056033536877704286, 0.056033536877704286, 0.056033536877704286, 0.056033536877704286, 0.056033536877704286, 0.056033536877704286, 0.056033536877704286, 0.056033536877704286, 0.056033536877704286, 0.056033536877704286, 0.056033536877704286, 0.056033536877704286, 0.056033536877704286, 0.056033536877704286, 0.056033536877704286, 0.056033536877704286, 0.056033536877704286, 0.056033536877704286, 0.056033536877704286, 0.05698696899648962, 0.05698696899648962, 0.05698696899648962, 0.05698696899648962, 0.05698696899648962, 0.05698696899648962, 0.05698696899648962, 0.05698696899648962, 0.05698696899648962, 0.05698696899648962, 0.05698696899648962, 0.05698696899648962, 0.05698696899648962, 0.05698696899648962, 0.05698696899648962, 0.05698696899648962, 0.05698696899648962, 0.05698696899648962, 0.05698696899648962, 0.05698696899648962, 0.05662162634499472, 0.05662162634499472, 0.05662162634499472, 0.05662162634499472, 0.05662162634499472, 0.05662162634499472, 0.05662162634499472, 0.05662162634499472, 0.05662162634499472, 0.05662162634499472, 0.05662162634499472, 0.05662162634499472, 0.05662162634499472, 0.05662162634499472, 0.05662162634499472, 0.05662162634499472, 0.05662162634499472, 0.05662162634499472, 0.05662162634499472, 0.05662162634499472, 0.05640764559831163, 0.05640764559831163, 0.05640764559831163, 0.05640764559831163, 0.05640764559831163, 0.05640764559831163, 0.05640764559831163, 0.05640764559831163, 0.05640764559831163, 0.05640764559831163, 0.05640764559831163, 0.05640764559831163, 0.05640764559831163, 0.05640764559831163, 0.05640764559831163, 0.05640764559831163, 0.05640764559831163, 0.05640764559831163, 0.05640764559831163, 0.05640764559831163, 0.056234699395728865, 0.056234699395728865, 0.056234699395728865, 0.056234699395728865, 0.056234699395728865, 0.056234699395728865, 0.056234699395728865, 0.056234699395728865, 0.056234699395728865, 0.056234699395728865, 0.056234699395728865, 0.056234699395728865, 0.056234699395728865, 0.056234699395728865, 0.056234699395728865, 0.056234699395728865, 0.056234699395728865, 0.056234699395728865, 0.056234699395728865, 0.056234699395728865, 0.05568840261357157, 0.05568840261357157, 0.05568840261357157, 0.05568840261357157, 0.05568840261357157, 0.05568840261357157, 0.05568840261357157, 0.05568840261357157, 0.05568840261357157, 0.05568840261357157, 0.05568840261357157, 0.05568840261357157, 0.05568840261357157, 0.05568840261357157, 0.05568840261357157, 0.05568840261357157, 0.05568840261357157, 0.05568840261357157, 0.05568840261357157, 0.05568840261357157, 0.05542084704990962, 0.05542084704990962, 0.05542084704990962, 0.05542084704990962, 0.05542084704990962, 0.05542084704990962, 0.05542084704990962, 0.05542084704990962, 0.05542084704990962, 0.05542084704990962, 0.05542084704990962, 0.05542084704990962, 0.05542084704990962, 0.05542084704990962, 0.05542084704990962, 0.05542084704990962, 0.05542084704990962, 0.05542084704990962, 0.05542084704990962, 0.05542084704990962, 0.05604301739556558, 0.05604301739556558, 0.05604301739556558, 0.05604301739556558, 0.05604301739556558, 0.05604301739556558, 0.05604301739556558, 0.05604301739556558, 0.05604301739556558, 0.05604301739556558, 0.05604301739556558, 0.05604301739556558, 0.05604301739556558, 0.05604301739556558, 0.05604301739556558, 0.05604301739556558, 0.05604301739556558, 0.05604301739556558, 0.05604301739556558, 0.05604301739556558, 0.05493038459075334, 0.05493038459075334, 0.05493038459075334, 0.05493038459075334, 0.05493038459075334, 0.05493038459075334, 0.05493038459075334, 0.05493038459075334, 0.05493038459075334, 0.05493038459075334, 0.05493038459075334, 0.05493038459075334, 0.05493038459075334, 0.05493038459075334, 0.05493038459075334, 0.05493038459075334, 0.05493038459075334, 0.05493038459075334, 0.05493038459075334, 0.05493038459075334, 0.05650368689540875, 0.05650368689540875, 0.05650368689540875, 0.05650368689540875, 0.05650368689540875, 0.05650368689540875, 0.05650368689540875, 0.05650368689540875, 0.05650368689540875, 0.05650368689540875, 0.05650368689540875, 0.05650368689540875, 0.05650368689540875, 0.05650368689540875, 0.05650368689540875, 0.05650368689540875, 0.05650368689540875, 0.05650368689540875, 0.05650368689540875, 0.05650368689540875, 0.05646435389660141, 0.05646435389660141, 0.05646435389660141, 0.05646435389660141, 0.05646435389660141, 0.05646435389660141, 0.05646435389660141, 0.05646435389660141, 0.05646435389660141, 0.05646435389660141, 0.05646435389660141, 0.05646435389660141, 0.05646435389660141, 0.05646435389660141, 0.05646435389660141, 0.05646435389660141, 0.05646435389660141, 0.05646435389660141, 0.05646435389660141, 0.05646435389660141, 0.057260047736631584, 0.057260047736631584, 0.057260047736631584, 0.057260047736631584, 0.057260047736631584, 0.057260047736631584, 0.057260047736631584, 0.057260047736631584, 0.057260047736631584, 0.057260047736631584, 0.057260047736631584, 0.057260047736631584, 0.057260047736631584, 0.057260047736631584, 0.057260047736631584, 0.057260047736631584, 0.057260047736631584, 0.057260047736631584, 0.057260047736631584, 0.057260047736631584, 0.05613517577232212, 0.05613517577232212, 0.05613517577232212, 0.05613517577232212, 0.05613517577232212, 0.05613517577232212, 0.05613517577232212, 0.05613517577232212, 0.05613517577232212, 0.05613517577232212, 0.05613517577232212, 0.05613517577232212, 0.05613517577232212, 0.05613517577232212, 0.05613517577232212, 0.05613517577232212, 0.05613517577232212, 0.05613517577232212, 0.05613517577232212, 0.05613517577232212, 0.056950358850688, 0.056950358850688, 0.056950358850688, 0.056950358850688, 0.056950358850688, 0.056950358850688, 0.056950358850688, 0.056950358850688, 0.056950358850688, 0.056950358850688, 0.056950358850688, 0.056950358850688, 0.056950358850688, 0.056950358850688, 0.056950358850688, 0.056950358850688, 0.056950358850688, 0.056950358850688, 0.056950358850688, 0.056950358850688, 0.056669294143158945, 0.056669294143158945, 0.056669294143158945, 0.056669294143158945, 0.056669294143158945, 0.056669294143158945, 0.056669294143158945, 0.056669294143158945, 0.056669294143158945, 0.056669294143158945, 0.056669294143158945, 0.056669294143158945, 0.056669294143158945, 0.056669294143158945, 0.056669294143158945, 0.056669294143158945, 0.056669294143158945, 0.056669294143158945, 0.056669294143158945, 0.056669294143158945, 0.05662178318956577, 0.05662178318956577, 0.05662178318956577, 0.05662178318956577, 0.05662178318956577, 0.05662178318956577, 0.05662178318956577, 0.05662178318956577, 0.05662178318956577, 0.05662178318956577, 0.05662178318956577, 0.05662178318956577, 0.05662178318956577, 0.05662178318956577, 0.05662178318956577, 0.05662178318956577, 0.05662178318956577, 0.05662178318956577, 0.05662178318956577, 0.05662178318956577, 0.05598264257027637, 0.05598264257027637, 0.05598264257027637, 0.05598264257027637, 0.05598264257027637, 0.05598264257027637, 0.05598264257027637, 0.05598264257027637, 0.05598264257027637, 0.05598264257027637, 0.05598264257027637, 0.05598264257027637, 0.05598264257027637, 0.05598264257027637, 0.05598264257027637, 0.05598264257027637, 0.05598264257027637, 0.05598264257027637, 0.05598264257027637, 0.05598264257027637, 0.05563063245168181, 0.05563063245168181, 0.05563063245168181, 0.05563063245168181, 0.05563063245168181, 0.05563063245168181, 0.05563063245168181, 0.05563063245168181, 0.05563063245168181, 0.05563063245168181, 0.05563063245168181, 0.05563063245168181, 0.05563063245168181, 0.05563063245168181, 0.05563063245168181, 0.05563063245168181, 0.05563063245168181, 0.05563063245168181, 0.05563063245168181, 0.05563063245168181, 0.05713130305750219, 0.05713130305750219, 0.05713130305750219, 0.05713130305750219, 0.05713130305750219, 0.05713130305750219, 0.05713130305750219, 0.05713130305750219, 0.05713130305750219, 0.05713130305750219, 0.05713130305750219, 0.05713130305750219, 0.05713130305750219, 0.05713130305750219, 0.05713130305750219, 0.05713130305750219, 0.05713130305750219, 0.05713130305750219, 0.05713130305750219, 0.05713130305750219, 0.05576651925060335, 0.05576651925060335, 0.05576651925060335, 0.05576651925060335, 0.05576651925060335, 0.05576651925060335, 0.05576651925060335, 0.05576651925060335, 0.05576651925060335, 0.05576651925060335, 0.05576651925060335, 0.05576651925060335, 0.05576651925060335, 0.05576651925060335, 0.05576651925060335, 0.05576651925060335, 0.05576651925060335, 0.05576651925060335, 0.05576651925060335, 0.05576651925060335, 0.055895173592807997, 0.055895173592807997, 0.055895173592807997, 0.055895173592807997, 0.055895173592807997, 0.055895173592807997, 0.055895173592807997, 0.055895173592807997, 0.055895173592807997, 0.055895173592807997, 0.055895173592807997, 0.055895173592807997, 0.055895173592807997, 0.055895173592807997, 0.055895173592807997, 0.055895173592807997, 0.055895173592807997, 0.055895173592807997, 0.055895173592807997, 0.055895173592807997, 0.05546236573112153, 0.05546236573112153, 0.05546236573112153, 0.05546236573112153, 0.05546236573112153, 0.05546236573112153, 0.05546236573112153, 0.05546236573112153, 0.05546236573112153, 0.05546236573112153, 0.05546236573112153, 0.05546236573112153, 0.05546236573112153, 0.05546236573112153, 0.05546236573112153, 0.05546236573112153, 0.05546236573112153, 0.05546236573112153, 0.05546236573112153, 0.05546236573112153, 0.056524811981419204, 0.056524811981419204, 0.056524811981419204, 0.056524811981419204, 0.056524811981419204, 0.056524811981419204, 0.056524811981419204, 0.056524811981419204, 0.056524811981419204, 0.056524811981419204, 0.056524811981419204, 0.056524811981419204, 0.056524811981419204, 0.056524811981419204, 0.056524811981419204, 0.056524811981419204, 0.056524811981419204, 0.056524811981419204, 0.056524811981419204, 0.056524811981419204, 0.05691346860610298, 0.05691346860610298, 0.05691346860610298, 0.05691346860610298, 0.05691346860610298, 0.05691346860610298, 0.05691346860610298, 0.05691346860610298, 0.05691346860610298, 0.05691346860610298, 0.05691346860610298, 0.05691346860610298, 0.05691346860610298, 0.05691346860610298, 0.05691346860610298, 0.05691346860610298, 0.05691346860610298, 0.05691346860610298, 0.05691346860610298, 0.05691346860610298, 0.05669954406975765, 0.05669954406975765, 0.05669954406975765, 0.05669954406975765, 0.05669954406975765, 0.05669954406975765, 0.05669954406975765, 0.05669954406975765, 0.05669954406975765, 0.05669954406975765, 0.05669954406975765, 0.05669954406975765, 0.05669954406975765, 0.05669954406975765, 0.05669954406975765, 0.05669954406975765, 0.05669954406975765, 0.05669954406975765, 0.05669954406975765, 0.05669954406975765, 0.0550384837263373, 0.0550384837263373, 0.0550384837263373, 0.0550384837263373, 0.0550384837263373, 0.0550384837263373, 0.0550384837263373, 0.0550384837263373, 0.0550384837263373, 0.0550384837263373, 0.0550384837263373, 0.0550384837263373, 0.0550384837263373, 0.0550384837263373, 0.0550384837263373, 0.0550384837263373, 0.0550384837263373, 0.0550384837263373, 0.0550384837263373, 0.0550384837263373, 0.05538151595147838, 0.05538151595147838, 0.05538151595147838, 0.05538151595147838, 0.05538151595147838, 0.05538151595147838, 0.05538151595147838, 0.05538151595147838, 0.05538151595147838, 0.05538151595147838, 0.05538151595147838, 0.05538151595147838, 0.05538151595147838, 0.05538151595147838, 0.05538151595147838, 0.05538151595147838, 0.05538151595147838, 0.05538151595147838, 0.05538151595147838, 0.05538151595147838, 0.05636536591019382, 0.05636536591019382, 0.05636536591019382, 0.05636536591019382, 0.05636536591019382, 0.05636536591019382, 0.05636536591019382, 0.05636536591019382, 0.05636536591019382, 0.05636536591019382, 0.05636536591019382, 0.05636536591019382, 0.05636536591019382, 0.05636536591019382, 0.05636536591019382, 0.05636536591019382, 0.05636536591019382, 0.05636536591019382, 0.05636536591019382, 0.05636536591019382, 0.05612602958518739, 0.05612602958518739, 0.05612602958518739, 0.05612602958518739, 0.05612602958518739, 0.05612602958518739, 0.05612602958518739, 0.05612602958518739, 0.05612602958518739, 0.05612602958518739, 0.05612602958518739, 0.05612602958518739, 0.05612602958518739, 0.05612602958518739, 0.05612602958518739, 0.05612602958518739, 0.05612602958518739, 0.05612602958518739, 0.05612602958518739, 0.05612602958518739, 0.05601913812005042, 0.05601913812005042, 0.05601913812005042, 0.05601913812005042, 0.05601913812005042, 0.05601913812005042, 0.05601913812005042, 0.05601913812005042, 0.05601913812005042, 0.05601913812005042, 0.05601913812005042, 0.05601913812005042, 0.05601913812005042, 0.05601913812005042, 0.05601913812005042, 0.05601913812005042, 0.05601913812005042, 0.05601913812005042, 0.05601913812005042, 0.05601913812005042, 0.05546141910351787, 0.05546141910351787, 0.05546141910351787, 0.05546141910351787, 0.05546141910351787, 0.05546141910351787, 0.05546141910351787, 0.05546141910351787, 0.05546141910351787, 0.05546141910351787, 0.05546141910351787, 0.05546141910351787, 0.05546141910351787, 0.05546141910351787, 0.05546141910351787, 0.05546141910351787, 0.05546141910351787, 0.05546141910351787, 0.05546141910351787, 0.05546141910351787, 0.05599012327031392, 0.05599012327031392, 0.05599012327031392, 0.05599012327031392, 0.05599012327031392, 0.05599012327031392, 0.05599012327031392, 0.05599012327031392, 0.05599012327031392, 0.05599012327031392, 0.05599012327031392, 0.05599012327031392, 0.05599012327031392, 0.05599012327031392, 0.05599012327031392, 0.05599012327031392, 0.05599012327031392, 0.05599012327031392, 0.05599012327031392, 0.05599012327031392, 0.056806725786695246, 0.056806725786695246, 0.056806725786695246, 0.056806725786695246, 0.056806725786695246, 0.056806725786695246, 0.056806725786695246, 0.056806725786695246, 0.056806725786695246, 0.056806725786695246, 0.056806725786695246, 0.056806725786695246, 0.056806725786695246, 0.056806725786695246, 0.056806725786695246, 0.056806725786695246, 0.056806725786695246, 0.056806725786695246, 0.056806725786695246, 0.056806725786695246, 0.05633287448736163, 0.05633287448736163, 0.05633287448736163, 0.05633287448736163, 0.05633287448736163, 0.05633287448736163, 0.05633287448736163, 0.05633287448736163, 0.05633287448736163, 0.05633287448736163, 0.05633287448736163, 0.05633287448736163, 0.05633287448736163, 0.05633287448736163, 0.05633287448736163, 0.05633287448736163, 0.05633287448736163, 0.05633287448736163, 0.05633287448736163, 0.05633287448736163, 0.05693181667412414, 0.05693181667412414, 0.05693181667412414, 0.05693181667412414, 0.05693181667412414, 0.05693181667412414, 0.05693181667412414, 0.05693181667412414, 0.05693181667412414, 0.05693181667412414, 0.05693181667412414, 0.05693181667412414, 0.05693181667412414, 0.05693181667412414, 0.05693181667412414, 0.05693181667412414, 0.05693181667412414, 0.05693181667412414, 0.05693181667412414, 0.05693181667412414, 0.05654336845643409, 0.05654336845643409, 0.05654336845643409, 0.05654336845643409, 0.05654336845643409, 0.05654336845643409, 0.05654336845643409, 0.05654336845643409, 0.05654336845643409, 0.05654336845643409, 0.05654336845643409, 0.05654336845643409, 0.05654336845643409, 0.05654336845643409, 0.05654336845643409, 0.05654336845643409, 0.05654336845643409, 0.05654336845643409, 0.05654336845643409, 0.05654336845643409, 0.05506649561761462, 0.05506649561761462, 0.05506649561761462, 0.05506649561761462, 0.05506649561761462, 0.05506649561761462, 0.05506649561761462, 0.05506649561761462, 0.05506649561761462, 0.05506649561761462, 0.05506649561761462, 0.05506649561761462, 0.05506649561761462, 0.05506649561761462, 0.05506649561761462, 0.05506649561761462, 0.05506649561761462, 0.05506649561761462, 0.05506649561761462, 0.05506649561761462, 0.057162529662970335, 0.057162529662970335, 0.057162529662970335, 0.057162529662970335, 0.057162529662970335, 0.057162529662970335, 0.057162529662970335, 0.057162529662970335, 0.057162529662970335, 0.057162529662970335, 0.057162529662970335, 0.057162529662970335, 0.057162529662970335, 0.057162529662970335, 0.057162529662970335, 0.057162529662970335, 0.057162529662970335, 0.057162529662970335, 0.057162529662970335, 0.057162529662970335, 0.055473855240575035, 0.055473855240575035, 0.055473855240575035, 0.055473855240575035, 0.055473855240575035, 0.055473855240575035, 0.055473855240575035, 0.055473855240575035, 0.055473855240575035, 0.055473855240575035, 0.055473855240575035, 0.055473855240575035, 0.055473855240575035, 0.055473855240575035, 0.055473855240575035, 0.055473855240575035, 0.055473855240575035, 0.055473855240575035, 0.055473855240575035, 0.055473855240575035, 0.05701019689889554, 0.05701019689889554, 0.05701019689889554, 0.05701019689889554, 0.05701019689889554, 0.05701019689889554, 0.05701019689889554, 0.05701019689889554, 0.05701019689889554, 0.05701019689889554, 0.05701019689889554, 0.05701019689889554, 0.05701019689889554, 0.05701019689889554, 0.05701019689889554, 0.05701019689889554, 0.05701019689889554, 0.05701019689889554, 0.05701019689889554, 0.05701019689889554, 0.0564301446708559, 0.0564301446708559, 0.0564301446708559, 0.0564301446708559, 0.0564301446708559, 0.0564301446708559, 0.0564301446708559, 0.0564301446708559, 0.0564301446708559, 0.0564301446708559, 0.0564301446708559, 0.0564301446708559, 0.0564301446708559, 0.0564301446708559, 0.0564301446708559, 0.0564301446708559, 0.0564301446708559, 0.0564301446708559, 0.0564301446708559, 0.0564301446708559, 0.05589811503385554, 0.05589811503385554, 0.05589811503385554, 0.05589811503385554, 0.05589811503385554, 0.05589811503385554, 0.05589811503385554, 0.05589811503385554, 0.05589811503385554, 0.05589811503385554, 0.05589811503385554, 0.05589811503385554, 0.05589811503385554, 0.05589811503385554, 0.05589811503385554, 0.05589811503385554, 0.05589811503385554, 0.05589811503385554, 0.05589811503385554, 0.05589811503385554, 0.05573273918016951, 0.05573273918016951, 0.05573273918016951, 0.05573273918016951, 0.05573273918016951, 0.05573273918016951, 0.05573273918016951, 0.05573273918016951, 0.05573273918016951, 0.05573273918016951, 0.05573273918016951, 0.05573273918016951, 0.05573273918016951, 0.05573273918016951, 0.05573273918016951, 0.05573273918016951, 0.05573273918016951, 0.05573273918016951, 0.05573273918016951, 0.05573273918016951, 0.0556106059659969, 0.0556106059659969, 0.0556106059659969, 0.0556106059659969, 0.0556106059659969, 0.0556106059659969, 0.0556106059659969, 0.0556106059659969, 0.0556106059659969, 0.0556106059659969, 0.0556106059659969, 0.0556106059659969, 0.0556106059659969, 0.0556106059659969, 0.0556106059659969, 0.0556106059659969, 0.0556106059659969, 0.0556106059659969, 0.0556106059659969, 0.0556106059659969, 0.056844143080427706, 0.056844143080427706, 0.056844143080427706, 0.056844143080427706, 0.056844143080427706, 0.056844143080427706, 0.056844143080427706, 0.056844143080427706, 0.056844143080427706, 0.056844143080427706, 0.056844143080427706, 0.056844143080427706, 0.056844143080427706, 0.056844143080427706, 0.056844143080427706, 0.056844143080427706, 0.056844143080427706, 0.056844143080427706, 0.056844143080427706, 0.056844143080427706, 0.05638063885645155, 0.05638063885645155, 0.05638063885645155, 0.05638063885645155, 0.05638063885645155, 0.05638063885645155, 0.05638063885645155, 0.05638063885645155, 0.05638063885645155, 0.05638063885645155, 0.05638063885645155, 0.05638063885645155, 0.05638063885645155, 0.05638063885645155, 0.05638063885645155, 0.05638063885645155, 0.05638063885645155, 0.05638063885645155, 0.05638063885645155, 0.05638063885645155, 0.0561076198667251, 0.0561076198667251, 0.0561076198667251, 0.0561076198667251, 0.0561076198667251, 0.0561076198667251, 0.0561076198667251, 0.0561076198667251, 0.0561076198667251, 0.0561076198667251, 0.0561076198667251, 0.0561076198667251, 0.0561076198667251, 0.0561076198667251, 0.0561076198667251, 0.0561076198667251, 0.0561076198667251, 0.0561076198667251, 0.0561076198667251, 0.0561076198667251, 0.055465485160818624, 0.055465485160818624, 0.055465485160818624, 0.055465485160818624, 0.055465485160818624, 0.055465485160818624, 0.055465485160818624, 0.055465485160818624, 0.055465485160818624, 0.055465485160818624, 0.055465485160818624, 0.055465485160818624, 0.055465485160818624, 0.055465485160818624, 0.055465485160818624, 0.055465485160818624, 0.055465485160818624, 0.055465485160818624, 0.055465485160818624, 0.055465485160818624, 0.05544709648396079, 0.05544709648396079, 0.05544709648396079, 0.05544709648396079, 0.05544709648396079, 0.05544709648396079, 0.05544709648396079, 0.05544709648396079, 0.05544709648396079, 0.05544709648396079, 0.05544709648396079, 0.05544709648396079, 0.05544709648396079, 0.05544709648396079, 0.05544709648396079, 0.05544709648396079, 0.05544709648396079, 0.05544709648396079, 0.05544709648396079, 0.05544709648396079, 0.056791735206387896, 0.056791735206387896, 0.056791735206387896, 0.056791735206387896, 0.056791735206387896, 0.056791735206387896, 0.056791735206387896, 0.056791735206387896, 0.056791735206387896, 0.056791735206387896, 0.056791735206387896, 0.056791735206387896, 0.056791735206387896, 0.056791735206387896, 0.056791735206387896, 0.056791735206387896, 0.056791735206387896, 0.056791735206387896, 0.056791735206387896, 0.056791735206387896, 0.05684538530188535, 0.05684538530188535, 0.05684538530188535, 0.05684538530188535, 0.05684538530188535, 0.05684538530188535, 0.05684538530188535, 0.05684538530188535, 0.05684538530188535, 0.05684538530188535, 0.05684538530188535, 0.05684538530188535, 0.05684538530188535, 0.05684538530188535, 0.05684538530188535, 0.05684538530188535, 0.05684538530188535, 0.05684538530188535, 0.05684538530188535, 0.05684538530188535, 0.05625772879511518, 0.05625772879511518, 0.05625772879511518, 0.05625772879511518, 0.05625772879511518, 0.05625772879511518, 0.05625772879511518, 0.05625772879511518, 0.05625772879511518, 0.05625772879511518, 0.05625772879511518, 0.05625772879511518, 0.05625772879511518, 0.05625772879511518, 0.05625772879511518, 0.05625772879511518, 0.05625772879511518, 0.05625772879511518, 0.05625772879511518, 0.05625772879511518, 0.05591077217045316, 0.05591077217045316, 0.05591077217045316, 0.05591077217045316, 0.05591077217045316, 0.05591077217045316, 0.05591077217045316, 0.05591077217045316, 0.05591077217045316, 0.05591077217045316, 0.05591077217045316, 0.05591077217045316, 0.05591077217045316, 0.05591077217045316, 0.05591077217045316, 0.05591077217045316, 0.05591077217045316, 0.05591077217045316, 0.05591077217045316, 0.05591077217045316, 0.05668213854349822, 0.05668213854349822, 0.05668213854349822, 0.05668213854349822, 0.05668213854349822, 0.05668213854349822, 0.05668213854349822, 0.05668213854349822, 0.05668213854349822, 0.05668213854349822, 0.05668213854349822, 0.05668213854349822, 0.05668213854349822, 0.05668213854349822, 0.05668213854349822, 0.05668213854349822, 0.05668213854349822, 0.05668213854349822, 0.05668213854349822, 0.05668213854349822, 0.05642165491217018, 0.05642165491217018, 0.05642165491217018, 0.05642165491217018, 0.05642165491217018, 0.05642165491217018, 0.05642165491217018, 0.05642165491217018, 0.05642165491217018, 0.05642165491217018, 0.05642165491217018, 0.05642165491217018, 0.05642165491217018, 0.05642165491217018, 0.05642165491217018, 0.05642165491217018, 0.05642165491217018, 0.05642165491217018, 0.05642165491217018, 0.05642165491217018, 0.05609426133309549, 0.05609426133309549, 0.05609426133309549, 0.05609426133309549, 0.05609426133309549, 0.05609426133309549, 0.05609426133309549, 0.05609426133309549, 0.05609426133309549, 0.05609426133309549, 0.05609426133309549, 0.05609426133309549, 0.05609426133309549, 0.05609426133309549, 0.05609426133309549, 0.05609426133309549, 0.05609426133309549, 0.05609426133309549, 0.05609426133309549, 0.05609426133309549, 0.056506300265510234, 0.056506300265510234, 0.056506300265510234, 0.056506300265510234, 0.056506300265510234, 0.056506300265510234, 0.056506300265510234, 0.056506300265510234, 0.056506300265510234, 0.056506300265510234, 0.056506300265510234, 0.056506300265510234, 0.056506300265510234, 0.056506300265510234, 0.056506300265510234, 0.056506300265510234, 0.056506300265510234, 0.056506300265510234, 0.056506300265510234, 0.056506300265510234, 0.055878256879293264, 0.055878256879293264, 0.055878256879293264, 0.055878256879293264, 0.055878256879293264, 0.055878256879293264, 0.055878256879293264, 0.055878256879293264, 0.055878256879293264, 0.055878256879293264, 0.055878256879293264, 0.055878256879293264, 0.055878256879293264, 0.055878256879293264, 0.055878256879293264, 0.055878256879293264, 0.055878256879293264, 0.055878256879293264, 0.055878256879293264, 0.055878256879293264, 0.05657858941911473, 0.05657858941911473, 0.05657858941911473, 0.05657858941911473, 0.05657858941911473, 0.05657858941911473, 0.05657858941911473, 0.05657858941911473, 0.05657858941911473, 0.05657858941911473, 0.05657858941911473, 0.05657858941911473, 0.05657858941911473, 0.05657858941911473, 0.05657858941911473, 0.05657858941911473, 0.05657858941911473, 0.05657858941911473, 0.05657858941911473, 0.05657858941911473, 0.056352643702700274, 0.056352643702700274, 0.056352643702700274, 0.056352643702700274, 0.056352643702700274, 0.056352643702700274, 0.056352643702700274, 0.056352643702700274, 0.056352643702700274, 0.056352643702700274, 0.056352643702700274, 0.056352643702700274, 0.056352643702700274, 0.056352643702700274, 0.056352643702700274, 0.056352643702700274, 0.056352643702700274, 0.056352643702700274, 0.056352643702700274, 0.056352643702700274, 0.05643884000890456, 0.05643884000890456, 0.05643884000890456, 0.05643884000890456, 0.05643884000890456, 0.05643884000890456, 0.05643884000890456, 0.05643884000890456, 0.05643884000890456, 0.05643884000890456, 0.05643884000890456, 0.05643884000890456, 0.05643884000890456, 0.05643884000890456, 0.05643884000890456, 0.05643884000890456, 0.05643884000890456, 0.05643884000890456, 0.05643884000890456, 0.05643884000890456, 0.056982855270728786, 0.056982855270728786, 0.056982855270728786, 0.056982855270728786, 0.056982855270728786, 0.056982855270728786, 0.056982855270728786, 0.056982855270728786, 0.056982855270728786, 0.056982855270728786, 0.056982855270728786, 0.056982855270728786, 0.056982855270728786, 0.056982855270728786, 0.056982855270728786, 0.056982855270728786, 0.056982855270728786, 0.056982855270728786, 0.056982855270728786, 0.056982855270728786, 0.05604196391594872, 0.05604196391594872, 0.05604196391594872, 0.05604196391594872, 0.05604196391594872, 0.05604196391594872, 0.05604196391594872, 0.05604196391594872, 0.05604196391594872, 0.05604196391594872, 0.05604196391594872, 0.05604196391594872, 0.05604196391594872, 0.05604196391594872, 0.05604196391594872, 0.05604196391594872, 0.05604196391594872, 0.05604196391594872, 0.05604196391594872, 0.05604196391594872, 0.05619287515820848, 0.05619287515820848, 0.05619287515820848, 0.05619287515820848, 0.05619287515820848, 0.05619287515820848, 0.05619287515820848, 0.05619287515820848, 0.05619287515820848, 0.05619287515820848, 0.05619287515820848, 0.05619287515820848, 0.05619287515820848, 0.05619287515820848, 0.05619287515820848, 0.05619287515820848, 0.05619287515820848, 0.05619287515820848, 0.05619287515820848, 0.05619287515820848, 0.05657864255060698, 0.05657864255060698, 0.05657864255060698, 0.05657864255060698, 0.05657864255060698, 0.05657864255060698, 0.05657864255060698, 0.05657864255060698, 0.05657864255060698, 0.05657864255060698, 0.05657864255060698, 0.05657864255060698, 0.05657864255060698, 0.05657864255060698, 0.05657864255060698, 0.05657864255060698, 0.05657864255060698, 0.05657864255060698, 0.05657864255060698, 0.05657864255060698, 0.05467798455959949, 0.05467798455959949, 0.05467798455959949, 0.05467798455959949, 0.05467798455959949, 0.05467798455959949, 0.05467798455959949, 0.05467798455959949, 0.05467798455959949, 0.05467798455959949, 0.05467798455959949, 0.05467798455959949, 0.05467798455959949, 0.05467798455959949, 0.05467798455959949, 0.05467798455959949, 0.05467798455959949, 0.05467798455959949, 0.05467798455959949, 0.05467798455959949, 0.05538668089796379, 0.05538668089796379, 0.05538668089796379, 0.05538668089796379, 0.05538668089796379, 0.05538668089796379, 0.05538668089796379, 0.05538668089796379, 0.05538668089796379, 0.05538668089796379, 0.05538668089796379, 0.05538668089796379, 0.05538668089796379, 0.05538668089796379, 0.05538668089796379, 0.05538668089796379, 0.05538668089796379, 0.05538668089796379, 0.05538668089796379, 0.05538668089796379, 0.055872081232608346, 0.055872081232608346, 0.055872081232608346, 0.055872081232608346, 0.055872081232608346, 0.055872081232608346, 0.055872081232608346, 0.055872081232608346, 0.055872081232608346, 0.055872081232608346, 0.055872081232608346, 0.055872081232608346, 0.055872081232608346, 0.055872081232608346, 0.055872081232608346, 0.055872081232608346, 0.055872081232608346, 0.055872081232608346, 0.055872081232608346, 0.055872081232608346, 0.05578801386243697, 0.05578801386243697, 0.05578801386243697, 0.05578801386243697, 0.05578801386243697, 0.05578801386243697, 0.05578801386243697, 0.05578801386243697, 0.05578801386243697, 0.05578801386243697, 0.05578801386243697, 0.05578801386243697, 0.05578801386243697, 0.05578801386243697, 0.05578801386243697, 0.05578801386243697, 0.05578801386243697, 0.05578801386243697, 0.05578801386243697, 0.05578801386243697, 0.05709363912100937, 0.05709363912100937, 0.05709363912100937, 0.05709363912100937, 0.05709363912100937, 0.05709363912100937, 0.05709363912100937, 0.05709363912100937, 0.05709363912100937, 0.05709363912100937, 0.05709363912100937, 0.05709363912100937, 0.05709363912100937, 0.05709363912100937, 0.05709363912100937, 0.05709363912100937, 0.05709363912100937, 0.05709363912100937, 0.05709363912100937, 0.05709363912100937, 0.05729260443019146, 0.05729260443019146, 0.05729260443019146, 0.05729260443019146, 0.05729260443019146, 0.05729260443019146, 0.05729260443019146, 0.05729260443019146, 0.05729260443019146, 0.05729260443019146, 0.05729260443019146, 0.05729260443019146, 0.05729260443019146, 0.05729260443019146, 0.05729260443019146, 0.05729260443019146, 0.05729260443019146, 0.05729260443019146, 0.05729260443019146, 0.05729260443019146, 0.055675410773047294, 0.055675410773047294, 0.055675410773047294, 0.055675410773047294, 0.055675410773047294, 0.055675410773047294, 0.055675410773047294, 0.055675410773047294, 0.055675410773047294, 0.055675410773047294, 0.055675410773047294, 0.055675410773047294, 0.055675410773047294, 0.055675410773047294, 0.055675410773047294, 0.055675410773047294, 0.055675410773047294, 0.055675410773047294, 0.055675410773047294, 0.055675410773047294, 0.056392861313616184, 0.056392861313616184, 0.056392861313616184, 0.056392861313616184, 0.056392861313616184, 0.056392861313616184, 0.056392861313616184, 0.056392861313616184, 0.056392861313616184, 0.056392861313616184, 0.056392861313616184, 0.056392861313616184, 0.056392861313616184, 0.056392861313616184, 0.056392861313616184, 0.056392861313616184, 0.056392861313616184, 0.056392861313616184, 0.056392861313616184, 0.056392861313616184, 0.05597960870459437, 0.05597960870459437, 0.05597960870459437, 0.05597960870459437, 0.05597960870459437, 0.05597960870459437, 0.05597960870459437, 0.05597960870459437, 0.05597960870459437, 0.05597960870459437, 0.05597960870459437, 0.05597960870459437, 0.05597960870459437, 0.05597960870459437, 0.05597960870459437, 0.05597960870459437, 0.05597960870459437, 0.05597960870459437, 0.05597960870459437, 0.05597960870459437, 0.055451334352658206, 0.055451334352658206, 0.055451334352658206, 0.055451334352658206, 0.055451334352658206, 0.055451334352658206, 0.055451334352658206, 0.055451334352658206, 0.055451334352658206, 0.055451334352658206, 0.055451334352658206, 0.055451334352658206, 0.055451334352658206, 0.055451334352658206, 0.055451334352658206, 0.055451334352658206, 0.055451334352658206, 0.055451334352658206, 0.055451334352658206, 0.055451334352658206, 0.05649856392096373, 0.05649856392096373, 0.05649856392096373, 0.05649856392096373, 0.05649856392096373, 0.05649856392096373, 0.05649856392096373, 0.05649856392096373, 0.05649856392096373, 0.05649856392096373, 0.05649856392096373, 0.05649856392096373, 0.05649856392096373, 0.05649856392096373, 0.05649856392096373, 0.05649856392096373, 0.05649856392096373, 0.05649856392096373, 0.05649856392096373, 0.05649856392096373, 0.056803168645603225, 0.056803168645603225, 0.056803168645603225, 0.056803168645603225, 0.056803168645603225, 0.056803168645603225, 0.056803168645603225, 0.056803168645603225, 0.056803168645603225, 0.056803168645603225, 0.056803168645603225, 0.056803168645603225, 0.056803168645603225, 0.056803168645603225, 0.056803168645603225, 0.056803168645603225, 0.056803168645603225, 0.056803168645603225, 0.056803168645603225, 0.056803168645603225, 0.056471632136277386, 0.056471632136277386, 0.056471632136277386, 0.056471632136277386, 0.056471632136277386, 0.056471632136277386, 0.056471632136277386, 0.056471632136277386, 0.056471632136277386, 0.056471632136277386, 0.056471632136277386, 0.056471632136277386, 0.056471632136277386, 0.056471632136277386, 0.056471632136277386, 0.056471632136277386, 0.056471632136277386, 0.056471632136277386, 0.056471632136277386, 0.056471632136277386, 0.05560766790684464, 0.05560766790684464, 0.05560766790684464, 0.05560766790684464, 0.05560766790684464, 0.05560766790684464, 0.05560766790684464, 0.05560766790684464, 0.05560766790684464, 0.05560766790684464, 0.05560766790684464, 0.05560766790684464, 0.05560766790684464, 0.05560766790684464, 0.05560766790684464, 0.05560766790684464, 0.05560766790684464, 0.05560766790684464, 0.05560766790684464, 0.05560766790684464, 0.056366856427015215, 0.056366856427015215, 0.056366856427015215, 0.056366856427015215, 0.056366856427015215, 0.056366856427015215, 0.056366856427015215, 0.056366856427015215, 0.056366856427015215, 0.056366856427015215, 0.056366856427015215, 0.056366856427015215, 0.056366856427015215, 0.056366856427015215, 0.056366856427015215, 0.056366856427015215, 0.056366856427015215, 0.056366856427015215, 0.056366856427015215, 0.056366856427015215, 0.05627233417544425, 0.05627233417544425, 0.05627233417544425, 0.05627233417544425, 0.05627233417544425, 0.05627233417544425, 0.05627233417544425, 0.05627233417544425, 0.05627233417544425, 0.05627233417544425, 0.05627233417544425, 0.05627233417544425, 0.05627233417544425, 0.05627233417544425, 0.05627233417544425, 0.05627233417544425, 0.05627233417544425, 0.05627233417544425, 0.05627233417544425, 0.05627233417544425, 0.05690042337886771, 0.05690042337886771, 0.05690042337886771, 0.05690042337886771, 0.05690042337886771, 0.05690042337886771, 0.05690042337886771, 0.05690042337886771, 0.05690042337886771, 0.05690042337886771, 0.05690042337886771, 0.05690042337886771, 0.05690042337886771, 0.05690042337886771, 0.05690042337886771, 0.05690042337886771, 0.05690042337886771, 0.05690042337886771, 0.05690042337886771, 0.05690042337886771, 0.056513147042920896, 0.056513147042920896, 0.056513147042920896, 0.056513147042920896, 0.056513147042920896, 0.056513147042920896, 0.056513147042920896, 0.056513147042920896, 0.056513147042920896, 0.056513147042920896, 0.056513147042920896, 0.056513147042920896, 0.056513147042920896, 0.056513147042920896, 0.056513147042920896, 0.056513147042920896, 0.056513147042920896, 0.056513147042920896, 0.056513147042920896, 0.056513147042920896, 0.05574531381453866, 0.05574531381453866, 0.05574531381453866, 0.05574531381453866, 0.05574531381453866, 0.05574531381453866, 0.05574531381453866, 0.05574531381453866, 0.05574531381453866, 0.05574531381453866, 0.05574531381453866, 0.05574531381453866, 0.05574531381453866, 0.05574531381453866, 0.05574531381453866, 0.05574531381453866, 0.05574531381453866, 0.05574531381453866, 0.05574531381453866, 0.05574531381453866, 0.05596960270733056, 0.05596960270733056, 0.05596960270733056, 0.05596960270733056, 0.05596960270733056, 0.05596960270733056, 0.05596960270733056, 0.05596960270733056, 0.05596960270733056, 0.05596960270733056, 0.05596960270733056, 0.05596960270733056, 0.05596960270733056, 0.05596960270733056, 0.05596960270733056, 0.05596960270733056, 0.05596960270733056, 0.05596960270733056, 0.05596960270733056, 0.05596960270733056, 0.05587821709996202, 0.05587821709996202, 0.05587821709996202, 0.05587821709996202, 0.05587821709996202, 0.05587821709996202, 0.05587821709996202, 0.05587821709996202, 0.05587821709996202, 0.05587821709996202, 0.05587821709996202, 0.05587821709996202, 0.05587821709996202, 0.05587821709996202, 0.05587821709996202, 0.05587821709996202, 0.05587821709996202, 0.05587821709996202, 0.05587821709996202, 0.05587821709996202, 0.056322567445668714, 0.056322567445668714, 0.056322567445668714, 0.056322567445668714, 0.056322567445668714, 0.056322567445668714, 0.056322567445668714, 0.056322567445668714, 0.056322567445668714, 0.056322567445668714, 0.056322567445668714, 0.056322567445668714, 0.056322567445668714, 0.056322567445668714, 0.056322567445668714, 0.056322567445668714, 0.056322567445668714, 0.056322567445668714, 0.056322567445668714, 0.056322567445668714, 0.05638584910851435, 0.05638584910851435, 0.05638584910851435, 0.05638584910851435, 0.05638584910851435, 0.05638584910851435, 0.05638584910851435, 0.05638584910851435, 0.05638584910851435, 0.05638584910851435, 0.05638584910851435, 0.05638584910851435, 0.05638584910851435, 0.05638584910851435, 0.05638584910851435, 0.05638584910851435, 0.05638584910851435, 0.05638584910851435, 0.05638584910851435, 0.05638584910851435, 0.05583846699327749, 0.05583846699327749, 0.05583846699327749, 0.05583846699327749, 0.05583846699327749, 0.05583846699327749, 0.05583846699327749, 0.05583846699327749, 0.05583846699327749, 0.05583846699327749, 0.05583846699327749, 0.05583846699327749, 0.05583846699327749, 0.05583846699327749, 0.05583846699327749, 0.05583846699327749, 0.05583846699327749, 0.05583846699327749, 0.05583846699327749, 0.05583846699327749, 0.0554574181164757, 0.0554574181164757, 0.0554574181164757, 0.0554574181164757, 0.0554574181164757, 0.0554574181164757, 0.0554574181164757, 0.0554574181164757, 0.0554574181164757, 0.0554574181164757, 0.0554574181164757, 0.0554574181164757, 0.0554574181164757, 0.0554574181164757, 0.0554574181164757, 0.0554574181164757, 0.0554574181164757, 0.0554574181164757, 0.0554574181164757, 0.0554574181164757, 0.056220072089976585, 0.056220072089976585, 0.056220072089976585, 0.056220072089976585, 0.056220072089976585, 0.056220072089976585, 0.056220072089976585, 0.056220072089976585, 0.056220072089976585, 0.056220072089976585, 0.056220072089976585, 0.056220072089976585, 0.056220072089976585, 0.056220072089976585, 0.056220072089976585, 0.056220072089976585, 0.056220072089976585, 0.056220072089976585, 0.056220072089976585, 0.056220072089976585, 0.05548279618686892, 0.05548279618686892, 0.05548279618686892, 0.05548279618686892, 0.05548279618686892, 0.05548279618686892, 0.05548279618686892, 0.05548279618686892, 0.05548279618686892, 0.05548279618686892, 0.05548279618686892, 0.05548279618686892, 0.05548279618686892, 0.05548279618686892, 0.05548279618686892, 0.05548279618686892, 0.05548279618686892, 0.05548279618686892, 0.05548279618686892, 0.05548279618686892, 0.05582346472058794, 0.05582346472058794, 0.05582346472058794, 0.05582346472058794, 0.05582346472058794, 0.05582346472058794, 0.05582346472058794, 0.05582346472058794, 0.05582346472058794, 0.05582346472058794, 0.05582346472058794, 0.05582346472058794, 0.05582346472058794, 0.05582346472058794, 0.05582346472058794, 0.05582346472058794, 0.05582346472058794, 0.05582346472058794, 0.05582346472058794, 0.05582346472058794, 0.05593490848445941, 0.05593490848445941, 0.05593490848445941, 0.05593490848445941, 0.05593490848445941, 0.05593490848445941, 0.05593490848445941, 0.05593490848445941, 0.05593490848445941, 0.05593490848445941, 0.05593490848445941, 0.05593490848445941, 0.05593490848445941, 0.05593490848445941, 0.05593490848445941, 0.05593490848445941, 0.05593490848445941, 0.05593490848445941, 0.05593490848445941, 0.05593490848445941, 0.056026880088402106, 0.056026880088402106, 0.056026880088402106, 0.056026880088402106, 0.056026880088402106, 0.056026880088402106, 0.056026880088402106, 0.056026880088402106, 0.056026880088402106, 0.056026880088402106, 0.056026880088402106, 0.056026880088402106, 0.056026880088402106, 0.056026880088402106, 0.056026880088402106, 0.056026880088402106, 0.056026880088402106, 0.056026880088402106, 0.056026880088402106, 0.056026880088402106, 0.05687119879599404, 0.05687119879599404, 0.05687119879599404, 0.05687119879599404, 0.05687119879599404, 0.05687119879599404, 0.05687119879599404, 0.05687119879599404, 0.05687119879599404, 0.05687119879599404, 0.05687119879599404, 0.05687119879599404, 0.05687119879599404, 0.05687119879599404, 0.05687119879599404, 0.05687119879599404, 0.05687119879599404, 0.05687119879599404, 0.05687119879599404, 0.05687119879599404, 0.0559739160548901, 0.0559739160548901, 0.0559739160548901, 0.0559739160548901, 0.0559739160548901, 0.0559739160548901, 0.0559739160548901, 0.0559739160548901, 0.0559739160548901, 0.0559739160548901, 0.0559739160548901, 0.0559739160548901, 0.0559739160548901, 0.0559739160548901, 0.0559739160548901, 0.0559739160548901, 0.0559739160548901, 0.0559739160548901, 0.0559739160548901, 0.0559739160548901, 0.05637751953385231, 0.05637751953385231, 0.05637751953385231, 0.05637751953385231, 0.05637751953385231, 0.05637751953385231, 0.05637751953385231, 0.05637751953385231, 0.05637751953385231, 0.05637751953385231, 0.05637751953385231, 0.05637751953385231, 0.05637751953385231, 0.05637751953385231, 0.05637751953385231, 0.05637751953385231, 0.05637751953385231, 0.05637751953385231, 0.05637751953385231, 0.05637751953385231, 0.05570867316637432, 0.05570867316637432, 0.05570867316637432, 0.05570867316637432, 0.05570867316637432, 0.05570867316637432, 0.05570867316637432, 0.05570867316637432, 0.05570867316637432, 0.05570867316637432, 0.05570867316637432, 0.05570867316637432, 0.05570867316637432, 0.05570867316637432, 0.05570867316637432, 0.05570867316637432, 0.05570867316637432, 0.05570867316637432, 0.05570867316637432, 0.05570867316637432, 0.05571520221359262, 0.05571520221359262, 0.05571520221359262, 0.05571520221359262, 0.05571520221359262, 0.05571520221359262, 0.05571520221359262, 0.05571520221359262, 0.05571520221359262, 0.05571520221359262, 0.05571520221359262, 0.05571520221359262, 0.05571520221359262, 0.05571520221359262, 0.05571520221359262, 0.05571520221359262, 0.05571520221359262, 0.05571520221359262, 0.05571520221359262, 0.05571520221359262, 0.056341465775944274, 0.056341465775944274, 0.056341465775944274, 0.056341465775944274, 0.056341465775944274, 0.056341465775944274, 0.056341465775944274, 0.056341465775944274, 0.056341465775944274, 0.056341465775944274, 0.056341465775944274, 0.056341465775944274, 0.056341465775944274, 0.056341465775944274, 0.056341465775944274, 0.056341465775944274, 0.056341465775944274, 0.056341465775944274, 0.056341465775944274, 0.056341465775944274, 0.05506436420990147, 0.05506436420990147, 0.05506436420990147, 0.05506436420990147, 0.05506436420990147, 0.05506436420990147, 0.05506436420990147, 0.05506436420990147, 0.05506436420990147, 0.05506436420990147, 0.05506436420990147, 0.05506436420990147, 0.05506436420990147, 0.05506436420990147, 0.05506436420990147, 0.05506436420990147, 0.05506436420990147, 0.05506436420990147, 0.05506436420990147, 0.05506436420990147, 0.05621641800368784, 0.05621641800368784, 0.05621641800368784, 0.05621641800368784, 0.05621641800368784, 0.05621641800368784, 0.05621641800368784, 0.05621641800368784, 0.05621641800368784, 0.05621641800368784, 0.05621641800368784, 0.05621641800368784, 0.05621641800368784, 0.05621641800368784, 0.05621641800368784, 0.05621641800368784, 0.05621641800368784, 0.05621641800368784, 0.05621641800368784, 0.05621641800368784, 0.05649631208901099, 0.05649631208901099, 0.05649631208901099, 0.05649631208901099, 0.05649631208901099, 0.05649631208901099, 0.05649631208901099, 0.05649631208901099, 0.05649631208901099, 0.05649631208901099, 0.05649631208901099, 0.05649631208901099, 0.05649631208901099, 0.05649631208901099, 0.05649631208901099, 0.05649631208901099, 0.05649631208901099, 0.05649631208901099, 0.05649631208901099, 0.05649631208901099, 0.054977462928003984, 0.054977462928003984, 0.054977462928003984, 0.054977462928003984, 0.054977462928003984, 0.054977462928003984, 0.054977462928003984, 0.054977462928003984, 0.054977462928003984, 0.054977462928003984, 0.054977462928003984, 0.054977462928003984, 0.054977462928003984, 0.054977462928003984, 0.054977462928003984, 0.054977462928003984, 0.054977462928003984, 0.054977462928003984, 0.054977462928003984, 0.054977462928003984, 0.055960286943328656, 0.055960286943328656, 0.055960286943328656, 0.055960286943328656, 0.055960286943328656, 0.055960286943328656, 0.055960286943328656, 0.055960286943328656, 0.055960286943328656, 0.055960286943328656, 0.055960286943328656, 0.055960286943328656, 0.055960286943328656, 0.055960286943328656, 0.055960286943328656, 0.055960286943328656, 0.055960286943328656, 0.055960286943328656, 0.055960286943328656, 0.055960286943328656, 0.055874355779912725, 0.055874355779912725, 0.055874355779912725, 0.055874355779912725, 0.055874355779912725, 0.055874355779912725, 0.055874355779912725, 0.055874355779912725, 0.055874355779912725, 0.055874355779912725, 0.055874355779912725, 0.055874355779912725, 0.055874355779912725, 0.055874355779912725, 0.055874355779912725, 0.055874355779912725, 0.055874355779912725, 0.055874355779912725, 0.055874355779912725, 0.055874355779912725, 0.0555466705749561, 0.0555466705749561, 0.0555466705749561, 0.0555466705749561, 0.0555466705749561, 0.0555466705749561, 0.0555466705749561, 0.0555466705749561, 0.0555466705749561, 0.0555466705749561, 0.0555466705749561, 0.0555466705749561, 0.0555466705749561, 0.0555466705749561, 0.0555466705749561, 0.0555466705749561, 0.0555466705749561, 0.0555466705749561, 0.0555466705749561, 0.0555466705749561, 0.05538074616531811, 0.05538074616531811, 0.05538074616531811, 0.05538074616531811, 0.05538074616531811, 0.05538074616531811, 0.05538074616531811, 0.05538074616531811, 0.05538074616531811, 0.05538074616531811, 0.05538074616531811, 0.05538074616531811, 0.05538074616531811, 0.05538074616531811, 0.05538074616531811, 0.05538074616531811, 0.05538074616531811, 0.05538074616531811, 0.05538074616531811, 0.05538074616531811, 0.0554986033284782, 0.0554986033284782, 0.0554986033284782, 0.0554986033284782, 0.0554986033284782, 0.0554986033284782, 0.0554986033284782, 0.0554986033284782, 0.0554986033284782, 0.0554986033284782, 0.0554986033284782, 0.0554986033284782, 0.0554986033284782, 0.0554986033284782, 0.0554986033284782, 0.0554986033284782, 0.0554986033284782, 0.0554986033284782, 0.0554986033284782, 0.0554986033284782, 0.05501797498849946, 0.05501797498849946, 0.05501797498849946, 0.05501797498849946, 0.05501797498849946, 0.05501797498849946, 0.05501797498849946, 0.05501797498849946, 0.05501797498849946, 0.05501797498849946, 0.05501797498849946, 0.05501797498849946, 0.05501797498849946, 0.05501797498849946, 0.05501797498849946, 0.05501797498849946, 0.05501797498849946, 0.05501797498849946, 0.05501797498849946, 0.05501797498849946, 0.05664412306401344, 0.05664412306401344, 0.05664412306401344, 0.05664412306401344, 0.05664412306401344, 0.05664412306401344, 0.05664412306401344, 0.05664412306401344, 0.05664412306401344, 0.05664412306401344, 0.05664412306401344, 0.05664412306401344, 0.05664412306401344, 0.05664412306401344, 0.05664412306401344, 0.05664412306401344, 0.05664412306401344, 0.05664412306401344, 0.05664412306401344, 0.05664412306401344, 0.05564366742353101, 0.05564366742353101, 0.05564366742353101, 0.05564366742353101, 0.05564366742353101, 0.05564366742353101, 0.05564366742353101, 0.05564366742353101, 0.05564366742353101, 0.05564366742353101, 0.05564366742353101, 0.05564366742353101, 0.05564366742353101, 0.05564366742353101, 0.05564366742353101, 0.05564366742353101, 0.05564366742353101, 0.05564366742353101, 0.05564366742353101, 0.05564366742353101, 0.05598566433418248, 0.05598566433418248, 0.05598566433418248, 0.05598566433418248, 0.05598566433418248, 0.05598566433418248, 0.05598566433418248, 0.05598566433418248, 0.05598566433418248, 0.05598566433418248, 0.05598566433418248, 0.05598566433418248, 0.05598566433418248, 0.05598566433418248, 0.05598566433418248, 0.05598566433418248, 0.05598566433418248, 0.05598566433418248, 0.05598566433418248, 0.05598566433418248, 0.055660265068780385, 0.055660265068780385, 0.055660265068780385, 0.055660265068780385, 0.055660265068780385, 0.055660265068780385, 0.055660265068780385, 0.055660265068780385, 0.055660265068780385, 0.055660265068780385, 0.055660265068780385, 0.055660265068780385, 0.055660265068780385, 0.055660265068780385, 0.055660265068780385, 0.055660265068780385, 0.055660265068780385, 0.055660265068780385, 0.055660265068780385, 0.055660265068780385, 0.055971664524210596, 0.055971664524210596, 0.055971664524210596, 0.055971664524210596, 0.055971664524210596, 0.055971664524210596, 0.055971664524210596, 0.055971664524210596, 0.055971664524210596, 0.055971664524210596, 0.055971664524210596, 0.055971664524210596, 0.055971664524210596, 0.055971664524210596, 0.055971664524210596, 0.055971664524210596, 0.055971664524210596, 0.055971664524210596, 0.055971664524210596, 0.055971664524210596, 0.05611368338023976, 0.05611368338023976, 0.05611368338023976, 0.05611368338023976, 0.05611368338023976, 0.05611368338023976, 0.05611368338023976, 0.05611368338023976, 0.05611368338023976, 0.05611368338023976, 0.05611368338023976, 0.05611368338023976, 0.05611368338023976, 0.05611368338023976, 0.05611368338023976, 0.05611368338023976, 0.05611368338023976, 0.05611368338023976, 0.05611368338023976, 0.05611368338023976, 0.05746820844997865, 0.05746820844997865, 0.05746820844997865, 0.05746820844997865, 0.05746820844997865, 0.05746820844997865, 0.05746820844997865, 0.05746820844997865, 0.05746820844997865, 0.05746820844997865, 0.05746820844997865, 0.05746820844997865, 0.05746820844997865, 0.05746820844997865, 0.05746820844997865, 0.05746820844997865, 0.05746820844997865, 0.05746820844997865, 0.05746820844997865, 0.05746820844997865, 0.057254458740831175, 0.057254458740831175, 0.057254458740831175, 0.057254458740831175, 0.057254458740831175, 0.057254458740831175, 0.057254458740831175, 0.057254458740831175, 0.057254458740831175, 0.057254458740831175, 0.057254458740831175, 0.057254458740831175, 0.057254458740831175, 0.057254458740831175, 0.057254458740831175, 0.057254458740831175, 0.057254458740831175, 0.057254458740831175, 0.057254458740831175, 0.057254458740831175, 0.057109666586315944, 0.057109666586315944, 0.057109666586315944, 0.057109666586315944, 0.057109666586315944, 0.057109666586315944, 0.057109666586315944, 0.057109666586315944, 0.057109666586315944, 0.057109666586315944, 0.057109666586315944, 0.057109666586315944, 0.057109666586315944, 0.057109666586315944, 0.057109666586315944, 0.057109666586315944, 0.057109666586315944, 0.057109666586315944, 0.057109666586315944, 0.057109666586315944, 0.05651911235351629, 0.05651911235351629, 0.05651911235351629, 0.05651911235351629, 0.05651911235351629, 0.05651911235351629, 0.05651911235351629, 0.05651911235351629, 0.05651911235351629, 0.05651911235351629, 0.05651911235351629, 0.05651911235351629, 0.05651911235351629, 0.05651911235351629, 0.05651911235351629, 0.05651911235351629, 0.05651911235351629, 0.05651911235351629, 0.05651911235351629, 0.05651911235351629, 0.05676330953349927, 0.05676330953349927, 0.05676330953349927, 0.05676330953349927, 0.05676330953349927, 0.05676330953349927, 0.05676330953349927, 0.05676330953349927, 0.05676330953349927, 0.05676330953349927, 0.05676330953349927, 0.05676330953349927, 0.05676330953349927, 0.05676330953349927, 0.05676330953349927, 0.05676330953349927, 0.05676330953349927, 0.05676330953349927, 0.05676330953349927, 0.05676330953349927, 0.05622554129698132, 0.05622554129698132, 0.05622554129698132, 0.05622554129698132, 0.05622554129698132, 0.05622554129698132, 0.05622554129698132, 0.05622554129698132, 0.05622554129698132, 0.05622554129698132, 0.05622554129698132, 0.05622554129698132, 0.05622554129698132, 0.05622554129698132, 0.05622554129698132, 0.05622554129698132, 0.05622554129698132, 0.05622554129698132, 0.05622554129698132, 0.05622554129698132, 0.05693542295033845, 0.05693542295033845, 0.05693542295033845, 0.05693542295033845, 0.05693542295033845, 0.05693542295033845, 0.05693542295033845, 0.05693542295033845, 0.05693542295033845, 0.05693542295033845, 0.05693542295033845, 0.05693542295033845, 0.05693542295033845, 0.05693542295033845, 0.05693542295033845, 0.05693542295033845, 0.05693542295033845, 0.05693542295033845, 0.05693542295033845, 0.05693542295033845, 0.05572100539900162, 0.05572100539900162, 0.05572100539900162, 0.05572100539900162, 0.05572100539900162, 0.05572100539900162, 0.05572100539900162, 0.05572100539900162, 0.05572100539900162, 0.05572100539900162, 0.05572100539900162, 0.05572100539900162, 0.05572100539900162, 0.05572100539900162, 0.05572100539900162, 0.05572100539900162, 0.05572100539900162, 0.05572100539900162, 0.05572100539900162, 0.05572100539900162, 0.05537524339663289, 0.05537524339663289, 0.05537524339663289, 0.05537524339663289, 0.05537524339663289, 0.05537524339663289, 0.05537524339663289, 0.05537524339663289, 0.05537524339663289, 0.05537524339663289, 0.05537524339663289, 0.05537524339663289, 0.05537524339663289, 0.05537524339663289, 0.05537524339663289, 0.05537524339663289, 0.05537524339663289, 0.05537524339663289, 0.05537524339663289, 0.05537524339663289, 0.057154962795727925, 0.057154962795727925, 0.057154962795727925, 0.057154962795727925, 0.057154962795727925, 0.057154962795727925, 0.057154962795727925, 0.057154962795727925, 0.057154962795727925, 0.057154962795727925, 0.057154962795727925, 0.057154962795727925, 0.057154962795727925, 0.057154962795727925, 0.057154962795727925, 0.057154962795727925, 0.057154962795727925, 0.057154962795727925, 0.057154962795727925, 0.057154962795727925, 0.0558245733265635, 0.0558245733265635, 0.0558245733265635, 0.0558245733265635, 0.0558245733265635, 0.0558245733265635, 0.0558245733265635, 0.0558245733265635, 0.0558245733265635, 0.0558245733265635, 0.0558245733265635, 0.0558245733265635, 0.0558245733265635, 0.0558245733265635, 0.0558245733265635, 0.0558245733265635, 0.0558245733265635, 0.0558245733265635, 0.0558245733265635, 0.0558245733265635, 0.05657417943005709, 0.05657417943005709, 0.05657417943005709, 0.05657417943005709, 0.05657417943005709, 0.05657417943005709, 0.05657417943005709, 0.05657417943005709, 0.05657417943005709, 0.05657417943005709, 0.05657417943005709, 0.05657417943005709, 0.05657417943005709, 0.05657417943005709, 0.05657417943005709, 0.05657417943005709, 0.05657417943005709, 0.05657417943005709, 0.05657417943005709, 0.05657417943005709, 0.05614054764902273, 0.05614054764902273, 0.05614054764902273, 0.05614054764902273, 0.05614054764902273, 0.05614054764902273, 0.05614054764902273, 0.05614054764902273, 0.05614054764902273, 0.05614054764902273, 0.05614054764902273, 0.05614054764902273, 0.05614054764902273, 0.05614054764902273, 0.05614054764902273, 0.05614054764902273, 0.05614054764902273, 0.05614054764902273, 0.05614054764902273, 0.05614054764902273, 0.05688453403781893, 0.05688453403781893, 0.05688453403781893, 0.05688453403781893, 0.05688453403781893, 0.05688453403781893, 0.05688453403781893, 0.05688453403781893, 0.05688453403781893, 0.05688453403781893, 0.05688453403781893, 0.05688453403781893, 0.05688453403781893, 0.05688453403781893, 0.05688453403781893, 0.05688453403781893, 0.05688453403781893, 0.05688453403781893, 0.05688453403781893, 0.05688453403781893, 0.056193160608659316, 0.056193160608659316, 0.056193160608659316, 0.056193160608659316, 0.056193160608659316, 0.056193160608659316, 0.056193160608659316, 0.056193160608659316, 0.056193160608659316, 0.056193160608659316, 0.056193160608659316, 0.056193160608659316, 0.056193160608659316, 0.056193160608659316, 0.056193160608659316, 0.056193160608659316, 0.056193160608659316, 0.056193160608659316, 0.056193160608659316, 0.056193160608659316, 0.05601751283001477, 0.05601751283001477, 0.05601751283001477, 0.05601751283001477, 0.05601751283001477, 0.05601751283001477, 0.05601751283001477, 0.05601751283001477, 0.05601751283001477, 0.05601751283001477, 0.05601751283001477, 0.05601751283001477, 0.05601751283001477, 0.05601751283001477, 0.05601751283001477, 0.05601751283001477, 0.05601751283001477, 0.05601751283001477, 0.05601751283001477, 0.05601751283001477, 0.0568340756459255, 0.0568340756459255, 0.0568340756459255, 0.0568340756459255, 0.0568340756459255, 0.0568340756459255, 0.0568340756459255, 0.0568340756459255, 0.0568340756459255, 0.0568340756459255, 0.0568340756459255, 0.0568340756459255, 0.0568340756459255, 0.0568340756459255, 0.0568340756459255, 0.0568340756459255, 0.0568340756459255, 0.0568340756459255, 0.0568340756459255, 0.0568340756459255, 0.05619974491609056, 0.05619974491609056, 0.05619974491609056, 0.05619974491609056, 0.05619974491609056, 0.05619974491609056, 0.05619974491609056, 0.05619974491609056, 0.05619974491609056, 0.05619974491609056, 0.05619974491609056, 0.05619974491609056, 0.05619974491609056, 0.05619974491609056, 0.05619974491609056, 0.05619974491609056, 0.05619974491609056, 0.05619974491609056, 0.05619974491609056, 0.05619974491609056, 0.0551012607823671, 0.0551012607823671, 0.0551012607823671, 0.0551012607823671, 0.0551012607823671, 0.0551012607823671, 0.0551012607823671, 0.0551012607823671, 0.0551012607823671, 0.0551012607823671, 0.0551012607823671, 0.0551012607823671, 0.0551012607823671, 0.0551012607823671, 0.0551012607823671, 0.0551012607823671, 0.0551012607823671, 0.0551012607823671, 0.0551012607823671, 0.0551012607823671, 0.055814914360789794, 0.055814914360789794, 0.055814914360789794, 0.055814914360789794, 0.055814914360789794, 0.055814914360789794, 0.055814914360789794, 0.055814914360789794, 0.055814914360789794, 0.055814914360789794, 0.055814914360789794, 0.055814914360789794, 0.055814914360789794, 0.055814914360789794, 0.055814914360789794, 0.055814914360789794, 0.055814914360789794, 0.055814914360789794, 0.055814914360789794, 0.055814914360789794, 0.05585166483757762, 0.05585166483757762, 0.05585166483757762, 0.05585166483757762, 0.05585166483757762, 0.05585166483757762, 0.05585166483757762, 0.05585166483757762, 0.05585166483757762, 0.05585166483757762, 0.05585166483757762, 0.05585166483757762, 0.05585166483757762, 0.05585166483757762, 0.05585166483757762, 0.05585166483757762, 0.05585166483757762, 0.05585166483757762, 0.05585166483757762, 0.05585166483757762, 0.05706304557284563, 0.05706304557284563, 0.05706304557284563, 0.05706304557284563, 0.05706304557284563, 0.05706304557284563, 0.05706304557284563, 0.05706304557284563, 0.05706304557284563, 0.05706304557284563, 0.05706304557284563, 0.05706304557284563, 0.05706304557284563, 0.05706304557284563, 0.05706304557284563, 0.05706304557284563, 0.05706304557284563, 0.05706304557284563, 0.05706304557284563, 0.05706304557284563, 0.056218165728536766, 0.056218165728536766, 0.056218165728536766, 0.056218165728536766, 0.056218165728536766, 0.056218165728536766, 0.056218165728536766, 0.056218165728536766, 0.056218165728536766, 0.056218165728536766, 0.056218165728536766, 0.056218165728536766, 0.056218165728536766, 0.056218165728536766, 0.056218165728536766, 0.056218165728536766, 0.056218165728536766, 0.056218165728536766, 0.056218165728536766, 0.056218165728536766, 0.05696145907054076, 0.05696145907054076, 0.05696145907054076, 0.05696145907054076, 0.05696145907054076, 0.05696145907054076, 0.05696145907054076, 0.05696145907054076, 0.05696145907054076, 0.05696145907054076, 0.05696145907054076, 0.05696145907054076, 0.05696145907054076, 0.05696145907054076, 0.05696145907054076, 0.05696145907054076, 0.05696145907054076, 0.05696145907054076, 0.05696145907054076, 0.05696145907054076, 0.056891732343462655, 0.056891732343462655, 0.056891732343462655, 0.056891732343462655, 0.056891732343462655, 0.056891732343462655, 0.056891732343462655, 0.056891732343462655, 0.056891732343462655, 0.056891732343462655, 0.056891732343462655, 0.056891732343462655, 0.056891732343462655, 0.056891732343462655, 0.056891732343462655, 0.056891732343462655, 0.056891732343462655, 0.056891732343462655, 0.056891732343462655, 0.056891732343462655, 0.05631020531894957, 0.05631020531894957, 0.05631020531894957, 0.05631020531894957, 0.05631020531894957, 0.05631020531894957, 0.05631020531894957, 0.05631020531894957, 0.05631020531894957, 0.05631020531894957, 0.05631020531894957, 0.05631020531894957, 0.05631020531894957, 0.05631020531894957, 0.05631020531894957, 0.05631020531894957, 0.05631020531894957, 0.05631020531894957, 0.05631020531894957, 0.05631020531894957, 0.05589800372140913, 0.05589800372140913, 0.05589800372140913, 0.05589800372140913, 0.05589800372140913, 0.05589800372140913, 0.05589800372140913, 0.05589800372140913, 0.05589800372140913, 0.05589800372140913, 0.05589800372140913, 0.05589800372140913, 0.05589800372140913, 0.05589800372140913, 0.05589800372140913, 0.05589800372140913, 0.05589800372140913, 0.05589800372140913, 0.05589800372140913, 0.05589800372140913, 0.05491943932283099, 0.05491943932283099, 0.05491943932283099, 0.05491943932283099, 0.05491943932283099, 0.05491943932283099, 0.05491943932283099, 0.05491943932283099, 0.05491943932283099, 0.05491943932283099, 0.05491943932283099, 0.05491943932283099, 0.05491943932283099, 0.05491943932283099, 0.05491943932283099, 0.05491943932283099, 0.05491943932283099, 0.05491943932283099, 0.05491943932283099, 0.05491943932283099, 0.0547198634236023, 0.0547198634236023, 0.0547198634236023, 0.0547198634236023, 0.0547198634236023, 0.0547198634236023, 0.0547198634236023, 0.0547198634236023, 0.0547198634236023, 0.0547198634236023, 0.0547198634236023, 0.0547198634236023, 0.0547198634236023, 0.0547198634236023, 0.0547198634236023, 0.0547198634236023, 0.0547198634236023, 0.0547198634236023, 0.0547198634236023, 0.0547198634236023, 0.056136329089484426, 0.056136329089484426, 0.056136329089484426, 0.056136329089484426, 0.056136329089484426, 0.056136329089484426, 0.056136329089484426, 0.056136329089484426, 0.056136329089484426, 0.056136329089484426, 0.056136329089484426, 0.056136329089484426, 0.056136329089484426, 0.056136329089484426, 0.056136329089484426, 0.056136329089484426, 0.056136329089484426, 0.056136329089484426, 0.056136329089484426, 0.056136329089484426, 0.05521450788098186, 0.05521450788098186, 0.05521450788098186, 0.05521450788098186, 0.05521450788098186, 0.05521450788098186, 0.05521450788098186, 0.05521450788098186, 0.05521450788098186, 0.05521450788098186, 0.05521450788098186, 0.05521450788098186, 0.05521450788098186, 0.05521450788098186, 0.05521450788098186, 0.05521450788098186, 0.05521450788098186, 0.05521450788098186, 0.05521450788098186, 0.05521450788098186, 0.05514891438593009, 0.05514891438593009, 0.05514891438593009, 0.05514891438593009, 0.05514891438593009, 0.05514891438593009, 0.05514891438593009, 0.05514891438593009, 0.05514891438593009, 0.05514891438593009, 0.05514891438593009, 0.05514891438593009, 0.05514891438593009, 0.05514891438593009, 0.05514891438593009, 0.05514891438593009, 0.05514891438593009, 0.05514891438593009, 0.05514891438593009, 0.05514891438593009, 0.05556704403934644, 0.05556704403934644, 0.05556704403934644, 0.05556704403934644, 0.05556704403934644, 0.05556704403934644, 0.05556704403934644, 0.05556704403934644, 0.05556704403934644, 0.05556704403934644, 0.05556704403934644, 0.05556704403934644, 0.05556704403934644, 0.05556704403934644, 0.05556704403934644, 0.05556704403934644, 0.05556704403934644, 0.05556704403934644, 0.05556704403934644, 0.05556704403934644, 0.05714505709841936, 0.05714505709841936, 0.05714505709841936, 0.05714505709841936, 0.05714505709841936, 0.05714505709841936, 0.05714505709841936, 0.05714505709841936, 0.05714505709841936, 0.05714505709841936, 0.05714505709841936, 0.05714505709841936, 0.05714505709841936, 0.05714505709841936, 0.05714505709841936, 0.05714505709841936, 0.05714505709841936, 0.05714505709841936, 0.05714505709841936, 0.05714505709841936, 0.05672194972784561, 0.05672194972784561, 0.05672194972784561, 0.05672194972784561, 0.05672194972784561, 0.05672194972784561, 0.05672194972784561, 0.05672194972784561, 0.05672194972784561, 0.05672194972784561, 0.05672194972784561, 0.05672194972784561, 0.05672194972784561, 0.05672194972784561, 0.05672194972784561, 0.05672194972784561, 0.05672194972784561, 0.05672194972784561, 0.05672194972784561, 0.05672194972784561, 0.056302159237113354, 0.056302159237113354, 0.056302159237113354, 0.056302159237113354, 0.056302159237113354, 0.056302159237113354, 0.056302159237113354, 0.056302159237113354, 0.056302159237113354, 0.056302159237113354, 0.056302159237113354, 0.056302159237113354, 0.056302159237113354, 0.056302159237113354, 0.056302159237113354, 0.056302159237113354, 0.056302159237113354, 0.056302159237113354, 0.056302159237113354, 0.056302159237113354, 0.056492776674615046, 0.056492776674615046, 0.056492776674615046, 0.056492776674615046, 0.056492776674615046, 0.056492776674615046, 0.056492776674615046, 0.056492776674615046, 0.056492776674615046, 0.056492776674615046, 0.056492776674615046, 0.056492776674615046, 0.056492776674615046, 0.056492776674615046, 0.056492776674615046, 0.056492776674615046, 0.056492776674615046, 0.056492776674615046, 0.056492776674615046, 0.056492776674615046, 0.055373298795510305, 0.055373298795510305, 0.055373298795510305, 0.055373298795510305, 0.055373298795510305, 0.055373298795510305, 0.055373298795510305, 0.055373298795510305, 0.055373298795510305, 0.055373298795510305, 0.055373298795510305, 0.055373298795510305, 0.055373298795510305, 0.055373298795510305, 0.055373298795510305, 0.055373298795510305, 0.055373298795510305, 0.055373298795510305, 0.055373298795510305, 0.055373298795510305, 0.05660017343485405, 0.05660017343485405, 0.05660017343485405, 0.05660017343485405, 0.05660017343485405, 0.05660017343485405, 0.05660017343485405, 0.05660017343485405, 0.05660017343485405, 0.05660017343485405, 0.05660017343485405, 0.05660017343485405, 0.05660017343485405, 0.05660017343485405, 0.05660017343485405, 0.05660017343485405, 0.05660017343485405, 0.05660017343485405, 0.05660017343485405, 0.05660017343485405, 0.05689997750445991, 0.05689997750445991, 0.05689997750445991, 0.05689997750445991, 0.05689997750445991, 0.05689997750445991, 0.05689997750445991, 0.05689997750445991, 0.05689997750445991, 0.05689997750445991, 0.05689997750445991, 0.05689997750445991, 0.05689997750445991, 0.05689997750445991, 0.05689997750445991, 0.05689997750445991, 0.05689997750445991, 0.05689997750445991, 0.05689997750445991, 0.05689997750445991, 0.05603747399373367, 0.05603747399373367, 0.05603747399373367, 0.05603747399373367, 0.05603747399373367, 0.05603747399373367, 0.05603747399373367, 0.05603747399373367, 0.05603747399373367, 0.05603747399373367, 0.05603747399373367, 0.05603747399373367, 0.05603747399373367, 0.05603747399373367, 0.05603747399373367, 0.05603747399373367, 0.05603747399373367, 0.05603747399373367, 0.05603747399373367, 0.05603747399373367, 0.056094574174828396, 0.056094574174828396, 0.056094574174828396, 0.056094574174828396, 0.056094574174828396, 0.056094574174828396, 0.056094574174828396, 0.056094574174828396, 0.056094574174828396, 0.056094574174828396, 0.056094574174828396, 0.056094574174828396, 0.056094574174828396, 0.056094574174828396, 0.056094574174828396, 0.056094574174828396, 0.056094574174828396, 0.056094574174828396, 0.056094574174828396, 0.056094574174828396, 0.05637428347227629, 0.05637428347227629, 0.05637428347227629, 0.05637428347227629, 0.05637428347227629, 0.05637428347227629, 0.05637428347227629, 0.05637428347227629, 0.05637428347227629, 0.05637428347227629, 0.05637428347227629, 0.05637428347227629, 0.05637428347227629, 0.05637428347227629, 0.05637428347227629, 0.05637428347227629, 0.05637428347227629, 0.05637428347227629, 0.05637428347227629, 0.05637428347227629, 0.05769557021632297, 0.05769557021632297, 0.05769557021632297, 0.05769557021632297, 0.05769557021632297, 0.05769557021632297, 0.05769557021632297, 0.05769557021632297, 0.05769557021632297, 0.05769557021632297, 0.05769557021632297, 0.05769557021632297, 0.05769557021632297, 0.05769557021632297, 0.05769557021632297, 0.05769557021632297, 0.05769557021632297, 0.05769557021632297, 0.05769557021632297, 0.05769557021632297, 0.05580361070260151, 0.05580361070260151, 0.05580361070260151, 0.05580361070260151, 0.05580361070260151, 0.05580361070260151, 0.05580361070260151, 0.05580361070260151, 0.05580361070260151, 0.05580361070260151, 0.05580361070260151, 0.05580361070260151, 0.05580361070260151, 0.05580361070260151, 0.05580361070260151, 0.05580361070260151, 0.05580361070260151, 0.05580361070260151, 0.05580361070260151, 0.05580361070260151, 0.05676781962635749, 0.05676781962635749, 0.05676781962635749, 0.05676781962635749, 0.05676781962635749, 0.05676781962635749, 0.05676781962635749, 0.05676781962635749, 0.05676781962635749, 0.05676781962635749, 0.05676781962635749, 0.05676781962635749, 0.05676781962635749, 0.05676781962635749, 0.05676781962635749, 0.05676781962635749, 0.05676781962635749, 0.05676781962635749, 0.05676781962635749, 0.05676781962635749, 0.05589254550339451, 0.05589254550339451, 0.05589254550339451, 0.05589254550339451, 0.05589254550339451, 0.05589254550339451, 0.05589254550339451, 0.05589254550339451, 0.05589254550339451, 0.05589254550339451, 0.05589254550339451, 0.05589254550339451, 0.05589254550339451, 0.05589254550339451, 0.05589254550339451, 0.05589254550339451, 0.05589254550339451, 0.05589254550339451, 0.05589254550339451, 0.05589254550339451, 0.05653991077781127, 0.05653991077781127, 0.05653991077781127, 0.05653991077781127, 0.05653991077781127, 0.05653991077781127, 0.05653991077781127, 0.05653991077781127, 0.05653991077781127, 0.05653991077781127, 0.05653991077781127, 0.05653991077781127, 0.05653991077781127, 0.05653991077781127, 0.05653991077781127, 0.05653991077781127, 0.05653991077781127, 0.05653991077781127, 0.05653991077781127, 0.05653991077781127, 0.056444983825798566, 0.056444983825798566, 0.056444983825798566, 0.056444983825798566, 0.056444983825798566, 0.056444983825798566, 0.056444983825798566, 0.056444983825798566, 0.056444983825798566, 0.056444983825798566, 0.056444983825798566, 0.056444983825798566, 0.056444983825798566, 0.056444983825798566, 0.056444983825798566, 0.056444983825798566, 0.056444983825798566, 0.056444983825798566, 0.056444983825798566, 0.056444983825798566, 0.056294446671851774, 0.056294446671851774, 0.056294446671851774, 0.056294446671851774, 0.056294446671851774, 0.056294446671851774, 0.056294446671851774, 0.056294446671851774, 0.056294446671851774, 0.056294446671851774, 0.056294446671851774, 0.056294446671851774, 0.056294446671851774, 0.056294446671851774, 0.056294446671851774, 0.056294446671851774, 0.056294446671851774, 0.056294446671851774, 0.056294446671851774, 0.056294446671851774, 0.056652411998051724, 0.056652411998051724, 0.056652411998051724, 0.056652411998051724, 0.056652411998051724, 0.056652411998051724, 0.056652411998051724, 0.056652411998051724, 0.056652411998051724, 0.056652411998051724, 0.056652411998051724, 0.056652411998051724, 0.056652411998051724, 0.056652411998051724, 0.056652411998051724, 0.056652411998051724, 0.056652411998051724, 0.056652411998051724, 0.056652411998051724, 0.056652411998051724, 0.05650245777230887, 0.05650245777230887, 0.05650245777230887, 0.05650245777230887, 0.05650245777230887, 0.05650245777230887, 0.05650245777230887, 0.05650245777230887, 0.05650245777230887, 0.05650245777230887, 0.05650245777230887, 0.05650245777230887, 0.05650245777230887, 0.05650245777230887, 0.05650245777230887, 0.05650245777230887, 0.05650245777230887, 0.05650245777230887, 0.05650245777230887, 0.05650245777230887, 0.05479810505351306, 0.05479810505351306, 0.05479810505351306, 0.05479810505351306, 0.05479810505351306, 0.05479810505351306, 0.05479810505351306, 0.05479810505351306, 0.05479810505351306, 0.05479810505351306, 0.05479810505351306, 0.05479810505351306, 0.05479810505351306, 0.05479810505351306, 0.05479810505351306, 0.05479810505351306, 0.05479810505351306, 0.05479810505351306, 0.05479810505351306, 0.05479810505351306, 0.056408961536219125, 0.056408961536219125, 0.056408961536219125, 0.056408961536219125, 0.056408961536219125, 0.056408961536219125, 0.056408961536219125, 0.056408961536219125, 0.056408961536219125, 0.056408961536219125, 0.056408961536219125, 0.056408961536219125, 0.056408961536219125, 0.056408961536219125, 0.056408961536219125, 0.056408961536219125, 0.056408961536219125, 0.056408961536219125, 0.056408961536219125, 0.056408961536219125, 0.05547567368338186, 0.05547567368338186, 0.05547567368338186, 0.05547567368338186, 0.05547567368338186, 0.05547567368338186, 0.05547567368338186, 0.05547567368338186, 0.05547567368338186, 0.05547567368338186, 0.05547567368338186, 0.05547567368338186, 0.05547567368338186, 0.05547567368338186, 0.05547567368338186, 0.05547567368338186, 0.05547567368338186, 0.05547567368338186, 0.05547567368338186, 0.05547567368338186, 0.056474859472437584, 0.056474859472437584, 0.056474859472437584, 0.056474859472437584, 0.056474859472437584, 0.056474859472437584, 0.056474859472437584, 0.056474859472437584, 0.056474859472437584, 0.056474859472437584, 0.056474859472437584, 0.056474859472437584, 0.056474859472437584, 0.056474859472437584, 0.056474859472437584, 0.056474859472437584, 0.056474859472437584, 0.056474859472437584, 0.056474859472437584, 0.056474859472437584, 0.05611595268655213, 0.05611595268655213, 0.05611595268655213, 0.05611595268655213, 0.05611595268655213, 0.05611595268655213, 0.05611595268655213, 0.05611595268655213, 0.05611595268655213, 0.05611595268655213, 0.05611595268655213, 0.05611595268655213, 0.05611595268655213, 0.05611595268655213, 0.05611595268655213, 0.05611595268655213, 0.05611595268655213, 0.05611595268655213, 0.05611595268655213, 0.05611595268655213, 0.05645056514898481, 0.05645056514898481, 0.05645056514898481, 0.05645056514898481, 0.05645056514898481, 0.05645056514898481, 0.05645056514898481, 0.05645056514898481, 0.05645056514898481, 0.05645056514898481, 0.05645056514898481, 0.05645056514898481, 0.05645056514898481, 0.05645056514898481, 0.05645056514898481, 0.05645056514898481, 0.05645056514898481, 0.05645056514898481, 0.05645056514898481, 0.05645056514898481, 0.056563910974602026, 0.056563910974602026, 0.056563910974602026, 0.056563910974602026, 0.056563910974602026, 0.056563910974602026, 0.056563910974602026, 0.056563910974602026, 0.056563910974602026, 0.056563910974602026, 0.056563910974602026, 0.056563910974602026, 0.056563910974602026, 0.056563910974602026, 0.056563910974602026, 0.056563910974602026, 0.056563910974602026, 0.056563910974602026, 0.056563910974602026, 0.056563910974602026, 0.055940266295703076, 0.055940266295703076, 0.055940266295703076, 0.055940266295703076, 0.055940266295703076, 0.055940266295703076, 0.055940266295703076, 0.055940266295703076, 0.055940266295703076, 0.055940266295703076, 0.055940266295703076, 0.055940266295703076, 0.055940266295703076, 0.055940266295703076, 0.055940266295703076, 0.055940266295703076, 0.055940266295703076, 0.055940266295703076, 0.055940266295703076, 0.055940266295703076, 0.05583279844344329, 0.05583279844344329, 0.05583279844344329, 0.05583279844344329, 0.05583279844344329, 0.05583279844344329, 0.05583279844344329, 0.05583279844344329, 0.05583279844344329, 0.05583279844344329, 0.05583279844344329, 0.05583279844344329, 0.05583279844344329, 0.05583279844344329, 0.05583279844344329, 0.05583279844344329, 0.05583279844344329, 0.05583279844344329, 0.05583279844344329, 0.05583279844344329, 0.055609784421559505, 0.055609784421559505, 0.055609784421559505, 0.055609784421559505, 0.055609784421559505, 0.055609784421559505, 0.055609784421559505, 0.055609784421559505, 0.055609784421559505, 0.055609784421559505, 0.055609784421559505, 0.055609784421559505, 0.055609784421559505, 0.055609784421559505, 0.055609784421559505, 0.055609784421559505, 0.055609784421559505, 0.055609784421559505, 0.055609784421559505, 0.055609784421559505, 0.05602796211674989, 0.05602796211674989, 0.05602796211674989, 0.05602796211674989, 0.05602796211674989, 0.05602796211674989, 0.05602796211674989, 0.05602796211674989, 0.05602796211674989, 0.05602796211674989, 0.05602796211674989, 0.05602796211674989, 0.05602796211674989, 0.05602796211674989, 0.05602796211674989, 0.05602796211674989, 0.05602796211674989, 0.05602796211674989, 0.05602796211674989, 0.05602796211674989, 0.05618033215298955, 0.05618033215298955, 0.05618033215298955, 0.05618033215298955, 0.05618033215298955, 0.05618033215298955, 0.05618033215298955, 0.05618033215298955, 0.05618033215298955, 0.05618033215298955, 0.05618033215298955, 0.05618033215298955, 0.05618033215298955, 0.05618033215298955, 0.05618033215298955, 0.05618033215298955, 0.05618033215298955, 0.05618033215298955, 0.05618033215298955, 0.05618033215298955, 0.05446478332289827, 0.05446478332289827, 0.05446478332289827, 0.05446478332289827, 0.05446478332289827, 0.05446478332289827, 0.05446478332289827, 0.05446478332289827, 0.05446478332289827, 0.05446478332289827, 0.05446478332289827, 0.05446478332289827, 0.05446478332289827, 0.05446478332289827, 0.05446478332289827, 0.05446478332289827, 0.05446478332289827, 0.05446478332289827, 0.05446478332289827, 0.05446478332289827, 0.05517937709261043, 0.05517937709261043, 0.05517937709261043, 0.05517937709261043, 0.05517937709261043, 0.05517937709261043, 0.05517937709261043, 0.05517937709261043, 0.05517937709261043, 0.05517937709261043, 0.05517937709261043, 0.05517937709261043, 0.05517937709261043, 0.05517937709261043, 0.05517937709261043, 0.05517937709261043, 0.05517937709261043, 0.05517937709261043, 0.05517937709261043, 0.05517937709261043, 0.055791757593088506, 0.055791757593088506, 0.055791757593088506, 0.055791757593088506, 0.055791757593088506, 0.055791757593088506, 0.055791757593088506, 0.055791757593088506, 0.055791757593088506, 0.055791757593088506, 0.055791757593088506, 0.055791757593088506, 0.055791757593088506, 0.055791757593088506, 0.055791757593088506, 0.055791757593088506, 0.055791757593088506, 0.055791757593088506, 0.055791757593088506, 0.055791757593088506, 0.05620098172765091, 0.05620098172765091, 0.05620098172765091, 0.05620098172765091, 0.05620098172765091, 0.05620098172765091, 0.05620098172765091, 0.05620098172765091, 0.05620098172765091, 0.05620098172765091, 0.05620098172765091, 0.05620098172765091, 0.05620098172765091, 0.05620098172765091, 0.05620098172765091, 0.05620098172765091, 0.05620098172765091, 0.05620098172765091, 0.05620098172765091, 0.05620098172765091, 0.056025506858334045, 0.056025506858334045, 0.056025506858334045, 0.056025506858334045, 0.056025506858334045, 0.056025506858334045, 0.056025506858334045, 0.056025506858334045, 0.056025506858334045, 0.056025506858334045, 0.056025506858334045, 0.056025506858334045, 0.056025506858334045, 0.056025506858334045, 0.056025506858334045, 0.056025506858334045, 0.056025506858334045, 0.056025506858334045, 0.056025506858334045, 0.056025506858334045, 0.05652490811764622, 0.05652490811764622, 0.05652490811764622, 0.05652490811764622, 0.05652490811764622, 0.05652490811764622, 0.05652490811764622, 0.05652490811764622, 0.05652490811764622, 0.05652490811764622, 0.05652490811764622, 0.05652490811764622, 0.05652490811764622, 0.05652490811764622, 0.05652490811764622, 0.05652490811764622, 0.05652490811764622, 0.05652490811764622, 0.05652490811764622, 0.05652490811764622, 0.05703893588755448, 0.05703893588755448, 0.05703893588755448, 0.05703893588755448, 0.05703893588755448, 0.05703893588755448, 0.05703893588755448, 0.05703893588755448, 0.05703893588755448, 0.05703893588755448, 0.05703893588755448, 0.05703893588755448, 0.05703893588755448, 0.05703893588755448, 0.05703893588755448, 0.05703893588755448, 0.05703893588755448, 0.05703893588755448, 0.05703893588755448, 0.05703893588755448, 0.057050344817966496, 0.057050344817966496, 0.057050344817966496, 0.057050344817966496, 0.057050344817966496, 0.057050344817966496, 0.057050344817966496, 0.057050344817966496, 0.057050344817966496, 0.057050344817966496, 0.057050344817966496, 0.057050344817966496, 0.057050344817966496, 0.057050344817966496, 0.057050344817966496, 0.057050344817966496, 0.057050344817966496, 0.057050344817966496, 0.057050344817966496, 0.057050344817966496, 0.05610146188216321, 0.05610146188216321, 0.05610146188216321, 0.05610146188216321, 0.05610146188216321, 0.05610146188216321, 0.05610146188216321, 0.05610146188216321, 0.05610146188216321, 0.05610146188216321, 0.05610146188216321, 0.05610146188216321, 0.05610146188216321, 0.05610146188216321, 0.05610146188216321, 0.05610146188216321, 0.05610146188216321, 0.05610146188216321, 0.05610146188216321, 0.05610146188216321, 0.05634446900371829, 0.05634446900371829, 0.05634446900371829, 0.05634446900371829, 0.05634446900371829, 0.05634446900371829, 0.05634446900371829, 0.05634446900371829, 0.05634446900371829, 0.05634446900371829, 0.05634446900371829, 0.05634446900371829, 0.05634446900371829, 0.05634446900371829, 0.05634446900371829, 0.05634446900371829, 0.05634446900371829, 0.05634446900371829, 0.05634446900371829, 0.05634446900371829, 0.056178224187447834, 0.056178224187447834, 0.056178224187447834, 0.056178224187447834, 0.056178224187447834, 0.056178224187447834, 0.056178224187447834, 0.056178224187447834, 0.056178224187447834, 0.056178224187447834, 0.056178224187447834, 0.056178224187447834, 0.056178224187447834, 0.056178224187447834, 0.056178224187447834, 0.056178224187447834, 0.056178224187447834, 0.056178224187447834, 0.056178224187447834, 0.056178224187447834, 0.055587207698763914, 0.055587207698763914, 0.055587207698763914, 0.055587207698763914, 0.055587207698763914, 0.055587207698763914, 0.055587207698763914, 0.055587207698763914, 0.055587207698763914, 0.055587207698763914, 0.055587207698763914, 0.055587207698763914, 0.055587207698763914, 0.055587207698763914, 0.055587207698763914, 0.055587207698763914, 0.055587207698763914, 0.055587207698763914, 0.055587207698763914, 0.055587207698763914, 0.057085641874050866, 0.057085641874050866, 0.057085641874050866, 0.057085641874050866, 0.057085641874050866, 0.057085641874050866, 0.057085641874050866, 0.057085641874050866, 0.057085641874050866, 0.057085641874050866, 0.057085641874050866, 0.057085641874050866, 0.057085641874050866, 0.057085641874050866, 0.057085641874050866, 0.057085641874050866, 0.057085641874050866, 0.057085641874050866, 0.057085641874050866, 0.057085641874050866, 0.05602262025457895, 0.05602262025457895, 0.05602262025457895, 0.05602262025457895, 0.05602262025457895, 0.05602262025457895, 0.05602262025457895, 0.05602262025457895, 0.05602262025457895, 0.05602262025457895, 0.05602262025457895, 0.05602262025457895, 0.05602262025457895, 0.05602262025457895, 0.05602262025457895, 0.05602262025457895, 0.05602262025457895, 0.05602262025457895, 0.05602262025457895, 0.05602262025457895, 0.055044712327996265, 0.055044712327996265, 0.055044712327996265, 0.055044712327996265, 0.055044712327996265, 0.055044712327996265, 0.055044712327996265, 0.055044712327996265, 0.055044712327996265, 0.055044712327996265, 0.055044712327996265, 0.055044712327996265, 0.055044712327996265, 0.055044712327996265, 0.055044712327996265, 0.055044712327996265, 0.055044712327996265, 0.055044712327996265, 0.055044712327996265, 0.055044712327996265, 0.05596246063444177, 0.05596246063444177, 0.05596246063444177, 0.05596246063444177, 0.05596246063444177, 0.05596246063444177, 0.05596246063444177, 0.05596246063444177, 0.05596246063444177, 0.05596246063444177, 0.05596246063444177, 0.05596246063444177, 0.05596246063444177, 0.05596246063444177, 0.05596246063444177, 0.05596246063444177, 0.05596246063444177, 0.05596246063444177, 0.05596246063444177, 0.05596246063444177, 0.05586107660084712, 0.05586107660084712, 0.05586107660084712, 0.05586107660084712, 0.05586107660084712, 0.05586107660084712, 0.05586107660084712, 0.05586107660084712, 0.05586107660084712, 0.05586107660084712, 0.05586107660084712, 0.05586107660084712, 0.05586107660084712, 0.05586107660084712, 0.05586107660084712, 0.05586107660084712, 0.05586107660084712, 0.05586107660084712, 0.05586107660084712, 0.05586107660084712, 0.05545709332841399, 0.05545709332841399, 0.05545709332841399, 0.05545709332841399, 0.05545709332841399, 0.05545709332841399, 0.05545709332841399, 0.05545709332841399, 0.05545709332841399, 0.05545709332841399, 0.05545709332841399, 0.05545709332841399, 0.05545709332841399, 0.05545709332841399, 0.05545709332841399, 0.05545709332841399, 0.05545709332841399, 0.05545709332841399, 0.05545709332841399, 0.05545709332841399, 0.05564502071959474, 0.05564502071959474, 0.05564502071959474, 0.05564502071959474, 0.05564502071959474, 0.05564502071959474, 0.05564502071959474, 0.05564502071959474, 0.05564502071959474, 0.05564502071959474, 0.05564502071959474, 0.05564502071959474, 0.05564502071959474, 0.05564502071959474, 0.05564502071959474, 0.05564502071959474, 0.05564502071959474, 0.05564502071959474, 0.05564502071959474, 0.05564502071959474, 0.056244435795159566, 0.056244435795159566, 0.056244435795159566, 0.056244435795159566, 0.056244435795159566, 0.056244435795159566, 0.056244435795159566, 0.056244435795159566, 0.056244435795159566, 0.056244435795159566, 0.056244435795159566, 0.056244435795159566, 0.056244435795159566, 0.056244435795159566, 0.056244435795159566, 0.056244435795159566, 0.056244435795159566, 0.056244435795159566, 0.056244435795159566, 0.056244435795159566, 0.05646910281904311, 0.05646910281904311, 0.05646910281904311, 0.05646910281904311, 0.05646910281904311, 0.05646910281904311, 0.05646910281904311, 0.05646910281904311, 0.05646910281904311, 0.05646910281904311, 0.05646910281904311, 0.05646910281904311, 0.05646910281904311, 0.05646910281904311, 0.05646910281904311, 0.05646910281904311, 0.05646910281904311, 0.05646910281904311, 0.05646910281904311, 0.05646910281904311, 0.05569033742890893, 0.05569033742890893, 0.05569033742890893, 0.05569033742890893, 0.05569033742890893, 0.05569033742890893, 0.05569033742890893, 0.05569033742890893, 0.05569033742890893, 0.05569033742890893, 0.05569033742890893, 0.05569033742890893, 0.05569033742890893, 0.05569033742890893, 0.05569033742890893, 0.05569033742890893, 0.05569033742890893, 0.05569033742890893, 0.05569033742890893, 0.05569033742890893, 0.05578059506308092, 0.05578059506308092, 0.05578059506308092, 0.05578059506308092, 0.05578059506308092, 0.05578059506308092, 0.05578059506308092, 0.05578059506308092, 0.05578059506308092, 0.05578059506308092, 0.05578059506308092, 0.05578059506308092, 0.05578059506308092, 0.05578059506308092, 0.05578059506308092, 0.05578059506308092, 0.05578059506308092, 0.05578059506308092, 0.05578059506308092, 0.05578059506308092, 0.05631504985601267, 0.05631504985601267, 0.05631504985601267, 0.05631504985601267, 0.05631504985601267, 0.05631504985601267, 0.05631504985601267, 0.05631504985601267, 0.05631504985601267, 0.05631504985601267, 0.05631504985601267, 0.05631504985601267, 0.05631504985601267, 0.05631504985601267, 0.05631504985601267, 0.05631504985601267, 0.05631504985601267, 0.05631504985601267, 0.05631504985601267, 0.05631504985601267, 0.05582382078118212, 0.05582382078118212, 0.05582382078118212, 0.05582382078118212, 0.05582382078118212, 0.05582382078118212, 0.05582382078118212, 0.05582382078118212, 0.05582382078118212, 0.05582382078118212, 0.05582382078118212, 0.05582382078118212, 0.05582382078118212, 0.05582382078118212, 0.05582382078118212, 0.05582382078118212, 0.05582382078118212, 0.05582382078118212, 0.05582382078118212, 0.05582382078118212, 0.05535768686317028, 0.05535768686317028, 0.05535768686317028, 0.05535768686317028, 0.05535768686317028, 0.05535768686317028, 0.05535768686317028, 0.05535768686317028, 0.05535768686317028, 0.05535768686317028, 0.05535768686317028, 0.05535768686317028, 0.05535768686317028, 0.05535768686317028, 0.05535768686317028, 0.05535768686317028, 0.05535768686317028, 0.05535768686317028, 0.05535768686317028, 0.05535768686317028, 0.0547020953019254, 0.0547020953019254, 0.0547020953019254, 0.0547020953019254, 0.0547020953019254, 0.0547020953019254, 0.0547020953019254, 0.0547020953019254, 0.0547020953019254, 0.0547020953019254, 0.0547020953019254, 0.0547020953019254, 0.0547020953019254, 0.0547020953019254, 0.0547020953019254, 0.0547020953019254, 0.0547020953019254, 0.0547020953019254, 0.0547020953019254, 0.0547020953019254, 0.05606399835014901, 0.05606399835014901, 0.05606399835014901, 0.05606399835014901, 0.05606399835014901, 0.05606399835014901, 0.05606399835014901, 0.05606399835014901, 0.05606399835014901, 0.05606399835014901, 0.05606399835014901, 0.05606399835014901, 0.05606399835014901, 0.05606399835014901, 0.05606399835014901, 0.05606399835014901, 0.05606399835014901, 0.05606399835014901, 0.05606399835014901, 0.05606399835014901, 0.05601868996480179, 0.05601868996480179, 0.05601868996480179, 0.05601868996480179, 0.05601868996480179, 0.05601868996480179, 0.05601868996480179, 0.05601868996480179, 0.05601868996480179, 0.05601868996480179, 0.05601868996480179, 0.05601868996480179, 0.05601868996480179, 0.05601868996480179, 0.05601868996480179, 0.05601868996480179, 0.05601868996480179, 0.05601868996480179, 0.05601868996480179, 0.05601868996480179, 0.05612415438013338, 0.05612415438013338, 0.05612415438013338, 0.05612415438013338, 0.05612415438013338, 0.05612415438013338, 0.05612415438013338, 0.05612415438013338, 0.05612415438013338, 0.05612415438013338, 0.05612415438013338, 0.05612415438013338, 0.05612415438013338, 0.05612415438013338, 0.05612415438013338, 0.05612415438013338, 0.05612415438013338, 0.05612415438013338, 0.05612415438013338, 0.05612415438013338, 0.05614459175663945, 0.05614459175663945, 0.05614459175663945, 0.05614459175663945, 0.05614459175663945, 0.05614459175663945, 0.05614459175663945, 0.05614459175663945, 0.05614459175663945, 0.05614459175663945, 0.05614459175663945, 0.05614459175663945, 0.05614459175663945, 0.05614459175663945, 0.05614459175663945, 0.05614459175663945, 0.05614459175663945, 0.05614459175663945, 0.05614459175663945, 0.05614459175663945, 0.055338962995142085, 0.055338962995142085, 0.055338962995142085, 0.055338962995142085, 0.055338962995142085, 0.055338962995142085, 0.055338962995142085, 0.055338962995142085, 0.055338962995142085, 0.055338962995142085, 0.055338962995142085, 0.055338962995142085, 0.055338962995142085, 0.055338962995142085, 0.055338962995142085, 0.055338962995142085, 0.055338962995142085, 0.055338962995142085, 0.055338962995142085, 0.055338962995142085, 0.05598778203334993, 0.05598778203334993, 0.05598778203334993, 0.05598778203334993, 0.05598778203334993, 0.05598778203334993, 0.05598778203334993, 0.05598778203334993, 0.05598778203334993, 0.05598778203334993, 0.05598778203334993, 0.05598778203334993, 0.05598778203334993, 0.05598778203334993, 0.05598778203334993, 0.05598778203334993, 0.05598778203334993, 0.05598778203334993, 0.05598778203334993, 0.05598778203334993], \"Term\": [\"academy\", \"academy\", \"academy\", \"academy\", \"academy\", \"academy\", \"academy\", \"academy\", \"academy\", \"academy\", \"academy\", \"academy\", \"academy\", \"academy\", \"academy\", \"academy\", \"academy\", \"academy\", \"academy\", \"academy\", \"activity\", \"activity\", \"activity\", \"activity\", \"activity\", \"activity\", \"activity\", \"activity\", \"activity\", \"activity\", \"activity\", \"activity\", \"activity\", \"activity\", \"activity\", \"activity\", \"activity\", \"activity\", \"activity\", \"activity\", \"actress\", \"actress\", \"actress\", \"actress\", \"actress\", \"actress\", \"actress\", \"actress\", \"actress\", \"actress\", \"actress\", \"actress\", \"actress\", \"actress\", \"actress\", \"actress\", \"actress\", \"actress\", \"actress\", \"actress\", \"administrative\", \"administrative\", \"administrative\", \"administrative\", \"administrative\", \"administrative\", \"administrative\", \"administrative\", \"administrative\", \"administrative\", \"administrative\", \"administrative\", \"administrative\", \"administrative\", \"administrative\", \"administrative\", \"administrative\", \"administrative\", \"administrative\", \"administrative\", \"adults\", \"adults\", \"adults\", \"adults\", \"adults\", \"adults\", \"adults\", \"adults\", \"adults\", \"adults\", \"adults\", \"adults\", \"adults\", \"adults\", \"adults\", \"adults\", \"adults\", \"adults\", \"adults\", \"adults\", \"advanced\", \"advanced\", \"advanced\", \"advanced\", \"advanced\", \"advanced\", \"advanced\", \"advanced\", \"advanced\", \"advanced\", \"advanced\", \"advanced\", \"advanced\", \"advanced\", \"advanced\", \"advanced\", \"advanced\", \"advanced\", \"advanced\", \"advanced\", \"agent\", \"agent\", \"agent\", \"agent\", \"agent\", \"agent\", \"agent\", \"agent\", \"agent\", \"agent\", \"agent\", \"agent\", \"agent\", \"agent\", \"agent\", \"agent\", \"agent\", \"agent\", \"agent\", \"agent\", \"aired\", \"aired\", \"aired\", \"aired\", \"aired\", \"aired\", \"aired\", \"aired\", \"aired\", \"aired\", \"aired\", \"aired\", \"aired\", \"aired\", \"aired\", \"aired\", \"aired\", \"aired\", \"aired\", \"aired\", \"al\", \"al\", \"al\", \"al\", \"al\", \"al\", \"al\", \"al\", \"al\", \"al\", \"al\", \"al\", \"al\", \"al\", \"al\", \"al\", \"al\", \"al\", \"al\", \"al\", \"album\", \"album\", \"album\", \"album\", \"album\", \"album\", \"album\", \"album\", \"album\", \"album\", \"album\", \"album\", \"album\", \"album\", \"album\", \"album\", \"album\", \"album\", \"album\", \"album\", \"alfred\", \"alfred\", \"alfred\", \"alfred\", \"alfred\", \"alfred\", \"alfred\", \"alfred\", \"alfred\", \"alfred\", \"alfred\", \"alfred\", \"alfred\", \"alfred\", \"alfred\", \"alfred\", \"alfred\", \"alfred\", \"alfred\", \"alfred\", \"allow\", \"allow\", \"allow\", \"allow\", \"allow\", \"allow\", \"allow\", \"allow\", \"allow\", \"allow\", \"allow\", \"allow\", \"allow\", \"allow\", \"allow\", \"allow\", \"allow\", \"allow\", \"allow\", \"allow\", \"along\", \"along\", \"along\", \"along\", \"along\", \"along\", \"along\", \"along\", \"along\", \"along\", \"along\", \"along\", \"along\", \"along\", \"along\", \"along\", \"along\", \"along\", \"along\", \"along\", \"also\", \"also\", \"also\", \"also\", \"also\", \"also\", \"also\", \"also\", \"also\", \"also\", \"also\", \"also\", \"also\", \"also\", \"also\", \"also\", \"also\", \"also\", \"also\", \"also\", \"american\", \"american\", \"american\", \"american\", \"american\", \"american\", \"american\", \"american\", \"american\", \"american\", \"american\", \"american\", \"american\", \"american\", \"american\", \"american\", \"american\", \"american\", \"american\", \"american\", \"among\", \"among\", \"among\", \"among\", \"among\", \"among\", \"among\", \"among\", \"among\", \"among\", \"among\", \"among\", \"among\", \"among\", \"among\", \"among\", \"among\", \"among\", \"among\", \"among\", \"antonio\", \"antonio\", \"antonio\", \"antonio\", \"antonio\", \"antonio\", \"antonio\", \"antonio\", \"antonio\", \"antonio\", \"antonio\", \"antonio\", \"antonio\", \"antonio\", \"antonio\", \"antonio\", \"antonio\", \"antonio\", \"antonio\", \"antonio\", \"appointed\", \"appointed\", \"appointed\", \"appointed\", \"appointed\", \"appointed\", \"appointed\", \"appointed\", \"appointed\", \"appointed\", \"appointed\", \"appointed\", \"appointed\", \"appointed\", \"appointed\", \"appointed\", \"appointed\", \"appointed\", \"appointed\", \"appointed\", \"approximately\", \"approximately\", \"approximately\", \"approximately\", \"approximately\", \"approximately\", \"approximately\", \"approximately\", \"approximately\", \"approximately\", \"approximately\", \"approximately\", \"approximately\", \"approximately\", \"approximately\", \"approximately\", \"approximately\", \"approximately\", \"approximately\", \"approximately\", \"april\", \"april\", \"april\", \"april\", \"april\", \"april\", \"april\", \"april\", \"april\", \"april\", \"april\", \"april\", \"april\", \"april\", \"april\", \"april\", \"april\", \"april\", \"april\", \"april\", \"architect\", \"architect\", \"architect\", \"architect\", \"architect\", \"architect\", \"architect\", \"architect\", \"architect\", \"architect\", \"architect\", \"architect\", \"architect\", \"architect\", \"architect\", \"architect\", \"architect\", \"architect\", \"architect\", \"architect\", \"area\", \"area\", \"area\", \"area\", \"area\", \"area\", \"area\", \"area\", \"area\", \"area\", \"area\", \"area\", \"area\", \"area\", \"area\", \"area\", \"area\", \"area\", \"area\", \"area\", \"art\", \"art\", \"art\", \"art\", \"art\", \"art\", \"art\", \"art\", \"art\", \"art\", \"art\", \"art\", \"art\", \"art\", \"art\", \"art\", \"art\", \"art\", \"art\", \"art\", \"arthur\", \"arthur\", \"arthur\", \"arthur\", \"arthur\", \"arthur\", \"arthur\", \"arthur\", \"arthur\", \"arthur\", \"arthur\", \"arthur\", \"arthur\", \"arthur\", \"arthur\", \"arthur\", \"arthur\", \"arthur\", \"arthur\", \"arthur\", \"artist\", \"artist\", \"artist\", \"artist\", \"artist\", \"artist\", \"artist\", \"artist\", \"artist\", \"artist\", \"artist\", \"artist\", \"artist\", \"artist\", \"artist\", \"artist\", \"artist\", \"artist\", \"artist\", \"artist\", \"arts\", \"arts\", \"arts\", \"arts\", \"arts\", \"arts\", \"arts\", \"arts\", \"arts\", \"arts\", \"arts\", \"arts\", \"arts\", \"arts\", \"arts\", \"arts\", \"arts\", \"arts\", \"arts\", \"arts\", \"assembly\", \"assembly\", \"assembly\", \"assembly\", \"assembly\", \"assembly\", \"assembly\", \"assembly\", \"assembly\", \"assembly\", \"assembly\", \"assembly\", \"assembly\", \"assembly\", \"assembly\", \"assembly\", \"assembly\", \"assembly\", \"assembly\", \"assembly\", \"associated\", \"associated\", \"associated\", \"associated\", \"associated\", \"associated\", \"associated\", \"associated\", \"associated\", \"associated\", \"associated\", \"associated\", \"associated\", \"associated\", \"associated\", \"associated\", \"associated\", \"associated\", \"associated\", \"associated\", \"association\", \"association\", \"association\", \"association\", \"association\", \"association\", \"association\", \"association\", \"association\", \"association\", \"association\", \"association\", \"association\", \"association\", \"association\", \"association\", \"association\", \"association\", \"association\", \"association\", \"athlete\", \"athlete\", \"athlete\", \"athlete\", \"athlete\", \"athlete\", \"athlete\", \"athlete\", \"athlete\", \"athlete\", \"athlete\", \"athlete\", \"athlete\", \"athlete\", \"athlete\", \"athlete\", \"athlete\", \"athlete\", \"athlete\", \"athlete\", \"audio\", \"audio\", \"audio\", \"audio\", \"audio\", \"audio\", \"audio\", \"audio\", \"audio\", \"audio\", \"audio\", \"audio\", \"audio\", \"audio\", \"audio\", \"audio\", \"audio\", \"audio\", \"audio\", \"audio\", \"august\", \"august\", \"august\", \"august\", \"august\", \"august\", \"august\", \"august\", \"august\", \"august\", \"august\", \"august\", \"august\", \"august\", \"august\", \"august\", \"august\", \"august\", \"august\", \"august\", \"australian\", \"australian\", \"australian\", \"australian\", \"australian\", \"australian\", \"australian\", \"australian\", \"australian\", \"australian\", \"australian\", \"australian\", \"australian\", \"australian\", \"australian\", \"australian\", \"australian\", \"australian\", \"australian\", \"australian\", \"author\", \"author\", \"author\", \"author\", \"author\", \"author\", \"author\", \"author\", \"author\", \"author\", \"author\", \"author\", \"author\", \"author\", \"author\", \"author\", \"author\", \"author\", \"author\", \"author\", \"available\", \"available\", \"available\", \"available\", \"available\", \"available\", \"available\", \"available\", \"available\", \"available\", \"available\", \"available\", \"available\", \"available\", \"available\", \"available\", \"available\", \"available\", \"available\", \"available\", \"award\", \"award\", \"award\", \"award\", \"award\", \"award\", \"award\", \"award\", \"award\", \"award\", \"award\", \"award\", \"award\", \"award\", \"award\", \"award\", \"award\", \"award\", \"award\", \"award\", \"band\", \"band\", \"band\", \"band\", \"band\", \"band\", \"band\", \"band\", \"band\", \"band\", \"band\", \"band\", \"band\", \"band\", \"band\", \"band\", \"band\", \"band\", \"band\", \"band\", \"based\", \"based\", \"based\", \"based\", \"based\", \"based\", \"based\", \"based\", \"based\", \"based\", \"based\", \"based\", \"based\", \"based\", \"based\", \"based\", \"based\", \"based\", \"based\", \"based\", \"basketball\", \"basketball\", \"basketball\", \"basketball\", \"basketball\", \"basketball\", \"basketball\", \"basketball\", \"basketball\", \"basketball\", \"basketball\", \"basketball\", \"basketball\", \"basketball\", \"basketball\", \"basketball\", \"basketball\", \"basketball\", \"basketball\", \"basketball\", \"bassist\", \"bassist\", \"bassist\", \"bassist\", \"bassist\", \"bassist\", \"bassist\", \"bassist\", \"bassist\", \"bassist\", \"bassist\", \"bassist\", \"bassist\", \"bassist\", \"bassist\", \"bassist\", \"bassist\", \"bassist\", \"bassist\", \"bassist\", \"bbc\", \"bbc\", \"bbc\", \"bbc\", \"bbc\", \"bbc\", \"bbc\", \"bbc\", \"bbc\", \"bbc\", \"bbc\", \"bbc\", \"bbc\", \"bbc\", \"bbc\", \"bbc\", \"bbc\", \"bbc\", \"bbc\", \"bbc\", \"began\", \"began\", \"began\", \"began\", \"began\", \"began\", \"began\", \"began\", \"began\", \"began\", \"began\", \"began\", \"began\", \"began\", \"began\", \"began\", \"began\", \"began\", \"began\", \"began\", \"belonging\", \"belonging\", \"belonging\", \"belonging\", \"belonging\", \"belonging\", \"belonging\", \"belonging\", \"belonging\", \"belonging\", \"belonging\", \"belonging\", \"belonging\", \"belonging\", \"belonging\", \"belonging\", \"belonging\", \"belonging\", \"belonging\", \"belonging\", \"berlin\", \"berlin\", \"berlin\", \"berlin\", \"berlin\", \"berlin\", \"berlin\", \"berlin\", \"berlin\", \"berlin\", \"berlin\", \"berlin\", \"berlin\", \"berlin\", \"berlin\", \"berlin\", \"berlin\", \"berlin\", \"berlin\", \"berlin\", \"best\", \"best\", \"best\", \"best\", \"best\", \"best\", \"best\", \"best\", \"best\", \"best\", \"best\", \"best\", \"best\", \"best\", \"best\", \"best\", \"best\", \"best\", \"best\", \"best\", \"big\", \"big\", \"big\", \"big\", \"big\", \"big\", \"big\", \"big\", \"big\", \"big\", \"big\", \"big\", \"big\", \"big\", \"big\", \"big\", \"big\", \"big\", \"big\", \"big\", \"black\", \"black\", \"black\", \"black\", \"black\", \"black\", \"black\", \"black\", \"black\", \"black\", \"black\", \"black\", \"black\", \"black\", \"black\", \"black\", \"black\", \"black\", \"black\", \"black\", \"body\", \"body\", \"body\", \"body\", \"body\", \"body\", \"body\", \"body\", \"body\", \"body\", \"body\", \"body\", \"body\", \"body\", \"body\", \"body\", \"body\", \"body\", \"body\", \"body\", \"book\", \"book\", \"book\", \"book\", \"book\", \"book\", \"book\", \"book\", \"book\", \"book\", \"book\", \"book\", \"book\", \"book\", \"book\", \"book\", \"book\", \"book\", \"book\", \"book\", \"border\", \"border\", \"border\", \"border\", \"border\", \"border\", \"border\", \"border\", \"border\", \"border\", \"border\", \"border\", \"border\", \"border\", \"border\", \"border\", \"border\", \"border\", \"border\", \"border\", \"born\", \"born\", \"born\", \"born\", \"born\", \"born\", \"born\", \"born\", \"born\", \"born\", \"born\", \"born\", \"born\", \"born\", \"born\", \"born\", \"born\", \"born\", \"born\", \"born\", \"botanist\", \"botanist\", \"botanist\", \"botanist\", \"botanist\", \"botanist\", \"botanist\", \"botanist\", \"botanist\", \"botanist\", \"botanist\", \"botanist\", \"botanist\", \"botanist\", \"botanist\", \"botanist\", \"botanist\", \"botanist\", \"botanist\", \"botanist\", \"brazilian\", \"brazilian\", \"brazilian\", \"brazilian\", \"brazilian\", \"brazilian\", \"brazilian\", \"brazilian\", \"brazilian\", \"brazilian\", \"brazilian\", \"brazilian\", \"brazilian\", \"brazilian\", \"brazilian\", \"brazilian\", \"brazilian\", \"brazilian\", \"brazilian\", \"brazilian\", \"bronze\", \"bronze\", \"bronze\", \"bronze\", \"bronze\", \"bronze\", \"bronze\", \"bronze\", \"bronze\", \"bronze\", \"bronze\", \"bronze\", \"bronze\", \"bronze\", \"bronze\", \"bronze\", \"bronze\", \"bronze\", \"bronze\", \"bronze\", \"brother\", \"brother\", \"brother\", \"brother\", \"brother\", \"brother\", \"brother\", \"brother\", \"brother\", \"brother\", \"brother\", \"brother\", \"brother\", \"brother\", \"brother\", \"brother\", \"brother\", \"brother\", \"brother\", \"brother\", \"brown\", \"brown\", \"brown\", \"brown\", \"brown\", \"brown\", \"brown\", \"brown\", \"brown\", \"brown\", \"brown\", \"brown\", \"brown\", \"brown\", \"brown\", \"brown\", \"brown\", \"brown\", \"brown\", \"brown\", \"building\", \"building\", \"building\", \"building\", \"building\", \"building\", \"building\", \"building\", \"building\", \"building\", \"building\", \"building\", \"building\", \"building\", \"building\", \"building\", \"building\", \"building\", \"building\", \"building\", \"built\", \"built\", \"built\", \"built\", \"built\", \"built\", \"built\", \"built\", \"built\", \"built\", \"built\", \"built\", \"built\", \"built\", \"built\", \"built\", \"built\", \"built\", \"built\", \"built\", \"business\", \"business\", \"business\", \"business\", \"business\", \"business\", \"business\", \"business\", \"business\", \"business\", \"business\", \"business\", \"business\", \"business\", \"business\", \"business\", \"business\", \"business\", \"business\", \"business\", \"butterfly\", \"butterfly\", \"butterfly\", \"butterfly\", \"butterfly\", \"butterfly\", \"butterfly\", \"butterfly\", \"butterfly\", \"butterfly\", \"butterfly\", \"butterfly\", \"butterfly\", \"butterfly\", \"butterfly\", \"butterfly\", \"butterfly\", \"butterfly\", \"butterfly\", \"butterfly\", \"called\", \"called\", \"called\", \"called\", \"called\", \"called\", \"called\", \"called\", \"called\", \"called\", \"called\", \"called\", \"called\", \"called\", \"called\", \"called\", \"called\", \"called\", \"called\", \"called\", \"capital\", \"capital\", \"capital\", \"capital\", \"capital\", \"capital\", \"capital\", \"capital\", \"capital\", \"capital\", \"capital\", \"capital\", \"capital\", \"capital\", \"capital\", \"capital\", \"capital\", \"capital\", \"capital\", \"capital\", \"car\", \"car\", \"car\", \"car\", \"car\", \"car\", \"car\", \"car\", \"car\", \"car\", \"car\", \"car\", \"car\", \"car\", \"car\", \"car\", \"car\", \"car\", \"car\", \"car\", \"career\", \"career\", \"career\", \"career\", \"career\", \"career\", \"career\", \"career\", \"career\", \"career\", \"career\", \"career\", \"career\", \"career\", \"career\", \"career\", \"career\", \"career\", \"career\", \"career\", \"carried\", \"carried\", \"carried\", \"carried\", \"carried\", \"carried\", \"carried\", \"carried\", \"carried\", \"carried\", \"carried\", \"carried\", \"carried\", \"carried\", \"carried\", \"carried\", \"carried\", \"carried\", \"carried\", \"carried\", \"catholic\", \"catholic\", \"catholic\", \"catholic\", \"catholic\", \"catholic\", \"catholic\", \"catholic\", \"catholic\", \"catholic\", \"catholic\", \"catholic\", \"catholic\", \"catholic\", \"catholic\", \"catholic\", \"catholic\", \"catholic\", \"catholic\", \"catholic\", \"caused\", \"caused\", \"caused\", \"caused\", \"caused\", \"caused\", \"caused\", \"caused\", \"caused\", \"caused\", \"caused\", \"caused\", \"caused\", \"caused\", \"caused\", \"caused\", \"caused\", \"caused\", \"caused\", \"caused\", \"census\", \"census\", \"census\", \"census\", \"census\", \"census\", \"census\", \"census\", \"census\", \"census\", \"census\", \"census\", \"census\", \"census\", \"census\", \"census\", \"census\", \"census\", \"census\", \"census\", \"center\", \"center\", \"center\", \"center\", \"center\", \"center\", \"center\", \"center\", \"center\", \"center\", \"center\", \"center\", \"center\", \"center\", \"center\", \"center\", \"center\", \"center\", \"center\", \"center\", \"central\", \"central\", \"central\", \"central\", \"central\", \"central\", \"central\", \"central\", \"central\", \"central\", \"central\", \"central\", \"central\", \"central\", \"central\", \"central\", \"central\", \"central\", \"central\", \"central\", \"championship\", \"championship\", \"championship\", \"championship\", \"championship\", \"championship\", \"championship\", \"championship\", \"championship\", \"championship\", \"championship\", \"championship\", \"championship\", \"championship\", \"championship\", \"championship\", \"championship\", \"championship\", \"championship\", \"championship\", \"championships\", \"championships\", \"championships\", \"championships\", \"championships\", \"championships\", \"championships\", \"championships\", \"championships\", \"championships\", \"championships\", \"championships\", \"championships\", \"championships\", \"championships\", \"championships\", \"championships\", \"championships\", \"championships\", \"championships\", \"channel\", \"channel\", \"channel\", \"channel\", \"channel\", \"channel\", \"channel\", \"channel\", \"channel\", \"channel\", \"channel\", \"channel\", \"channel\", \"channel\", \"channel\", \"channel\", \"channel\", \"channel\", \"channel\", \"channel\", \"character\", \"character\", \"character\", \"character\", \"character\", \"character\", \"character\", \"character\", \"character\", \"character\", \"character\", \"character\", \"character\", \"character\", \"character\", \"character\", \"character\", \"character\", \"character\", \"character\", \"characters\", \"characters\", \"characters\", \"characters\", \"characters\", \"characters\", \"characters\", \"characters\", \"characters\", \"characters\", \"characters\", \"characters\", \"characters\", \"characters\", \"characters\", \"characters\", \"characters\", \"characters\", \"characters\", \"characters\", \"chief\", \"chief\", \"chief\", \"chief\", \"chief\", \"chief\", \"chief\", \"chief\", \"chief\", \"chief\", \"chief\", \"chief\", \"chief\", \"chief\", \"chief\", \"chief\", \"chief\", \"chief\", \"chief\", \"chief\", \"church\", \"church\", \"church\", \"church\", \"church\", \"church\", \"church\", \"church\", \"church\", \"church\", \"church\", \"church\", \"church\", \"church\", \"church\", \"church\", \"church\", \"church\", \"church\", \"church\", \"city\", \"city\", \"city\", \"city\", \"city\", \"city\", \"city\", \"city\", \"city\", \"city\", \"city\", \"city\", \"city\", \"city\", \"city\", \"city\", \"city\", \"city\", \"city\", \"city\", \"class\", \"class\", \"class\", \"class\", \"class\", \"class\", \"class\", \"class\", \"class\", \"class\", \"class\", \"class\", \"class\", \"class\", \"class\", \"class\", \"class\", \"class\", \"class\", \"class\", \"club\", \"club\", \"club\", \"club\", \"club\", \"club\", \"club\", \"club\", \"club\", \"club\", \"club\", \"club\", \"club\", \"club\", \"club\", \"club\", \"club\", \"club\", \"club\", \"club\", \"clubs\", \"clubs\", \"clubs\", \"clubs\", \"clubs\", \"clubs\", \"clubs\", \"clubs\", \"clubs\", \"clubs\", \"clubs\", \"clubs\", \"clubs\", \"clubs\", \"clubs\", \"clubs\", \"clubs\", \"clubs\", \"clubs\", \"clubs\", \"coach\", \"coach\", \"coach\", \"coach\", \"coach\", \"coach\", \"coach\", \"coach\", \"coach\", \"coach\", \"coach\", \"coach\", \"coach\", \"coach\", \"coach\", \"coach\", \"coach\", \"coach\", \"coach\", \"coach\", \"coast\", \"coast\", \"coast\", \"coast\", \"coast\", \"coast\", \"coast\", \"coast\", \"coast\", \"coast\", \"coast\", \"coast\", \"coast\", \"coast\", \"coast\", \"coast\", \"coast\", \"coast\", \"coast\", \"coast\", \"college\", \"college\", \"college\", \"college\", \"college\", \"college\", \"college\", \"college\", \"college\", \"college\", \"college\", \"college\", \"college\", \"college\", \"college\", \"college\", \"college\", \"college\", \"college\", \"college\", \"comedy\", \"comedy\", \"comedy\", \"comedy\", \"comedy\", \"comedy\", \"comedy\", \"comedy\", \"comedy\", \"comedy\", \"comedy\", \"comedy\", \"comedy\", \"comedy\", \"comedy\", \"comedy\", \"comedy\", \"comedy\", \"comedy\", \"comedy\", \"commission\", \"commission\", \"commission\", \"commission\", \"commission\", \"commission\", \"commission\", \"commission\", \"commission\", \"commission\", \"commission\", \"commission\", \"commission\", \"commission\", \"commission\", \"commission\", \"commission\", \"commission\", \"commission\", \"commission\", \"common\", \"common\", \"common\", \"common\", \"common\", \"common\", \"common\", \"common\", \"common\", \"common\", \"common\", \"common\", \"common\", \"common\", \"common\", \"common\", \"common\", \"common\", \"common\", \"common\", \"commonly\", \"commonly\", \"commonly\", \"commonly\", \"commonly\", \"commonly\", \"commonly\", \"commonly\", \"commonly\", \"commonly\", \"commonly\", \"commonly\", \"commonly\", \"commonly\", \"commonly\", \"commonly\", \"commonly\", \"commonly\", \"commonly\", \"commonly\", \"community\", \"community\", \"community\", \"community\", \"community\", \"community\", \"community\", \"community\", \"community\", \"community\", \"community\", \"community\", \"community\", \"community\", \"community\", \"community\", \"community\", \"community\", \"community\", \"community\", \"company\", \"company\", \"company\", \"company\", \"company\", \"company\", \"company\", \"company\", \"company\", \"company\", \"company\", \"company\", \"company\", \"company\", \"company\", \"company\", \"company\", \"company\", \"company\", \"company\", \"competed\", \"competed\", \"competed\", \"competed\", \"competed\", \"competed\", \"competed\", \"competed\", \"competed\", \"competed\", \"competed\", \"competed\", \"competed\", \"competed\", \"competed\", \"competed\", \"competed\", \"competed\", \"competed\", \"competed\", \"competing\", \"competing\", \"competing\", \"competing\", \"competing\", \"competing\", \"competing\", \"competing\", \"competing\", \"competing\", \"competing\", \"competing\", \"competing\", \"competing\", \"competing\", \"competing\", \"competing\", \"competing\", \"competing\", \"competing\", \"competition\", \"competition\", \"competition\", \"competition\", \"competition\", \"competition\", \"competition\", \"competition\", \"competition\", \"competition\", \"competition\", \"competition\", \"competition\", \"competition\", \"competition\", \"competition\", \"competition\", \"competition\", \"competition\", \"competition\", \"complex\", \"complex\", \"complex\", \"complex\", \"complex\", \"complex\", \"complex\", \"complex\", \"complex\", \"complex\", \"complex\", \"complex\", \"complex\", \"complex\", \"complex\", \"complex\", \"complex\", \"complex\", \"complex\", \"complex\", \"composer\", \"composer\", \"composer\", \"composer\", \"composer\", \"composer\", \"composer\", \"composer\", \"composer\", \"composer\", \"composer\", \"composer\", \"composer\", \"composer\", \"composer\", \"composer\", \"composer\", \"composer\", \"composer\", \"composer\", \"computer\", \"computer\", \"computer\", \"computer\", \"computer\", \"computer\", \"computer\", \"computer\", \"computer\", \"computer\", \"computer\", \"computer\", \"computer\", \"computer\", \"computer\", \"computer\", \"computer\", \"computer\", \"computer\", \"computer\", \"conference\", \"conference\", \"conference\", \"conference\", \"conference\", \"conference\", \"conference\", \"conference\", \"conference\", \"conference\", \"conference\", \"conference\", \"conference\", \"conference\", \"conference\", \"conference\", \"conference\", \"conference\", \"conference\", \"conference\", \"conflict\", \"conflict\", \"conflict\", \"conflict\", \"conflict\", \"conflict\", \"conflict\", \"conflict\", \"conflict\", \"conflict\", \"conflict\", \"conflict\", \"conflict\", \"conflict\", \"conflict\", \"conflict\", \"conflict\", \"conflict\", \"conflict\", \"conflict\", \"conservative\", \"conservative\", \"conservative\", \"conservative\", \"conservative\", \"conservative\", \"conservative\", \"conservative\", \"conservative\", \"conservative\", \"conservative\", \"conservative\", \"conservative\", \"conservative\", \"conservative\", \"conservative\", \"conservative\", \"conservative\", \"conservative\", \"conservative\", \"contains\", \"contains\", \"contains\", \"contains\", \"contains\", \"contains\", \"contains\", \"contains\", \"contains\", \"contains\", \"contains\", \"contains\", \"contains\", \"contains\", \"contains\", \"contains\", \"contains\", \"contains\", \"contains\", \"contains\", \"context\", \"context\", \"context\", \"context\", \"context\", \"context\", \"context\", \"context\", \"context\", \"context\", \"context\", \"context\", \"context\", \"context\", \"context\", \"context\", \"context\", \"context\", \"context\", \"context\", \"contract\", \"contract\", \"contract\", \"contract\", \"contract\", \"contract\", \"contract\", \"contract\", \"contract\", \"contract\", \"contract\", \"contract\", \"contract\", \"contract\", \"contract\", \"contract\", \"contract\", \"contract\", \"contract\", \"contract\", \"conventional\", \"conventional\", \"conventional\", \"conventional\", \"conventional\", \"conventional\", \"conventional\", \"conventional\", \"conventional\", \"conventional\", \"conventional\", \"conventional\", \"conventional\", \"conventional\", \"conventional\", \"conventional\", \"conventional\", \"conventional\", \"conventional\", \"conventional\", \"corporation\", \"corporation\", \"corporation\", \"corporation\", \"corporation\", \"corporation\", \"corporation\", \"corporation\", \"corporation\", \"corporation\", \"corporation\", \"corporation\", \"corporation\", \"corporation\", \"corporation\", \"corporation\", \"corporation\", \"corporation\", \"corporation\", \"corporation\", \"council\", \"council\", \"council\", \"council\", \"council\", \"council\", \"council\", \"council\", \"council\", \"council\", \"council\", \"council\", \"council\", \"council\", \"council\", \"council\", \"council\", \"council\", \"council\", \"council\", \"county\", \"county\", \"county\", \"county\", \"county\", \"county\", \"county\", \"county\", \"county\", \"county\", \"county\", \"county\", \"county\", \"county\", \"county\", \"county\", \"county\", \"county\", \"county\", \"county\", \"creek\", \"creek\", \"creek\", \"creek\", \"creek\", \"creek\", \"creek\", \"creek\", \"creek\", \"creek\", \"creek\", \"creek\", \"creek\", \"creek\", \"creek\", \"creek\", \"creek\", \"creek\", \"creek\", \"creek\", \"cricketer\", \"cricketer\", \"cricketer\", \"cricketer\", \"cricketer\", \"cricketer\", \"cricketer\", \"cricketer\", \"cricketer\", \"cricketer\", \"cricketer\", \"cricketer\", \"cricketer\", \"cricketer\", \"cricketer\", \"cricketer\", \"cricketer\", \"cricketer\", \"cricketer\", \"cricketer\", \"cup\", \"cup\", \"cup\", \"cup\", \"cup\", \"cup\", \"cup\", \"cup\", \"cup\", \"cup\", \"cup\", \"cup\", \"cup\", \"cup\", \"cup\", \"cup\", \"cup\", \"cup\", \"cup\", \"cup\", \"currently\", \"currently\", \"currently\", \"currently\", \"currently\", \"currently\", \"currently\", \"currently\", \"currently\", \"currently\", \"currently\", \"currently\", \"currently\", \"currently\", \"currently\", \"currently\", \"currently\", \"currently\", \"currently\", \"currently\", \"dance\", \"dance\", \"dance\", \"dance\", \"dance\", \"dance\", \"dance\", \"dance\", \"dance\", \"dance\", \"dance\", \"dance\", \"dance\", \"dance\", \"dance\", \"dance\", \"dance\", \"dance\", \"dance\", \"dance\", \"dark\", \"dark\", \"dark\", \"dark\", \"dark\", \"dark\", \"dark\", \"dark\", \"dark\", \"dark\", \"dark\", \"dark\", \"dark\", \"dark\", \"dark\", \"dark\", \"dark\", \"dark\", \"dark\", \"dark\", \"data\", \"data\", \"data\", \"data\", \"data\", \"data\", \"data\", \"data\", \"data\", \"data\", \"data\", \"data\", \"data\", \"data\", \"data\", \"data\", \"data\", \"data\", \"data\", \"data\", \"daughter\", \"daughter\", \"daughter\", \"daughter\", \"daughter\", \"daughter\", \"daughter\", \"daughter\", \"daughter\", \"daughter\", \"daughter\", \"daughter\", \"daughter\", \"daughter\", \"daughter\", \"daughter\", \"daughter\", \"daughter\", \"daughter\", \"daughter\", \"debut\", \"debut\", \"debut\", \"debut\", \"debut\", \"debut\", \"debut\", \"debut\", \"debut\", \"debut\", \"debut\", \"debut\", \"debut\", \"debut\", \"debut\", \"debut\", \"debut\", \"debut\", \"debut\", \"debut\", \"december\", \"december\", \"december\", \"december\", \"december\", \"december\", \"december\", \"december\", \"december\", \"december\", \"december\", \"december\", \"december\", \"december\", \"december\", \"december\", \"december\", \"december\", \"december\", \"december\", \"degree\", \"degree\", \"degree\", \"degree\", \"degree\", \"degree\", \"degree\", \"degree\", \"degree\", \"degree\", \"degree\", \"degree\", \"degree\", \"degree\", \"degree\", \"degree\", \"degree\", \"degree\", \"degree\", \"degree\", \"democratic\", \"democratic\", \"democratic\", \"democratic\", \"democratic\", \"democratic\", \"democratic\", \"democratic\", \"democratic\", \"democratic\", \"democratic\", \"democratic\", \"democratic\", \"democratic\", \"democratic\", \"democratic\", \"democratic\", \"democratic\", \"democratic\", \"democratic\", \"density\", \"density\", \"density\", \"density\", \"density\", \"density\", \"density\", \"density\", \"density\", \"density\", \"density\", \"density\", \"density\", \"density\", \"density\", \"density\", \"density\", \"density\", \"density\", \"density\", \"department\", \"department\", \"department\", \"department\", \"department\", \"department\", \"department\", \"department\", \"department\", \"department\", \"department\", \"department\", \"department\", \"department\", \"department\", \"department\", \"department\", \"department\", \"department\", \"department\", \"deputy\", \"deputy\", \"deputy\", \"deputy\", \"deputy\", \"deputy\", \"deputy\", \"deputy\", \"deputy\", \"deputy\", \"deputy\", \"deputy\", \"deputy\", \"deputy\", \"deputy\", \"deputy\", \"deputy\", \"deputy\", \"deputy\", \"deputy\", \"described\", \"described\", \"described\", \"described\", \"described\", \"described\", \"described\", \"described\", \"described\", \"described\", \"described\", \"described\", \"described\", \"described\", \"described\", \"described\", \"described\", \"described\", \"described\", \"described\", \"designed\", \"designed\", \"designed\", \"designed\", \"designed\", \"designed\", \"designed\", \"designed\", \"designed\", \"designed\", \"designed\", \"designed\", \"designed\", \"designed\", \"designed\", \"designed\", \"designed\", \"designed\", \"designed\", \"designed\", \"developed\", \"developed\", \"developed\", \"developed\", \"developed\", \"developed\", \"developed\", \"developed\", \"developed\", \"developed\", \"developed\", \"developed\", \"developed\", \"developed\", \"developed\", \"developed\", \"developed\", \"developed\", \"developed\", \"developed\", \"development\", \"development\", \"development\", \"development\", \"development\", \"development\", \"development\", \"development\", \"development\", \"development\", \"development\", \"development\", \"development\", \"development\", \"development\", \"development\", \"development\", \"development\", \"development\", \"development\", \"died\", \"died\", \"died\", \"died\", \"died\", \"died\", \"died\", \"died\", \"died\", \"died\", \"died\", \"died\", \"died\", \"died\", \"died\", \"died\", \"died\", \"died\", \"died\", \"died\", \"directed\", \"directed\", \"directed\", \"directed\", \"directed\", \"directed\", \"directed\", \"directed\", \"directed\", \"directed\", \"directed\", \"directed\", \"directed\", \"directed\", \"directed\", \"directed\", \"directed\", \"directed\", \"directed\", \"directed\", \"director\", \"director\", \"director\", \"director\", \"director\", \"director\", \"director\", \"director\", \"director\", \"director\", \"director\", \"director\", \"director\", \"director\", \"director\", \"director\", \"director\", \"director\", \"director\", \"director\", \"disease\", \"disease\", \"disease\", \"disease\", \"disease\", \"disease\", \"disease\", \"disease\", \"disease\", \"disease\", \"disease\", \"disease\", \"disease\", \"disease\", \"disease\", \"disease\", \"disease\", \"disease\", \"disease\", \"disease\", \"district\", \"district\", \"district\", \"district\", \"district\", \"district\", \"district\", \"district\", \"district\", \"district\", \"district\", \"district\", \"district\", \"district\", \"district\", \"district\", \"district\", \"district\", \"district\", \"district\", \"division\", \"division\", \"division\", \"division\", \"division\", \"division\", \"division\", \"division\", \"division\", \"division\", \"division\", \"division\", \"division\", \"division\", \"division\", \"division\", \"division\", \"division\", \"division\", \"division\", \"drafted\", \"drafted\", \"drafted\", \"drafted\", \"drafted\", \"drafted\", \"drafted\", \"drafted\", \"drafted\", \"drafted\", \"drafted\", \"drafted\", \"drafted\", \"drafted\", \"drafted\", \"drafted\", \"drafted\", \"drafted\", \"drafted\", \"drafted\", \"drama\", \"drama\", \"drama\", \"drama\", \"drama\", \"drama\", \"drama\", \"drama\", \"drama\", \"drama\", \"drama\", \"drama\", \"drama\", \"drama\", \"drama\", \"drama\", \"drama\", \"drama\", \"drama\", \"drama\", \"early\", \"early\", \"early\", \"early\", \"early\", \"early\", \"early\", \"early\", \"early\", \"early\", \"early\", \"early\", \"early\", \"early\", \"early\", \"early\", \"early\", \"early\", \"early\", \"early\", \"east\", \"east\", \"east\", \"east\", \"east\", \"east\", \"east\", \"east\", \"east\", \"east\", \"east\", \"east\", \"east\", \"east\", \"east\", \"east\", \"east\", \"east\", \"east\", \"east\", \"eastern\", \"eastern\", \"eastern\", \"eastern\", \"eastern\", \"eastern\", \"eastern\", \"eastern\", \"eastern\", \"eastern\", \"eastern\", \"eastern\", \"eastern\", \"eastern\", \"eastern\", \"eastern\", \"eastern\", \"eastern\", \"eastern\", \"eastern\", \"educated\", \"educated\", \"educated\", \"educated\", \"educated\", \"educated\", \"educated\", \"educated\", \"educated\", \"educated\", \"educated\", \"educated\", \"educated\", \"educated\", \"educated\", \"educated\", \"educated\", \"educated\", \"educated\", \"educated\", \"education\", \"education\", \"education\", \"education\", \"education\", \"education\", \"education\", \"education\", \"education\", \"education\", \"education\", \"education\", \"education\", \"education\", \"education\", \"education\", \"education\", \"education\", \"education\", \"education\", \"elected\", \"elected\", \"elected\", \"elected\", \"elected\", \"elected\", \"elected\", \"elected\", \"elected\", \"elected\", \"elected\", \"elected\", \"elected\", \"elected\", \"elected\", \"elected\", \"elected\", \"elected\", \"elected\", \"elected\", \"election\", \"election\", \"election\", \"election\", \"election\", \"election\", \"election\", \"election\", \"election\", \"election\", \"election\", \"election\", \"election\", \"election\", \"election\", \"election\", \"election\", \"election\", \"election\", \"election\", \"elections\", \"elections\", \"elections\", \"elections\", \"elections\", \"elections\", \"elections\", \"elections\", \"elections\", \"elections\", \"elections\", \"elections\", \"elections\", \"elections\", \"elections\", \"elections\", \"elections\", \"elections\", \"elections\", \"elections\", \"electricity\", \"electricity\", \"electricity\", \"electricity\", \"electricity\", \"electricity\", \"electricity\", \"electricity\", \"electricity\", \"electricity\", \"electricity\", \"electricity\", \"electricity\", \"electricity\", \"electricity\", \"electricity\", \"electricity\", \"electricity\", \"electricity\", \"electricity\", \"england\", \"england\", \"england\", \"england\", \"england\", \"england\", \"england\", \"england\", \"england\", \"england\", \"england\", \"england\", \"england\", \"england\", \"england\", \"england\", \"england\", \"england\", \"england\", \"england\", \"entertainment\", \"entertainment\", \"entertainment\", \"entertainment\", \"entertainment\", \"entertainment\", \"entertainment\", \"entertainment\", \"entertainment\", \"entertainment\", \"entertainment\", \"entertainment\", \"entertainment\", \"entertainment\", \"entertainment\", \"entertainment\", \"entertainment\", \"entertainment\", \"entertainment\", \"entertainment\", \"established\", \"established\", \"established\", \"established\", \"established\", \"established\", \"established\", \"established\", \"established\", \"established\", \"established\", \"established\", \"established\", \"established\", \"established\", \"established\", \"established\", \"established\", \"established\", \"established\", \"estonia\", \"estonia\", \"estonia\", \"estonia\", \"estonia\", \"estonia\", \"estonia\", \"estonia\", \"estonia\", \"estonia\", \"estonia\", \"estonia\", \"estonia\", \"estonia\", \"estonia\", \"estonia\", \"estonia\", \"estonia\", \"estonia\", \"estonia\", \"family\", \"family\", \"family\", \"family\", \"family\", \"family\", \"family\", \"family\", \"family\", \"family\", \"family\", \"family\", \"family\", \"family\", \"family\", \"family\", \"family\", \"family\", \"family\", \"family\", \"feature\", \"feature\", \"feature\", \"feature\", \"feature\", \"feature\", \"feature\", \"feature\", \"feature\", \"feature\", \"feature\", \"feature\", \"feature\", \"feature\", \"feature\", \"feature\", \"feature\", \"feature\", \"feature\", \"feature\", \"features\", \"features\", \"features\", \"features\", \"features\", \"features\", \"features\", \"features\", \"features\", \"features\", \"features\", \"features\", \"features\", \"features\", \"features\", \"features\", \"features\", \"features\", \"features\", \"features\", \"february\", \"february\", \"february\", \"february\", \"february\", \"february\", \"february\", \"february\", \"february\", \"february\", \"february\", \"february\", \"february\", \"february\", \"february\", \"february\", \"february\", \"february\", \"february\", \"february\", \"federal\", \"federal\", \"federal\", \"federal\", \"federal\", \"federal\", \"federal\", \"federal\", \"federal\", \"federal\", \"federal\", \"federal\", \"federal\", \"federal\", \"federal\", \"federal\", \"federal\", \"federal\", \"federal\", \"federal\", \"federation\", \"federation\", \"federation\", \"federation\", \"federation\", \"federation\", \"federation\", \"federation\", \"federation\", \"federation\", \"federation\", \"federation\", \"federation\", \"federation\", \"federation\", \"federation\", \"federation\", \"federation\", \"federation\", \"federation\", \"females\", \"females\", \"females\", \"females\", \"females\", \"females\", \"females\", \"females\", \"females\", \"females\", \"females\", \"females\", \"females\", \"females\", \"females\", \"females\", \"females\", \"females\", \"females\", \"females\", \"fiction\", \"fiction\", \"fiction\", \"fiction\", \"fiction\", \"fiction\", \"fiction\", \"fiction\", \"fiction\", \"fiction\", \"fiction\", \"fiction\", \"fiction\", \"fiction\", \"fiction\", \"fiction\", \"fiction\", \"fiction\", \"fiction\", \"fiction\", \"fields\", \"fields\", \"fields\", \"fields\", \"fields\", \"fields\", \"fields\", \"fields\", \"fields\", \"fields\", \"fields\", \"fields\", \"fields\", \"fields\", \"fields\", \"fields\", \"fields\", \"fields\", \"fields\", \"fields\", \"film\", \"film\", \"film\", \"film\", \"film\", \"film\", \"film\", \"film\", \"film\", \"film\", \"film\", \"film\", \"film\", \"film\", \"film\", \"film\", \"film\", \"film\", \"film\", \"film\", \"films\", \"films\", \"films\", \"films\", \"films\", \"films\", \"films\", \"films\", \"films\", \"films\", \"films\", \"films\", \"films\", \"films\", \"films\", \"films\", \"films\", \"films\", \"films\", \"films\", \"first\", \"first\", \"first\", \"first\", \"first\", \"first\", \"first\", \"first\", \"first\", \"first\", \"first\", \"first\", \"first\", \"first\", \"first\", \"first\", \"first\", \"first\", \"first\", \"first\", \"fk\", \"fk\", \"fk\", \"fk\", \"fk\", \"fk\", \"fk\", \"fk\", \"fk\", \"fk\", \"fk\", \"fk\", \"fk\", \"fk\", \"fk\", \"fk\", \"fk\", \"fk\", \"fk\", \"fk\", \"football\", \"football\", \"football\", \"football\", \"football\", \"football\", \"football\", \"football\", \"football\", \"football\", \"football\", \"football\", \"football\", \"football\", \"football\", \"football\", \"football\", \"football\", \"football\", \"football\", \"footballer\", \"footballer\", \"footballer\", \"footballer\", \"footballer\", \"footballer\", \"footballer\", \"footballer\", \"footballer\", \"footballer\", \"footballer\", \"footballer\", \"footballer\", \"footballer\", \"footballer\", \"footballer\", \"footballer\", \"footballer\", \"footballer\", \"footballer\", \"foreign\", \"foreign\", \"foreign\", \"foreign\", \"foreign\", \"foreign\", \"foreign\", \"foreign\", \"foreign\", \"foreign\", \"foreign\", \"foreign\", \"foreign\", \"foreign\", \"foreign\", \"foreign\", \"foreign\", \"foreign\", \"foreign\", \"foreign\", \"forewings\", \"forewings\", \"forewings\", \"forewings\", \"forewings\", \"forewings\", \"forewings\", \"forewings\", \"forewings\", \"forewings\", \"forewings\", \"forewings\", \"forewings\", \"forewings\", \"forewings\", \"forewings\", \"forewings\", \"forewings\", \"forewings\", \"forewings\", \"format\", \"format\", \"format\", \"format\", \"format\", \"format\", \"format\", \"format\", \"format\", \"format\", \"format\", \"format\", \"format\", \"format\", \"format\", \"format\", \"format\", \"format\", \"format\", \"format\", \"formed\", \"formed\", \"formed\", \"formed\", \"formed\", \"formed\", \"formed\", \"formed\", \"formed\", \"formed\", \"formed\", \"formed\", \"formed\", \"formed\", \"formed\", \"formed\", \"formed\", \"formed\", \"formed\", \"formed\", \"former\", \"former\", \"former\", \"former\", \"former\", \"former\", \"former\", \"former\", \"former\", \"former\", \"former\", \"former\", \"former\", \"former\", \"former\", \"former\", \"former\", \"former\", \"former\", \"former\", \"found\", \"found\", \"found\", \"found\", \"found\", \"found\", \"found\", \"found\", \"found\", \"found\", \"found\", \"found\", \"found\", \"found\", \"found\", \"found\", \"found\", \"found\", \"found\", \"found\", \"founded\", \"founded\", \"founded\", \"founded\", \"founded\", \"founded\", \"founded\", \"founded\", \"founded\", \"founded\", \"founded\", \"founded\", \"founded\", \"founded\", \"founded\", \"founded\", \"founded\", \"founded\", \"founded\", \"founded\", \"four\", \"four\", \"four\", \"four\", \"four\", \"four\", \"four\", \"four\", \"four\", \"four\", \"four\", \"four\", \"four\", \"four\", \"four\", \"four\", \"four\", \"four\", \"four\", \"four\", \"france\", \"france\", \"france\", \"france\", \"france\", \"france\", \"france\", \"france\", \"france\", \"france\", \"france\", \"france\", \"france\", \"france\", \"france\", \"france\", \"france\", \"france\", \"france\", \"france\", \"french\", \"french\", \"french\", \"french\", \"french\", \"french\", \"french\", \"french\", \"french\", \"french\", \"french\", \"french\", \"french\", \"french\", \"french\", \"french\", \"french\", \"french\", \"french\", \"french\", \"friedrich\", \"friedrich\", \"friedrich\", \"friedrich\", \"friedrich\", \"friedrich\", \"friedrich\", \"friedrich\", \"friedrich\", \"friedrich\", \"friedrich\", \"friedrich\", \"friedrich\", \"friedrich\", \"friedrich\", \"friedrich\", \"friedrich\", \"friedrich\", \"friedrich\", \"friedrich\", \"game\", \"game\", \"game\", \"game\", \"game\", \"game\", \"game\", \"game\", \"game\", \"game\", \"game\", \"game\", \"game\", \"game\", \"game\", \"game\", \"game\", \"game\", \"game\", \"game\", \"games\", \"games\", \"games\", \"games\", \"games\", \"games\", \"games\", \"games\", \"games\", \"games\", \"games\", \"games\", \"games\", \"games\", \"games\", \"games\", \"games\", \"games\", \"games\", \"games\", \"general\", \"general\", \"general\", \"general\", \"general\", \"general\", \"general\", \"general\", \"general\", \"general\", \"general\", \"general\", \"general\", \"general\", \"general\", \"general\", \"general\", \"general\", \"general\", \"general\", \"generally\", \"generally\", \"generally\", \"generally\", \"generally\", \"generally\", \"generally\", \"generally\", \"generally\", \"generally\", \"generally\", \"generally\", \"generally\", \"generally\", \"generally\", \"generally\", \"generally\", \"generally\", \"generally\", \"generally\", \"genus\", \"genus\", \"genus\", \"genus\", \"genus\", \"genus\", \"genus\", \"genus\", \"genus\", \"genus\", \"genus\", \"genus\", \"genus\", \"genus\", \"genus\", \"genus\", \"genus\", \"genus\", \"genus\", \"genus\", \"george\", \"george\", \"george\", \"george\", \"george\", \"george\", \"george\", \"george\", \"george\", \"george\", \"george\", \"george\", \"george\", \"george\", \"george\", \"george\", \"george\", \"george\", \"george\", \"george\", \"german\", \"german\", \"german\", \"german\", \"german\", \"german\", \"german\", \"german\", \"german\", \"german\", \"german\", \"german\", \"german\", \"german\", \"german\", \"german\", \"german\", \"german\", \"german\", \"german\", \"gmina\", \"gmina\", \"gmina\", \"gmina\", \"gmina\", \"gmina\", \"gmina\", \"gmina\", \"gmina\", \"gmina\", \"gmina\", \"gmina\", \"gmina\", \"gmina\", \"gmina\", \"gmina\", \"gmina\", \"gmina\", \"gmina\", \"gmina\", \"governor\", \"governor\", \"governor\", \"governor\", \"governor\", \"governor\", \"governor\", \"governor\", \"governor\", \"governor\", \"governor\", \"governor\", \"governor\", \"governor\", \"governor\", \"governor\", \"governor\", \"governor\", \"governor\", \"governor\", \"graduated\", \"graduated\", \"graduated\", \"graduated\", \"graduated\", \"graduated\", \"graduated\", \"graduated\", \"graduated\", \"graduated\", \"graduated\", \"graduated\", \"graduated\", \"graduated\", \"graduated\", \"graduated\", \"graduated\", \"graduated\", \"graduated\", \"graduated\", \"great\", \"great\", \"great\", \"great\", \"great\", \"great\", \"great\", \"great\", \"great\", \"great\", \"great\", \"great\", \"great\", \"great\", \"great\", \"great\", \"great\", \"great\", \"great\", \"great\", \"grew\", \"grew\", \"grew\", \"grew\", \"grew\", \"grew\", \"grew\", \"grew\", \"grew\", \"grew\", \"grew\", \"grew\", \"grew\", \"grew\", \"grew\", \"grew\", \"grew\", \"grew\", \"grew\", \"grew\", \"group\", \"group\", \"group\", \"group\", \"group\", \"group\", \"group\", \"group\", \"group\", \"group\", \"group\", \"group\", \"group\", \"group\", \"group\", \"group\", \"group\", \"group\", \"group\", \"group\", \"groups\", \"groups\", \"groups\", \"groups\", \"groups\", \"groups\", \"groups\", \"groups\", \"groups\", \"groups\", \"groups\", \"groups\", \"groups\", \"groups\", \"groups\", \"groups\", \"groups\", \"groups\", \"groups\", \"groups\", \"guitarist\", \"guitarist\", \"guitarist\", \"guitarist\", \"guitarist\", \"guitarist\", \"guitarist\", \"guitarist\", \"guitarist\", \"guitarist\", \"guitarist\", \"guitarist\", \"guitarist\", \"guitarist\", \"guitarist\", \"guitarist\", \"guitarist\", \"guitarist\", \"guitarist\", \"guitarist\", \"habitat\", \"habitat\", \"habitat\", \"habitat\", \"habitat\", \"habitat\", \"habitat\", \"habitat\", \"habitat\", \"habitat\", \"habitat\", \"habitat\", \"habitat\", \"habitat\", \"habitat\", \"habitat\", \"habitat\", \"habitat\", \"habitat\", \"habitat\", \"hague\", \"hague\", \"hague\", \"hague\", \"hague\", \"hague\", \"hague\", \"hague\", \"hague\", \"hague\", \"hague\", \"hague\", \"hague\", \"hague\", \"hague\", \"hague\", \"hague\", \"hague\", \"hague\", \"hague\", \"half\", \"half\", \"half\", \"half\", \"half\", \"half\", \"half\", \"half\", \"half\", \"half\", \"half\", \"half\", \"half\", \"half\", \"half\", \"half\", \"half\", \"half\", \"half\", \"half\", \"hamlet\", \"hamlet\", \"hamlet\", \"hamlet\", \"hamlet\", \"hamlet\", \"hamlet\", \"hamlet\", \"hamlet\", \"hamlet\", \"hamlet\", \"hamlet\", \"hamlet\", \"hamlet\", \"hamlet\", \"hamlet\", \"hamlet\", \"hamlet\", \"hamlet\", \"hamlet\", \"harris\", \"harris\", \"harris\", \"harris\", \"harris\", \"harris\", \"harris\", \"harris\", \"harris\", \"harris\", \"harris\", \"harris\", \"harris\", \"harris\", \"harris\", \"harris\", \"harris\", \"harris\", \"harris\", \"harris\", \"heart\", \"heart\", \"heart\", \"heart\", \"heart\", \"heart\", \"heart\", \"heart\", \"heart\", \"heart\", \"heart\", \"heart\", \"heart\", \"heart\", \"heart\", \"heart\", \"heart\", \"heart\", \"heart\", \"heart\", \"held\", \"held\", \"held\", \"held\", \"held\", \"held\", \"held\", \"held\", \"held\", \"held\", \"held\", \"held\", \"held\", \"held\", \"held\", \"held\", \"held\", \"held\", \"held\", \"held\", \"highway\", \"highway\", \"highway\", \"highway\", \"highway\", \"highway\", \"highway\", \"highway\", \"highway\", \"highway\", \"highway\", \"highway\", \"highway\", \"highway\", \"highway\", \"highway\", \"highway\", \"highway\", \"highway\", \"highway\", \"historic\", \"historic\", \"historic\", \"historic\", \"historic\", \"historic\", \"historic\", \"historic\", \"historic\", \"historic\", \"historic\", \"historic\", \"historic\", \"historic\", \"historic\", \"historic\", \"historic\", \"historic\", \"historic\", \"historic\", \"history\", \"history\", \"history\", \"history\", \"history\", \"history\", \"history\", \"history\", \"history\", \"history\", \"history\", \"history\", \"history\", \"history\", \"history\", \"history\", \"history\", \"history\", \"history\", \"history\", \"hockey\", \"hockey\", \"hockey\", \"hockey\", \"hockey\", \"hockey\", \"hockey\", \"hockey\", \"hockey\", \"hockey\", \"hockey\", \"hockey\", \"hockey\", \"hockey\", \"hockey\", \"hockey\", \"hockey\", \"hockey\", \"hockey\", \"hockey\", \"home\", \"home\", \"home\", \"home\", \"home\", \"home\", \"home\", \"home\", \"home\", \"home\", \"home\", \"home\", \"home\", \"home\", \"home\", \"home\", \"home\", \"home\", \"home\", \"home\", \"house\", \"house\", \"house\", \"house\", \"house\", \"house\", \"house\", \"house\", \"house\", \"house\", \"house\", \"house\", \"house\", \"house\", \"house\", \"house\", \"house\", \"house\", \"house\", \"house\", \"human\", \"human\", \"human\", \"human\", \"human\", \"human\", \"human\", \"human\", \"human\", \"human\", \"human\", \"human\", \"human\", \"human\", \"human\", \"human\", \"human\", \"human\", \"human\", \"human\", \"ii\", \"ii\", \"ii\", \"ii\", \"ii\", \"ii\", \"ii\", \"ii\", \"ii\", \"ii\", \"ii\", \"ii\", \"ii\", \"ii\", \"ii\", \"ii\", \"ii\", \"ii\", \"ii\", \"ii\", \"important\", \"important\", \"important\", \"important\", \"important\", \"important\", \"important\", \"important\", \"important\", \"important\", \"important\", \"important\", \"important\", \"important\", \"important\", \"important\", \"important\", \"important\", \"important\", \"important\", \"including\", \"including\", \"including\", \"including\", \"including\", \"including\", \"including\", \"including\", \"including\", \"including\", \"including\", \"including\", \"including\", \"including\", \"including\", \"including\", \"including\", \"including\", \"including\", \"including\", \"india\", \"india\", \"india\", \"india\", \"india\", \"india\", \"india\", \"india\", \"india\", \"india\", \"india\", \"india\", \"india\", \"india\", \"india\", \"india\", \"india\", \"india\", \"india\", \"india\", \"indian\", \"indian\", \"indian\", \"indian\", \"indian\", \"indian\", \"indian\", \"indian\", \"indian\", \"indian\", \"indian\", \"indian\", \"indian\", \"indian\", \"indian\", \"indian\", \"indian\", \"indian\", \"indian\", \"indian\", \"indie\", \"indie\", \"indie\", \"indie\", \"indie\", \"indie\", \"indie\", \"indie\", \"indie\", \"indie\", \"indie\", \"indie\", \"indie\", \"indie\", \"indie\", \"indie\", \"indie\", \"indie\", \"indie\", \"indie\", \"information\", \"information\", \"information\", \"information\", \"information\", \"information\", \"information\", \"information\", \"information\", \"information\", \"information\", \"information\", \"information\", \"information\", \"information\", \"information\", \"information\", \"information\", \"information\", \"information\", \"insurance\", \"insurance\", \"insurance\", \"insurance\", \"insurance\", \"insurance\", \"insurance\", \"insurance\", \"insurance\", \"insurance\", \"insurance\", \"insurance\", \"insurance\", \"insurance\", \"insurance\", \"insurance\", \"insurance\", \"insurance\", \"insurance\", \"insurance\", \"international\", \"international\", \"international\", \"international\", \"international\", \"international\", \"international\", \"international\", \"international\", \"international\", \"international\", \"international\", \"international\", \"international\", \"international\", \"international\", \"international\", \"international\", \"international\", \"international\", \"internet\", \"internet\", \"internet\", \"internet\", \"internet\", \"internet\", \"internet\", \"internet\", \"internet\", \"internet\", \"internet\", \"internet\", \"internet\", \"internet\", \"internet\", \"internet\", \"internet\", \"internet\", \"internet\", \"internet\", \"irish\", \"irish\", \"irish\", \"irish\", \"irish\", \"irish\", \"irish\", \"irish\", \"irish\", \"irish\", \"irish\", \"irish\", \"irish\", \"irish\", \"irish\", \"irish\", \"irish\", \"irish\", \"irish\", \"irish\", \"island\", \"island\", \"island\", \"island\", \"island\", \"island\", \"island\", \"island\", \"island\", \"island\", \"island\", \"island\", \"island\", \"island\", \"island\", \"island\", \"island\", \"island\", \"island\", \"island\", \"islands\", \"islands\", \"islands\", \"islands\", \"islands\", \"islands\", \"islands\", \"islands\", \"islands\", \"islands\", \"islands\", \"islands\", \"islands\", \"islands\", \"islands\", \"islands\", \"islands\", \"islands\", \"islands\", \"islands\", \"january\", \"january\", \"january\", \"january\", \"january\", \"january\", \"january\", \"january\", \"january\", \"january\", \"january\", \"january\", \"january\", \"january\", \"january\", \"january\", \"january\", \"january\", \"january\", \"january\", \"japan\", \"japan\", \"japan\", \"japan\", \"japan\", \"japan\", \"japan\", \"japan\", \"japan\", \"japan\", \"japan\", \"japan\", \"japan\", \"japan\", \"japan\", \"japan\", \"japan\", \"japan\", \"japan\", \"japan\", \"japanese\", \"japanese\", \"japanese\", \"japanese\", \"japanese\", \"japanese\", \"japanese\", \"japanese\", \"japanese\", \"japanese\", \"japanese\", \"japanese\", \"japanese\", \"japanese\", \"japanese\", \"japanese\", \"japanese\", \"japanese\", \"japanese\", \"japanese\", \"jewish\", \"jewish\", \"jewish\", \"jewish\", \"jewish\", \"jewish\", \"jewish\", \"jewish\", \"jewish\", \"jewish\", \"jewish\", \"jewish\", \"jewish\", \"jewish\", \"jewish\", \"jewish\", \"jewish\", \"jewish\", \"jewish\", \"jewish\", \"journal\", \"journal\", \"journal\", \"journal\", \"journal\", \"journal\", \"journal\", \"journal\", \"journal\", \"journal\", \"journal\", \"journal\", \"journal\", \"journal\", \"journal\", \"journal\", \"journal\", \"journal\", \"journal\", \"journal\", \"journalist\", \"journalist\", \"journalist\", \"journalist\", \"journalist\", \"journalist\", \"journalist\", \"journalist\", \"journalist\", \"journalist\", \"journalist\", \"journalist\", \"journalist\", \"journalist\", \"journalist\", \"journalist\", \"journalist\", \"journalist\", \"journalist\", \"journalist\", \"july\", \"july\", \"july\", \"july\", \"july\", \"july\", \"july\", \"july\", \"july\", \"july\", \"july\", \"july\", \"july\", \"july\", \"july\", \"july\", \"july\", \"july\", \"july\", \"july\", \"june\", \"june\", \"june\", \"june\", \"june\", \"june\", \"june\", \"june\", \"june\", \"june\", \"june\", \"june\", \"june\", \"june\", \"june\", \"june\", \"june\", \"june\", \"june\", \"june\", \"kilometres\", \"kilometres\", \"kilometres\", \"kilometres\", \"kilometres\", \"kilometres\", \"kilometres\", \"kilometres\", \"kilometres\", \"kilometres\", \"kilometres\", \"kilometres\", \"kilometres\", \"kilometres\", \"kilometres\", \"kilometres\", \"kilometres\", \"kilometres\", \"kilometres\", \"kilometres\", \"king\", \"king\", \"king\", \"king\", \"king\", \"king\", \"king\", \"king\", \"king\", \"king\", \"king\", \"king\", \"king\", \"king\", \"king\", \"king\", \"king\", \"king\", \"king\", \"king\", \"kingdom\", \"kingdom\", \"kingdom\", \"kingdom\", \"kingdom\", \"kingdom\", \"kingdom\", \"kingdom\", \"kingdom\", \"kingdom\", \"kingdom\", \"kingdom\", \"kingdom\", \"kingdom\", \"kingdom\", \"kingdom\", \"kingdom\", \"kingdom\", \"kingdom\", \"kingdom\", \"km\", \"km\", \"km\", \"km\", \"km\", \"km\", \"km\", \"km\", \"km\", \"km\", \"km\", \"km\", \"km\", \"km\", \"km\", \"km\", \"km\", \"km\", \"km\", \"km\", \"knight\", \"knight\", \"knight\", \"knight\", \"knight\", \"knight\", \"knight\", \"knight\", \"knight\", \"knight\", \"knight\", \"knight\", \"knight\", \"knight\", \"knight\", \"knight\", \"knight\", \"knight\", \"knight\", \"knight\", \"known\", \"known\", \"known\", \"known\", \"known\", \"known\", \"known\", \"known\", \"known\", \"known\", \"known\", \"known\", \"known\", \"known\", \"known\", \"known\", \"known\", \"known\", \"known\", \"known\", \"korean\", \"korean\", \"korean\", \"korean\", \"korean\", \"korean\", \"korean\", \"korean\", \"korean\", \"korean\", \"korean\", \"korean\", \"korean\", \"korean\", \"korean\", \"korean\", \"korean\", \"korean\", \"korean\", \"korean\", \"la\", \"la\", \"la\", \"la\", \"la\", \"la\", \"la\", \"la\", \"la\", \"la\", \"la\", \"la\", \"la\", \"la\", \"la\", \"la\", \"la\", \"la\", \"la\", \"la\", \"lake\", \"lake\", \"lake\", \"lake\", \"lake\", \"lake\", \"lake\", \"lake\", \"lake\", \"lake\", \"lake\", \"lake\", \"lake\", \"lake\", \"lake\", \"lake\", \"lake\", \"lake\", \"lake\", \"lake\", \"language\", \"language\", \"language\", \"language\", \"language\", \"language\", \"language\", \"language\", \"language\", \"language\", \"language\", \"language\", \"language\", \"language\", \"language\", \"language\", \"language\", \"language\", \"language\", \"language\", \"large\", \"large\", \"large\", \"large\", \"large\", \"large\", \"large\", \"large\", \"large\", \"large\", \"large\", \"large\", \"large\", \"large\", \"large\", \"large\", \"large\", \"large\", \"large\", \"large\", \"later\", \"later\", \"later\", \"later\", \"later\", \"later\", \"later\", \"later\", \"later\", \"later\", \"later\", \"later\", \"later\", \"later\", \"later\", \"later\", \"later\", \"later\", \"later\", \"later\", \"latin\", \"latin\", \"latin\", \"latin\", \"latin\", \"latin\", \"latin\", \"latin\", \"latin\", \"latin\", \"latin\", \"latin\", \"latin\", \"latin\", \"latin\", \"latin\", \"latin\", \"latin\", \"latin\", \"latin\", \"launched\", \"launched\", \"launched\", \"launched\", \"launched\", \"launched\", \"launched\", \"launched\", \"launched\", \"launched\", \"launched\", \"launched\", \"launched\", \"launched\", \"launched\", \"launched\", \"launched\", \"launched\", \"launched\", \"launched\", \"law\", \"law\", \"law\", \"law\", \"law\", \"law\", \"law\", \"law\", \"law\", \"law\", \"law\", \"law\", \"law\", \"law\", \"law\", \"law\", \"law\", \"law\", \"law\", \"law\", \"lawyer\", \"lawyer\", \"lawyer\", \"lawyer\", \"lawyer\", \"lawyer\", \"lawyer\", \"lawyer\", \"lawyer\", \"lawyer\", \"lawyer\", \"lawyer\", \"lawyer\", \"lawyer\", \"lawyer\", \"lawyer\", \"lawyer\", \"lawyer\", \"lawyer\", \"lawyer\", \"lead\", \"lead\", \"lead\", \"lead\", \"lead\", \"lead\", \"lead\", \"lead\", \"lead\", \"lead\", \"lead\", \"lead\", \"lead\", \"lead\", \"lead\", \"lead\", \"lead\", \"lead\", \"lead\", \"lead\", \"leader\", \"leader\", \"leader\", \"leader\", \"leader\", \"leader\", \"leader\", \"leader\", \"leader\", \"leader\", \"leader\", \"leader\", \"leader\", \"leader\", \"leader\", \"leader\", \"leader\", \"leader\", \"leader\", \"leader\", \"league\", \"league\", \"league\", \"league\", \"league\", \"league\", \"league\", \"league\", \"league\", \"league\", \"league\", \"league\", \"league\", \"league\", \"league\", \"league\", \"league\", \"league\", \"league\", \"league\", \"least\", \"least\", \"least\", \"least\", \"least\", \"least\", \"least\", \"least\", \"least\", \"least\", \"least\", \"least\", \"least\", \"least\", \"least\", \"least\", \"least\", \"least\", \"least\", \"least\", \"lies\", \"lies\", \"lies\", \"lies\", \"lies\", \"lies\", \"lies\", \"lies\", \"lies\", \"lies\", \"lies\", \"lies\", \"lies\", \"lies\", \"lies\", \"lies\", \"lies\", \"lies\", \"lies\", \"lies\", \"line\", \"line\", \"line\", \"line\", \"line\", \"line\", \"line\", \"line\", \"line\", \"line\", \"line\", \"line\", \"line\", \"line\", \"line\", \"line\", \"line\", \"line\", \"line\", \"line\", \"list\", \"list\", \"list\", \"list\", \"list\", \"list\", \"list\", \"list\", \"list\", \"list\", \"list\", \"list\", \"list\", \"list\", \"list\", \"list\", \"list\", \"list\", \"list\", \"list\", \"lives\", \"lives\", \"lives\", \"lives\", \"lives\", \"lives\", \"lives\", \"lives\", \"lives\", \"lives\", \"lives\", \"lives\", \"lives\", \"lives\", \"lives\", \"lives\", \"lives\", \"lives\", \"lives\", \"lives\", \"located\", \"located\", \"located\", \"located\", \"located\", \"located\", \"located\", \"located\", \"located\", \"located\", \"located\", \"located\", \"located\", \"located\", \"located\", \"located\", \"located\", \"located\", \"located\", \"located\", \"lord\", \"lord\", \"lord\", \"lord\", \"lord\", \"lord\", \"lord\", \"lord\", \"lord\", \"lord\", \"lord\", \"lord\", \"lord\", \"lord\", \"lord\", \"lord\", \"lord\", \"lord\", \"lord\", \"lord\", \"lucas\", \"lucas\", \"lucas\", \"lucas\", \"lucas\", \"lucas\", \"lucas\", \"lucas\", \"lucas\", \"lucas\", \"lucas\", \"lucas\", \"lucas\", \"lucas\", \"lucas\", \"lucas\", \"lucas\", \"lucas\", \"lucas\", \"lucas\", \"made\", \"made\", \"made\", \"made\", \"made\", \"made\", \"made\", \"made\", \"made\", \"made\", \"made\", \"made\", \"made\", \"made\", \"made\", \"made\", \"made\", \"made\", \"made\", \"made\", \"males\", \"males\", \"males\", \"males\", \"males\", \"males\", \"males\", \"males\", \"males\", \"males\", \"males\", \"males\", \"males\", \"males\", \"males\", \"males\", \"males\", \"males\", \"males\", \"males\", \"management\", \"management\", \"management\", \"management\", \"management\", \"management\", \"management\", \"management\", \"management\", \"management\", \"management\", \"management\", \"management\", \"management\", \"management\", \"management\", \"management\", \"management\", \"management\", \"management\", \"manufactured\", \"manufactured\", \"manufactured\", \"manufactured\", \"manufactured\", \"manufactured\", \"manufactured\", \"manufactured\", \"manufactured\", \"manufactured\", \"manufactured\", \"manufactured\", \"manufactured\", \"manufactured\", \"manufactured\", \"manufactured\", \"manufactured\", \"manufactured\", \"manufactured\", \"manufactured\", \"mapped\", \"mapped\", \"mapped\", \"mapped\", \"mapped\", \"mapped\", \"mapped\", \"mapped\", \"mapped\", \"mapped\", \"mapped\", \"mapped\", \"mapped\", \"mapped\", \"mapped\", \"mapped\", \"mapped\", \"mapped\", \"mapped\", \"mapped\", \"march\", \"march\", \"march\", \"march\", \"march\", \"march\", \"march\", \"march\", \"march\", \"march\", \"march\", \"march\", \"march\", \"march\", \"march\", \"march\", \"march\", \"march\", \"march\", \"march\", \"married\", \"married\", \"married\", \"married\", \"married\", \"married\", \"married\", \"married\", \"married\", \"married\", \"married\", \"married\", \"married\", \"married\", \"married\", \"married\", \"married\", \"married\", \"married\", \"married\", \"may\", \"may\", \"may\", \"may\", \"may\", \"may\", \"may\", \"may\", \"may\", \"may\", \"may\", \"may\", \"may\", \"may\", \"may\", \"may\", \"may\", \"may\", \"may\", \"may\", \"mayor\", \"mayor\", \"mayor\", \"mayor\", \"mayor\", \"mayor\", \"mayor\", \"mayor\", \"mayor\", \"mayor\", \"mayor\", \"mayor\", \"mayor\", \"mayor\", \"mayor\", \"mayor\", \"mayor\", \"mayor\", \"mayor\", \"mayor\", \"meaning\", \"meaning\", \"meaning\", \"meaning\", \"meaning\", \"meaning\", \"meaning\", \"meaning\", \"meaning\", \"meaning\", \"meaning\", \"meaning\", \"meaning\", \"meaning\", \"meaning\", \"meaning\", \"meaning\", \"meaning\", \"meaning\", \"meaning\", \"medal\", \"medal\", \"medal\", \"medal\", \"medal\", \"medal\", \"medal\", \"medal\", \"medal\", \"medal\", \"medal\", \"medal\", \"medal\", \"medal\", \"medal\", \"medal\", \"medal\", \"medal\", \"medal\", \"medal\", \"medals\", \"medals\", \"medals\", \"medals\", \"medals\", \"medals\", \"medals\", \"medals\", \"medals\", \"medals\", \"medals\", \"medals\", \"medals\", \"medals\", \"medals\", \"medals\", \"medals\", \"medals\", \"medals\", \"medals\", \"member\", \"member\", \"member\", \"member\", \"member\", \"member\", \"member\", \"member\", \"member\", \"member\", \"member\", \"member\", \"member\", \"member\", \"member\", \"member\", \"member\", \"member\", \"member\", \"member\", \"men\", \"men\", \"men\", \"men\", \"men\", \"men\", \"men\", \"men\", \"men\", \"men\", \"men\", \"men\", \"men\", \"men\", \"men\", \"men\", \"men\", \"men\", \"men\", \"men\", \"mi\", \"mi\", \"mi\", \"mi\", \"mi\", \"mi\", \"mi\", \"mi\", \"mi\", \"mi\", \"mi\", \"mi\", \"mi\", \"mi\", \"mi\", \"mi\", \"mi\", \"mi\", \"mi\", \"mi\", \"miles\", \"miles\", \"miles\", \"miles\", \"miles\", \"miles\", \"miles\", \"miles\", \"miles\", \"miles\", \"miles\", \"miles\", \"miles\", \"miles\", \"miles\", \"miles\", \"miles\", \"miles\", \"miles\", \"miles\", \"million\", \"million\", \"million\", \"million\", \"million\", \"million\", \"million\", \"million\", \"million\", \"million\", \"million\", \"million\", \"million\", \"million\", \"million\", \"million\", \"million\", \"million\", \"million\", \"million\", \"minister\", \"minister\", \"minister\", \"minister\", \"minister\", \"minister\", \"minister\", \"minister\", \"minister\", \"minister\", \"minister\", \"minister\", \"minister\", \"minister\", \"minister\", \"minister\", \"minister\", \"minister\", \"minister\", \"minister\", \"mm\", \"mm\", \"mm\", \"mm\", \"mm\", \"mm\", \"mm\", \"mm\", \"mm\", \"mm\", \"mm\", \"mm\", \"mm\", \"mm\", \"mm\", \"mm\", \"mm\", \"mm\", \"mm\", \"mm\", \"modern\", \"modern\", \"modern\", \"modern\", \"modern\", \"modern\", \"modern\", \"modern\", \"modern\", \"modern\", \"modern\", \"modern\", \"modern\", \"modern\", \"modern\", \"modern\", \"modern\", \"modern\", \"modern\", \"modern\", \"moth\", \"moth\", \"moth\", \"moth\", \"moth\", \"moth\", \"moth\", \"moth\", \"moth\", \"moth\", \"moth\", \"moth\", \"moth\", \"moth\", \"moth\", \"moth\", \"moth\", \"moth\", \"moth\", \"moth\", \"mountains\", \"mountains\", \"mountains\", \"mountains\", \"mountains\", \"mountains\", \"mountains\", \"mountains\", \"mountains\", \"mountains\", \"mountains\", \"mountains\", \"mountains\", \"mountains\", \"mountains\", \"mountains\", \"mountains\", \"mountains\", \"mountains\", \"mountains\", \"mp\", \"mp\", \"mp\", \"mp\", \"mp\", \"mp\", \"mp\", \"mp\", \"mp\", \"mp\", \"mp\", \"mp\", \"mp\", \"mp\", \"mp\", \"mp\", \"mp\", \"mp\", \"mp\", \"mp\", \"municipality\", \"municipality\", \"municipality\", \"municipality\", \"municipality\", \"municipality\", \"municipality\", \"municipality\", \"municipality\", \"municipality\", \"municipality\", \"municipality\", \"municipality\", \"municipality\", \"municipality\", \"municipality\", \"municipality\", \"municipality\", \"municipality\", \"municipality\", \"music\", \"music\", \"music\", \"music\", \"music\", \"music\", \"music\", \"music\", \"music\", \"music\", \"music\", \"music\", \"music\", \"music\", \"music\", \"music\", \"music\", \"music\", \"music\", \"music\", \"name\", \"name\", \"name\", \"name\", \"name\", \"name\", \"name\", \"name\", \"name\", \"name\", \"name\", \"name\", \"name\", \"name\", \"name\", \"name\", \"name\", \"name\", \"name\", \"name\", \"named\", \"named\", \"named\", \"named\", \"named\", \"named\", \"named\", \"named\", \"named\", \"named\", \"named\", \"named\", \"named\", \"named\", \"named\", \"named\", \"named\", \"named\", \"named\", \"named\", \"national\", \"national\", \"national\", \"national\", \"national\", \"national\", \"national\", \"national\", \"national\", \"national\", \"national\", \"national\", \"national\", \"national\", \"national\", \"national\", \"national\", \"national\", \"national\", \"national\", \"natural\", \"natural\", \"natural\", \"natural\", \"natural\", \"natural\", \"natural\", \"natural\", \"natural\", \"natural\", \"natural\", \"natural\", \"natural\", \"natural\", \"natural\", \"natural\", \"natural\", \"natural\", \"natural\", \"natural\", \"naval\", \"naval\", \"naval\", \"naval\", \"naval\", \"naval\", \"naval\", \"naval\", \"naval\", \"naval\", \"naval\", \"naval\", \"naval\", \"naval\", \"naval\", \"naval\", \"naval\", \"naval\", \"naval\", \"naval\", \"ncaa\", \"ncaa\", \"ncaa\", \"ncaa\", \"ncaa\", \"ncaa\", \"ncaa\", \"ncaa\", \"ncaa\", \"ncaa\", \"ncaa\", \"ncaa\", \"ncaa\", \"ncaa\", \"ncaa\", \"ncaa\", \"ncaa\", \"ncaa\", \"ncaa\", \"ncaa\", \"near\", \"near\", \"near\", \"near\", \"near\", \"near\", \"near\", \"near\", \"near\", \"near\", \"near\", \"near\", \"near\", \"near\", \"near\", \"near\", \"near\", \"near\", \"near\", \"near\", \"nee\", \"nee\", \"nee\", \"nee\", \"nee\", \"nee\", \"nee\", \"nee\", \"nee\", \"nee\", \"nee\", \"nee\", \"nee\", \"nee\", \"nee\", \"nee\", \"nee\", \"nee\", \"nee\", \"nee\", \"nepali\", \"nepali\", \"nepali\", \"nepali\", \"nepali\", \"nepali\", \"nepali\", \"nepali\", \"nepali\", \"nepali\", \"nepali\", \"nepali\", \"nepali\", \"nepali\", \"nepali\", \"nepali\", \"nepali\", \"nepali\", \"nepali\", \"nepali\", \"nfl\", \"nfl\", \"nfl\", \"nfl\", \"nfl\", \"nfl\", \"nfl\", \"nfl\", \"nfl\", \"nfl\", \"nfl\", \"nfl\", \"nfl\", \"nfl\", \"nfl\", \"nfl\", \"nfl\", \"nfl\", \"nfl\", \"nfl\", \"non\", \"non\", \"non\", \"non\", \"non\", \"non\", \"non\", \"non\", \"non\", \"non\", \"non\", \"non\", \"non\", \"non\", \"non\", \"non\", \"non\", \"non\", \"non\", \"non\", \"north\", \"north\", \"north\", \"north\", \"north\", \"north\", \"north\", \"north\", \"north\", \"north\", \"north\", \"north\", \"north\", \"north\", \"north\", \"north\", \"north\", \"north\", \"north\", \"north\", \"northeastern\", \"northeastern\", \"northeastern\", \"northeastern\", \"northeastern\", \"northeastern\", \"northeastern\", \"northeastern\", \"northeastern\", \"northeastern\", \"northeastern\", \"northeastern\", \"northeastern\", \"northeastern\", \"northeastern\", \"northeastern\", \"northeastern\", \"northeastern\", \"northeastern\", \"northeastern\", \"northern\", \"northern\", \"northern\", \"northern\", \"northern\", \"northern\", \"northern\", \"northern\", \"northern\", \"northern\", \"northern\", \"northern\", \"northern\", \"northern\", \"northern\", \"northern\", \"northern\", \"northern\", \"northern\", \"northern\", \"novel\", \"novel\", \"novel\", \"novel\", \"novel\", \"novel\", \"novel\", \"novel\", \"novel\", \"novel\", \"novel\", \"novel\", \"novel\", \"novel\", \"novel\", \"novel\", \"novel\", \"novel\", \"novel\", \"novel\", \"october\", \"october\", \"october\", \"october\", \"october\", \"october\", \"october\", \"october\", \"october\", \"october\", \"october\", \"october\", \"october\", \"october\", \"october\", \"october\", \"october\", \"october\", \"october\", \"october\", \"often\", \"often\", \"often\", \"often\", \"often\", \"often\", \"often\", \"often\", \"often\", \"often\", \"often\", \"often\", \"often\", \"often\", \"often\", \"often\", \"often\", \"often\", \"often\", \"often\", \"oil\", \"oil\", \"oil\", \"oil\", \"oil\", \"oil\", \"oil\", \"oil\", \"oil\", \"oil\", \"oil\", \"oil\", \"oil\", \"oil\", \"oil\", \"oil\", \"oil\", \"oil\", \"oil\", \"oil\", \"olympics\", \"olympics\", \"olympics\", \"olympics\", \"olympics\", \"olympics\", \"olympics\", \"olympics\", \"olympics\", \"olympics\", \"olympics\", \"olympics\", \"olympics\", \"olympics\", \"olympics\", \"olympics\", \"olympics\", \"olympics\", \"olympics\", \"olympics\", \"one\", \"one\", \"one\", \"one\", \"one\", \"one\", \"one\", \"one\", \"one\", \"one\", \"one\", \"one\", \"one\", \"one\", \"one\", \"one\", \"one\", \"one\", \"one\", \"one\", \"ontario\", \"ontario\", \"ontario\", \"ontario\", \"ontario\", \"ontario\", \"ontario\", \"ontario\", \"ontario\", \"ontario\", \"ontario\", \"ontario\", \"ontario\", \"ontario\", \"ontario\", \"ontario\", \"ontario\", \"ontario\", \"ontario\", \"ontario\", \"operations\", \"operations\", \"operations\", \"operations\", \"operations\", \"operations\", \"operations\", \"operations\", \"operations\", \"operations\", \"operations\", \"operations\", \"operations\", \"operations\", \"operations\", \"operations\", \"operations\", \"operations\", \"operations\", \"operations\", \"order\", \"order\", \"order\", \"order\", \"order\", \"order\", \"order\", \"order\", \"order\", \"order\", \"order\", \"order\", \"order\", \"order\", \"order\", \"order\", \"order\", \"order\", \"order\", \"order\", \"others\", \"others\", \"others\", \"others\", \"others\", \"others\", \"others\", \"others\", \"others\", \"others\", \"others\", \"others\", \"others\", \"others\", \"others\", \"others\", \"others\", \"others\", \"others\", \"others\", \"oxford\", \"oxford\", \"oxford\", \"oxford\", \"oxford\", \"oxford\", \"oxford\", \"oxford\", \"oxford\", \"oxford\", \"oxford\", \"oxford\", \"oxford\", \"oxford\", \"oxford\", \"oxford\", \"oxford\", \"oxford\", \"oxford\", \"oxford\", \"painter\", \"painter\", \"painter\", \"painter\", \"painter\", \"painter\", \"painter\", \"painter\", \"painter\", \"painter\", \"painter\", \"painter\", \"painter\", \"painter\", \"painter\", \"painter\", \"painter\", \"painter\", \"painter\", \"painter\", \"paris\", \"paris\", \"paris\", \"paris\", \"paris\", \"paris\", \"paris\", \"paris\", \"paris\", \"paris\", \"paris\", \"paris\", \"paris\", \"paris\", \"paris\", \"paris\", \"paris\", \"paris\", \"paris\", \"paris\", \"parish\", \"parish\", \"parish\", \"parish\", \"parish\", \"parish\", \"parish\", \"parish\", \"parish\", \"parish\", \"parish\", \"parish\", \"parish\", \"parish\", \"parish\", \"parish\", \"parish\", \"parish\", \"parish\", \"parish\", \"park\", \"park\", \"park\", \"park\", \"park\", \"park\", \"park\", \"park\", \"park\", \"park\", \"park\", \"park\", \"park\", \"park\", \"park\", \"park\", \"park\", \"park\", \"park\", \"park\", \"parliament\", \"parliament\", \"parliament\", \"parliament\", \"parliament\", \"parliament\", \"parliament\", \"parliament\", \"parliament\", \"parliament\", \"parliament\", \"parliament\", \"parliament\", \"parliament\", \"parliament\", \"parliament\", \"parliament\", \"parliament\", \"parliament\", \"parliament\", \"part\", \"part\", \"part\", \"part\", \"part\", \"part\", \"part\", \"part\", \"part\", \"part\", \"part\", \"part\", \"part\", \"part\", \"part\", \"part\", \"part\", \"part\", \"part\", \"part\", \"parties\", \"parties\", \"parties\", \"parties\", \"parties\", \"parties\", \"parties\", \"parties\", \"parties\", \"parties\", \"parties\", \"parties\", \"parties\", \"parties\", \"parties\", \"parties\", \"parties\", \"parties\", \"parties\", \"parties\", \"party\", \"party\", \"party\", \"party\", \"party\", \"party\", \"party\", \"party\", \"party\", \"party\", \"party\", \"party\", \"party\", \"party\", \"party\", \"party\", \"party\", \"party\", \"party\", \"party\", \"peer\", \"peer\", \"peer\", \"peer\", \"peer\", \"peer\", \"peer\", \"peer\", \"peer\", \"peer\", \"peer\", \"peer\", \"peer\", \"peer\", \"peer\", \"peer\", \"peer\", \"peer\", \"peer\", \"peer\", \"performance\", \"performance\", \"performance\", \"performance\", \"performance\", \"performance\", \"performance\", \"performance\", \"performance\", \"performance\", \"performance\", \"performance\", \"performance\", \"performance\", \"performance\", \"performance\", \"performance\", \"performance\", \"performance\", \"performance\", \"period\", \"period\", \"period\", \"period\", \"period\", \"period\", \"period\", \"period\", \"period\", \"period\", \"period\", \"period\", \"period\", \"period\", \"period\", \"period\", \"period\", \"period\", \"period\", \"period\", \"person\", \"person\", \"person\", \"person\", \"person\", \"person\", \"person\", \"person\", \"person\", \"person\", \"person\", \"person\", \"person\", \"person\", \"person\", \"person\", \"person\", \"person\", \"person\", \"person\", \"peter\", \"peter\", \"peter\", \"peter\", \"peter\", \"peter\", \"peter\", \"peter\", \"peter\", \"peter\", \"peter\", \"peter\", \"peter\", \"peter\", \"peter\", \"peter\", \"peter\", \"peter\", \"peter\", \"peter\", \"philosophy\", \"philosophy\", \"philosophy\", \"philosophy\", \"philosophy\", \"philosophy\", \"philosophy\", \"philosophy\", \"philosophy\", \"philosophy\", \"philosophy\", \"philosophy\", \"philosophy\", \"philosophy\", \"philosophy\", \"philosophy\", \"philosophy\", \"philosophy\", \"philosophy\", \"philosophy\", \"photographer\", \"photographer\", \"photographer\", \"photographer\", \"photographer\", \"photographer\", \"photographer\", \"photographer\", \"photographer\", \"photographer\", \"photographer\", \"photographer\", \"photographer\", \"photographer\", \"photographer\", \"photographer\", \"photographer\", \"photographer\", \"photographer\", \"photographer\", \"planet\", \"planet\", \"planet\", \"planet\", \"planet\", \"planet\", \"planet\", \"planet\", \"planet\", \"planet\", \"planet\", \"planet\", \"planet\", \"planet\", \"planet\", \"planet\", \"planet\", \"planet\", \"planet\", \"planet\", \"plant\", \"plant\", \"plant\", \"plant\", \"plant\", \"plant\", \"plant\", \"plant\", \"plant\", \"plant\", \"plant\", \"plant\", \"plant\", \"plant\", \"plant\", \"plant\", \"plant\", \"plant\", \"plant\", \"plant\", \"played\", \"played\", \"played\", \"played\", \"played\", \"played\", \"played\", \"played\", \"played\", \"played\", \"played\", \"played\", \"played\", \"played\", \"played\", \"played\", \"played\", \"played\", \"played\", \"played\", \"player\", \"player\", \"player\", \"player\", \"player\", \"player\", \"player\", \"player\", \"player\", \"player\", \"player\", \"player\", \"player\", \"player\", \"player\", \"player\", \"player\", \"player\", \"player\", \"player\", \"playing\", \"playing\", \"playing\", \"playing\", \"playing\", \"playing\", \"playing\", \"playing\", \"playing\", \"playing\", \"playing\", \"playing\", \"playing\", \"playing\", \"playing\", \"playing\", \"playing\", \"playing\", \"playing\", \"playing\", \"plays\", \"plays\", \"plays\", \"plays\", \"plays\", \"plays\", \"plays\", \"plays\", \"plays\", \"plays\", \"plays\", \"plays\", \"plays\", \"plays\", \"plays\", \"plays\", \"plays\", \"plays\", \"plays\", \"plays\", \"poland\", \"poland\", \"poland\", \"poland\", \"poland\", \"poland\", \"poland\", \"poland\", \"poland\", \"poland\", \"poland\", \"poland\", \"poland\", \"poland\", \"poland\", \"poland\", \"poland\", \"poland\", \"poland\", \"poland\", \"politician\", \"politician\", \"politician\", \"politician\", \"politician\", \"politician\", \"politician\", \"politician\", \"politician\", \"politician\", \"politician\", \"politician\", \"politician\", \"politician\", \"politician\", \"politician\", \"politician\", \"politician\", \"politician\", \"politician\", \"population\", \"population\", \"population\", \"population\", \"population\", \"population\", \"population\", \"population\", \"population\", \"population\", \"population\", \"population\", \"population\", \"population\", \"population\", \"population\", \"population\", \"population\", \"population\", \"population\", \"port\", \"port\", \"port\", \"port\", \"port\", \"port\", \"port\", \"port\", \"port\", \"port\", \"port\", \"port\", \"port\", \"port\", \"port\", \"port\", \"port\", \"port\", \"port\", \"port\", \"pradesh\", \"pradesh\", \"pradesh\", \"pradesh\", \"pradesh\", \"pradesh\", \"pradesh\", \"pradesh\", \"pradesh\", \"pradesh\", \"pradesh\", \"pradesh\", \"pradesh\", \"pradesh\", \"pradesh\", \"pradesh\", \"pradesh\", \"pradesh\", \"pradesh\", \"pradesh\", \"present\", \"present\", \"present\", \"present\", \"present\", \"present\", \"present\", \"present\", \"present\", \"present\", \"present\", \"present\", \"present\", \"present\", \"present\", \"present\", \"present\", \"present\", \"present\", \"present\", \"president\", \"president\", \"president\", \"president\", \"president\", \"president\", \"president\", \"president\", \"president\", \"president\", \"president\", \"president\", \"president\", \"president\", \"president\", \"president\", \"president\", \"president\", \"president\", \"president\", \"press\", \"press\", \"press\", \"press\", \"press\", \"press\", \"press\", \"press\", \"press\", \"press\", \"press\", \"press\", \"press\", \"press\", \"press\", \"press\", \"press\", \"press\", \"press\", \"press\", \"prima\", \"prima\", \"prima\", \"prima\", \"prima\", \"prima\", \"prima\", \"prima\", \"prima\", \"prima\", \"prima\", \"prima\", \"prima\", \"prima\", \"prima\", \"prima\", \"prima\", \"prima\", \"prima\", \"prima\", \"process\", \"process\", \"process\", \"process\", \"process\", \"process\", \"process\", \"process\", \"process\", \"process\", \"process\", \"process\", \"process\", \"process\", \"process\", \"process\", \"process\", \"process\", \"process\", \"process\", \"produced\", \"produced\", \"produced\", \"produced\", \"produced\", \"produced\", \"produced\", \"produced\", \"produced\", \"produced\", \"produced\", \"produced\", \"produced\", \"produced\", \"produced\", \"produced\", \"produced\", \"produced\", \"produced\", \"produced\", \"production\", \"production\", \"production\", \"production\", \"production\", \"production\", \"production\", \"production\", \"production\", \"production\", \"production\", \"production\", \"production\", \"production\", \"production\", \"production\", \"production\", \"production\", \"production\", \"production\", \"products\", \"products\", \"products\", \"products\", \"products\", \"products\", \"products\", \"products\", \"products\", \"products\", \"products\", \"products\", \"products\", \"products\", \"products\", \"products\", \"products\", \"products\", \"products\", \"products\", \"professional\", \"professional\", \"professional\", \"professional\", \"professional\", \"professional\", \"professional\", \"professional\", \"professional\", \"professional\", \"professional\", \"professional\", \"professional\", \"professional\", \"professional\", \"professional\", \"professional\", \"professional\", \"professional\", \"professional\", \"professor\", \"professor\", \"professor\", \"professor\", \"professor\", \"professor\", \"professor\", \"professor\", \"professor\", \"professor\", \"professor\", \"professor\", \"professor\", \"professor\", \"professor\", \"professor\", \"professor\", \"professor\", \"professor\", \"professor\", \"profit\", \"profit\", \"profit\", \"profit\", \"profit\", \"profit\", \"profit\", \"profit\", \"profit\", \"profit\", \"profit\", \"profit\", \"profit\", \"profit\", \"profit\", \"profit\", \"profit\", \"profit\", \"profit\", \"profit\", \"projects\", \"projects\", \"projects\", \"projects\", \"projects\", \"projects\", \"projects\", \"projects\", \"projects\", \"projects\", \"projects\", \"projects\", \"projects\", \"projects\", \"projects\", \"projects\", \"projects\", \"projects\", \"projects\", \"projects\", \"promote\", \"promote\", \"promote\", \"promote\", \"promote\", \"promote\", \"promote\", \"promote\", \"promote\", \"promote\", \"promote\", \"promote\", \"promote\", \"promote\", \"promote\", \"promote\", \"promote\", \"promote\", \"promote\", \"promote\", \"protein\", \"protein\", \"protein\", \"protein\", \"protein\", \"protein\", \"protein\", \"protein\", \"protein\", \"protein\", \"protein\", \"protein\", \"protein\", \"protein\", \"protein\", \"protein\", \"protein\", \"protein\", \"protein\", \"protein\", \"proteins\", \"proteins\", \"proteins\", \"proteins\", \"proteins\", \"proteins\", \"proteins\", \"proteins\", \"proteins\", \"proteins\", \"proteins\", \"proteins\", \"proteins\", \"proteins\", \"proteins\", \"proteins\", \"proteins\", \"proteins\", \"proteins\", \"proteins\", \"province\", \"province\", \"province\", \"province\", \"province\", \"province\", \"province\", \"province\", \"province\", \"province\", \"province\", \"province\", \"province\", \"province\", \"province\", \"province\", \"province\", \"province\", \"province\", \"province\", \"published\", \"published\", \"published\", \"published\", \"published\", \"published\", \"published\", \"published\", \"published\", \"published\", \"published\", \"published\", \"published\", \"published\", \"published\", \"published\", \"published\", \"published\", \"published\", \"published\", \"radio\", \"radio\", \"radio\", \"radio\", \"radio\", \"radio\", \"radio\", \"radio\", \"radio\", \"radio\", \"radio\", \"radio\", \"radio\", \"radio\", \"radio\", \"radio\", \"radio\", \"radio\", \"radio\", \"radio\", \"railway\", \"railway\", \"railway\", \"railway\", \"railway\", \"railway\", \"railway\", \"railway\", \"railway\", \"railway\", \"railway\", \"railway\", \"railway\", \"railway\", \"railway\", \"railway\", \"railway\", \"railway\", \"railway\", \"railway\", \"rate\", \"rate\", \"rate\", \"rate\", \"rate\", \"rate\", \"rate\", \"rate\", \"rate\", \"rate\", \"rate\", \"rate\", \"rate\", \"rate\", \"rate\", \"rate\", \"rate\", \"rate\", \"rate\", \"rate\", \"reality\", \"reality\", \"reality\", \"reality\", \"reality\", \"reality\", \"reality\", \"reality\", \"reality\", \"reality\", \"reality\", \"reality\", \"reality\", \"reality\", \"reality\", \"reality\", \"reality\", \"reality\", \"reality\", \"reality\", \"received\", \"received\", \"received\", \"received\", \"received\", \"received\", \"received\", \"received\", \"received\", \"received\", \"received\", \"received\", \"received\", \"received\", \"received\", \"received\", \"received\", \"received\", \"received\", \"received\", \"recorded\", \"recorded\", \"recorded\", \"recorded\", \"recorded\", \"recorded\", \"recorded\", \"recorded\", \"recorded\", \"recorded\", \"recorded\", \"recorded\", \"recorded\", \"recorded\", \"recorded\", \"recorded\", \"recorded\", \"recorded\", \"recorded\", \"recorded\", \"records\", \"records\", \"records\", \"records\", \"records\", \"records\", \"records\", \"records\", \"records\", \"records\", \"records\", \"records\", \"records\", \"records\", \"records\", \"records\", \"records\", \"records\", \"records\", \"records\", \"referred\", \"referred\", \"referred\", \"referred\", \"referred\", \"referred\", \"referred\", \"referred\", \"referred\", \"referred\", \"referred\", \"referred\", \"referred\", \"referred\", \"referred\", \"referred\", \"referred\", \"referred\", \"referred\", \"referred\", \"refers\", \"refers\", \"refers\", \"refers\", \"refers\", \"refers\", \"refers\", \"refers\", \"refers\", \"refers\", \"refers\", \"refers\", \"refers\", \"refers\", \"refers\", \"refers\", \"refers\", \"refers\", \"refers\", \"refers\", \"region\", \"region\", \"region\", \"region\", \"region\", \"region\", \"region\", \"region\", \"region\", \"region\", \"region\", \"region\", \"region\", \"region\", \"region\", \"region\", \"region\", \"region\", \"region\", \"region\", \"regional\", \"regional\", \"regional\", \"regional\", \"regional\", \"regional\", \"regional\", \"regional\", \"regional\", \"regional\", \"regional\", \"regional\", \"regional\", \"regional\", \"regional\", \"regional\", \"regional\", \"regional\", \"regional\", \"regional\", \"related\", \"related\", \"related\", \"related\", \"related\", \"related\", \"related\", \"related\", \"related\", \"related\", \"related\", \"related\", \"related\", \"related\", \"related\", \"related\", \"related\", \"related\", \"related\", \"related\", \"relations\", \"relations\", \"relations\", \"relations\", \"relations\", \"relations\", \"relations\", \"relations\", \"relations\", \"relations\", \"relations\", \"relations\", \"relations\", \"relations\", \"relations\", \"relations\", \"relations\", \"relations\", \"relations\", \"relations\", \"release\", \"release\", \"release\", \"release\", \"release\", \"release\", \"release\", \"release\", \"release\", \"release\", \"release\", \"release\", \"release\", \"release\", \"release\", \"release\", \"release\", \"release\", \"release\", \"release\", \"released\", \"released\", \"released\", \"released\", \"released\", \"released\", \"released\", \"released\", \"released\", \"released\", \"released\", \"released\", \"released\", \"released\", \"released\", \"released\", \"released\", \"released\", \"released\", \"released\", \"reno\", \"reno\", \"reno\", \"reno\", \"reno\", \"reno\", \"reno\", \"reno\", \"reno\", \"reno\", \"reno\", \"reno\", \"reno\", \"reno\", \"reno\", \"reno\", \"reno\", \"reno\", \"reno\", \"reno\", \"representatives\", \"representatives\", \"representatives\", \"representatives\", \"representatives\", \"representatives\", \"representatives\", \"representatives\", \"representatives\", \"representatives\", \"representatives\", \"representatives\", \"representatives\", \"representatives\", \"representatives\", \"representatives\", \"representatives\", \"representatives\", \"representatives\", \"representatives\", \"represented\", \"represented\", \"represented\", \"represented\", \"represented\", \"represented\", \"represented\", \"represented\", \"represented\", \"represented\", \"represented\", \"represented\", \"represented\", \"represented\", \"represented\", \"represented\", \"represented\", \"represented\", \"represented\", \"represented\", \"republican\", \"republican\", \"republican\", \"republican\", \"republican\", \"republican\", \"republican\", \"republican\", \"republican\", \"republican\", \"republican\", \"republican\", \"republican\", \"republican\", \"republican\", \"republican\", \"republican\", \"republican\", \"republican\", \"republican\", \"research\", \"research\", \"research\", \"research\", \"research\", \"research\", \"research\", \"research\", \"research\", \"research\", \"research\", \"research\", \"research\", \"research\", \"research\", \"research\", \"research\", \"research\", \"research\", \"research\", \"retired\", \"retired\", \"retired\", \"retired\", \"retired\", \"retired\", \"retired\", \"retired\", \"retired\", \"retired\", \"retired\", \"retired\", \"retired\", \"retired\", \"retired\", \"retired\", \"retired\", \"retired\", \"retired\", \"retired\", \"richard\", \"richard\", \"richard\", \"richard\", \"richard\", \"richard\", \"richard\", \"richard\", \"richard\", \"richard\", \"richard\", \"richard\", \"richard\", \"richard\", \"richard\", \"richard\", \"richard\", \"richard\", \"richard\", \"richard\", \"river\", \"river\", \"river\", \"river\", \"river\", \"river\", \"river\", \"river\", \"river\", \"river\", \"river\", \"river\", \"river\", \"river\", \"river\", \"river\", \"river\", \"river\", \"river\", \"river\", \"road\", \"road\", \"road\", \"road\", \"road\", \"road\", \"road\", \"road\", \"road\", \"road\", \"road\", \"road\", \"road\", \"road\", \"road\", \"road\", \"road\", \"road\", \"road\", \"road\", \"rock\", \"rock\", \"rock\", \"rock\", \"rock\", \"rock\", \"rock\", \"rock\", \"rock\", \"rock\", \"rock\", \"rock\", \"rock\", \"rock\", \"rock\", \"rock\", \"rock\", \"rock\", \"rock\", \"rock\", \"role\", \"role\", \"role\", \"role\", \"role\", \"role\", \"role\", \"role\", \"role\", \"role\", \"role\", \"role\", \"role\", \"role\", \"role\", \"role\", \"role\", \"role\", \"role\", \"role\", \"round\", \"round\", \"round\", \"round\", \"round\", \"round\", \"round\", \"round\", \"round\", \"round\", \"round\", \"round\", \"round\", \"round\", \"round\", \"round\", \"round\", \"round\", \"round\", \"round\", \"russian\", \"russian\", \"russian\", \"russian\", \"russian\", \"russian\", \"russian\", \"russian\", \"russian\", \"russian\", \"russian\", \"russian\", \"russian\", \"russian\", \"russian\", \"russian\", \"russian\", \"russian\", \"russian\", \"russian\", \"salt\", \"salt\", \"salt\", \"salt\", \"salt\", \"salt\", \"salt\", \"salt\", \"salt\", \"salt\", \"salt\", \"salt\", \"salt\", \"salt\", \"salt\", \"salt\", \"salt\", \"salt\", \"salt\", \"salt\", \"sanskrit\", \"sanskrit\", \"sanskrit\", \"sanskrit\", \"sanskrit\", \"sanskrit\", \"sanskrit\", \"sanskrit\", \"sanskrit\", \"sanskrit\", \"sanskrit\", \"sanskrit\", \"sanskrit\", \"sanskrit\", \"sanskrit\", \"sanskrit\", \"sanskrit\", \"sanskrit\", \"sanskrit\", \"sanskrit\", \"school\", \"school\", \"school\", \"school\", \"school\", \"school\", \"school\", \"school\", \"school\", \"school\", \"school\", \"school\", \"school\", \"school\", \"school\", \"school\", \"school\", \"school\", \"school\", \"school\", \"schools\", \"schools\", \"schools\", \"schools\", \"schools\", \"schools\", \"schools\", \"schools\", \"schools\", \"schools\", \"schools\", \"schools\", \"schools\", \"schools\", \"schools\", \"schools\", \"schools\", \"schools\", \"schools\", \"schools\", \"sciences\", \"sciences\", \"sciences\", \"sciences\", \"sciences\", \"sciences\", \"sciences\", \"sciences\", \"sciences\", \"sciences\", \"sciences\", \"sciences\", \"sciences\", \"sciences\", \"sciences\", \"sciences\", \"sciences\", \"sciences\", \"sciences\", \"sciences\", \"scotland\", \"scotland\", \"scotland\", \"scotland\", \"scotland\", \"scotland\", \"scotland\", \"scotland\", \"scotland\", \"scotland\", \"scotland\", \"scotland\", \"scotland\", \"scotland\", \"scotland\", \"scotland\", \"scotland\", \"scotland\", \"scotland\", \"scotland\", \"season\", \"season\", \"season\", \"season\", \"season\", \"season\", \"season\", \"season\", \"season\", \"season\", \"season\", \"season\", \"season\", \"season\", \"season\", \"season\", \"season\", \"season\", \"season\", \"season\", \"seat\", \"seat\", \"seat\", \"seat\", \"seat\", \"seat\", \"seat\", \"seat\", \"seat\", \"seat\", \"seat\", \"seat\", \"seat\", \"seat\", \"seat\", \"seat\", \"seat\", \"seat\", \"seat\", \"seat\", \"see\", \"see\", \"see\", \"see\", \"see\", \"see\", \"see\", \"see\", \"see\", \"see\", \"see\", \"see\", \"see\", \"see\", \"see\", \"see\", \"see\", \"see\", \"see\", \"see\", \"senate\", \"senate\", \"senate\", \"senate\", \"senate\", \"senate\", \"senate\", \"senate\", \"senate\", \"senate\", \"senate\", \"senate\", \"senate\", \"senate\", \"senate\", \"senate\", \"senate\", \"senate\", \"senate\", \"senate\", \"september\", \"september\", \"september\", \"september\", \"september\", \"september\", \"september\", \"september\", \"september\", \"september\", \"september\", \"september\", \"september\", \"september\", \"september\", \"september\", \"september\", \"september\", \"september\", \"september\", \"series\", \"series\", \"series\", \"series\", \"series\", \"series\", \"series\", \"series\", \"series\", \"series\", \"series\", \"series\", \"series\", \"series\", \"series\", \"series\", \"series\", \"series\", \"series\", \"series\", \"served\", \"served\", \"served\", \"served\", \"served\", \"served\", \"served\", \"served\", \"served\", \"served\", \"served\", \"served\", \"served\", \"served\", \"served\", \"served\", \"served\", \"served\", \"served\", \"served\", \"settlement\", \"settlement\", \"settlement\", \"settlement\", \"settlement\", \"settlement\", \"settlement\", \"settlement\", \"settlement\", \"settlement\", \"settlement\", \"settlement\", \"settlement\", \"settlement\", \"settlement\", \"settlement\", \"settlement\", \"settlement\", \"settlement\", \"settlement\", \"show\", \"show\", \"show\", \"show\", \"show\", \"show\", \"show\", \"show\", \"show\", \"show\", \"show\", \"show\", \"show\", \"show\", \"show\", \"show\", \"show\", \"show\", \"show\", \"show\", \"significant\", \"significant\", \"significant\", \"significant\", \"significant\", \"significant\", \"significant\", \"significant\", \"significant\", \"significant\", \"significant\", \"significant\", \"significant\", \"significant\", \"significant\", \"significant\", \"significant\", \"significant\", \"significant\", \"significant\", \"silent\", \"silent\", \"silent\", \"silent\", \"silent\", \"silent\", \"silent\", \"silent\", \"silent\", \"silent\", \"silent\", \"silent\", \"silent\", \"silent\", \"silent\", \"silent\", \"silent\", \"silent\", \"silent\", \"silent\", \"silver\", \"silver\", \"silver\", \"silver\", \"silver\", \"silver\", \"silver\", \"silver\", \"silver\", \"silver\", \"silver\", \"silver\", \"silver\", \"silver\", \"silver\", \"silver\", \"silver\", \"silver\", \"silver\", \"silver\", \"similar\", \"similar\", \"similar\", \"similar\", \"similar\", \"similar\", \"similar\", \"similar\", \"similar\", \"similar\", \"similar\", \"similar\", \"similar\", \"similar\", \"similar\", \"similar\", \"similar\", \"similar\", \"similar\", \"similar\", \"singer\", \"singer\", \"singer\", \"singer\", \"singer\", \"singer\", \"singer\", \"singer\", \"singer\", \"singer\", \"singer\", \"singer\", \"singer\", \"singer\", \"singer\", \"singer\", \"singer\", \"singer\", \"singer\", \"singer\", \"sir\", \"sir\", \"sir\", \"sir\", \"sir\", \"sir\", \"sir\", \"sir\", \"sir\", \"sir\", \"sir\", \"sir\", \"sir\", \"sir\", \"sir\", \"sir\", \"sir\", \"sir\", \"sir\", \"sir\", \"sister\", \"sister\", \"sister\", \"sister\", \"sister\", \"sister\", \"sister\", \"sister\", \"sister\", \"sister\", \"sister\", \"sister\", \"sister\", \"sister\", \"sister\", \"sister\", \"sister\", \"sister\", \"sister\", \"sister\", \"site\", \"site\", \"site\", \"site\", \"site\", \"site\", \"site\", \"site\", \"site\", \"site\", \"site\", \"site\", \"site\", \"site\", \"site\", \"site\", \"site\", \"site\", \"site\", \"site\", \"small\", \"small\", \"small\", \"small\", \"small\", \"small\", \"small\", \"small\", \"small\", \"small\", \"small\", \"small\", \"small\", \"small\", \"small\", \"small\", \"small\", \"small\", \"small\", \"small\", \"soccer\", \"soccer\", \"soccer\", \"soccer\", \"soccer\", \"soccer\", \"soccer\", \"soccer\", \"soccer\", \"soccer\", \"soccer\", \"soccer\", \"soccer\", \"soccer\", \"soccer\", \"soccer\", \"soccer\", \"soccer\", \"soccer\", \"soccer\", \"social\", \"social\", \"social\", \"social\", \"social\", \"social\", \"social\", \"social\", \"social\", \"social\", \"social\", \"social\", \"social\", \"social\", \"social\", \"social\", \"social\", \"social\", \"social\", \"social\", \"society\", \"society\", \"society\", \"society\", \"society\", \"society\", \"society\", \"society\", \"society\", \"society\", \"society\", \"society\", \"society\", \"society\", \"society\", \"society\", \"society\", \"society\", \"society\", \"society\", \"sold\", \"sold\", \"sold\", \"sold\", \"sold\", \"sold\", \"sold\", \"sold\", \"sold\", \"sold\", \"sold\", \"sold\", \"sold\", \"sold\", \"sold\", \"sold\", \"sold\", \"sold\", \"sold\", \"sold\", \"solo\", \"solo\", \"solo\", \"solo\", \"solo\", \"solo\", \"solo\", \"solo\", \"solo\", \"solo\", \"solo\", \"solo\", \"solo\", \"solo\", \"solo\", \"solo\", \"solo\", \"solo\", \"solo\", \"solo\", \"sometimes\", \"sometimes\", \"sometimes\", \"sometimes\", \"sometimes\", \"sometimes\", \"sometimes\", \"sometimes\", \"sometimes\", \"sometimes\", \"sometimes\", \"sometimes\", \"sometimes\", \"sometimes\", \"sometimes\", \"sometimes\", \"sometimes\", \"sometimes\", \"sometimes\", \"sometimes\", \"son\", \"son\", \"son\", \"son\", \"son\", \"son\", \"son\", \"son\", \"son\", \"son\", \"son\", \"son\", \"son\", \"son\", \"son\", \"son\", \"son\", \"son\", \"son\", \"son\", \"songs\", \"songs\", \"songs\", \"songs\", \"songs\", \"songs\", \"songs\", \"songs\", \"songs\", \"songs\", \"songs\", \"songs\", \"songs\", \"songs\", \"songs\", \"songs\", \"songs\", \"songs\", \"songs\", \"songs\", \"songwriter\", \"songwriter\", \"songwriter\", \"songwriter\", \"songwriter\", \"songwriter\", \"songwriter\", \"songwriter\", \"songwriter\", \"songwriter\", \"songwriter\", \"songwriter\", \"songwriter\", \"songwriter\", \"songwriter\", \"songwriter\", \"songwriter\", \"songwriter\", \"songwriter\", \"songwriter\", \"south\", \"south\", \"south\", \"south\", \"south\", \"south\", \"south\", \"south\", \"south\", \"south\", \"south\", \"south\", \"south\", \"south\", \"south\", \"south\", \"south\", \"south\", \"south\", \"south\", \"southern\", \"southern\", \"southern\", \"southern\", \"southern\", \"southern\", \"southern\", \"southern\", \"southern\", \"southern\", \"southern\", \"southern\", \"southern\", \"southern\", \"southern\", \"southern\", \"southern\", \"southern\", \"southern\", \"southern\", \"species\", \"species\", \"species\", \"species\", \"species\", \"species\", \"species\", \"species\", \"species\", \"species\", \"species\", \"species\", \"species\", \"species\", \"species\", \"species\", \"species\", \"species\", \"species\", \"species\", \"specific\", \"specific\", \"specific\", \"specific\", \"specific\", \"specific\", \"specific\", \"specific\", \"specific\", \"specific\", \"specific\", \"specific\", \"specific\", \"specific\", \"specific\", \"specific\", \"specific\", \"specific\", \"specific\", \"specific\", \"spirit\", \"spirit\", \"spirit\", \"spirit\", \"spirit\", \"spirit\", \"spirit\", \"spirit\", \"spirit\", \"spirit\", \"spirit\", \"spirit\", \"spirit\", \"spirit\", \"spirit\", \"spirit\", \"spirit\", \"spirit\", \"spirit\", \"spirit\", \"square\", \"square\", \"square\", \"square\", \"square\", \"square\", \"square\", \"square\", \"square\", \"square\", \"square\", \"square\", \"square\", \"square\", \"square\", \"square\", \"square\", \"square\", \"square\", \"square\", \"starring\", \"starring\", \"starring\", \"starring\", \"starring\", \"starring\", \"starring\", \"starring\", \"starring\", \"starring\", \"starring\", \"starring\", \"starring\", \"starring\", \"starring\", \"starring\", \"starring\", \"starring\", \"starring\", \"starring\", \"stars\", \"stars\", \"stars\", \"stars\", \"stars\", \"stars\", \"stars\", \"stars\", \"stars\", \"stars\", \"stars\", \"stars\", \"stars\", \"stars\", \"stars\", \"stars\", \"stars\", \"stars\", \"stars\", \"stars\", \"started\", \"started\", \"started\", \"started\", \"started\", \"started\", \"started\", \"started\", \"started\", \"started\", \"started\", \"started\", \"started\", \"started\", \"started\", \"started\", \"started\", \"started\", \"started\", \"started\", \"state\", \"state\", \"state\", \"state\", \"state\", \"state\", \"state\", \"state\", \"state\", \"state\", \"state\", \"state\", \"state\", \"state\", \"state\", \"state\", \"state\", \"state\", \"state\", \"state\", \"states\", \"states\", \"states\", \"states\", \"states\", \"states\", \"states\", \"states\", \"states\", \"states\", \"states\", \"states\", \"states\", \"states\", \"states\", \"states\", \"states\", \"states\", \"states\", \"states\", \"station\", \"station\", \"station\", \"station\", \"station\", \"station\", \"station\", \"station\", \"station\", \"station\", \"station\", \"station\", \"station\", \"station\", \"station\", \"station\", \"station\", \"station\", \"station\", \"station\", \"stories\", \"stories\", \"stories\", \"stories\", \"stories\", \"stories\", \"stories\", \"stories\", \"stories\", \"stories\", \"stories\", \"stories\", \"stories\", \"stories\", \"stories\", \"stories\", \"stories\", \"stories\", \"stories\", \"stories\", \"story\", \"story\", \"story\", \"story\", \"story\", \"story\", \"story\", \"story\", \"story\", \"story\", \"story\", \"story\", \"story\", \"story\", \"story\", \"story\", \"story\", \"story\", \"story\", \"story\", \"street\", \"street\", \"street\", \"street\", \"street\", \"street\", \"street\", \"street\", \"street\", \"street\", \"street\", \"street\", \"street\", \"street\", \"street\", \"street\", \"street\", \"street\", \"street\", \"street\", \"strongly\", \"strongly\", \"strongly\", \"strongly\", \"strongly\", \"strongly\", \"strongly\", \"strongly\", \"strongly\", \"strongly\", \"strongly\", \"strongly\", \"strongly\", \"strongly\", \"strongly\", \"strongly\", \"strongly\", \"strongly\", \"strongly\", \"strongly\", \"structure\", \"structure\", \"structure\", \"structure\", \"structure\", \"structure\", \"structure\", \"structure\", \"structure\", \"structure\", \"structure\", \"structure\", \"structure\", \"structure\", \"structure\", \"structure\", \"structure\", \"structure\", \"structure\", \"structure\", \"studied\", \"studied\", \"studied\", \"studied\", \"studied\", \"studied\", \"studied\", \"studied\", \"studied\", \"studied\", \"studied\", \"studied\", \"studied\", \"studied\", \"studied\", \"studied\", \"studied\", \"studied\", \"studied\", \"studied\", \"studies\", \"studies\", \"studies\", \"studies\", \"studies\", \"studies\", \"studies\", \"studies\", \"studies\", \"studies\", \"studies\", \"studies\", \"studies\", \"studies\", \"studies\", \"studies\", \"studies\", \"studies\", \"studies\", \"studies\", \"studio\", \"studio\", \"studio\", \"studio\", \"studio\", \"studio\", \"studio\", \"studio\", \"studio\", \"studio\", \"studio\", \"studio\", \"studio\", \"studio\", \"studio\", \"studio\", \"studio\", \"studio\", \"studio\", \"studio\", \"subfamily\", \"subfamily\", \"subfamily\", \"subfamily\", \"subfamily\", \"subfamily\", \"subfamily\", \"subfamily\", \"subfamily\", \"subfamily\", \"subfamily\", \"subfamily\", \"subfamily\", \"subfamily\", \"subfamily\", \"subfamily\", \"subfamily\", \"subfamily\", \"subfamily\", \"subfamily\", \"sulfotransferase\", \"sulfotransferase\", \"sulfotransferase\", \"sulfotransferase\", \"sulfotransferase\", \"sulfotransferase\", \"sulfotransferase\", \"sulfotransferase\", \"sulfotransferase\", \"sulfotransferase\", \"sulfotransferase\", \"sulfotransferase\", \"sulfotransferase\", \"sulfotransferase\", \"sulfotransferase\", \"sulfotransferase\", \"sulfotransferase\", \"sulfotransferase\", \"sulfotransferase\", \"sulfotransferase\", \"summer\", \"summer\", \"summer\", \"summer\", \"summer\", \"summer\", \"summer\", \"summer\", \"summer\", \"summer\", \"summer\", \"summer\", \"summer\", \"summer\", \"summer\", \"summer\", \"summer\", \"summer\", \"summer\", \"summer\", \"system\", \"system\", \"system\", \"system\", \"system\", \"system\", \"system\", \"system\", \"system\", \"system\", \"system\", \"system\", \"system\", \"system\", \"system\", \"system\", \"system\", \"system\", \"system\", \"system\", \"systems\", \"systems\", \"systems\", \"systems\", \"systems\", \"systems\", \"systems\", \"systems\", \"systems\", \"systems\", \"systems\", \"systems\", \"systems\", \"systems\", \"systems\", \"systems\", \"systems\", \"systems\", \"systems\", \"systems\", \"tamil\", \"tamil\", \"tamil\", \"tamil\", \"tamil\", \"tamil\", \"tamil\", \"tamil\", \"tamil\", \"tamil\", \"tamil\", \"tamil\", \"tamil\", \"tamil\", \"tamil\", \"tamil\", \"tamil\", \"tamil\", \"tamil\", \"tamil\", \"team\", \"team\", \"team\", \"team\", \"team\", \"team\", \"team\", \"team\", \"team\", \"team\", \"team\", \"team\", \"team\", \"team\", \"team\", \"team\", \"team\", \"team\", \"team\", \"team\", \"teams\", \"teams\", \"teams\", \"teams\", \"teams\", \"teams\", \"teams\", \"teams\", \"teams\", \"teams\", \"teams\", \"teams\", \"teams\", \"teams\", \"teams\", \"teams\", \"teams\", \"teams\", \"teams\", \"teams\", \"television\", \"television\", \"television\", \"television\", \"television\", \"television\", \"television\", \"television\", \"television\", \"television\", \"television\", \"television\", \"television\", \"television\", \"television\", \"television\", \"television\", \"television\", \"television\", \"television\", \"tennis\", \"tennis\", \"tennis\", \"tennis\", \"tennis\", \"tennis\", \"tennis\", \"tennis\", \"tennis\", \"tennis\", \"tennis\", \"tennis\", \"tennis\", \"tennis\", \"tennis\", \"tennis\", \"tennis\", \"tennis\", \"tennis\", \"tennis\", \"term\", \"term\", \"term\", \"term\", \"term\", \"term\", \"term\", \"term\", \"term\", \"term\", \"term\", \"term\", \"term\", \"term\", \"term\", \"term\", \"term\", \"term\", \"term\", \"term\", \"terms\", \"terms\", \"terms\", \"terms\", \"terms\", \"terms\", \"terms\", \"terms\", \"terms\", \"terms\", \"terms\", \"terms\", \"terms\", \"terms\", \"terms\", \"terms\", \"terms\", \"terms\", \"terms\", \"terms\", \"theory\", \"theory\", \"theory\", \"theory\", \"theory\", \"theory\", \"theory\", \"theory\", \"theory\", \"theory\", \"theory\", \"theory\", \"theory\", \"theory\", \"theory\", \"theory\", \"theory\", \"theory\", \"theory\", \"theory\", \"third\", \"third\", \"third\", \"third\", \"third\", \"third\", \"third\", \"third\", \"third\", \"third\", \"third\", \"third\", \"third\", \"third\", \"third\", \"third\", \"third\", \"third\", \"third\", \"third\", \"three\", \"three\", \"three\", \"three\", \"three\", \"three\", \"three\", \"three\", \"three\", \"three\", \"three\", \"three\", \"three\", \"three\", \"three\", \"three\", \"three\", \"three\", \"three\", \"three\", \"time\", \"time\", \"time\", \"time\", \"time\", \"time\", \"time\", \"time\", \"time\", \"time\", \"time\", \"time\", \"time\", \"time\", \"time\", \"time\", \"time\", \"time\", \"time\", \"time\", \"title\", \"title\", \"title\", \"title\", \"title\", \"title\", \"title\", \"title\", \"title\", \"title\", \"title\", \"title\", \"title\", \"title\", \"title\", \"title\", \"title\", \"title\", \"title\", \"title\", \"tournament\", \"tournament\", \"tournament\", \"tournament\", \"tournament\", \"tournament\", \"tournament\", \"tournament\", \"tournament\", \"tournament\", \"tournament\", \"tournament\", \"tournament\", \"tournament\", \"tournament\", \"tournament\", \"tournament\", \"tournament\", \"tournament\", \"tournament\", \"town\", \"town\", \"town\", \"town\", \"town\", \"town\", \"town\", \"town\", \"town\", \"town\", \"town\", \"town\", \"town\", \"town\", \"town\", \"town\", \"town\", \"town\", \"town\", \"town\", \"track\", \"track\", \"track\", \"track\", \"track\", \"track\", \"track\", \"track\", \"track\", \"track\", \"track\", \"track\", \"track\", \"track\", \"track\", \"track\", \"track\", \"track\", \"track\", \"track\", \"transfer\", \"transfer\", \"transfer\", \"transfer\", \"transfer\", \"transfer\", \"transfer\", \"transfer\", \"transfer\", \"transfer\", \"transfer\", \"transfer\", \"transfer\", \"transfer\", \"transfer\", \"transfer\", \"transfer\", \"transfer\", \"transfer\", \"transfer\", \"translation\", \"translation\", \"translation\", \"translation\", \"translation\", \"translation\", \"translation\", \"translation\", \"translation\", \"translation\", \"translation\", \"translation\", \"translation\", \"translation\", \"translation\", \"translation\", \"translation\", \"translation\", \"translation\", \"translation\", \"tv\", \"tv\", \"tv\", \"tv\", \"tv\", \"tv\", \"tv\", \"tv\", \"tv\", \"tv\", \"tv\", \"tv\", \"tv\", \"tv\", \"tv\", \"tv\", \"tv\", \"tv\", \"tv\", \"tv\", \"type\", \"type\", \"type\", \"type\", \"type\", \"type\", \"type\", \"type\", \"type\", \"type\", \"type\", \"type\", \"type\", \"type\", \"type\", \"type\", \"type\", \"type\", \"type\", \"type\", \"uk\", \"uk\", \"uk\", \"uk\", \"uk\", \"uk\", \"uk\", \"uk\", \"uk\", \"uk\", \"uk\", \"uk\", \"uk\", \"uk\", \"uk\", \"uk\", \"uk\", \"uk\", \"uk\", \"uk\", \"unincorporated\", \"unincorporated\", \"unincorporated\", \"unincorporated\", \"unincorporated\", \"unincorporated\", \"unincorporated\", \"unincorporated\", \"unincorporated\", \"unincorporated\", \"unincorporated\", \"unincorporated\", \"unincorporated\", \"unincorporated\", \"unincorporated\", \"unincorporated\", \"unincorporated\", \"unincorporated\", \"unincorporated\", \"unincorporated\", \"united\", \"united\", \"united\", \"united\", \"united\", \"united\", \"united\", \"united\", \"united\", \"united\", \"united\", \"united\", \"united\", \"united\", \"united\", \"united\", \"united\", \"united\", \"united\", \"united\", \"university\", \"university\", \"university\", \"university\", \"university\", \"university\", \"university\", \"university\", \"university\", \"university\", \"university\", \"university\", \"university\", \"university\", \"university\", \"university\", \"university\", \"university\", \"university\", \"university\", \"unknown\", \"unknown\", \"unknown\", \"unknown\", \"unknown\", \"unknown\", \"unknown\", \"unknown\", \"unknown\", \"unknown\", \"unknown\", \"unknown\", \"unknown\", \"unknown\", \"unknown\", \"unknown\", \"unknown\", \"unknown\", \"unknown\", \"unknown\", \"use\", \"use\", \"use\", \"use\", \"use\", \"use\", \"use\", \"use\", \"use\", \"use\", \"use\", \"use\", \"use\", \"use\", \"use\", \"use\", \"use\", \"use\", \"use\", \"use\", \"used\", \"used\", \"used\", \"used\", \"used\", \"used\", \"used\", \"used\", \"used\", \"used\", \"used\", \"used\", \"used\", \"used\", \"used\", \"used\", \"used\", \"used\", \"used\", \"used\", \"user\", \"user\", \"user\", \"user\", \"user\", \"user\", \"user\", \"user\", \"user\", \"user\", \"user\", \"user\", \"user\", \"user\", \"user\", \"user\", \"user\", \"user\", \"user\", \"user\", \"usually\", \"usually\", \"usually\", \"usually\", \"usually\", \"usually\", \"usually\", \"usually\", \"usually\", \"usually\", \"usually\", \"usually\", \"usually\", \"usually\", \"usually\", \"usually\", \"usually\", \"usually\", \"usually\", \"usually\", \"variety\", \"variety\", \"variety\", \"variety\", \"variety\", \"variety\", \"variety\", \"variety\", \"variety\", \"variety\", \"variety\", \"variety\", \"variety\", \"variety\", \"variety\", \"variety\", \"variety\", \"variety\", \"variety\", \"variety\", \"various\", \"various\", \"various\", \"various\", \"various\", \"various\", \"various\", \"various\", \"various\", \"various\", \"various\", \"various\", \"various\", \"various\", \"various\", \"various\", \"various\", \"various\", \"various\", \"various\", \"vice\", \"vice\", \"vice\", \"vice\", \"vice\", \"vice\", \"vice\", \"vice\", \"vice\", \"vice\", \"vice\", \"vice\", \"vice\", \"vice\", \"vice\", \"vice\", \"vice\", \"vice\", \"vice\", \"vice\", \"video\", \"video\", \"video\", \"video\", \"video\", \"video\", \"video\", \"video\", \"video\", \"video\", \"video\", \"video\", \"video\", \"video\", \"video\", \"video\", \"video\", \"video\", \"video\", \"video\", \"village\", \"village\", \"village\", \"village\", \"village\", \"village\", \"village\", \"village\", \"village\", \"village\", \"village\", \"village\", \"village\", \"village\", \"village\", \"village\", \"village\", \"village\", \"village\", \"village\", \"villages\", \"villages\", \"villages\", \"villages\", \"villages\", \"villages\", \"villages\", \"villages\", \"villages\", \"villages\", \"villages\", \"villages\", \"villages\", \"villages\", \"villages\", \"villages\", \"villages\", \"villages\", \"villages\", \"villages\", \"voice\", \"voice\", \"voice\", \"voice\", \"voice\", \"voice\", \"voice\", \"voice\", \"voice\", \"voice\", \"voice\", \"voice\", \"voice\", \"voice\", \"voice\", \"voice\", \"voice\", \"voice\", \"voice\", \"voice\", \"voivodeship\", \"voivodeship\", \"voivodeship\", \"voivodeship\", \"voivodeship\", \"voivodeship\", \"voivodeship\", \"voivodeship\", \"voivodeship\", \"voivodeship\", \"voivodeship\", \"voivodeship\", \"voivodeship\", \"voivodeship\", \"voivodeship\", \"voivodeship\", \"voivodeship\", \"voivodeship\", \"voivodeship\", \"voivodeship\", \"war\", \"war\", \"war\", \"war\", \"war\", \"war\", \"war\", \"war\", \"war\", \"war\", \"war\", \"war\", \"war\", \"war\", \"war\", \"war\", \"war\", \"war\", \"war\", \"war\", \"well\", \"well\", \"well\", \"well\", \"well\", \"well\", \"well\", \"well\", \"well\", \"well\", \"well\", \"well\", \"well\", \"well\", \"well\", \"well\", \"well\", \"well\", \"well\", \"well\", \"west\", \"west\", \"west\", \"west\", \"west\", \"west\", \"west\", \"west\", \"west\", \"west\", \"west\", \"west\", \"west\", \"west\", \"west\", \"west\", \"west\", \"west\", \"west\", \"west\", \"western\", \"western\", \"western\", \"western\", \"western\", \"western\", \"western\", \"western\", \"western\", \"western\", \"western\", \"western\", \"western\", \"western\", \"western\", \"western\", \"western\", \"western\", \"western\", \"western\", \"white\", \"white\", \"white\", \"white\", \"white\", \"white\", \"white\", \"white\", \"white\", \"white\", \"white\", \"white\", \"white\", \"white\", \"white\", \"white\", \"white\", \"white\", \"white\", \"white\", \"william\", \"william\", \"william\", \"william\", \"william\", \"william\", \"william\", \"william\", \"william\", \"william\", \"william\", \"william\", \"william\", \"william\", \"william\", \"william\", \"william\", \"william\", \"william\", \"william\", \"wingspan\", \"wingspan\", \"wingspan\", \"wingspan\", \"wingspan\", \"wingspan\", \"wingspan\", \"wingspan\", \"wingspan\", \"wingspan\", \"wingspan\", \"wingspan\", \"wingspan\", \"wingspan\", \"wingspan\", \"wingspan\", \"wingspan\", \"wingspan\", \"wingspan\", \"wingspan\", \"within\", \"within\", \"within\", \"within\", \"within\", \"within\", \"within\", \"within\", \"within\", \"within\", \"within\", \"within\", \"within\", \"within\", \"within\", \"within\", \"within\", \"within\", \"within\", \"within\", \"women\", \"women\", \"women\", \"women\", \"women\", \"women\", \"women\", \"women\", \"women\", \"women\", \"women\", \"women\", \"women\", \"women\", \"women\", \"women\", \"women\", \"women\", \"women\", \"women\", \"work\", \"work\", \"work\", \"work\", \"work\", \"work\", \"work\", \"work\", \"work\", \"work\", \"work\", \"work\", \"work\", \"work\", \"work\", \"work\", \"work\", \"work\", \"work\", \"work\", \"worked\", \"worked\", \"worked\", \"worked\", \"worked\", \"worked\", \"worked\", \"worked\", \"worked\", \"worked\", \"worked\", \"worked\", \"worked\", \"worked\", \"worked\", \"worked\", \"worked\", \"worked\", \"worked\", \"worked\", \"world\", \"world\", \"world\", \"world\", \"world\", \"world\", \"world\", \"world\", \"world\", \"world\", \"world\", \"world\", \"world\", \"world\", \"world\", \"world\", \"world\", \"world\", \"world\", \"world\", \"wrestling\", \"wrestling\", \"wrestling\", \"wrestling\", \"wrestling\", \"wrestling\", \"wrestling\", \"wrestling\", \"wrestling\", \"wrestling\", \"wrestling\", \"wrestling\", \"wrestling\", \"wrestling\", \"wrestling\", \"wrestling\", \"wrestling\", \"wrestling\", \"wrestling\", \"wrestling\", \"writer\", \"writer\", \"writer\", \"writer\", \"writer\", \"writer\", \"writer\", \"writer\", \"writer\", \"writer\", \"writer\", \"writer\", \"writer\", \"writer\", \"writer\", \"writer\", \"writer\", \"writer\", \"writer\", \"writer\", \"written\", \"written\", \"written\", \"written\", \"written\", \"written\", \"written\", \"written\", \"written\", \"written\", \"written\", \"written\", \"written\", \"written\", \"written\", \"written\", \"written\", \"written\", \"written\", \"written\", \"year\", \"year\", \"year\", \"year\", \"year\", \"year\", \"year\", \"year\", \"year\", \"year\", \"year\", \"year\", \"year\", \"year\", \"year\", \"year\", \"year\", \"year\", \"year\", \"year\", \"york\", \"york\", \"york\", \"york\", \"york\", \"york\", \"york\", \"york\", \"york\", \"york\", \"york\", \"york\", \"york\", \"york\", \"york\", \"york\", \"york\", \"york\", \"york\", \"york\", \"zealand\", \"zealand\", \"zealand\", \"zealand\", \"zealand\", \"zealand\", \"zealand\", \"zealand\", \"zealand\", \"zealand\", \"zealand\", \"zealand\", \"zealand\", \"zealand\", \"zealand\", \"zealand\", \"zealand\", \"zealand\", \"zealand\", \"zealand\"]}, \"R\": 30, \"lambda.step\": 0.01, \"plot.opts\": {\"xlab\": \"PC1\", \"ylab\": \"PC2\"}, \"topic.order\": [12, 14, 11, 15, 10, 13, 18, 7, 3, 20, 8, 9, 2, 19, 16, 6, 1, 17, 5, 4]};\n",
              "\n",
              "function LDAvis_load_lib(url, callback){\n",
              "  var s = document.createElement('script');\n",
              "  s.src = url;\n",
              "  s.async = true;\n",
              "  s.onreadystatechange = s.onload = callback;\n",
              "  s.onerror = function(){console.warn(\"failed to load library \" + url);};\n",
              "  document.getElementsByTagName(\"head\")[0].appendChild(s);\n",
              "}\n",
              "\n",
              "if(typeof(LDAvis) !== \"undefined\"){\n",
              "   // already loaded: just create the visualization\n",
              "   !function(LDAvis){\n",
              "       new LDAvis(\"#\" + \"ldavis_el18691401520905167201772429653\", ldavis_el18691401520905167201772429653_data);\n",
              "   }(LDAvis);\n",
              "}else if(typeof define === \"function\" && define.amd){\n",
              "   // require.js is available: use it to load d3/LDAvis\n",
              "   require.config({paths: {d3: \"https://d3js.org/d3.v5\"}});\n",
              "   require([\"d3\"], function(d3){\n",
              "      window.d3 = d3;\n",
              "      LDAvis_load_lib(\"https://cdn.jsdelivr.net/gh/bmabey/pyLDAvis@3.3.1/pyLDAvis/js/ldavis.v3.0.0.js\", function(){\n",
              "        new LDAvis(\"#\" + \"ldavis_el18691401520905167201772429653\", ldavis_el18691401520905167201772429653_data);\n",
              "      });\n",
              "    });\n",
              "}else{\n",
              "    // require.js not available: dynamically load d3 & LDAvis\n",
              "    LDAvis_load_lib(\"https://d3js.org/d3.v5.js\", function(){\n",
              "         LDAvis_load_lib(\"https://cdn.jsdelivr.net/gh/bmabey/pyLDAvis@3.3.1/pyLDAvis/js/ldavis.v3.0.0.js\", function(){\n",
              "                 new LDAvis(\"#\" + \"ldavis_el18691401520905167201772429653\", ldavis_el18691401520905167201772429653_data);\n",
              "            })\n",
              "         });\n",
              "}\n",
              "</script>"
            ]
          },
          "metadata": {},
          "execution_count": 16
        }
      ]
    },
    {
      "cell_type": "markdown",
      "metadata": {
        "id": "jeNJfHvzjD2R"
      },
      "source": [
        "# Topic Predictions\n",
        "\n",
        "Ok now we can take a document and see which topic has been assigned to it. Results will obviously change with respect to the documents you are using. For example, let's predict the topic of the first preprocessed document that is talking about a peninsula."
      ]
    },
    {
      "cell_type": "code",
      "metadata": {
        "id": "Zl5O1HExjI0e",
        "colab": {
          "base_uri": "https://localhost:8080/"
        },
        "outputId": "aff08d1e-8e1b-4c49-e110-758ca646f46c"
      },
      "source": [
        "topics_predictions = ctm.get_thetas(training_dataset, n_samples=5) # get all the topic predictions"
      ],
      "execution_count": 17,
      "outputs": [
        {
          "output_type": "stream",
          "name": "stderr",
          "text": [
            "Sampling: [5/5]: : 5it [00:02,  1.72it/s]\n"
          ]
        }
      ]
    },
    {
      "cell_type": "code",
      "metadata": {
        "id": "fFWsIxDYj0pC",
        "colab": {
          "base_uri": "https://localhost:8080/",
          "height": 36
        },
        "outputId": "6ca123db-14e3-40d5-b973-6093f33f3b89"
      },
      "source": [
        "preprocessed_documents[0] # see the text of our preprocessed document"
      ],
      "execution_count": 18,
      "outputs": [
        {
          "output_type": "execute_result",
          "data": {
            "text/plain": [
              "'mid peninsula highway across peninsula canadian province ontario although highway connecting fort south decades international study published ministry'"
            ],
            "application/vnd.google.colaboratory.intrinsic+json": {
              "type": "string"
            }
          },
          "metadata": {},
          "execution_count": 18
        }
      ]
    },
    {
      "cell_type": "code",
      "source": [
        "len(topics_predictions)"
      ],
      "metadata": {
        "colab": {
          "base_uri": "https://localhost:8080/"
        },
        "id": "d7vy_COa9UTt",
        "outputId": "2d4daa47-7c30-423d-97b4-00a2817c9a8d"
      },
      "execution_count": 22,
      "outputs": [
        {
          "output_type": "execute_result",
          "data": {
            "text/plain": [
              "2000"
            ]
          },
          "metadata": {},
          "execution_count": 22
        }
      ]
    },
    {
      "cell_type": "code",
      "source": [
        "topics_predictions[1]"
      ],
      "metadata": {
        "colab": {
          "base_uri": "https://localhost:8080/"
        },
        "id": "dwYGIxuP9lgE",
        "outputId": "c1347bad-1fe8-47c3-d5c0-f1f6649f05d3"
      },
      "execution_count": 23,
      "outputs": [
        {
          "output_type": "execute_result",
          "data": {
            "text/plain": [
              "array([0.05477281, 0.03251416, 0.00971899, 0.00622704, 0.00642256,\n",
              "       0.02126407, 0.02865335, 0.01243666, 0.02095056, 0.12538103,\n",
              "       0.02074165, 0.0082305 , 0.18531113, 0.1162115 , 0.01729583,\n",
              "       0.08087744, 0.02313832, 0.03457896, 0.0891889 , 0.10608453])"
            ]
          },
          "metadata": {},
          "execution_count": 23
        }
      ]
    },
    {
      "cell_type": "code",
      "metadata": {
        "id": "kJf1bP5PjqOQ"
      },
      "source": [
        "import numpy as np\n",
        "topic_number = np.argmax(topics_predictions[1]) # get the topic id of the first document"
      ],
      "execution_count": 24,
      "outputs": []
    },
    {
      "cell_type": "code",
      "source": [
        "topic_number"
      ],
      "metadata": {
        "colab": {
          "base_uri": "https://localhost:8080/"
        },
        "id": "8YIh6S-gjhCM",
        "outputId": "480d0921-b6ea-4c67-b524-11cc93a3e7d6"
      },
      "execution_count": 25,
      "outputs": [
        {
          "output_type": "execute_result",
          "data": {
            "text/plain": [
              "12"
            ]
          },
          "metadata": {},
          "execution_count": 25
        }
      ]
    },
    {
      "cell_type": "code",
      "source": [
        "ctm.get_topic_lists(5)[15]"
      ],
      "metadata": {
        "colab": {
          "base_uri": "https://localhost:8080/"
        },
        "id": "u7J_XUJKjixI",
        "outputId": "5d55e656-2ea1-402a-90d4-3e6e22e8b81a"
      },
      "execution_count": 26,
      "outputs": [
        {
          "output_type": "execute_result",
          "data": {
            "text/plain": [
              "['born', 'player', 'former', 'played', 'american']"
            ]
          },
          "metadata": {},
          "execution_count": 26
        }
      ]
    },
    {
      "cell_type": "code",
      "metadata": {
        "id": "yMA9vUsgjwOi",
        "colab": {
          "base_uri": "https://localhost:8080/"
        },
        "outputId": "5ca19afa-17c2-46fa-d147-785fc328ae31"
      },
      "source": [
        "ctm.get_topic_lists(5)[topic_number] #and the topic should be about natural location/places/related things"
      ],
      "execution_count": 27,
      "outputs": [
        {
          "output_type": "execute_result",
          "data": {
            "text/plain": [
              "['best', 'known', 'professor', 'social', 'actress']"
            ]
          },
          "metadata": {},
          "execution_count": 27
        }
      ]
    },
    {
      "cell_type": "markdown",
      "metadata": {
        "id": "pB9i2zyKxQ0X"
      },
      "source": [
        "# Save Our Model for Later Use"
      ]
    },
    {
      "cell_type": "code",
      "metadata": {
        "colab": {
          "base_uri": "https://localhost:8080/"
        },
        "id": "Ip1rP_3oxS6Z",
        "outputId": "1aa577ea-3bfb-49d7-8b7b-8b5b0e50be41"
      },
      "source": [
        "ctm.save(models_dir=\"./\")"
      ],
      "execution_count": 28,
      "outputs": [
        {
          "output_type": "stream",
          "name": "stderr",
          "text": [
            "/usr/local/lib/python3.8/dist-packages/contextualized_topic_models/models/ctm.py:473: Warning: This is an experimental feature that we has not been fully tested. Refer to the following issue:https://github.com/MilaNLProc/contextualized-topic-models/issues/38\n",
            "  warnings.warn(\"This is an experimental feature that we has not been fully tested. Refer to the following issue:\"\n"
          ]
        }
      ]
    },
    {
      "cell_type": "code",
      "metadata": {
        "id": "bsRUa6p8xcuY"
      },
      "source": [
        "# let's remove the trained model\n",
        "del ctm"
      ],
      "execution_count": 29,
      "outputs": []
    },
    {
      "cell_type": "code",
      "metadata": {
        "colab": {
          "base_uri": "https://localhost:8080/"
        },
        "id": "o8UbvS8Wxadb",
        "outputId": "794978b2-b8ec-452e-cf17-6b89f5e30b77"
      },
      "source": [
        "#CombinedTM(bow_size=len(tp.vocab), contextual_size=768, n_components=20, num_epochs=10)\n",
        "ctm = CombinedTM(bow_size=len(tp.vocab), contextual_size=768, num_epochs=10, n_components=20)\n",
        "#/content/contextualized_topic_model_nc_20_tpm_0.0_tpv_0.95_hs_prodLDA_ac_(100, 100)_do_softplus_lr_0.2_mo_0.002_rp_0.99\n",
        "ctm.load(\"/content/contextualized_topic_model_nc_20_tpm_0.0_tpv_0.95_hs_prodLDA_ac_(100, 100)_do_softplus_lr_0.2_mo_0.002_rp_0.99\",\n",
        "                                                                                                      epoch=9)"
      ],
      "execution_count": 33,
      "outputs": [
        {
          "output_type": "stream",
          "name": "stderr",
          "text": [
            "/usr/local/lib/python3.8/dist-packages/contextualized_topic_models/models/ctm.py:498: Warning: This is an experimental feature that we has not been fully tested. Refer to the following issue:https://github.com/MilaNLProc/contextualized-topic-models/issues/38\n",
            "  warnings.warn(\"This is an experimental feature that we has not been fully tested. Refer to the following issue:\"\n"
          ]
        }
      ]
    },
    {
      "cell_type": "code",
      "metadata": {
        "colab": {
          "base_uri": "https://localhost:8080/"
        },
        "id": "OY8TnjPCxfn7",
        "outputId": "b3ff6e26-6e59-474e-ad37-fb045f0c8dd4"
      },
      "source": [
        "ctm.get_topic_lists(5)"
      ],
      "execution_count": 34,
      "outputs": [
        {
          "output_type": "execute_result",
          "data": {
            "text/plain": [
              "[['author', 'international', 'writer', 'french', 'characters'],\n",
              " ['released', 'rock', 'directed', 'studio', 'album'],\n",
              " ['km', 'lies', 'north', 'south', 'village'],\n",
              " ['used', 'information', 'body', 'important', 'often'],\n",
              " ['directed', 'film', 'type', 'name', 'described'],\n",
              " ['class', 'used', 'designed', 'user', 'three'],\n",
              " ['born', 'played', 'player', 'league', 'january'],\n",
              " ['area', 'county', 'village', 'district', 'km'],\n",
              " ['village', 'district', 'km', 'south', 'east'],\n",
              " ['based', 'founded', 'music', 'company', 'federation'],\n",
              " ['league', 'born', 'professional', 'football', 'former'],\n",
              " ['released', 'album', 'band', 'game', 'published'],\n",
              " ['best', 'known', 'professor', 'social', 'actress'],\n",
              " ['politician', 'party', 'house', 'member', 'election'],\n",
              " ['located', 'town', 'county', 'historic', 'station'],\n",
              " ['born', 'player', 'former', 'played', 'american'],\n",
              " ['found', 'moth', 'mm', 'family', 'adults'],\n",
              " ['family', 'species', 'school', 'mm', 'college'],\n",
              " ['located', 'county', 'state', 'river', 'north'],\n",
              " ['minister', 'william', 'journal', 'conference', 'home']]"
            ]
          },
          "metadata": {},
          "execution_count": 34
        }
      ]
    }
  ]
}