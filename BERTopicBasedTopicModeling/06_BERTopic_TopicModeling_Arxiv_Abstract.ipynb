{
  "metadata": {
    "kernelspec": {
      "language": "python",
      "display_name": "Python 3",
      "name": "python3"
    },
    "language_info": {
      "pygments_lexer": "ipython3",
      "nbconvert_exporter": "python",
      "version": "3.6.4",
      "file_extension": ".py",
      "codemirror_mode": {
        "name": "ipython",
        "version": 3
      },
      "name": "python",
      "mimetype": "text/x-python"
    },
    "colab": {
      "provenance": []
    }
  },
  "nbformat_minor": 0,
  "nbformat": 4,
  "cells": [
    {
      "cell_type": "markdown",
      "source": [
        "# Topic Modeling arXiv Abstracts\n",
        "\n",
        "In this notebook, we will go through applying advanced topic modeling techniques with [BERTopic](https://github.com/MaartenGr/BERTopic). Topic modeling is a technique that allows users to generate insights into large amount of textual data without the need to read them individually. \n",
        "\n",
        "However, more than just looking at the generated topics, we want to understand topic relations, how they evolved over time, and how we can improve topic representations. The true strength of topic modeling is looking beyond merely generating topics and using them to truly understand the relationships and patterns in the data. \n",
        "\n",
        "The great thing about using these Arxiv abstracts is that the text is typically well-structured and nicely written. For BERT-based embedding models this allows the document representations to be a bit more accurate than what we would normally see. \n",
        "\n",
        "**NOTE: The data has to be downloaded from Kaggle to run the Notebook.**"
      ],
      "metadata": {
        "papermill": {
          "duration": 0.018914,
          "end_time": "2021-06-04T14:12:37.295228",
          "exception": false,
          "start_time": "2021-06-04T14:12:37.276314",
          "status": "completed"
        },
        "tags": [],
        "id": "0QgqPWSsKBCr"
      }
    },
    {
      "cell_type": "markdown",
      "source": [
        "## Install BERTopic\n",
        "We start by installing BERTopic from PyPi:"
      ],
      "metadata": {
        "papermill": {
          "duration": 0.018157,
          "end_time": "2021-06-04T14:12:37.331633",
          "exception": false,
          "start_time": "2021-06-04T14:12:37.313476",
          "status": "completed"
        },
        "tags": [],
        "id": "zn_fA0dTKBCx"
      }
    },
    {
      "cell_type": "code",
      "source": [
        "%%capture\n",
        "!pip install bertopic"
      ],
      "metadata": {
        "papermill": {
          "duration": 90.173669,
          "end_time": "2021-06-04T14:14:07.523924",
          "exception": false,
          "start_time": "2021-06-04T14:12:37.350255",
          "status": "completed"
        },
        "tags": [],
        "trusted": true,
        "id": "vbHYJ5hsKBCx"
      },
      "execution_count": 1,
      "outputs": []
    },
    {
      "cell_type": "markdown",
      "source": [
        "**NOTE**: After installing BERTopic, make sure to restart the notebook to re-import the correct versions of packages that were previously imported. "
      ],
      "metadata": {
        "papermill": {
          "duration": 0.017858,
          "end_time": "2021-06-04T14:14:07.558801",
          "exception": false,
          "start_time": "2021-06-04T14:14:07.540943",
          "status": "completed"
        },
        "tags": [],
        "id": "vBiYbo98KBCz"
      }
    },
    {
      "cell_type": "markdown",
      "source": [
        "## Prepare Data\n",
        "We start by extracting all abstracts between 2000 and 2021, their titles and the years in which they were published."
      ],
      "metadata": {
        "papermill": {
          "duration": 0.016344,
          "end_time": "2021-06-04T14:14:07.591458",
          "exception": false,
          "start_time": "2021-06-04T14:14:07.575114",
          "status": "completed"
        },
        "tags": [],
        "id": "2oq2-KqXKBCz"
      }
    },
    {
      "cell_type": "code",
      "source": [
        "from plotly.offline import init_notebook_mode\n",
        "init_notebook_mode(connected=True) "
      ],
      "metadata": {
        "papermill": {
          "duration": 0.09835,
          "end_time": "2021-06-04T14:14:07.706485",
          "exception": false,
          "start_time": "2021-06-04T14:14:07.608135",
          "status": "completed"
        },
        "tags": [],
        "execution": {
          "iopub.status.busy": "2021-06-07T05:29:52.335074Z",
          "iopub.execute_input": "2021-06-07T05:29:52.335588Z",
          "iopub.status.idle": "2021-06-07T05:29:52.361936Z",
          "shell.execute_reply.started": "2021-06-07T05:29:52.335481Z",
          "shell.execute_reply": "2021-06-07T05:29:52.360951Z"
        },
        "trusted": true,
        "colab": {
          "base_uri": "https://localhost:8080/",
          "height": 17
        },
        "id": "iqasnlxtKBC0",
        "outputId": "c3634527-efec-4f35-fd51-38497256a993"
      },
      "execution_count": 2,
      "outputs": [
        {
          "output_type": "display_data",
          "data": {
            "text/html": [
              "        <script type=\"text/javascript\">\n",
              "        window.PlotlyConfig = {MathJaxConfig: 'local'};\n",
              "        if (window.MathJax) {MathJax.Hub.Config({SVG: {font: \"STIX-Web\"}});}\n",
              "        if (typeof require !== 'undefined') {\n",
              "        require.undef(\"plotly\");\n",
              "        requirejs.config({\n",
              "            paths: {\n",
              "                'plotly': ['https://cdn.plot.ly/plotly-2.8.3.min']\n",
              "            }\n",
              "        });\n",
              "        require(['plotly'], function(Plotly) {\n",
              "            window._Plotly = Plotly;\n",
              "        });\n",
              "        }\n",
              "        </script>\n",
              "        "
            ]
          },
          "metadata": {}
        }
      ]
    },
    {
      "cell_type": "code",
      "source": [
        "import json\n",
        "\n",
        "# https://arxiv.org/help/api/user-manual\n",
        "category_map = {'astro-ph': 'Astrophysics',\n",
        "'astro-ph.CO': 'Cosmology and Nongalactic Astrophysics',\n",
        "'astro-ph.EP': 'Earth and Planetary Astrophysics',\n",
        "'astro-ph.GA': 'Astrophysics of Galaxies',\n",
        "'astro-ph.HE': 'High Energy Astrophysical Phenomena',\n",
        "'astro-ph.IM': 'Instrumentation and Methods for Astrophysics',\n",
        "'astro-ph.SR': 'Solar and Stellar Astrophysics',\n",
        "'cond-mat.dis-nn': 'Disordered Systems and Neural Networks',\n",
        "'cond-mat.mes-hall': 'Mesoscale and Nanoscale Physics',\n",
        "'cond-mat.mtrl-sci': 'Materials Science',\n",
        "'cond-mat.other': 'Other Condensed Matter',\n",
        "'cond-mat.quant-gas': 'Quantum Gases',\n",
        "'cond-mat.soft': 'Soft Condensed Matter',\n",
        "'cond-mat.stat-mech': 'Statistical Mechanics',\n",
        "'cond-mat.str-el': 'Strongly Correlated Electrons',\n",
        "'cond-mat.supr-con': 'Superconductivity',\n",
        "'cs.AI': 'Artificial Intelligence',\n",
        "'cs.AR': 'Hardware Architecture',\n",
        "'cs.CC': 'Computational Complexity',\n",
        "'cs.CE': 'Computational Engineering, Finance, and Science',\n",
        "'cs.CG': 'Computational Geometry',\n",
        "'cs.CL': 'Computation and Language',\n",
        "'cs.CR': 'Cryptography and Security',\n",
        "'cs.CV': 'Computer Vision and Pattern Recognition',\n",
        "'cs.CY': 'Computers and Society',\n",
        "'cs.DB': 'Databases',\n",
        "'cs.DC': 'Distributed, Parallel, and Cluster Computing',\n",
        "'cs.DL': 'Digital Libraries',\n",
        "'cs.DM': 'Discrete Mathematics',\n",
        "'cs.DS': 'Data Structures and Algorithms',\n",
        "'cs.ET': 'Emerging Technologies',\n",
        "'cs.FL': 'Formal Languages and Automata Theory',\n",
        "'cs.GL': 'General Literature',\n",
        "'cs.GR': 'Graphics',\n",
        "'cs.GT': 'Computer Science and Game Theory',\n",
        "'cs.HC': 'Human-Computer Interaction',\n",
        "'cs.IR': 'Information Retrieval',\n",
        "'cs.IT': 'Information Theory',\n",
        "'cs.LG': 'Machine Learning',\n",
        "'cs.LO': 'Logic in Computer Science',\n",
        "'cs.MA': 'Multiagent Systems',\n",
        "'cs.MM': 'Multimedia',\n",
        "'cs.MS': 'Mathematical Software',\n",
        "'cs.NA': 'Numerical Analysis',\n",
        "'cs.NE': 'Neural and Evolutionary Computing',\n",
        "'cs.NI': 'Networking and Internet Architecture',\n",
        "'cs.OH': 'Other Computer Science',\n",
        "'cs.OS': 'Operating Systems',\n",
        "'cs.PF': 'Performance',\n",
        "'cs.PL': 'Programming Languages',\n",
        "'cs.RO': 'Robotics',\n",
        "'cs.SC': 'Symbolic Computation',\n",
        "'cs.SD': 'Sound',\n",
        "'cs.SE': 'Software Engineering',\n",
        "'cs.SI': 'Social and Information Networks',\n",
        "'cs.SY': 'Systems and Control',\n",
        "'econ.EM': 'Econometrics',\n",
        "'eess.AS': 'Audio and Speech Processing',\n",
        "'eess.IV': 'Image and Video Processing',\n",
        "'eess.SP': 'Signal Processing',\n",
        "'gr-qc': 'General Relativity and Quantum Cosmology',\n",
        "'hep-ex': 'High Energy Physics - Experiment',\n",
        "'hep-lat': 'High Energy Physics - Lattice',\n",
        "'hep-ph': 'High Energy Physics - Phenomenology',\n",
        "'hep-th': 'High Energy Physics - Theory',\n",
        "'math.AC': 'Commutative Algebra',\n",
        "'math.AG': 'Algebraic Geometry',\n",
        "'math.AP': 'Analysis of PDEs',\n",
        "'math.AT': 'Algebraic Topology',\n",
        "'math.CA': 'Classical Analysis and ODEs',\n",
        "'math.CO': 'Combinatorics',\n",
        "'math.CT': 'Category Theory',\n",
        "'math.CV': 'Complex Variables',\n",
        "'math.DG': 'Differential Geometry',\n",
        "'math.DS': 'Dynamical Systems',\n",
        "'math.FA': 'Functional Analysis',\n",
        "'math.GM': 'General Mathematics',\n",
        "'math.GN': 'General Topology',\n",
        "'math.GR': 'Group Theory',\n",
        "'math.GT': 'Geometric Topology',\n",
        "'math.HO': 'History and Overview',\n",
        "'math.IT': 'Information Theory',\n",
        "'math.KT': 'K-Theory and Homology',\n",
        "'math.LO': 'Logic',\n",
        "'math.MG': 'Metric Geometry',\n",
        "'math.MP': 'Mathematical Physics',\n",
        "'math.NA': 'Numerical Analysis',\n",
        "'math.NT': 'Number Theory',\n",
        "'math.OA': 'Operator Algebras',\n",
        "'math.OC': 'Optimization and Control',\n",
        "'math.PR': 'Probability',\n",
        "'math.QA': 'Quantum Algebra',\n",
        "'math.RA': 'Rings and Algebras',\n",
        "'math.RT': 'Representation Theory',\n",
        "'math.SG': 'Symplectic Geometry',\n",
        "'math.SP': 'Spectral Theory',\n",
        "'math.ST': 'Statistics Theory',\n",
        "'math-ph': 'Mathematical Physics',\n",
        "'nlin.AO': 'Adaptation and Self-Organizing Systems',\n",
        "'nlin.CD': 'Chaotic Dynamics',\n",
        "'nlin.CG': 'Cellular Automata and Lattice Gases',\n",
        "'nlin.PS': 'Pattern Formation and Solitons',\n",
        "'nlin.SI': 'Exactly Solvable and Integrable Systems',\n",
        "'nucl-ex': 'Nuclear Experiment',\n",
        "'nucl-th': 'Nuclear Theory',\n",
        "'physics.acc-ph': 'Accelerator Physics',\n",
        "'physics.ao-ph': 'Atmospheric and Oceanic Physics',\n",
        "'physics.app-ph': 'Applied Physics',\n",
        "'physics.atm-clus': 'Atomic and Molecular Clusters',\n",
        "'physics.atom-ph': 'Atomic Physics',\n",
        "'physics.bio-ph': 'Biological Physics',\n",
        "'physics.chem-ph': 'Chemical Physics',\n",
        "'physics.class-ph': 'Classical Physics',\n",
        "'physics.comp-ph': 'Computational Physics',\n",
        "'physics.data-an': 'Data Analysis, Statistics and Probability',\n",
        "'physics.ed-ph': 'Physics Education',\n",
        "'physics.flu-dyn': 'Fluid Dynamics',\n",
        "'physics.gen-ph': 'General Physics',\n",
        "'physics.geo-ph': 'Geophysics',\n",
        "'physics.hist-ph': 'History and Philosophy of Physics',\n",
        "'physics.ins-det': 'Instrumentation and Detectors',\n",
        "'physics.med-ph': 'Medical Physics',\n",
        "'physics.optics': 'Optics',\n",
        "'physics.plasm-ph': 'Plasma Physics',\n",
        "'physics.pop-ph': 'Popular Physics',\n",
        "'physics.soc-ph': 'Physics and Society',\n",
        "'physics.space-ph': 'Space Physics',\n",
        "'q-bio.BM': 'Biomolecules',\n",
        "'q-bio.CB': 'Cell Behavior',\n",
        "'q-bio.GN': 'Genomics',\n",
        "'q-bio.MN': 'Molecular Networks',\n",
        "'q-bio.NC': 'Neurons and Cognition',\n",
        "'q-bio.OT': 'Other Quantitative Biology',\n",
        "'q-bio.PE': 'Populations and Evolution',\n",
        "'q-bio.QM': 'Quantitative Methods',\n",
        "'q-bio.SC': 'Subcellular Processes',\n",
        "'q-bio.TO': 'Tissues and Organs',\n",
        "'q-fin.CP': 'Computational Finance',\n",
        "'q-fin.EC': 'Economics',\n",
        "'q-fin.GN': 'General Finance',\n",
        "'q-fin.MF': 'Mathematical Finance',\n",
        "'q-fin.PM': 'Portfolio Management',\n",
        "'q-fin.PR': 'Pricing of Securities',\n",
        "'q-fin.RM': 'Risk Management',\n",
        "'q-fin.ST': 'Statistical Finance',\n",
        "'q-fin.TR': 'Trading and Market Microstructure',\n",
        "'quant-ph': 'Quantum Physics',\n",
        "'stat.AP': 'Applications',\n",
        "'stat.CO': 'Computation',\n",
        "'stat.ME': 'Methodology',\n",
        "'stat.ML': 'Machine Learning',\n",
        "'stat.OT': 'Other Statistics',\n",
        "'stat.TH': 'Statistics Theory'}\n",
        "\n",
        "\n",
        "#/kaggle/input/arxiv/arxiv-metadata-oai-snapshot.json\n",
        "data_file = '../input/arxiv/arxiv-metadata-oai-snapshot.json'\n",
        "\n",
        "def get_metadata():\n",
        "    with open(data_file, 'r') as f:\n",
        "        for line in f:\n",
        "            yield line\n",
        "            \n",
        "titles = []\n",
        "abstracts = []\n",
        "years = []\n",
        "categories = []\n",
        "metadata = get_metadata()\n",
        "for paper in metadata:\n",
        "    paper_dict = json.loads(paper)\n",
        "    ref = paper_dict.get('journal-ref')\n",
        "    try:\n",
        "        year = int(ref[-4:]) \n",
        "        if 2000 < year <= 2021:\n",
        "            categories.append(category_map[paper_dict.get('categories').split(\" \")[0]])\n",
        "            years.append(year)\n",
        "            titles.append(paper_dict.get('title'))\n",
        "            abstracts.append(paper_dict.get('abstract'))\n",
        "    except:\n",
        "        pass \n",
        "\n",
        "len(titles), len(abstracts), len(years), len(categories)"
      ],
      "metadata": {
        "_kg_hide-input": true,
        "_kg_hide-output": true,
        "papermill": {
          "duration": 59.165454,
          "end_time": "2021-06-04T14:15:06.889481",
          "exception": false,
          "start_time": "2021-06-04T14:14:07.724027",
          "status": "completed"
        },
        "tags": [],
        "execution": {
          "iopub.status.busy": "2021-06-07T05:29:52.366662Z",
          "iopub.execute_input": "2021-06-07T05:29:52.367007Z",
          "iopub.status.idle": "2021-06-07T05:30:55.132436Z",
          "shell.execute_reply.started": "2021-06-07T05:29:52.366972Z",
          "shell.execute_reply": "2021-06-07T05:30:55.131612Z"
        },
        "trusted": true,
        "id": "b5OEK214KBC0"
      },
      "execution_count": null,
      "outputs": []
    },
    {
      "cell_type": "markdown",
      "source": [
        "## Train Topic Model\n",
        "Next, we train our BERTopic model using just a few changes to the default parameters. \n",
        "\n",
        "Starting off is the embedding model. The string `\"paraphrase-MiniLM-L6-v2\"` references the embedding model that can be found [here](https://www.sbert.net/docs/pretrained_models.html#sentence-embedding-models) and is a great sentence-transformer model that balances performance with speed. \n",
        "\n",
        "Next, we make sure that the minimum topic size of our topics is 50. We do this to limit the number of topics that could be generated. For example, if the minimum were to be 10 then much more topics could be generated that are most likely to be of little interest. Since we want large topics, we set it to 50. "
      ],
      "metadata": {
        "papermill": {
          "duration": 0.016858,
          "end_time": "2021-06-04T14:15:06.923475",
          "exception": false,
          "start_time": "2021-06-04T14:15:06.906617",
          "status": "completed"
        },
        "tags": [],
        "id": "6Vv_01MEKBC4"
      }
    },
    {
      "cell_type": "code",
      "source": [
        "from bertopic import BERTopic\n",
        "\n",
        "topic_model = BERTopic(verbose=True, embedding_model=\"paraphrase-MiniLM-L12-v2\", min_topic_size=50)\n",
        "topics, _ = topic_model.fit_transform(abstracts); len(topic_model.get_topic_info())"
      ],
      "metadata": {
        "papermill": {
          "duration": 1.094017,
          "end_time": "2021-06-04T14:15:08.034528",
          "exception": false,
          "start_time": "2021-06-04T14:15:06.940511",
          "status": "completed"
        },
        "tags": [],
        "execution": {
          "iopub.status.busy": "2021-06-07T05:30:55.133789Z",
          "iopub.execute_input": "2021-06-07T05:30:55.134103Z",
          "iopub.status.idle": "2021-06-07T05:40:08.516498Z",
          "shell.execute_reply.started": "2021-06-07T05:30:55.134075Z",
          "shell.execute_reply": "2021-06-07T05:40:08.515627Z"
        },
        "trusted": true,
        "id": "852UswjGKBC5"
      },
      "execution_count": null,
      "outputs": []
    },
    {
      "cell_type": "markdown",
      "source": [
        "**NOTE**: BERTopic is stochastic since it uses UMAP as one of its dependencies so the results may differ between runs. "
      ],
      "metadata": {
        "papermill": {
          "duration": 0.027488,
          "end_time": "2021-06-04T14:15:08.090825",
          "exception": false,
          "start_time": "2021-06-04T14:15:08.063337",
          "status": "completed"
        },
        "tags": [],
        "id": "twzd0_xAKBC6"
      }
    },
    {
      "cell_type": "markdown",
      "source": [
        "## Topic Representation\n",
        "\n",
        "We can see that roughly 200 topics were generated from our topics. Next, let's see what the major topics are:\n",
        "\n"
      ],
      "metadata": {
        "papermill": {
          "duration": 0.027447,
          "end_time": "2021-06-04T14:15:08.145783",
          "exception": false,
          "start_time": "2021-06-04T14:15:08.118336",
          "status": "completed"
        },
        "tags": [],
        "id": "tKefA8P0KBC7"
      }
    },
    {
      "cell_type": "code",
      "source": [
        "topic_model.get_topic_info().head(10)"
      ],
      "metadata": {
        "papermill": {
          "duration": 0.051976,
          "end_time": "2021-06-04T14:15:08.224784",
          "exception": false,
          "start_time": "2021-06-04T14:15:08.172808",
          "status": "completed"
        },
        "tags": [],
        "execution": {
          "iopub.status.busy": "2021-06-07T05:40:08.5187Z",
          "iopub.execute_input": "2021-06-07T05:40:08.519064Z",
          "iopub.status.idle": "2021-06-07T05:40:08.536458Z",
          "shell.execute_reply.started": "2021-06-07T05:40:08.519023Z",
          "shell.execute_reply": "2021-06-07T05:40:08.535662Z"
        },
        "trusted": true,
        "id": "CJPR8LTrKBC7"
      },
      "execution_count": null,
      "outputs": []
    },
    {
      "cell_type": "code",
      "source": [
        "topic_model.visualize_barchart(top_n_topics=9, height=700)"
      ],
      "metadata": {
        "papermill": {
          "duration": 0.054949,
          "end_time": "2021-06-04T14:15:08.309376",
          "exception": false,
          "start_time": "2021-06-04T14:15:08.254427",
          "status": "completed"
        },
        "tags": [],
        "execution": {
          "iopub.status.busy": "2021-06-07T05:40:08.538161Z",
          "iopub.execute_input": "2021-06-07T05:40:08.538806Z",
          "iopub.status.idle": "2021-06-07T05:40:09.440725Z",
          "shell.execute_reply.started": "2021-06-07T05:40:08.538768Z",
          "shell.execute_reply": "2021-06-07T05:40:09.439883Z"
        },
        "trusted": true,
        "id": "V7n0T5f2KBC8"
      },
      "execution_count": null,
      "outputs": []
    },
    {
      "cell_type": "markdown",
      "source": [
        "From a glance, the most frequent topics seem to have coherent and clear topic representations. Interpretation of these clusters is much easier if you are familiar with the content of the documents. For example, to me, Topic 6 seems to be clearly about anything Data Science and AI.\n",
        "\n",
        "For each topic, we have generated 10 words that best represent that topic. However, are 10 words sufficient? Can we already have a good topic representation with 1 word? \n",
        "\n",
        "To understand the amount of words needed to have a sufficient topic representation, we can show the decline of term score when adding terms. The idea here is that each term that is added has a lower term score than the previous since the first is the best term for the topic. Eventually, we reach the point of diminishing returns, which is very similar to the elbow-method used in k-NN. Below, you can see the decline in term score when adding terms per topic:"
      ],
      "metadata": {
        "papermill": {
          "duration": 0.028747,
          "end_time": "2021-06-04T14:15:08.367592",
          "exception": false,
          "start_time": "2021-06-04T14:15:08.338845",
          "status": "completed"
        },
        "tags": [],
        "id": "57zOnI8XKBC9"
      }
    },
    {
      "cell_type": "code",
      "source": [
        "topic_model.visualize_term_rank()"
      ],
      "metadata": {
        "papermill": {
          "duration": 0.052513,
          "end_time": "2021-06-04T14:15:08.449349",
          "exception": false,
          "start_time": "2021-06-04T14:15:08.396836",
          "status": "completed"
        },
        "tags": [],
        "execution": {
          "iopub.status.busy": "2021-06-07T05:40:09.44205Z",
          "iopub.execute_input": "2021-06-07T05:40:09.442515Z",
          "iopub.status.idle": "2021-06-07T05:40:09.67821Z",
          "shell.execute_reply.started": "2021-06-07T05:40:09.442477Z",
          "shell.execute_reply": "2021-06-07T05:40:09.677344Z"
        },
        "trusted": true,
        "id": "IT0Y80N_KBC9"
      },
      "execution_count": null,
      "outputs": []
    },
    {
      "cell_type": "code",
      "source": [
        "topic_model.visualize_term_rank(log_scale=True)"
      ],
      "metadata": {
        "papermill": {
          "duration": 0.054177,
          "end_time": "2021-06-04T14:15:08.533275",
          "exception": false,
          "start_time": "2021-06-04T14:15:08.479098",
          "status": "completed"
        },
        "tags": [],
        "execution": {
          "iopub.status.busy": "2021-06-07T05:40:09.679317Z",
          "iopub.execute_input": "2021-06-07T05:40:09.679645Z",
          "iopub.status.idle": "2021-06-07T05:40:09.903101Z",
          "shell.execute_reply.started": "2021-06-07T05:40:09.679611Z",
          "shell.execute_reply": "2021-06-07T05:40:09.902127Z"
        },
        "trusted": true,
        "id": "fBE_Yl6nKBC-"
      },
      "execution_count": null,
      "outputs": []
    },
    {
      "cell_type": "markdown",
      "source": [
        "Using the elbow method, it seems that 3 words per topic are sufficient in representing the topic well. Any words that we add after that have seemingly little effect. \n",
        "\n",
        "**NOTE**: All visualizations are created with Plotly and are as such interactive!"
      ],
      "metadata": {
        "papermill": {
          "duration": 0.02997,
          "end_time": "2021-06-04T14:15:08.594265",
          "exception": false,
          "start_time": "2021-06-04T14:15:08.564295",
          "status": "completed"
        },
        "tags": [],
        "id": "hm7VmZOuKBC_"
      }
    },
    {
      "cell_type": "markdown",
      "source": [
        "## Topic Relationships\n",
        "Having extracted the topics and their representations it might be helpful to check out the uniqueness of each topic. Some topics might be quite similar and could be merged or are simply interesting to research further. \n",
        "\n",
        "To do this, we start off by mapping our topics to a 2D representation by reducing the topic vectors with UMAP:"
      ],
      "metadata": {
        "papermill": {
          "duration": 0.030143,
          "end_time": "2021-06-04T14:15:08.655476",
          "exception": false,
          "start_time": "2021-06-04T14:15:08.625333",
          "status": "completed"
        },
        "tags": [],
        "id": "LKzbQvacKBC_"
      }
    },
    {
      "cell_type": "code",
      "source": [
        "topic_model.visualize_topics(top_n_topics=50)"
      ],
      "metadata": {
        "papermill": {
          "duration": 0.053316,
          "end_time": "2021-06-04T14:15:08.73918",
          "exception": false,
          "start_time": "2021-06-04T14:15:08.685864",
          "status": "completed"
        },
        "tags": [],
        "execution": {
          "iopub.status.busy": "2021-06-07T05:40:09.904482Z",
          "iopub.execute_input": "2021-06-07T05:40:09.904833Z",
          "iopub.status.idle": "2021-06-07T05:40:16.505305Z",
          "shell.execute_reply.started": "2021-06-07T05:40:09.9048Z",
          "shell.execute_reply": "2021-06-07T05:40:16.504532Z"
        },
        "trusted": true,
        "id": "oeSnERGYKBC_"
      },
      "execution_count": null,
      "outputs": []
    },
    {
      "cell_type": "markdown",
      "source": [
        "The distance between topics show, to a certain extend, the similarities between topics. However, to better visualize and understand the similarity between topics, we can use two plots to gives us further insight into that. Namely, visualizing the possible topic hierarchy and its similarity matrix:"
      ],
      "metadata": {
        "papermill": {
          "duration": 0.030598,
          "end_time": "2021-06-04T14:15:08.80116",
          "exception": false,
          "start_time": "2021-06-04T14:15:08.770562",
          "status": "completed"
        },
        "tags": [],
        "id": "PxOS-QnIKBDA"
      }
    },
    {
      "cell_type": "code",
      "source": [
        "topic_model.visualize_hierarchy(top_n_topics=50, width=800)"
      ],
      "metadata": {
        "papermill": {
          "duration": 0.054154,
          "end_time": "2021-06-04T14:15:08.886208",
          "exception": false,
          "start_time": "2021-06-04T14:15:08.832054",
          "status": "completed"
        },
        "tags": [],
        "execution": {
          "iopub.status.busy": "2021-06-07T06:05:02.488306Z",
          "iopub.execute_input": "2021-06-07T06:05:02.488689Z",
          "iopub.status.idle": "2021-06-07T06:05:02.559751Z",
          "shell.execute_reply.started": "2021-06-07T06:05:02.488654Z",
          "shell.execute_reply": "2021-06-07T06:05:02.558847Z"
        },
        "trusted": true,
        "id": "PkYOacDDKBDA"
      },
      "execution_count": null,
      "outputs": []
    },
    {
      "cell_type": "code",
      "source": [
        "topic_model.visualize_heatmap(n_clusters=20, top_n_topics=100)"
      ],
      "metadata": {
        "papermill": {
          "duration": 0.034977,
          "end_time": "2021-06-04T14:15:08.952327",
          "exception": false,
          "start_time": "2021-06-04T14:15:08.91735",
          "status": "completed"
        },
        "tags": [],
        "execution": {
          "iopub.status.busy": "2021-06-07T05:40:16.584424Z",
          "iopub.execute_input": "2021-06-07T05:40:16.584898Z",
          "iopub.status.idle": "2021-06-07T05:40:16.782963Z",
          "shell.execute_reply.started": "2021-06-07T05:40:16.584861Z",
          "shell.execute_reply": "2021-06-07T05:40:16.782092Z"
        },
        "trusted": true,
        "id": "r4WDWiQqKBDB"
      },
      "execution_count": null,
      "outputs": []
    },
    {
      "cell_type": "markdown",
      "source": [
        "The blocky structure in the heatmap shows that there are some clusters of topics to be found that are somewhat similar to each other. Zooming into these topics helps us understand why they are similar. If you hover over the topics, you can see the topic ID and representation. "
      ],
      "metadata": {
        "papermill": {
          "duration": 0.019461,
          "end_time": "2021-06-04T14:15:08.991292",
          "exception": false,
          "start_time": "2021-06-04T14:15:08.971831",
          "status": "completed"
        },
        "tags": [],
        "id": "3qBQJ739KBDB"
      }
    },
    {
      "cell_type": "markdown",
      "source": [
        "## Topics over Time\n",
        "Although extracting the topics and their representation is interesting, we are missing some dimensional information. For example, some topics might not be relevant anymore or some are gaining traction over the last years. That can be vital information when making decisions. \n",
        "\n",
        "Here, we will model the topics over the years. For each topic and timestep, we calculate the c-TF-IDF representation. This will result in a specific topic representation at each timestep without the need to create clusters from embeddings as they were already created. However, topics can be regarded as evolutionary entities that evolve and change over time. This means that a topic representation at timestep *t* should be related to its representation at timesetps *t-1* and *t+1*. To model this evolutionary trend, we average its c-TF-IDF representation with that of the c-TF-IDF representation at timestep *t-1*. This is done for each topic representation allowing for the representations to evolve over time."
      ],
      "metadata": {
        "papermill": {
          "duration": 0.019369,
          "end_time": "2021-06-04T14:15:09.030228",
          "exception": false,
          "start_time": "2021-06-04T14:15:09.010859",
          "status": "completed"
        },
        "tags": [],
        "id": "lkJPHMIcKBDC"
      }
    },
    {
      "cell_type": "code",
      "source": [
        "topics_over_time = topic_model.topics_over_time(abstracts, topics, years)"
      ],
      "metadata": {
        "papermill": {
          "duration": 0.034851,
          "end_time": "2021-06-04T14:15:09.084567",
          "exception": false,
          "start_time": "2021-06-04T14:15:09.049716",
          "status": "completed"
        },
        "tags": [],
        "execution": {
          "iopub.status.busy": "2021-06-07T05:40:16.784269Z",
          "iopub.execute_input": "2021-06-07T05:40:16.784604Z",
          "iopub.status.idle": "2021-06-07T05:45:13.076244Z",
          "shell.execute_reply.started": "2021-06-07T05:40:16.784558Z",
          "shell.execute_reply": "2021-06-07T05:45:13.075267Z"
        },
        "trusted": true,
        "id": "8w_gPdTsKBDC"
      },
      "execution_count": null,
      "outputs": []
    },
    {
      "cell_type": "code",
      "source": [
        "topic_model.visualize_topics_over_time(topics_over_time, top_n_topics=20, width=900, height=500)"
      ],
      "metadata": {
        "papermill": {
          "duration": 0.036001,
          "end_time": "2021-06-04T14:15:09.14047",
          "exception": false,
          "start_time": "2021-06-04T14:15:09.104469",
          "status": "completed"
        },
        "tags": [],
        "execution": {
          "iopub.status.busy": "2021-06-07T06:02:11.824998Z",
          "iopub.execute_input": "2021-06-07T06:02:11.825315Z",
          "iopub.status.idle": "2021-06-07T06:02:11.92479Z",
          "shell.execute_reply.started": "2021-06-07T06:02:11.825284Z",
          "shell.execute_reply": "2021-06-07T06:02:11.924013Z"
        },
        "trusted": true,
        "id": "E_160u9-KBDD"
      },
      "execution_count": null,
      "outputs": []
    },
    {
      "cell_type": "markdown",
      "source": [
        "From the visualization above, we can see some interesting patterns appearing. Namely, around 2012 a lot of topics seem to become less and less frequent with several topics taking over. For example, topics 2 and 3 seem to be popular until 2012 after which its popularity decreased significantly. "
      ],
      "metadata": {
        "papermill": {
          "duration": 0.020207,
          "end_time": "2021-06-04T14:15:09.181329",
          "exception": false,
          "start_time": "2021-06-04T14:15:09.161122",
          "status": "completed"
        },
        "tags": [],
        "id": "1v0ApJkXKBDD"
      }
    },
    {
      "cell_type": "markdown",
      "source": [
        "## Topics per Class\n",
        "Lastly, let's focus on the given categories for each paper. Can we find out which topics are frequently found in certain categories? Typically, topic modeling tends to find more topics than the categories that were previously defined. This helps us find and understand certain subcategories that might exist in the data. "
      ],
      "metadata": {
        "papermill": {
          "duration": 0.020132,
          "end_time": "2021-06-04T14:15:09.22194",
          "exception": false,
          "start_time": "2021-06-04T14:15:09.201808",
          "status": "completed"
        },
        "tags": [],
        "id": "HkoodetAKBDD"
      }
    },
    {
      "cell_type": "code",
      "source": [
        "topics_per_class = topic_model.topics_per_class(abstracts, topics, classes=categories)"
      ],
      "metadata": {
        "papermill": {
          "duration": 0.037546,
          "end_time": "2021-06-04T14:15:09.27999",
          "exception": false,
          "start_time": "2021-06-04T14:15:09.242444",
          "status": "completed"
        },
        "tags": [],
        "execution": {
          "iopub.status.busy": "2021-06-07T05:45:13.213791Z",
          "iopub.execute_input": "2021-06-07T05:45:13.214333Z",
          "iopub.status.idle": "2021-06-07T05:49:14.963479Z",
          "shell.execute_reply.started": "2021-06-07T05:45:13.21429Z",
          "shell.execute_reply": "2021-06-07T05:49:14.962489Z"
        },
        "trusted": true,
        "id": "KvkK1RCfKBDE"
      },
      "execution_count": null,
      "outputs": []
    },
    {
      "cell_type": "code",
      "source": [
        "topic_model.visualize_topics_per_class(topics_per_class, top_n_topics=10, width=900)"
      ],
      "metadata": {
        "papermill": {
          "duration": 0.036494,
          "end_time": "2021-06-04T14:15:09.337351",
          "exception": false,
          "start_time": "2021-06-04T14:15:09.300857",
          "status": "completed"
        },
        "tags": [],
        "execution": {
          "iopub.status.busy": "2021-06-07T06:02:47.308155Z",
          "iopub.execute_input": "2021-06-07T06:02:47.308492Z",
          "iopub.status.idle": "2021-06-07T06:02:47.396127Z",
          "shell.execute_reply.started": "2021-06-07T06:02:47.30846Z",
          "shell.execute_reply": "2021-06-07T06:02:47.395378Z"
        },
        "trusted": true,
        "id": "0SAFsyBzKBDE"
      },
      "execution_count": null,
      "outputs": []
    }
  ]
}